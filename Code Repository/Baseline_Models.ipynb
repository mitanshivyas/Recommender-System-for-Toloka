{
  "nbformat": 4,
  "nbformat_minor": 0,
  "metadata": {
    "colab": {
      "provenance": []
    },
    "kernelspec": {
      "name": "python3",
      "display_name": "Python 3"
    },
    "language_info": {
      "name": "python"
    }
  },
  "cells": [
    {
      "cell_type": "code",
      "execution_count": null,
      "metadata": {
        "id": "EVczKeDJPdT3"
      },
      "outputs": [],
      "source": [
        "import pandas as pd\n",
        "import numpy as np\n",
        "from sklearn.feature_extraction.text import TfidfVectorizer\n",
        "from tqdm import tqdm"
      ]
    },
    {
      "cell_type": "code",
      "source": [
        "%matplotlib inline\n",
        "import matplotlib.pyplot as plt\n",
        "import seaborn as sns\n",
        "import pandas as pd\n",
        "import io\n",
        "from google.colab import files\n",
        "from sklearn.model_selection import train_test_split\n",
        "import warnings; warnings.simplefilter('ignore')"
      ],
      "metadata": {
        "id": "Wp381yYuPzCn"
      },
      "execution_count": null,
      "outputs": []
    },
    {
      "cell_type": "code",
      "source": [
        "def import_dataset():\n",
        "  for _ in range(4):\n",
        "    uploaded = files.upload()\n",
        "  user_set = pd.read_csv(\"user_set.csv\")\n",
        "  job_set = pd.read_csv(\"job_set_cleaned.csv\")\n",
        "  dataset = pd.read_csv(\"dataset.csv\")\n",
        "  work_history = pd.read_csv(\"work_history.csv\")\n",
        "  return user_set, job_set, dataset, work_history"
      ],
      "metadata": {
        "id": "er4uBBrcPvFl"
      },
      "execution_count": null,
      "outputs": []
    },
    {
      "cell_type": "code",
      "source": [
        "# uploaded = files.upload()\n",
        "# dataset = pd.read_csv(\"dataset.csv\")"
      ],
      "metadata": {
        "id": "sHVJehQslFjE"
      },
      "execution_count": null,
      "outputs": []
    },
    {
      "cell_type": "code",
      "source": [
        "user_set, job_set, dataset, work_history = import_dataset()"
      ],
      "metadata": {
        "colab": {
          "base_uri": "https://localhost:8080/",
          "height": 240
        },
        "id": "UwLpXGG1Pxgt",
        "outputId": "738fa46c-74cf-4e47-d5c3-6e88a4af817a"
      },
      "execution_count": null,
      "outputs": [
        {
          "output_type": "display_data",
          "data": {
            "text/plain": [
              "<IPython.core.display.HTML object>"
            ],
            "text/html": [
              "\n",
              "     <input type=\"file\" id=\"files-3314d7af-dee5-4eaf-b8ff-1696d3c15060\" name=\"files[]\" multiple disabled\n",
              "        style=\"border:none\" />\n",
              "     <output id=\"result-3314d7af-dee5-4eaf-b8ff-1696d3c15060\">\n",
              "      Upload widget is only available when the cell has been executed in the\n",
              "      current browser session. Please rerun this cell to enable.\n",
              "      </output>\n",
              "      <script>// Copyright 2017 Google LLC\n",
              "//\n",
              "// Licensed under the Apache License, Version 2.0 (the \"License\");\n",
              "// you may not use this file except in compliance with the License.\n",
              "// You may obtain a copy of the License at\n",
              "//\n",
              "//      http://www.apache.org/licenses/LICENSE-2.0\n",
              "//\n",
              "// Unless required by applicable law or agreed to in writing, software\n",
              "// distributed under the License is distributed on an \"AS IS\" BASIS,\n",
              "// WITHOUT WARRANTIES OR CONDITIONS OF ANY KIND, either express or implied.\n",
              "// See the License for the specific language governing permissions and\n",
              "// limitations under the License.\n",
              "\n",
              "/**\n",
              " * @fileoverview Helpers for google.colab Python module.\n",
              " */\n",
              "(function(scope) {\n",
              "function span(text, styleAttributes = {}) {\n",
              "  const element = document.createElement('span');\n",
              "  element.textContent = text;\n",
              "  for (const key of Object.keys(styleAttributes)) {\n",
              "    element.style[key] = styleAttributes[key];\n",
              "  }\n",
              "  return element;\n",
              "}\n",
              "\n",
              "// Max number of bytes which will be uploaded at a time.\n",
              "const MAX_PAYLOAD_SIZE = 100 * 1024;\n",
              "\n",
              "function _uploadFiles(inputId, outputId) {\n",
              "  const steps = uploadFilesStep(inputId, outputId);\n",
              "  const outputElement = document.getElementById(outputId);\n",
              "  // Cache steps on the outputElement to make it available for the next call\n",
              "  // to uploadFilesContinue from Python.\n",
              "  outputElement.steps = steps;\n",
              "\n",
              "  return _uploadFilesContinue(outputId);\n",
              "}\n",
              "\n",
              "// This is roughly an async generator (not supported in the browser yet),\n",
              "// where there are multiple asynchronous steps and the Python side is going\n",
              "// to poll for completion of each step.\n",
              "// This uses a Promise to block the python side on completion of each step,\n",
              "// then passes the result of the previous step as the input to the next step.\n",
              "function _uploadFilesContinue(outputId) {\n",
              "  const outputElement = document.getElementById(outputId);\n",
              "  const steps = outputElement.steps;\n",
              "\n",
              "  const next = steps.next(outputElement.lastPromiseValue);\n",
              "  return Promise.resolve(next.value.promise).then((value) => {\n",
              "    // Cache the last promise value to make it available to the next\n",
              "    // step of the generator.\n",
              "    outputElement.lastPromiseValue = value;\n",
              "    return next.value.response;\n",
              "  });\n",
              "}\n",
              "\n",
              "/**\n",
              " * Generator function which is called between each async step of the upload\n",
              " * process.\n",
              " * @param {string} inputId Element ID of the input file picker element.\n",
              " * @param {string} outputId Element ID of the output display.\n",
              " * @return {!Iterable<!Object>} Iterable of next steps.\n",
              " */\n",
              "function* uploadFilesStep(inputId, outputId) {\n",
              "  const inputElement = document.getElementById(inputId);\n",
              "  inputElement.disabled = false;\n",
              "\n",
              "  const outputElement = document.getElementById(outputId);\n",
              "  outputElement.innerHTML = '';\n",
              "\n",
              "  const pickedPromise = new Promise((resolve) => {\n",
              "    inputElement.addEventListener('change', (e) => {\n",
              "      resolve(e.target.files);\n",
              "    });\n",
              "  });\n",
              "\n",
              "  const cancel = document.createElement('button');\n",
              "  inputElement.parentElement.appendChild(cancel);\n",
              "  cancel.textContent = 'Cancel upload';\n",
              "  const cancelPromise = new Promise((resolve) => {\n",
              "    cancel.onclick = () => {\n",
              "      resolve(null);\n",
              "    };\n",
              "  });\n",
              "\n",
              "  // Wait for the user to pick the files.\n",
              "  const files = yield {\n",
              "    promise: Promise.race([pickedPromise, cancelPromise]),\n",
              "    response: {\n",
              "      action: 'starting',\n",
              "    }\n",
              "  };\n",
              "\n",
              "  cancel.remove();\n",
              "\n",
              "  // Disable the input element since further picks are not allowed.\n",
              "  inputElement.disabled = true;\n",
              "\n",
              "  if (!files) {\n",
              "    return {\n",
              "      response: {\n",
              "        action: 'complete',\n",
              "      }\n",
              "    };\n",
              "  }\n",
              "\n",
              "  for (const file of files) {\n",
              "    const li = document.createElement('li');\n",
              "    li.append(span(file.name, {fontWeight: 'bold'}));\n",
              "    li.append(span(\n",
              "        `(${file.type || 'n/a'}) - ${file.size} bytes, ` +\n",
              "        `last modified: ${\n",
              "            file.lastModifiedDate ? file.lastModifiedDate.toLocaleDateString() :\n",
              "                                    'n/a'} - `));\n",
              "    const percent = span('0% done');\n",
              "    li.appendChild(percent);\n",
              "\n",
              "    outputElement.appendChild(li);\n",
              "\n",
              "    const fileDataPromise = new Promise((resolve) => {\n",
              "      const reader = new FileReader();\n",
              "      reader.onload = (e) => {\n",
              "        resolve(e.target.result);\n",
              "      };\n",
              "      reader.readAsArrayBuffer(file);\n",
              "    });\n",
              "    // Wait for the data to be ready.\n",
              "    let fileData = yield {\n",
              "      promise: fileDataPromise,\n",
              "      response: {\n",
              "        action: 'continue',\n",
              "      }\n",
              "    };\n",
              "\n",
              "    // Use a chunked sending to avoid message size limits. See b/62115660.\n",
              "    let position = 0;\n",
              "    do {\n",
              "      const length = Math.min(fileData.byteLength - position, MAX_PAYLOAD_SIZE);\n",
              "      const chunk = new Uint8Array(fileData, position, length);\n",
              "      position += length;\n",
              "\n",
              "      const base64 = btoa(String.fromCharCode.apply(null, chunk));\n",
              "      yield {\n",
              "        response: {\n",
              "          action: 'append',\n",
              "          file: file.name,\n",
              "          data: base64,\n",
              "        },\n",
              "      };\n",
              "\n",
              "      let percentDone = fileData.byteLength === 0 ?\n",
              "          100 :\n",
              "          Math.round((position / fileData.byteLength) * 100);\n",
              "      percent.textContent = `${percentDone}% done`;\n",
              "\n",
              "    } while (position < fileData.byteLength);\n",
              "  }\n",
              "\n",
              "  // All done.\n",
              "  yield {\n",
              "    response: {\n",
              "      action: 'complete',\n",
              "    }\n",
              "  };\n",
              "}\n",
              "\n",
              "scope.google = scope.google || {};\n",
              "scope.google.colab = scope.google.colab || {};\n",
              "scope.google.colab._files = {\n",
              "  _uploadFiles,\n",
              "  _uploadFilesContinue,\n",
              "};\n",
              "})(self);\n",
              "</script> "
            ]
          },
          "metadata": {}
        },
        {
          "output_type": "stream",
          "name": "stdout",
          "text": [
            "Saving dataset.csv to dataset.csv\n"
          ]
        },
        {
          "output_type": "display_data",
          "data": {
            "text/plain": [
              "<IPython.core.display.HTML object>"
            ],
            "text/html": [
              "\n",
              "     <input type=\"file\" id=\"files-d781eb45-0f0d-4a5b-bdb7-08cf77c2637e\" name=\"files[]\" multiple disabled\n",
              "        style=\"border:none\" />\n",
              "     <output id=\"result-d781eb45-0f0d-4a5b-bdb7-08cf77c2637e\">\n",
              "      Upload widget is only available when the cell has been executed in the\n",
              "      current browser session. Please rerun this cell to enable.\n",
              "      </output>\n",
              "      <script>// Copyright 2017 Google LLC\n",
              "//\n",
              "// Licensed under the Apache License, Version 2.0 (the \"License\");\n",
              "// you may not use this file except in compliance with the License.\n",
              "// You may obtain a copy of the License at\n",
              "//\n",
              "//      http://www.apache.org/licenses/LICENSE-2.0\n",
              "//\n",
              "// Unless required by applicable law or agreed to in writing, software\n",
              "// distributed under the License is distributed on an \"AS IS\" BASIS,\n",
              "// WITHOUT WARRANTIES OR CONDITIONS OF ANY KIND, either express or implied.\n",
              "// See the License for the specific language governing permissions and\n",
              "// limitations under the License.\n",
              "\n",
              "/**\n",
              " * @fileoverview Helpers for google.colab Python module.\n",
              " */\n",
              "(function(scope) {\n",
              "function span(text, styleAttributes = {}) {\n",
              "  const element = document.createElement('span');\n",
              "  element.textContent = text;\n",
              "  for (const key of Object.keys(styleAttributes)) {\n",
              "    element.style[key] = styleAttributes[key];\n",
              "  }\n",
              "  return element;\n",
              "}\n",
              "\n",
              "// Max number of bytes which will be uploaded at a time.\n",
              "const MAX_PAYLOAD_SIZE = 100 * 1024;\n",
              "\n",
              "function _uploadFiles(inputId, outputId) {\n",
              "  const steps = uploadFilesStep(inputId, outputId);\n",
              "  const outputElement = document.getElementById(outputId);\n",
              "  // Cache steps on the outputElement to make it available for the next call\n",
              "  // to uploadFilesContinue from Python.\n",
              "  outputElement.steps = steps;\n",
              "\n",
              "  return _uploadFilesContinue(outputId);\n",
              "}\n",
              "\n",
              "// This is roughly an async generator (not supported in the browser yet),\n",
              "// where there are multiple asynchronous steps and the Python side is going\n",
              "// to poll for completion of each step.\n",
              "// This uses a Promise to block the python side on completion of each step,\n",
              "// then passes the result of the previous step as the input to the next step.\n",
              "function _uploadFilesContinue(outputId) {\n",
              "  const outputElement = document.getElementById(outputId);\n",
              "  const steps = outputElement.steps;\n",
              "\n",
              "  const next = steps.next(outputElement.lastPromiseValue);\n",
              "  return Promise.resolve(next.value.promise).then((value) => {\n",
              "    // Cache the last promise value to make it available to the next\n",
              "    // step of the generator.\n",
              "    outputElement.lastPromiseValue = value;\n",
              "    return next.value.response;\n",
              "  });\n",
              "}\n",
              "\n",
              "/**\n",
              " * Generator function which is called between each async step of the upload\n",
              " * process.\n",
              " * @param {string} inputId Element ID of the input file picker element.\n",
              " * @param {string} outputId Element ID of the output display.\n",
              " * @return {!Iterable<!Object>} Iterable of next steps.\n",
              " */\n",
              "function* uploadFilesStep(inputId, outputId) {\n",
              "  const inputElement = document.getElementById(inputId);\n",
              "  inputElement.disabled = false;\n",
              "\n",
              "  const outputElement = document.getElementById(outputId);\n",
              "  outputElement.innerHTML = '';\n",
              "\n",
              "  const pickedPromise = new Promise((resolve) => {\n",
              "    inputElement.addEventListener('change', (e) => {\n",
              "      resolve(e.target.files);\n",
              "    });\n",
              "  });\n",
              "\n",
              "  const cancel = document.createElement('button');\n",
              "  inputElement.parentElement.appendChild(cancel);\n",
              "  cancel.textContent = 'Cancel upload';\n",
              "  const cancelPromise = new Promise((resolve) => {\n",
              "    cancel.onclick = () => {\n",
              "      resolve(null);\n",
              "    };\n",
              "  });\n",
              "\n",
              "  // Wait for the user to pick the files.\n",
              "  const files = yield {\n",
              "    promise: Promise.race([pickedPromise, cancelPromise]),\n",
              "    response: {\n",
              "      action: 'starting',\n",
              "    }\n",
              "  };\n",
              "\n",
              "  cancel.remove();\n",
              "\n",
              "  // Disable the input element since further picks are not allowed.\n",
              "  inputElement.disabled = true;\n",
              "\n",
              "  if (!files) {\n",
              "    return {\n",
              "      response: {\n",
              "        action: 'complete',\n",
              "      }\n",
              "    };\n",
              "  }\n",
              "\n",
              "  for (const file of files) {\n",
              "    const li = document.createElement('li');\n",
              "    li.append(span(file.name, {fontWeight: 'bold'}));\n",
              "    li.append(span(\n",
              "        `(${file.type || 'n/a'}) - ${file.size} bytes, ` +\n",
              "        `last modified: ${\n",
              "            file.lastModifiedDate ? file.lastModifiedDate.toLocaleDateString() :\n",
              "                                    'n/a'} - `));\n",
              "    const percent = span('0% done');\n",
              "    li.appendChild(percent);\n",
              "\n",
              "    outputElement.appendChild(li);\n",
              "\n",
              "    const fileDataPromise = new Promise((resolve) => {\n",
              "      const reader = new FileReader();\n",
              "      reader.onload = (e) => {\n",
              "        resolve(e.target.result);\n",
              "      };\n",
              "      reader.readAsArrayBuffer(file);\n",
              "    });\n",
              "    // Wait for the data to be ready.\n",
              "    let fileData = yield {\n",
              "      promise: fileDataPromise,\n",
              "      response: {\n",
              "        action: 'continue',\n",
              "      }\n",
              "    };\n",
              "\n",
              "    // Use a chunked sending to avoid message size limits. See b/62115660.\n",
              "    let position = 0;\n",
              "    do {\n",
              "      const length = Math.min(fileData.byteLength - position, MAX_PAYLOAD_SIZE);\n",
              "      const chunk = new Uint8Array(fileData, position, length);\n",
              "      position += length;\n",
              "\n",
              "      const base64 = btoa(String.fromCharCode.apply(null, chunk));\n",
              "      yield {\n",
              "        response: {\n",
              "          action: 'append',\n",
              "          file: file.name,\n",
              "          data: base64,\n",
              "        },\n",
              "      };\n",
              "\n",
              "      let percentDone = fileData.byteLength === 0 ?\n",
              "          100 :\n",
              "          Math.round((position / fileData.byteLength) * 100);\n",
              "      percent.textContent = `${percentDone}% done`;\n",
              "\n",
              "    } while (position < fileData.byteLength);\n",
              "  }\n",
              "\n",
              "  // All done.\n",
              "  yield {\n",
              "    response: {\n",
              "      action: 'complete',\n",
              "    }\n",
              "  };\n",
              "}\n",
              "\n",
              "scope.google = scope.google || {};\n",
              "scope.google.colab = scope.google.colab || {};\n",
              "scope.google.colab._files = {\n",
              "  _uploadFiles,\n",
              "  _uploadFilesContinue,\n",
              "};\n",
              "})(self);\n",
              "</script> "
            ]
          },
          "metadata": {}
        },
        {
          "output_type": "stream",
          "name": "stdout",
          "text": [
            "Saving work_history.csv to work_history.csv\n"
          ]
        },
        {
          "output_type": "display_data",
          "data": {
            "text/plain": [
              "<IPython.core.display.HTML object>"
            ],
            "text/html": [
              "\n",
              "     <input type=\"file\" id=\"files-e86aff03-791c-42be-ae16-6440f5c4ba64\" name=\"files[]\" multiple disabled\n",
              "        style=\"border:none\" />\n",
              "     <output id=\"result-e86aff03-791c-42be-ae16-6440f5c4ba64\">\n",
              "      Upload widget is only available when the cell has been executed in the\n",
              "      current browser session. Please rerun this cell to enable.\n",
              "      </output>\n",
              "      <script>// Copyright 2017 Google LLC\n",
              "//\n",
              "// Licensed under the Apache License, Version 2.0 (the \"License\");\n",
              "// you may not use this file except in compliance with the License.\n",
              "// You may obtain a copy of the License at\n",
              "//\n",
              "//      http://www.apache.org/licenses/LICENSE-2.0\n",
              "//\n",
              "// Unless required by applicable law or agreed to in writing, software\n",
              "// distributed under the License is distributed on an \"AS IS\" BASIS,\n",
              "// WITHOUT WARRANTIES OR CONDITIONS OF ANY KIND, either express or implied.\n",
              "// See the License for the specific language governing permissions and\n",
              "// limitations under the License.\n",
              "\n",
              "/**\n",
              " * @fileoverview Helpers for google.colab Python module.\n",
              " */\n",
              "(function(scope) {\n",
              "function span(text, styleAttributes = {}) {\n",
              "  const element = document.createElement('span');\n",
              "  element.textContent = text;\n",
              "  for (const key of Object.keys(styleAttributes)) {\n",
              "    element.style[key] = styleAttributes[key];\n",
              "  }\n",
              "  return element;\n",
              "}\n",
              "\n",
              "// Max number of bytes which will be uploaded at a time.\n",
              "const MAX_PAYLOAD_SIZE = 100 * 1024;\n",
              "\n",
              "function _uploadFiles(inputId, outputId) {\n",
              "  const steps = uploadFilesStep(inputId, outputId);\n",
              "  const outputElement = document.getElementById(outputId);\n",
              "  // Cache steps on the outputElement to make it available for the next call\n",
              "  // to uploadFilesContinue from Python.\n",
              "  outputElement.steps = steps;\n",
              "\n",
              "  return _uploadFilesContinue(outputId);\n",
              "}\n",
              "\n",
              "// This is roughly an async generator (not supported in the browser yet),\n",
              "// where there are multiple asynchronous steps and the Python side is going\n",
              "// to poll for completion of each step.\n",
              "// This uses a Promise to block the python side on completion of each step,\n",
              "// then passes the result of the previous step as the input to the next step.\n",
              "function _uploadFilesContinue(outputId) {\n",
              "  const outputElement = document.getElementById(outputId);\n",
              "  const steps = outputElement.steps;\n",
              "\n",
              "  const next = steps.next(outputElement.lastPromiseValue);\n",
              "  return Promise.resolve(next.value.promise).then((value) => {\n",
              "    // Cache the last promise value to make it available to the next\n",
              "    // step of the generator.\n",
              "    outputElement.lastPromiseValue = value;\n",
              "    return next.value.response;\n",
              "  });\n",
              "}\n",
              "\n",
              "/**\n",
              " * Generator function which is called between each async step of the upload\n",
              " * process.\n",
              " * @param {string} inputId Element ID of the input file picker element.\n",
              " * @param {string} outputId Element ID of the output display.\n",
              " * @return {!Iterable<!Object>} Iterable of next steps.\n",
              " */\n",
              "function* uploadFilesStep(inputId, outputId) {\n",
              "  const inputElement = document.getElementById(inputId);\n",
              "  inputElement.disabled = false;\n",
              "\n",
              "  const outputElement = document.getElementById(outputId);\n",
              "  outputElement.innerHTML = '';\n",
              "\n",
              "  const pickedPromise = new Promise((resolve) => {\n",
              "    inputElement.addEventListener('change', (e) => {\n",
              "      resolve(e.target.files);\n",
              "    });\n",
              "  });\n",
              "\n",
              "  const cancel = document.createElement('button');\n",
              "  inputElement.parentElement.appendChild(cancel);\n",
              "  cancel.textContent = 'Cancel upload';\n",
              "  const cancelPromise = new Promise((resolve) => {\n",
              "    cancel.onclick = () => {\n",
              "      resolve(null);\n",
              "    };\n",
              "  });\n",
              "\n",
              "  // Wait for the user to pick the files.\n",
              "  const files = yield {\n",
              "    promise: Promise.race([pickedPromise, cancelPromise]),\n",
              "    response: {\n",
              "      action: 'starting',\n",
              "    }\n",
              "  };\n",
              "\n",
              "  cancel.remove();\n",
              "\n",
              "  // Disable the input element since further picks are not allowed.\n",
              "  inputElement.disabled = true;\n",
              "\n",
              "  if (!files) {\n",
              "    return {\n",
              "      response: {\n",
              "        action: 'complete',\n",
              "      }\n",
              "    };\n",
              "  }\n",
              "\n",
              "  for (const file of files) {\n",
              "    const li = document.createElement('li');\n",
              "    li.append(span(file.name, {fontWeight: 'bold'}));\n",
              "    li.append(span(\n",
              "        `(${file.type || 'n/a'}) - ${file.size} bytes, ` +\n",
              "        `last modified: ${\n",
              "            file.lastModifiedDate ? file.lastModifiedDate.toLocaleDateString() :\n",
              "                                    'n/a'} - `));\n",
              "    const percent = span('0% done');\n",
              "    li.appendChild(percent);\n",
              "\n",
              "    outputElement.appendChild(li);\n",
              "\n",
              "    const fileDataPromise = new Promise((resolve) => {\n",
              "      const reader = new FileReader();\n",
              "      reader.onload = (e) => {\n",
              "        resolve(e.target.result);\n",
              "      };\n",
              "      reader.readAsArrayBuffer(file);\n",
              "    });\n",
              "    // Wait for the data to be ready.\n",
              "    let fileData = yield {\n",
              "      promise: fileDataPromise,\n",
              "      response: {\n",
              "        action: 'continue',\n",
              "      }\n",
              "    };\n",
              "\n",
              "    // Use a chunked sending to avoid message size limits. See b/62115660.\n",
              "    let position = 0;\n",
              "    do {\n",
              "      const length = Math.min(fileData.byteLength - position, MAX_PAYLOAD_SIZE);\n",
              "      const chunk = new Uint8Array(fileData, position, length);\n",
              "      position += length;\n",
              "\n",
              "      const base64 = btoa(String.fromCharCode.apply(null, chunk));\n",
              "      yield {\n",
              "        response: {\n",
              "          action: 'append',\n",
              "          file: file.name,\n",
              "          data: base64,\n",
              "        },\n",
              "      };\n",
              "\n",
              "      let percentDone = fileData.byteLength === 0 ?\n",
              "          100 :\n",
              "          Math.round((position / fileData.byteLength) * 100);\n",
              "      percent.textContent = `${percentDone}% done`;\n",
              "\n",
              "    } while (position < fileData.byteLength);\n",
              "  }\n",
              "\n",
              "  // All done.\n",
              "  yield {\n",
              "    response: {\n",
              "      action: 'complete',\n",
              "    }\n",
              "  };\n",
              "}\n",
              "\n",
              "scope.google = scope.google || {};\n",
              "scope.google.colab = scope.google.colab || {};\n",
              "scope.google.colab._files = {\n",
              "  _uploadFiles,\n",
              "  _uploadFilesContinue,\n",
              "};\n",
              "})(self);\n",
              "</script> "
            ]
          },
          "metadata": {}
        },
        {
          "output_type": "stream",
          "name": "stdout",
          "text": [
            "Saving user_set.csv to user_set.csv\n"
          ]
        },
        {
          "output_type": "display_data",
          "data": {
            "text/plain": [
              "<IPython.core.display.HTML object>"
            ],
            "text/html": [
              "\n",
              "     <input type=\"file\" id=\"files-9e38ceab-872f-4f39-afb5-0366ebd525ce\" name=\"files[]\" multiple disabled\n",
              "        style=\"border:none\" />\n",
              "     <output id=\"result-9e38ceab-872f-4f39-afb5-0366ebd525ce\">\n",
              "      Upload widget is only available when the cell has been executed in the\n",
              "      current browser session. Please rerun this cell to enable.\n",
              "      </output>\n",
              "      <script>// Copyright 2017 Google LLC\n",
              "//\n",
              "// Licensed under the Apache License, Version 2.0 (the \"License\");\n",
              "// you may not use this file except in compliance with the License.\n",
              "// You may obtain a copy of the License at\n",
              "//\n",
              "//      http://www.apache.org/licenses/LICENSE-2.0\n",
              "//\n",
              "// Unless required by applicable law or agreed to in writing, software\n",
              "// distributed under the License is distributed on an \"AS IS\" BASIS,\n",
              "// WITHOUT WARRANTIES OR CONDITIONS OF ANY KIND, either express or implied.\n",
              "// See the License for the specific language governing permissions and\n",
              "// limitations under the License.\n",
              "\n",
              "/**\n",
              " * @fileoverview Helpers for google.colab Python module.\n",
              " */\n",
              "(function(scope) {\n",
              "function span(text, styleAttributes = {}) {\n",
              "  const element = document.createElement('span');\n",
              "  element.textContent = text;\n",
              "  for (const key of Object.keys(styleAttributes)) {\n",
              "    element.style[key] = styleAttributes[key];\n",
              "  }\n",
              "  return element;\n",
              "}\n",
              "\n",
              "// Max number of bytes which will be uploaded at a time.\n",
              "const MAX_PAYLOAD_SIZE = 100 * 1024;\n",
              "\n",
              "function _uploadFiles(inputId, outputId) {\n",
              "  const steps = uploadFilesStep(inputId, outputId);\n",
              "  const outputElement = document.getElementById(outputId);\n",
              "  // Cache steps on the outputElement to make it available for the next call\n",
              "  // to uploadFilesContinue from Python.\n",
              "  outputElement.steps = steps;\n",
              "\n",
              "  return _uploadFilesContinue(outputId);\n",
              "}\n",
              "\n",
              "// This is roughly an async generator (not supported in the browser yet),\n",
              "// where there are multiple asynchronous steps and the Python side is going\n",
              "// to poll for completion of each step.\n",
              "// This uses a Promise to block the python side on completion of each step,\n",
              "// then passes the result of the previous step as the input to the next step.\n",
              "function _uploadFilesContinue(outputId) {\n",
              "  const outputElement = document.getElementById(outputId);\n",
              "  const steps = outputElement.steps;\n",
              "\n",
              "  const next = steps.next(outputElement.lastPromiseValue);\n",
              "  return Promise.resolve(next.value.promise).then((value) => {\n",
              "    // Cache the last promise value to make it available to the next\n",
              "    // step of the generator.\n",
              "    outputElement.lastPromiseValue = value;\n",
              "    return next.value.response;\n",
              "  });\n",
              "}\n",
              "\n",
              "/**\n",
              " * Generator function which is called between each async step of the upload\n",
              " * process.\n",
              " * @param {string} inputId Element ID of the input file picker element.\n",
              " * @param {string} outputId Element ID of the output display.\n",
              " * @return {!Iterable<!Object>} Iterable of next steps.\n",
              " */\n",
              "function* uploadFilesStep(inputId, outputId) {\n",
              "  const inputElement = document.getElementById(inputId);\n",
              "  inputElement.disabled = false;\n",
              "\n",
              "  const outputElement = document.getElementById(outputId);\n",
              "  outputElement.innerHTML = '';\n",
              "\n",
              "  const pickedPromise = new Promise((resolve) => {\n",
              "    inputElement.addEventListener('change', (e) => {\n",
              "      resolve(e.target.files);\n",
              "    });\n",
              "  });\n",
              "\n",
              "  const cancel = document.createElement('button');\n",
              "  inputElement.parentElement.appendChild(cancel);\n",
              "  cancel.textContent = 'Cancel upload';\n",
              "  const cancelPromise = new Promise((resolve) => {\n",
              "    cancel.onclick = () => {\n",
              "      resolve(null);\n",
              "    };\n",
              "  });\n",
              "\n",
              "  // Wait for the user to pick the files.\n",
              "  const files = yield {\n",
              "    promise: Promise.race([pickedPromise, cancelPromise]),\n",
              "    response: {\n",
              "      action: 'starting',\n",
              "    }\n",
              "  };\n",
              "\n",
              "  cancel.remove();\n",
              "\n",
              "  // Disable the input element since further picks are not allowed.\n",
              "  inputElement.disabled = true;\n",
              "\n",
              "  if (!files) {\n",
              "    return {\n",
              "      response: {\n",
              "        action: 'complete',\n",
              "      }\n",
              "    };\n",
              "  }\n",
              "\n",
              "  for (const file of files) {\n",
              "    const li = document.createElement('li');\n",
              "    li.append(span(file.name, {fontWeight: 'bold'}));\n",
              "    li.append(span(\n",
              "        `(${file.type || 'n/a'}) - ${file.size} bytes, ` +\n",
              "        `last modified: ${\n",
              "            file.lastModifiedDate ? file.lastModifiedDate.toLocaleDateString() :\n",
              "                                    'n/a'} - `));\n",
              "    const percent = span('0% done');\n",
              "    li.appendChild(percent);\n",
              "\n",
              "    outputElement.appendChild(li);\n",
              "\n",
              "    const fileDataPromise = new Promise((resolve) => {\n",
              "      const reader = new FileReader();\n",
              "      reader.onload = (e) => {\n",
              "        resolve(e.target.result);\n",
              "      };\n",
              "      reader.readAsArrayBuffer(file);\n",
              "    });\n",
              "    // Wait for the data to be ready.\n",
              "    let fileData = yield {\n",
              "      promise: fileDataPromise,\n",
              "      response: {\n",
              "        action: 'continue',\n",
              "      }\n",
              "    };\n",
              "\n",
              "    // Use a chunked sending to avoid message size limits. See b/62115660.\n",
              "    let position = 0;\n",
              "    do {\n",
              "      const length = Math.min(fileData.byteLength - position, MAX_PAYLOAD_SIZE);\n",
              "      const chunk = new Uint8Array(fileData, position, length);\n",
              "      position += length;\n",
              "\n",
              "      const base64 = btoa(String.fromCharCode.apply(null, chunk));\n",
              "      yield {\n",
              "        response: {\n",
              "          action: 'append',\n",
              "          file: file.name,\n",
              "          data: base64,\n",
              "        },\n",
              "      };\n",
              "\n",
              "      let percentDone = fileData.byteLength === 0 ?\n",
              "          100 :\n",
              "          Math.round((position / fileData.byteLength) * 100);\n",
              "      percent.textContent = `${percentDone}% done`;\n",
              "\n",
              "    } while (position < fileData.byteLength);\n",
              "  }\n",
              "\n",
              "  // All done.\n",
              "  yield {\n",
              "    response: {\n",
              "      action: 'complete',\n",
              "    }\n",
              "  };\n",
              "}\n",
              "\n",
              "scope.google = scope.google || {};\n",
              "scope.google.colab = scope.google.colab || {};\n",
              "scope.google.colab._files = {\n",
              "  _uploadFiles,\n",
              "  _uploadFilesContinue,\n",
              "};\n",
              "})(self);\n",
              "</script> "
            ]
          },
          "metadata": {}
        },
        {
          "output_type": "stream",
          "name": "stdout",
          "text": [
            "Saving job_set_cleaned.csv to job_set_cleaned.csv\n"
          ]
        }
      ]
    },
    {
      "cell_type": "markdown",
      "source": [
        "## TF-IDF Vectors for text representation"
      ],
      "metadata": {
        "id": "y_Gu1L_6QUW8"
      }
    },
    {
      "cell_type": "code",
      "source": [
        "job_set = job_set.fillna(\" \")\n",
        "job_set[\"word\"] = job_set.title + job_set.Description \n",
        "tf = TfidfVectorizer(analyzer='word',ngram_range=(1, 2),min_df=5, max_features=100, stop_words='english')\n",
        "tfidf_matrix = tf.fit_transform(job_set['word'])"
      ],
      "metadata": {
        "id": "OeLFCCXRQXbx"
      },
      "execution_count": null,
      "outputs": []
    },
    {
      "cell_type": "code",
      "source": [
        "dataset.columns"
      ],
      "metadata": {
        "colab": {
          "base_uri": "https://localhost:8080/"
        },
        "id": "9NVgtikNRR_w",
        "outputId": "945dc7ed-f90f-4772-8115-6e09cf9c6493"
      },
      "execution_count": null,
      "outputs": [
        {
          "output_type": "execute_result",
          "data": {
            "text/plain": [
              "Index(['UserID', 'JobID', 'label'], dtype='object')"
            ]
          },
          "metadata": {},
          "execution_count": 7
        }
      ]
    },
    {
      "cell_type": "code",
      "source": [
        "user_set.columns"
      ],
      "metadata": {
        "colab": {
          "base_uri": "https://localhost:8080/"
        },
        "id": "ksq9oKaARcK3",
        "outputId": "b08def67-fd92-4ce5-b549-f0fc3aa17f28"
      },
      "execution_count": null,
      "outputs": [
        {
          "output_type": "execute_result",
          "data": {
            "text/plain": [
              "Index(['Unnamed: 0', 'uid', 'country', 'language', 'birthdate', 'joined'], dtype='object')"
            ]
          },
          "metadata": {},
          "execution_count": 8
        }
      ]
    },
    {
      "cell_type": "code",
      "source": [
        "user_id = dataset.UserID.unique()\n",
        "user_set = user_set[user_set.uid.isin(user_id)]\n",
        "user_set.reset_index(drop=True, inplace=True)"
      ],
      "metadata": {
        "id": "Ixw2zj3DQjC9"
      },
      "execution_count": null,
      "outputs": []
    },
    {
      "cell_type": "code",
      "source": [
        "word_history_tf = TfidfVectorizer(analyzer='word',ngram_range=(1, 2),min_df=0, max_features=50, stop_words='english')\n",
        "word_history_tf_matrix = word_history_tf.fit_transform(work_history.groupby(\"user_id\").title.sum().values)"
      ],
      "metadata": {
        "id": "tMvKcP-ouS1l"
      },
      "execution_count": null,
      "outputs": []
    },
    {
      "cell_type": "code",
      "source": [
        "work_history.groupby(\"user_id\").title.sum()"
      ],
      "metadata": {
        "colab": {
          "base_uri": "https://localhost:8080/"
        },
        "id": "8khbzg0Yr32t",
        "outputId": "55239239-8699-404e-fe70-be7e469d60d5"
      },
      "execution_count": null,
      "outputs": [
        {
          "output_type": "execute_result",
          "data": {
            "text/plain": [
              "user_id\n",
              "1.675922e+09    Object recognition & detectionObject recogniti...\n",
              "1.709755e+09    [Toloka] English Grammar Test[Toloka] English ...\n",
              "1.718146e+09    Check the similarity between two productsCheck...\n",
              "1.718416e+09    Check the similarity between two productsCheck...\n",
              "Name: title, dtype: object"
            ]
          },
          "metadata": {},
          "execution_count": 18
        }
      ]
    },
    {
      "cell_type": "code",
      "source": [
        "print(word_history_tf_matrix[0,:])"
      ],
      "metadata": {
        "colab": {
          "base_uri": "https://localhost:8080/"
        },
        "id": "vil9dP2rrfXt",
        "outputId": "5701bcc0-db64-438c-d990-00733e994ff0"
      },
      "execution_count": null,
      "outputs": [
        {
          "output_type": "stream",
          "name": "stdout",
          "text": [
            "  (0, 6)\t0.12607512957032954\n",
            "  (0, 26)\t0.12607512957032954\n",
            "  (0, 35)\t0.12607512957032954\n",
            "  (0, 34)\t0.08344783645915785\n",
            "  (0, 28)\t0.08344783645915785\n",
            "  (0, 39)\t0.08344783645915785\n",
            "  (0, 9)\t0.08344783645915785\n",
            "  (0, 12)\t0.08344783645915785\n",
            "  (0, 8)\t0.12517175468873676\n",
            "  (0, 13)\t0.08344783645915785\n",
            "  (0, 2)\t0.12517175468873676\n",
            "  (0, 20)\t0.12517175468873676\n",
            "  (0, 24)\t0.08344783645915785\n",
            "  (0, 18)\t0.12517175468873676\n",
            "  (0, 30)\t0.1668956729183157\n",
            "  (0, 40)\t0.08344783645915785\n",
            "  (0, 15)\t0.15310302455421257\n",
            "  (0, 10)\t0.12607512957032954\n",
            "  (0, 5)\t0.12607512957032954\n",
            "  (0, 25)\t0.12607512957032954\n",
            "  (0, 37)\t0.1668956729183157\n",
            "  (0, 33)\t0.1668956729183157\n",
            "  (0, 27)\t0.29206742760705245\n",
            "  (0, 38)\t0.29206742760705245\n",
            "  (0, 16)\t0.12607512957032954\n",
            "  (0, 22)\t0.2521502591406591\n",
            "  (0, 7)\t0.2086195911478946\n",
            "  (0, 0)\t0.041723918229578924\n",
            "  (0, 4)\t0.041723918229578924\n",
            "  (0, 43)\t0.08344783645915785\n",
            "  (0, 21)\t0.37551526406621033\n",
            "  (0, 29)\t0.12517175468873676\n",
            "  (0, 36)\t0.2521502591406591\n",
            "  (0, 46)\t0.041723918229578924\n",
            "  (0, 11)\t0.2086195911478946\n",
            "  (0, 3)\t0.12517175468873676\n",
            "  (0, 1)\t0.12517175468873676\n",
            "  (0, 19)\t0.1668956729183157\n",
            "  (0, 23)\t0.08344783645915785\n",
            "  (0, 44)\t0.12517175468873676\n",
            "  (0, 17)\t0.1668956729183157\n"
          ]
        }
      ]
    },
    {
      "cell_type": "markdown",
      "source": [
        "## Deal with User Set and Job Set"
      ],
      "metadata": {
        "id": "niPOLMvIRppq"
      }
    },
    {
      "cell_type": "code",
      "source": [
        "user_set = user_set.drop(columns=[\"country\"])"
      ],
      "metadata": {
        "id": "vI593UA3RxzU"
      },
      "execution_count": null,
      "outputs": []
    },
    {
      "cell_type": "code",
      "source": [
        "user_set.head()"
      ],
      "metadata": {
        "colab": {
          "base_uri": "https://localhost:8080/",
          "height": 206
        },
        "id": "-UcZvehoSDj_",
        "outputId": "f38982f8-5ae5-4490-b1fe-0931b7449d56"
      },
      "execution_count": null,
      "outputs": [
        {
          "output_type": "execute_result",
          "data": {
            "text/plain": [
              "   Unnamed: 0         uid            language                 birthdate  \\\n",
              "0           0  1316040758              AR,EN,  1984-03-11T00:00:00.000Z   \n",
              "1           1  1429235843           EN,KI,SW,  1993-03-01T00:00:00.000Z   \n",
              "2           2  1430094402  DE,EN,ES,ID,PT,RU,  1989-09-24T00:00:00.000Z   \n",
              "3           3  1458049517     DE,EN,FR,RU,TR,  1996-12-16T00:00:00.000Z   \n",
              "4           4  1490584733              EN,ID,  1982-03-13T00:00:00.000Z   \n",
              "\n",
              "                     joined  \n",
              "0  2021-01-13T00:00:00.000Z  \n",
              "1  2021-05-27T00:00:00.000Z  \n",
              "2  2021-05-29T00:00:00.000Z  \n",
              "3  2021-07-27T00:00:00.000Z  \n",
              "4  2021-09-29T00:00:00.000Z  "
            ],
            "text/html": [
              "\n",
              "  <div id=\"df-7b129f8a-2fd2-4d86-9da2-ee82595a4808\">\n",
              "    <div class=\"colab-df-container\">\n",
              "      <div>\n",
              "<style scoped>\n",
              "    .dataframe tbody tr th:only-of-type {\n",
              "        vertical-align: middle;\n",
              "    }\n",
              "\n",
              "    .dataframe tbody tr th {\n",
              "        vertical-align: top;\n",
              "    }\n",
              "\n",
              "    .dataframe thead th {\n",
              "        text-align: right;\n",
              "    }\n",
              "</style>\n",
              "<table border=\"1\" class=\"dataframe\">\n",
              "  <thead>\n",
              "    <tr style=\"text-align: right;\">\n",
              "      <th></th>\n",
              "      <th>Unnamed: 0</th>\n",
              "      <th>uid</th>\n",
              "      <th>language</th>\n",
              "      <th>birthdate</th>\n",
              "      <th>joined</th>\n",
              "    </tr>\n",
              "  </thead>\n",
              "  <tbody>\n",
              "    <tr>\n",
              "      <th>0</th>\n",
              "      <td>0</td>\n",
              "      <td>1316040758</td>\n",
              "      <td>AR,EN,</td>\n",
              "      <td>1984-03-11T00:00:00.000Z</td>\n",
              "      <td>2021-01-13T00:00:00.000Z</td>\n",
              "    </tr>\n",
              "    <tr>\n",
              "      <th>1</th>\n",
              "      <td>1</td>\n",
              "      <td>1429235843</td>\n",
              "      <td>EN,KI,SW,</td>\n",
              "      <td>1993-03-01T00:00:00.000Z</td>\n",
              "      <td>2021-05-27T00:00:00.000Z</td>\n",
              "    </tr>\n",
              "    <tr>\n",
              "      <th>2</th>\n",
              "      <td>2</td>\n",
              "      <td>1430094402</td>\n",
              "      <td>DE,EN,ES,ID,PT,RU,</td>\n",
              "      <td>1989-09-24T00:00:00.000Z</td>\n",
              "      <td>2021-05-29T00:00:00.000Z</td>\n",
              "    </tr>\n",
              "    <tr>\n",
              "      <th>3</th>\n",
              "      <td>3</td>\n",
              "      <td>1458049517</td>\n",
              "      <td>DE,EN,FR,RU,TR,</td>\n",
              "      <td>1996-12-16T00:00:00.000Z</td>\n",
              "      <td>2021-07-27T00:00:00.000Z</td>\n",
              "    </tr>\n",
              "    <tr>\n",
              "      <th>4</th>\n",
              "      <td>4</td>\n",
              "      <td>1490584733</td>\n",
              "      <td>EN,ID,</td>\n",
              "      <td>1982-03-13T00:00:00.000Z</td>\n",
              "      <td>2021-09-29T00:00:00.000Z</td>\n",
              "    </tr>\n",
              "  </tbody>\n",
              "</table>\n",
              "</div>\n",
              "      <button class=\"colab-df-convert\" onclick=\"convertToInteractive('df-7b129f8a-2fd2-4d86-9da2-ee82595a4808')\"\n",
              "              title=\"Convert this dataframe to an interactive table.\"\n",
              "              style=\"display:none;\">\n",
              "        \n",
              "  <svg xmlns=\"http://www.w3.org/2000/svg\" height=\"24px\"viewBox=\"0 0 24 24\"\n",
              "       width=\"24px\">\n",
              "    <path d=\"M0 0h24v24H0V0z\" fill=\"none\"/>\n",
              "    <path d=\"M18.56 5.44l.94 2.06.94-2.06 2.06-.94-2.06-.94-.94-2.06-.94 2.06-2.06.94zm-11 1L8.5 8.5l.94-2.06 2.06-.94-2.06-.94L8.5 2.5l-.94 2.06-2.06.94zm10 10l.94 2.06.94-2.06 2.06-.94-2.06-.94-.94-2.06-.94 2.06-2.06.94z\"/><path d=\"M17.41 7.96l-1.37-1.37c-.4-.4-.92-.59-1.43-.59-.52 0-1.04.2-1.43.59L10.3 9.45l-7.72 7.72c-.78.78-.78 2.05 0 2.83L4 21.41c.39.39.9.59 1.41.59.51 0 1.02-.2 1.41-.59l7.78-7.78 2.81-2.81c.8-.78.8-2.07 0-2.86zM5.41 20L4 18.59l7.72-7.72 1.47 1.35L5.41 20z\"/>\n",
              "  </svg>\n",
              "      </button>\n",
              "      \n",
              "  <style>\n",
              "    .colab-df-container {\n",
              "      display:flex;\n",
              "      flex-wrap:wrap;\n",
              "      gap: 12px;\n",
              "    }\n",
              "\n",
              "    .colab-df-convert {\n",
              "      background-color: #E8F0FE;\n",
              "      border: none;\n",
              "      border-radius: 50%;\n",
              "      cursor: pointer;\n",
              "      display: none;\n",
              "      fill: #1967D2;\n",
              "      height: 32px;\n",
              "      padding: 0 0 0 0;\n",
              "      width: 32px;\n",
              "    }\n",
              "\n",
              "    .colab-df-convert:hover {\n",
              "      background-color: #E2EBFA;\n",
              "      box-shadow: 0px 1px 2px rgba(60, 64, 67, 0.3), 0px 1px 3px 1px rgba(60, 64, 67, 0.15);\n",
              "      fill: #174EA6;\n",
              "    }\n",
              "\n",
              "    [theme=dark] .colab-df-convert {\n",
              "      background-color: #3B4455;\n",
              "      fill: #D2E3FC;\n",
              "    }\n",
              "\n",
              "    [theme=dark] .colab-df-convert:hover {\n",
              "      background-color: #434B5C;\n",
              "      box-shadow: 0px 1px 3px 1px rgba(0, 0, 0, 0.15);\n",
              "      filter: drop-shadow(0px 1px 2px rgba(0, 0, 0, 0.3));\n",
              "      fill: #FFFFFF;\n",
              "    }\n",
              "  </style>\n",
              "\n",
              "      <script>\n",
              "        const buttonEl =\n",
              "          document.querySelector('#df-7b129f8a-2fd2-4d86-9da2-ee82595a4808 button.colab-df-convert');\n",
              "        buttonEl.style.display =\n",
              "          google.colab.kernel.accessAllowed ? 'block' : 'none';\n",
              "\n",
              "        async function convertToInteractive(key) {\n",
              "          const element = document.querySelector('#df-7b129f8a-2fd2-4d86-9da2-ee82595a4808');\n",
              "          const dataTable =\n",
              "            await google.colab.kernel.invokeFunction('convertToInteractive',\n",
              "                                                     [key], {});\n",
              "          if (!dataTable) return;\n",
              "\n",
              "          const docLinkHtml = 'Like what you see? Visit the ' +\n",
              "            '<a target=\"_blank\" href=https://colab.research.google.com/notebooks/data_table.ipynb>data table notebook</a>'\n",
              "            + ' to learn more about interactive tables.';\n",
              "          element.innerHTML = '';\n",
              "          dataTable['output_type'] = 'display_data';\n",
              "          await google.colab.output.renderOutput(dataTable, element);\n",
              "          const docLink = document.createElement('div');\n",
              "          docLink.innerHTML = docLinkHtml;\n",
              "          element.appendChild(docLink);\n",
              "        }\n",
              "      </script>\n",
              "    </div>\n",
              "  </div>\n",
              "  "
            ]
          },
          "metadata": {},
          "execution_count": 101
        }
      ]
    },
    {
      "cell_type": "markdown",
      "source": [
        "## create age and years worked feature"
      ],
      "metadata": {
        "id": "IKuTd_mJSlih"
      }
    },
    {
      "cell_type": "code",
      "source": [
        "# # This function converts given date to age\n",
        "\n",
        "# import pandas as pd\n",
        "# from datetime import datetime, date\n",
        "  \n",
        "\n",
        "# def age(born):\n",
        "#     # born = pd.to_datetime(born)\n",
        "#     # born = born.dt.strftime('%m/%d/%Y')\n",
        "#     born = datetime.strptime(born, \"%Y/%m/%d, %H:%M:%S\").date()\n",
        "    \n",
        "#     # \"%d/%m/%Y\"\n",
        "#     today = date.today()\n",
        "#     return today.year - born.year - ((today.month, \n",
        "#                                       today.day) < (born.month, \n",
        "#                                                     born.day))\n",
        "  \n",
        "# user_set['Age'] = user_set['birthdate'].apply(age)\n",
        "# user_set['Years_Exp'] = user_set['joined'].apply(age)\n",
        "# display(user_set)"
      ],
      "metadata": {
        "id": "PI58tbeqSjg3"
      },
      "execution_count": null,
      "outputs": []
    },
    {
      "cell_type": "code",
      "source": [
        "def age(birthdate):\n",
        "  today = date.today()\n",
        "  age = today.year - birthdate.year - ((today.month, today.day) < (birthdate.month, birthdate.day))\n",
        "  return age"
      ],
      "metadata": {
        "id": "1M3CxpEkaBlW"
      },
      "execution_count": null,
      "outputs": []
    },
    {
      "cell_type": "code",
      "source": [
        "from datetime import date\n",
        "user_set['birthdate'] = user_set['birthdate'].astype(str).str[:10]\n",
        "user_set['birthdate'] = pd.to_datetime(user_set['birthdate'], errors='coerce')\n",
        "age_list = []\n",
        "for i in range(len(user_set['birthdate'])):\n",
        "  ages = age(user_set['birthdate'][i])\n",
        "  age_list.append(ages)\n",
        "user_set['age'] = age_list"
      ],
      "metadata": {
        "id": "mSoGXD30VwbL"
      },
      "execution_count": null,
      "outputs": []
    },
    {
      "cell_type": "code",
      "source": [
        "from datetime import date\n",
        "user_set['joined'] = user_set['joined'].astype(str).str[:10]\n",
        "user_set['joined'] = pd.to_datetime(user_set['joined'], errors='coerce')\n",
        "age_list = []\n",
        "for i in range(len(user_set['joined'])):\n",
        "  ages = age(user_set['joined'][i])\n",
        "  age_list.append(ages)\n",
        "user_set['Years_of_exp'] = age_list"
      ],
      "metadata": {
        "id": "Y4fTUy1waG7x"
      },
      "execution_count": null,
      "outputs": []
    },
    {
      "cell_type": "code",
      "source": [
        "user_set.head()"
      ],
      "metadata": {
        "colab": {
          "base_uri": "https://localhost:8080/",
          "height": 206
        },
        "id": "QUxFAIe9aCc0",
        "outputId": "4350fdbb-eeb6-437e-d79f-31e8e68463dd"
      },
      "execution_count": null,
      "outputs": [
        {
          "output_type": "execute_result",
          "data": {
            "text/plain": [
              "   Unnamed: 0         uid            language  birthdate     joined  age  \\\n",
              "0           0  1316040758              AR,EN, 1984-03-11 2021-01-13   39   \n",
              "1           1  1429235843           EN,KI,SW, 1993-03-01 2021-05-27   30   \n",
              "2           2  1430094402  DE,EN,ES,ID,PT,RU, 1989-09-24 2021-05-29   33   \n",
              "3           3  1458049517     DE,EN,FR,RU,TR, 1996-12-16 2021-07-27   26   \n",
              "4           4  1490584733              EN,ID, 1982-03-13 2021-09-29   41   \n",
              "\n",
              "   Years_of_exp  \n",
              "0             2  \n",
              "1             1  \n",
              "2             1  \n",
              "3             1  \n",
              "4             1  "
            ],
            "text/html": [
              "\n",
              "  <div id=\"df-75d243e4-b337-4c8a-a953-ee9846cea37e\">\n",
              "    <div class=\"colab-df-container\">\n",
              "      <div>\n",
              "<style scoped>\n",
              "    .dataframe tbody tr th:only-of-type {\n",
              "        vertical-align: middle;\n",
              "    }\n",
              "\n",
              "    .dataframe tbody tr th {\n",
              "        vertical-align: top;\n",
              "    }\n",
              "\n",
              "    .dataframe thead th {\n",
              "        text-align: right;\n",
              "    }\n",
              "</style>\n",
              "<table border=\"1\" class=\"dataframe\">\n",
              "  <thead>\n",
              "    <tr style=\"text-align: right;\">\n",
              "      <th></th>\n",
              "      <th>Unnamed: 0</th>\n",
              "      <th>uid</th>\n",
              "      <th>language</th>\n",
              "      <th>birthdate</th>\n",
              "      <th>joined</th>\n",
              "      <th>age</th>\n",
              "      <th>Years_of_exp</th>\n",
              "    </tr>\n",
              "  </thead>\n",
              "  <tbody>\n",
              "    <tr>\n",
              "      <th>0</th>\n",
              "      <td>0</td>\n",
              "      <td>1316040758</td>\n",
              "      <td>AR,EN,</td>\n",
              "      <td>1984-03-11</td>\n",
              "      <td>2021-01-13</td>\n",
              "      <td>39</td>\n",
              "      <td>2</td>\n",
              "    </tr>\n",
              "    <tr>\n",
              "      <th>1</th>\n",
              "      <td>1</td>\n",
              "      <td>1429235843</td>\n",
              "      <td>EN,KI,SW,</td>\n",
              "      <td>1993-03-01</td>\n",
              "      <td>2021-05-27</td>\n",
              "      <td>30</td>\n",
              "      <td>1</td>\n",
              "    </tr>\n",
              "    <tr>\n",
              "      <th>2</th>\n",
              "      <td>2</td>\n",
              "      <td>1430094402</td>\n",
              "      <td>DE,EN,ES,ID,PT,RU,</td>\n",
              "      <td>1989-09-24</td>\n",
              "      <td>2021-05-29</td>\n",
              "      <td>33</td>\n",
              "      <td>1</td>\n",
              "    </tr>\n",
              "    <tr>\n",
              "      <th>3</th>\n",
              "      <td>3</td>\n",
              "      <td>1458049517</td>\n",
              "      <td>DE,EN,FR,RU,TR,</td>\n",
              "      <td>1996-12-16</td>\n",
              "      <td>2021-07-27</td>\n",
              "      <td>26</td>\n",
              "      <td>1</td>\n",
              "    </tr>\n",
              "    <tr>\n",
              "      <th>4</th>\n",
              "      <td>4</td>\n",
              "      <td>1490584733</td>\n",
              "      <td>EN,ID,</td>\n",
              "      <td>1982-03-13</td>\n",
              "      <td>2021-09-29</td>\n",
              "      <td>41</td>\n",
              "      <td>1</td>\n",
              "    </tr>\n",
              "  </tbody>\n",
              "</table>\n",
              "</div>\n",
              "      <button class=\"colab-df-convert\" onclick=\"convertToInteractive('df-75d243e4-b337-4c8a-a953-ee9846cea37e')\"\n",
              "              title=\"Convert this dataframe to an interactive table.\"\n",
              "              style=\"display:none;\">\n",
              "        \n",
              "  <svg xmlns=\"http://www.w3.org/2000/svg\" height=\"24px\"viewBox=\"0 0 24 24\"\n",
              "       width=\"24px\">\n",
              "    <path d=\"M0 0h24v24H0V0z\" fill=\"none\"/>\n",
              "    <path d=\"M18.56 5.44l.94 2.06.94-2.06 2.06-.94-2.06-.94-.94-2.06-.94 2.06-2.06.94zm-11 1L8.5 8.5l.94-2.06 2.06-.94-2.06-.94L8.5 2.5l-.94 2.06-2.06.94zm10 10l.94 2.06.94-2.06 2.06-.94-2.06-.94-.94-2.06-.94 2.06-2.06.94z\"/><path d=\"M17.41 7.96l-1.37-1.37c-.4-.4-.92-.59-1.43-.59-.52 0-1.04.2-1.43.59L10.3 9.45l-7.72 7.72c-.78.78-.78 2.05 0 2.83L4 21.41c.39.39.9.59 1.41.59.51 0 1.02-.2 1.41-.59l7.78-7.78 2.81-2.81c.8-.78.8-2.07 0-2.86zM5.41 20L4 18.59l7.72-7.72 1.47 1.35L5.41 20z\"/>\n",
              "  </svg>\n",
              "      </button>\n",
              "      \n",
              "  <style>\n",
              "    .colab-df-container {\n",
              "      display:flex;\n",
              "      flex-wrap:wrap;\n",
              "      gap: 12px;\n",
              "    }\n",
              "\n",
              "    .colab-df-convert {\n",
              "      background-color: #E8F0FE;\n",
              "      border: none;\n",
              "      border-radius: 50%;\n",
              "      cursor: pointer;\n",
              "      display: none;\n",
              "      fill: #1967D2;\n",
              "      height: 32px;\n",
              "      padding: 0 0 0 0;\n",
              "      width: 32px;\n",
              "    }\n",
              "\n",
              "    .colab-df-convert:hover {\n",
              "      background-color: #E2EBFA;\n",
              "      box-shadow: 0px 1px 2px rgba(60, 64, 67, 0.3), 0px 1px 3px 1px rgba(60, 64, 67, 0.15);\n",
              "      fill: #174EA6;\n",
              "    }\n",
              "\n",
              "    [theme=dark] .colab-df-convert {\n",
              "      background-color: #3B4455;\n",
              "      fill: #D2E3FC;\n",
              "    }\n",
              "\n",
              "    [theme=dark] .colab-df-convert:hover {\n",
              "      background-color: #434B5C;\n",
              "      box-shadow: 0px 1px 3px 1px rgba(0, 0, 0, 0.15);\n",
              "      filter: drop-shadow(0px 1px 2px rgba(0, 0, 0, 0.3));\n",
              "      fill: #FFFFFF;\n",
              "    }\n",
              "  </style>\n",
              "\n",
              "      <script>\n",
              "        const buttonEl =\n",
              "          document.querySelector('#df-75d243e4-b337-4c8a-a953-ee9846cea37e button.colab-df-convert');\n",
              "        buttonEl.style.display =\n",
              "          google.colab.kernel.accessAllowed ? 'block' : 'none';\n",
              "\n",
              "        async function convertToInteractive(key) {\n",
              "          const element = document.querySelector('#df-75d243e4-b337-4c8a-a953-ee9846cea37e');\n",
              "          const dataTable =\n",
              "            await google.colab.kernel.invokeFunction('convertToInteractive',\n",
              "                                                     [key], {});\n",
              "          if (!dataTable) return;\n",
              "\n",
              "          const docLinkHtml = 'Like what you see? Visit the ' +\n",
              "            '<a target=\"_blank\" href=https://colab.research.google.com/notebooks/data_table.ipynb>data table notebook</a>'\n",
              "            + ' to learn more about interactive tables.';\n",
              "          element.innerHTML = '';\n",
              "          dataTable['output_type'] = 'display_data';\n",
              "          await google.colab.output.renderOutput(dataTable, element);\n",
              "          const docLink = document.createElement('div');\n",
              "          docLink.innerHTML = docLinkHtml;\n",
              "          element.appendChild(docLink);\n",
              "        }\n",
              "      </script>\n",
              "    </div>\n",
              "  </div>\n",
              "  "
            ]
          },
          "metadata": {},
          "execution_count": 105
        }
      ]
    },
    {
      "cell_type": "code",
      "source": [
        "job_set.head()"
      ],
      "metadata": {
        "colab": {
          "base_uri": "https://localhost:8080/",
          "height": 617
        },
        "id": "kyLNsnhZasMv",
        "outputId": "35546cb5-0ccf-48ca-907b-9ce2e3c1ccc0"
      },
      "execution_count": null,
      "outputs": [
        {
          "output_type": "execute_result",
          "data": {
            "text/plain": [
              "   Unnamed: 0  project_id   pool_id  \\\n",
              "0           1        2338  36616149   \n",
              "1           2        2338  36760808   \n",
              "2           3        2338  36774752   \n",
              "3           4        6795  21626385   \n",
              "4           5        7053  32956274   \n",
              "\n",
              "                                           title  \\\n",
              "0     Ekran görüntüsünde yetişkin içerik var mı?   \n",
              "1     Ekran görüntüsünde yetişkin içerik var mı?   \n",
              "2     Ekran görüntüsünde yetişkin içerik var mı?   \n",
              "3     Тональность сообщений из социальных сетей    \n",
              "4  Яндекс Маркет. Редиректы. Категория. Точность   \n",
              "\n",
              "                                         description  \\\n",
              "0  Bu, \"Ekran görüntüsünde yetişkin içerik var mı...   \n",
              "1  Değerlendirilen görsele en uygun kategoriyi se...   \n",
              "2  Değerlendirilen görsele en uygun kategoriyi se...   \n",
              "3      Разметка сообщений по эмоциональной окраске.    \n",
              "4  Вам предлагается оценить, идеально ли предложе...   \n",
              "\n",
              "             pool_startedAt  hasInstructions  mayContainAdultContent  \\\n",
              "0  2022-11-29T12:19:54.000Z                1                       1   \n",
              "1  2022-12-08T22:27:28.000Z                1                       1   \n",
              "2  2022-12-09T21:50:47.000Z                1                       1   \n",
              "3  2022-10-23T22:24:44.000Z                1                       1   \n",
              "4  2022-04-15T05:59:48.000Z                1                       1   \n",
              "\n",
              "                        requesterID  requesterTrusted lang grade  \\\n",
              "0  fa517ea3113e489138d249ff9844f572                 1       4.52   \n",
              "1  fa517ea3113e489138d249ff9844f572                 1       4.54   \n",
              "2  fa517ea3113e489138d249ff9844f572                 1       4.51   \n",
              "3  81029b6e4b04badacad20d15ff3998e0                 1       4.89   \n",
              "4  7d935a4f05dc1f1f5ec7452feba85b5c                 1       4.92   \n",
              "\n",
              "  averageAcceptanceTimeSec moneyAvgHourly moneyMed moneyTop10 moneyMax3  \\\n",
              "0                                     0.0      0.0       0.09      1.19   \n",
              "1                                     0.0      0.0       0.29      1.69   \n",
              "2                                     0.0      0.0       0.09      1.19   \n",
              "3                                     2.4     0.04       0.14             \n",
              "4                                    0.75     0.04       0.04      1.74   \n",
              "\n",
              "   reward                                        Description  \\\n",
              "0     0.0  Bu, \"Ekran görüntüsünde yetişkin içerik var mı...   \n",
              "1     0.0  Değerlendirilen görsele en uygun kategoriyi se...   \n",
              "2     0.0  Değerlendirilen görsele en uygun kategoriyi se...   \n",
              "3     0.0      Разметка сообщений по эмоциональной окраске.    \n",
              "4     0.0  Вам предлагается оценить, идеально ли предложе...   \n",
              "\n",
              "                                                word  \n",
              "0  Ekran görüntüsünde yetişkin içerik var mı?Bu, ...  \n",
              "1  Ekran görüntüsünde yetişkin içerik var mı?Değe...  \n",
              "2  Ekran görüntüsünde yetişkin içerik var mı?Değe...  \n",
              "3  Тональность сообщений из социальных сетей Разм...  \n",
              "4  Яндекс Маркет. Редиректы. Категория. ТочностьВ...  "
            ],
            "text/html": [
              "\n",
              "  <div id=\"df-91759072-2827-4e70-a817-ae6a3f99e07d\">\n",
              "    <div class=\"colab-df-container\">\n",
              "      <div>\n",
              "<style scoped>\n",
              "    .dataframe tbody tr th:only-of-type {\n",
              "        vertical-align: middle;\n",
              "    }\n",
              "\n",
              "    .dataframe tbody tr th {\n",
              "        vertical-align: top;\n",
              "    }\n",
              "\n",
              "    .dataframe thead th {\n",
              "        text-align: right;\n",
              "    }\n",
              "</style>\n",
              "<table border=\"1\" class=\"dataframe\">\n",
              "  <thead>\n",
              "    <tr style=\"text-align: right;\">\n",
              "      <th></th>\n",
              "      <th>Unnamed: 0</th>\n",
              "      <th>project_id</th>\n",
              "      <th>pool_id</th>\n",
              "      <th>title</th>\n",
              "      <th>description</th>\n",
              "      <th>pool_startedAt</th>\n",
              "      <th>hasInstructions</th>\n",
              "      <th>mayContainAdultContent</th>\n",
              "      <th>requesterID</th>\n",
              "      <th>requesterTrusted</th>\n",
              "      <th>lang</th>\n",
              "      <th>grade</th>\n",
              "      <th>averageAcceptanceTimeSec</th>\n",
              "      <th>moneyAvgHourly</th>\n",
              "      <th>moneyMed</th>\n",
              "      <th>moneyTop10</th>\n",
              "      <th>moneyMax3</th>\n",
              "      <th>reward</th>\n",
              "      <th>Description</th>\n",
              "      <th>word</th>\n",
              "    </tr>\n",
              "  </thead>\n",
              "  <tbody>\n",
              "    <tr>\n",
              "      <th>0</th>\n",
              "      <td>1</td>\n",
              "      <td>2338</td>\n",
              "      <td>36616149</td>\n",
              "      <td>Ekran görüntüsünde yetişkin içerik var mı?</td>\n",
              "      <td>Bu, \"Ekran görüntüsünde yetişkin içerik var mı...</td>\n",
              "      <td>2022-11-29T12:19:54.000Z</td>\n",
              "      <td>1</td>\n",
              "      <td>1</td>\n",
              "      <td>fa517ea3113e489138d249ff9844f572</td>\n",
              "      <td>1</td>\n",
              "      <td></td>\n",
              "      <td>4.52</td>\n",
              "      <td></td>\n",
              "      <td>0.0</td>\n",
              "      <td>0.0</td>\n",
              "      <td>0.09</td>\n",
              "      <td>1.19</td>\n",
              "      <td>0.0</td>\n",
              "      <td>Bu, \"Ekran görüntüsünde yetişkin içerik var mı...</td>\n",
              "      <td>Ekran görüntüsünde yetişkin içerik var mı?Bu, ...</td>\n",
              "    </tr>\n",
              "    <tr>\n",
              "      <th>1</th>\n",
              "      <td>2</td>\n",
              "      <td>2338</td>\n",
              "      <td>36760808</td>\n",
              "      <td>Ekran görüntüsünde yetişkin içerik var mı?</td>\n",
              "      <td>Değerlendirilen görsele en uygun kategoriyi se...</td>\n",
              "      <td>2022-12-08T22:27:28.000Z</td>\n",
              "      <td>1</td>\n",
              "      <td>1</td>\n",
              "      <td>fa517ea3113e489138d249ff9844f572</td>\n",
              "      <td>1</td>\n",
              "      <td></td>\n",
              "      <td>4.54</td>\n",
              "      <td></td>\n",
              "      <td>0.0</td>\n",
              "      <td>0.0</td>\n",
              "      <td>0.29</td>\n",
              "      <td>1.69</td>\n",
              "      <td>0.0</td>\n",
              "      <td>Değerlendirilen görsele en uygun kategoriyi se...</td>\n",
              "      <td>Ekran görüntüsünde yetişkin içerik var mı?Değe...</td>\n",
              "    </tr>\n",
              "    <tr>\n",
              "      <th>2</th>\n",
              "      <td>3</td>\n",
              "      <td>2338</td>\n",
              "      <td>36774752</td>\n",
              "      <td>Ekran görüntüsünde yetişkin içerik var mı?</td>\n",
              "      <td>Değerlendirilen görsele en uygun kategoriyi se...</td>\n",
              "      <td>2022-12-09T21:50:47.000Z</td>\n",
              "      <td>1</td>\n",
              "      <td>1</td>\n",
              "      <td>fa517ea3113e489138d249ff9844f572</td>\n",
              "      <td>1</td>\n",
              "      <td></td>\n",
              "      <td>4.51</td>\n",
              "      <td></td>\n",
              "      <td>0.0</td>\n",
              "      <td>0.0</td>\n",
              "      <td>0.09</td>\n",
              "      <td>1.19</td>\n",
              "      <td>0.0</td>\n",
              "      <td>Değerlendirilen görsele en uygun kategoriyi se...</td>\n",
              "      <td>Ekran görüntüsünde yetişkin içerik var mı?Değe...</td>\n",
              "    </tr>\n",
              "    <tr>\n",
              "      <th>3</th>\n",
              "      <td>4</td>\n",
              "      <td>6795</td>\n",
              "      <td>21626385</td>\n",
              "      <td>Тональность сообщений из социальных сетей</td>\n",
              "      <td>Разметка сообщений по эмоциональной окраске.</td>\n",
              "      <td>2022-10-23T22:24:44.000Z</td>\n",
              "      <td>1</td>\n",
              "      <td>1</td>\n",
              "      <td>81029b6e4b04badacad20d15ff3998e0</td>\n",
              "      <td>1</td>\n",
              "      <td></td>\n",
              "      <td>4.89</td>\n",
              "      <td></td>\n",
              "      <td>2.4</td>\n",
              "      <td>0.04</td>\n",
              "      <td>0.14</td>\n",
              "      <td></td>\n",
              "      <td>0.0</td>\n",
              "      <td>Разметка сообщений по эмоциональной окраске.</td>\n",
              "      <td>Тональность сообщений из социальных сетей Разм...</td>\n",
              "    </tr>\n",
              "    <tr>\n",
              "      <th>4</th>\n",
              "      <td>5</td>\n",
              "      <td>7053</td>\n",
              "      <td>32956274</td>\n",
              "      <td>Яндекс Маркет. Редиректы. Категория. Точность</td>\n",
              "      <td>Вам предлагается оценить, идеально ли предложе...</td>\n",
              "      <td>2022-04-15T05:59:48.000Z</td>\n",
              "      <td>1</td>\n",
              "      <td>1</td>\n",
              "      <td>7d935a4f05dc1f1f5ec7452feba85b5c</td>\n",
              "      <td>1</td>\n",
              "      <td></td>\n",
              "      <td>4.92</td>\n",
              "      <td></td>\n",
              "      <td>0.75</td>\n",
              "      <td>0.04</td>\n",
              "      <td>0.04</td>\n",
              "      <td>1.74</td>\n",
              "      <td>0.0</td>\n",
              "      <td>Вам предлагается оценить, идеально ли предложе...</td>\n",
              "      <td>Яндекс Маркет. Редиректы. Категория. ТочностьВ...</td>\n",
              "    </tr>\n",
              "  </tbody>\n",
              "</table>\n",
              "</div>\n",
              "      <button class=\"colab-df-convert\" onclick=\"convertToInteractive('df-91759072-2827-4e70-a817-ae6a3f99e07d')\"\n",
              "              title=\"Convert this dataframe to an interactive table.\"\n",
              "              style=\"display:none;\">\n",
              "        \n",
              "  <svg xmlns=\"http://www.w3.org/2000/svg\" height=\"24px\"viewBox=\"0 0 24 24\"\n",
              "       width=\"24px\">\n",
              "    <path d=\"M0 0h24v24H0V0z\" fill=\"none\"/>\n",
              "    <path d=\"M18.56 5.44l.94 2.06.94-2.06 2.06-.94-2.06-.94-.94-2.06-.94 2.06-2.06.94zm-11 1L8.5 8.5l.94-2.06 2.06-.94-2.06-.94L8.5 2.5l-.94 2.06-2.06.94zm10 10l.94 2.06.94-2.06 2.06-.94-2.06-.94-.94-2.06-.94 2.06-2.06.94z\"/><path d=\"M17.41 7.96l-1.37-1.37c-.4-.4-.92-.59-1.43-.59-.52 0-1.04.2-1.43.59L10.3 9.45l-7.72 7.72c-.78.78-.78 2.05 0 2.83L4 21.41c.39.39.9.59 1.41.59.51 0 1.02-.2 1.41-.59l7.78-7.78 2.81-2.81c.8-.78.8-2.07 0-2.86zM5.41 20L4 18.59l7.72-7.72 1.47 1.35L5.41 20z\"/>\n",
              "  </svg>\n",
              "      </button>\n",
              "      \n",
              "  <style>\n",
              "    .colab-df-container {\n",
              "      display:flex;\n",
              "      flex-wrap:wrap;\n",
              "      gap: 12px;\n",
              "    }\n",
              "\n",
              "    .colab-df-convert {\n",
              "      background-color: #E8F0FE;\n",
              "      border: none;\n",
              "      border-radius: 50%;\n",
              "      cursor: pointer;\n",
              "      display: none;\n",
              "      fill: #1967D2;\n",
              "      height: 32px;\n",
              "      padding: 0 0 0 0;\n",
              "      width: 32px;\n",
              "    }\n",
              "\n",
              "    .colab-df-convert:hover {\n",
              "      background-color: #E2EBFA;\n",
              "      box-shadow: 0px 1px 2px rgba(60, 64, 67, 0.3), 0px 1px 3px 1px rgba(60, 64, 67, 0.15);\n",
              "      fill: #174EA6;\n",
              "    }\n",
              "\n",
              "    [theme=dark] .colab-df-convert {\n",
              "      background-color: #3B4455;\n",
              "      fill: #D2E3FC;\n",
              "    }\n",
              "\n",
              "    [theme=dark] .colab-df-convert:hover {\n",
              "      background-color: #434B5C;\n",
              "      box-shadow: 0px 1px 3px 1px rgba(0, 0, 0, 0.15);\n",
              "      filter: drop-shadow(0px 1px 2px rgba(0, 0, 0, 0.3));\n",
              "      fill: #FFFFFF;\n",
              "    }\n",
              "  </style>\n",
              "\n",
              "      <script>\n",
              "        const buttonEl =\n",
              "          document.querySelector('#df-91759072-2827-4e70-a817-ae6a3f99e07d button.colab-df-convert');\n",
              "        buttonEl.style.display =\n",
              "          google.colab.kernel.accessAllowed ? 'block' : 'none';\n",
              "\n",
              "        async function convertToInteractive(key) {\n",
              "          const element = document.querySelector('#df-91759072-2827-4e70-a817-ae6a3f99e07d');\n",
              "          const dataTable =\n",
              "            await google.colab.kernel.invokeFunction('convertToInteractive',\n",
              "                                                     [key], {});\n",
              "          if (!dataTable) return;\n",
              "\n",
              "          const docLinkHtml = 'Like what you see? Visit the ' +\n",
              "            '<a target=\"_blank\" href=https://colab.research.google.com/notebooks/data_table.ipynb>data table notebook</a>'\n",
              "            + ' to learn more about interactive tables.';\n",
              "          element.innerHTML = '';\n",
              "          dataTable['output_type'] = 'display_data';\n",
              "          await google.colab.output.renderOutput(dataTable, element);\n",
              "          const docLink = document.createElement('div');\n",
              "          docLink.innerHTML = docLinkHtml;\n",
              "          element.appendChild(docLink);\n",
              "        }\n",
              "      </script>\n",
              "    </div>\n",
              "  </div>\n",
              "  "
            ]
          },
          "metadata": {},
          "execution_count": 106
        }
      ]
    },
    {
      "cell_type": "markdown",
      "source": [
        "add binary labels into the dataset, indicating that whether the user and job are in the same language"
      ],
      "metadata": {
        "id": "0nmymY0-aigp"
      }
    },
    {
      "cell_type": "code",
      "source": [
        "pip install langdetect"
      ],
      "metadata": {
        "colab": {
          "base_uri": "https://localhost:8080/"
        },
        "id": "dsmFQVI6bPA7",
        "outputId": "d09dc0e8-d919-4159-c56d-c84a014117ad"
      },
      "execution_count": null,
      "outputs": [
        {
          "output_type": "stream",
          "name": "stdout",
          "text": [
            "Looking in indexes: https://pypi.org/simple, https://us-python.pkg.dev/colab-wheels/public/simple/\n",
            "Collecting langdetect\n",
            "  Downloading langdetect-1.0.9.tar.gz (981 kB)\n",
            "\u001b[2K     \u001b[90m━━━━━━━━━━━━━━━━━━━━━━━━━━━━━━━━━━━━━━\u001b[0m \u001b[32m981.5/981.5 KB\u001b[0m \u001b[31m14.2 MB/s\u001b[0m eta \u001b[36m0:00:00\u001b[0m\n",
            "\u001b[?25h  Preparing metadata (setup.py) ... \u001b[?25l\u001b[?25hdone\n",
            "Requirement already satisfied: six in /usr/local/lib/python3.9/dist-packages (from langdetect) (1.16.0)\n",
            "Building wheels for collected packages: langdetect\n",
            "  Building wheel for langdetect (setup.py) ... \u001b[?25l\u001b[?25hdone\n",
            "  Created wheel for langdetect: filename=langdetect-1.0.9-py3-none-any.whl size=993243 sha256=012df487e65acfcb2421969f0db01e66287d1d1519e132e380896415fed8cc25\n",
            "  Stored in directory: /root/.cache/pip/wheels/d1/c1/d9/7e068de779d863bc8f8fc9467d85e25cfe47fa5051fff1a1bb\n",
            "Successfully built langdetect\n",
            "Installing collected packages: langdetect\n",
            "Successfully installed langdetect-1.0.9\n"
          ]
        }
      ]
    },
    {
      "cell_type": "code",
      "source": [
        "from langdetect import detect\n",
        "job_set['language'] = job_set['title'].apply(detect)"
      ],
      "metadata": {
        "id": "jIvbDhSQbE83"
      },
      "execution_count": null,
      "outputs": []
    },
    {
      "cell_type": "code",
      "source": [
        "def split_lang(a):\n",
        "  my_list = a.split(\",\")\n",
        "  my_list = [element.lower() for element in my_list]\n",
        "  new_list = my_list[:-1]\n",
        "  return new_list\n",
        "  \n",
        "user_set['lang'] = user_set['language'].apply(split_lang)"
      ],
      "metadata": {
        "id": "xnoVTR6NbGCf"
      },
      "execution_count": null,
      "outputs": []
    },
    {
      "cell_type": "code",
      "source": [
        "user_set.head()"
      ],
      "metadata": {
        "colab": {
          "base_uri": "https://localhost:8080/",
          "height": 206
        },
        "id": "EPeA8OuQbioN",
        "outputId": "224bdcd4-50a0-4633-f108-ac60d5133a54"
      },
      "execution_count": null,
      "outputs": [
        {
          "output_type": "execute_result",
          "data": {
            "text/plain": [
              "   Unnamed: 0         uid            language  birthdate     joined  age  \\\n",
              "0           0  1316040758              AR,EN, 1984-03-11 2021-01-13   39   \n",
              "1           1  1429235843           EN,KI,SW, 1993-03-01 2021-05-27   30   \n",
              "2           2  1430094402  DE,EN,ES,ID,PT,RU, 1989-09-24 2021-05-29   33   \n",
              "3           3  1458049517     DE,EN,FR,RU,TR, 1996-12-16 2021-07-27   26   \n",
              "4           4  1490584733              EN,ID, 1982-03-13 2021-09-29   41   \n",
              "\n",
              "   Years_of_exp                      lang  \n",
              "0             2                  [ar, en]  \n",
              "1             1              [en, ki, sw]  \n",
              "2             1  [de, en, es, id, pt, ru]  \n",
              "3             1      [de, en, fr, ru, tr]  \n",
              "4             1                  [en, id]  "
            ],
            "text/html": [
              "\n",
              "  <div id=\"df-663acc48-4828-412e-a41c-e5046234b848\">\n",
              "    <div class=\"colab-df-container\">\n",
              "      <div>\n",
              "<style scoped>\n",
              "    .dataframe tbody tr th:only-of-type {\n",
              "        vertical-align: middle;\n",
              "    }\n",
              "\n",
              "    .dataframe tbody tr th {\n",
              "        vertical-align: top;\n",
              "    }\n",
              "\n",
              "    .dataframe thead th {\n",
              "        text-align: right;\n",
              "    }\n",
              "</style>\n",
              "<table border=\"1\" class=\"dataframe\">\n",
              "  <thead>\n",
              "    <tr style=\"text-align: right;\">\n",
              "      <th></th>\n",
              "      <th>Unnamed: 0</th>\n",
              "      <th>uid</th>\n",
              "      <th>language</th>\n",
              "      <th>birthdate</th>\n",
              "      <th>joined</th>\n",
              "      <th>age</th>\n",
              "      <th>Years_of_exp</th>\n",
              "      <th>lang</th>\n",
              "    </tr>\n",
              "  </thead>\n",
              "  <tbody>\n",
              "    <tr>\n",
              "      <th>0</th>\n",
              "      <td>0</td>\n",
              "      <td>1316040758</td>\n",
              "      <td>AR,EN,</td>\n",
              "      <td>1984-03-11</td>\n",
              "      <td>2021-01-13</td>\n",
              "      <td>39</td>\n",
              "      <td>2</td>\n",
              "      <td>[ar, en]</td>\n",
              "    </tr>\n",
              "    <tr>\n",
              "      <th>1</th>\n",
              "      <td>1</td>\n",
              "      <td>1429235843</td>\n",
              "      <td>EN,KI,SW,</td>\n",
              "      <td>1993-03-01</td>\n",
              "      <td>2021-05-27</td>\n",
              "      <td>30</td>\n",
              "      <td>1</td>\n",
              "      <td>[en, ki, sw]</td>\n",
              "    </tr>\n",
              "    <tr>\n",
              "      <th>2</th>\n",
              "      <td>2</td>\n",
              "      <td>1430094402</td>\n",
              "      <td>DE,EN,ES,ID,PT,RU,</td>\n",
              "      <td>1989-09-24</td>\n",
              "      <td>2021-05-29</td>\n",
              "      <td>33</td>\n",
              "      <td>1</td>\n",
              "      <td>[de, en, es, id, pt, ru]</td>\n",
              "    </tr>\n",
              "    <tr>\n",
              "      <th>3</th>\n",
              "      <td>3</td>\n",
              "      <td>1458049517</td>\n",
              "      <td>DE,EN,FR,RU,TR,</td>\n",
              "      <td>1996-12-16</td>\n",
              "      <td>2021-07-27</td>\n",
              "      <td>26</td>\n",
              "      <td>1</td>\n",
              "      <td>[de, en, fr, ru, tr]</td>\n",
              "    </tr>\n",
              "    <tr>\n",
              "      <th>4</th>\n",
              "      <td>4</td>\n",
              "      <td>1490584733</td>\n",
              "      <td>EN,ID,</td>\n",
              "      <td>1982-03-13</td>\n",
              "      <td>2021-09-29</td>\n",
              "      <td>41</td>\n",
              "      <td>1</td>\n",
              "      <td>[en, id]</td>\n",
              "    </tr>\n",
              "  </tbody>\n",
              "</table>\n",
              "</div>\n",
              "      <button class=\"colab-df-convert\" onclick=\"convertToInteractive('df-663acc48-4828-412e-a41c-e5046234b848')\"\n",
              "              title=\"Convert this dataframe to an interactive table.\"\n",
              "              style=\"display:none;\">\n",
              "        \n",
              "  <svg xmlns=\"http://www.w3.org/2000/svg\" height=\"24px\"viewBox=\"0 0 24 24\"\n",
              "       width=\"24px\">\n",
              "    <path d=\"M0 0h24v24H0V0z\" fill=\"none\"/>\n",
              "    <path d=\"M18.56 5.44l.94 2.06.94-2.06 2.06-.94-2.06-.94-.94-2.06-.94 2.06-2.06.94zm-11 1L8.5 8.5l.94-2.06 2.06-.94-2.06-.94L8.5 2.5l-.94 2.06-2.06.94zm10 10l.94 2.06.94-2.06 2.06-.94-2.06-.94-.94-2.06-.94 2.06-2.06.94z\"/><path d=\"M17.41 7.96l-1.37-1.37c-.4-.4-.92-.59-1.43-.59-.52 0-1.04.2-1.43.59L10.3 9.45l-7.72 7.72c-.78.78-.78 2.05 0 2.83L4 21.41c.39.39.9.59 1.41.59.51 0 1.02-.2 1.41-.59l7.78-7.78 2.81-2.81c.8-.78.8-2.07 0-2.86zM5.41 20L4 18.59l7.72-7.72 1.47 1.35L5.41 20z\"/>\n",
              "  </svg>\n",
              "      </button>\n",
              "      \n",
              "  <style>\n",
              "    .colab-df-container {\n",
              "      display:flex;\n",
              "      flex-wrap:wrap;\n",
              "      gap: 12px;\n",
              "    }\n",
              "\n",
              "    .colab-df-convert {\n",
              "      background-color: #E8F0FE;\n",
              "      border: none;\n",
              "      border-radius: 50%;\n",
              "      cursor: pointer;\n",
              "      display: none;\n",
              "      fill: #1967D2;\n",
              "      height: 32px;\n",
              "      padding: 0 0 0 0;\n",
              "      width: 32px;\n",
              "    }\n",
              "\n",
              "    .colab-df-convert:hover {\n",
              "      background-color: #E2EBFA;\n",
              "      box-shadow: 0px 1px 2px rgba(60, 64, 67, 0.3), 0px 1px 3px 1px rgba(60, 64, 67, 0.15);\n",
              "      fill: #174EA6;\n",
              "    }\n",
              "\n",
              "    [theme=dark] .colab-df-convert {\n",
              "      background-color: #3B4455;\n",
              "      fill: #D2E3FC;\n",
              "    }\n",
              "\n",
              "    [theme=dark] .colab-df-convert:hover {\n",
              "      background-color: #434B5C;\n",
              "      box-shadow: 0px 1px 3px 1px rgba(0, 0, 0, 0.15);\n",
              "      filter: drop-shadow(0px 1px 2px rgba(0, 0, 0, 0.3));\n",
              "      fill: #FFFFFF;\n",
              "    }\n",
              "  </style>\n",
              "\n",
              "      <script>\n",
              "        const buttonEl =\n",
              "          document.querySelector('#df-663acc48-4828-412e-a41c-e5046234b848 button.colab-df-convert');\n",
              "        buttonEl.style.display =\n",
              "          google.colab.kernel.accessAllowed ? 'block' : 'none';\n",
              "\n",
              "        async function convertToInteractive(key) {\n",
              "          const element = document.querySelector('#df-663acc48-4828-412e-a41c-e5046234b848');\n",
              "          const dataTable =\n",
              "            await google.colab.kernel.invokeFunction('convertToInteractive',\n",
              "                                                     [key], {});\n",
              "          if (!dataTable) return;\n",
              "\n",
              "          const docLinkHtml = 'Like what you see? Visit the ' +\n",
              "            '<a target=\"_blank\" href=https://colab.research.google.com/notebooks/data_table.ipynb>data table notebook</a>'\n",
              "            + ' to learn more about interactive tables.';\n",
              "          element.innerHTML = '';\n",
              "          dataTable['output_type'] = 'display_data';\n",
              "          await google.colab.output.renderOutput(dataTable, element);\n",
              "          const docLink = document.createElement('div');\n",
              "          docLink.innerHTML = docLinkHtml;\n",
              "          element.appendChild(docLink);\n",
              "        }\n",
              "      </script>\n",
              "    </div>\n",
              "  </div>\n",
              "  "
            ]
          },
          "metadata": {},
          "execution_count": 109
        }
      ]
    },
    {
      "cell_type": "code",
      "source": [
        "job_set.head()"
      ],
      "metadata": {
        "colab": {
          "base_uri": "https://localhost:8080/",
          "height": 647
        },
        "id": "ZGzStUtWbnHU",
        "outputId": "0fc6d660-c0b4-4e19-f84f-f962bd863a7e"
      },
      "execution_count": null,
      "outputs": [
        {
          "output_type": "execute_result",
          "data": {
            "text/plain": [
              "   Unnamed: 0  project_id   pool_id  \\\n",
              "0           1        2338  36616149   \n",
              "1           2        2338  36760808   \n",
              "2           3        2338  36774752   \n",
              "3           4        6795  21626385   \n",
              "4           5        7053  32956274   \n",
              "\n",
              "                                           title  \\\n",
              "0     Ekran görüntüsünde yetişkin içerik var mı?   \n",
              "1     Ekran görüntüsünde yetişkin içerik var mı?   \n",
              "2     Ekran görüntüsünde yetişkin içerik var mı?   \n",
              "3     Тональность сообщений из социальных сетей    \n",
              "4  Яндекс Маркет. Редиректы. Категория. Точность   \n",
              "\n",
              "                                         description  \\\n",
              "0  Bu, \"Ekran görüntüsünde yetişkin içerik var mı...   \n",
              "1  Değerlendirilen görsele en uygun kategoriyi se...   \n",
              "2  Değerlendirilen görsele en uygun kategoriyi se...   \n",
              "3      Разметка сообщений по эмоциональной окраске.    \n",
              "4  Вам предлагается оценить, идеально ли предложе...   \n",
              "\n",
              "             pool_startedAt  hasInstructions  mayContainAdultContent  \\\n",
              "0  2022-11-29T12:19:54.000Z                1                       1   \n",
              "1  2022-12-08T22:27:28.000Z                1                       1   \n",
              "2  2022-12-09T21:50:47.000Z                1                       1   \n",
              "3  2022-10-23T22:24:44.000Z                1                       1   \n",
              "4  2022-04-15T05:59:48.000Z                1                       1   \n",
              "\n",
              "                        requesterID  requesterTrusted  ... grade  \\\n",
              "0  fa517ea3113e489138d249ff9844f572                 1  ...  4.52   \n",
              "1  fa517ea3113e489138d249ff9844f572                 1  ...  4.54   \n",
              "2  fa517ea3113e489138d249ff9844f572                 1  ...  4.51   \n",
              "3  81029b6e4b04badacad20d15ff3998e0                 1  ...  4.89   \n",
              "4  7d935a4f05dc1f1f5ec7452feba85b5c                 1  ...  4.92   \n",
              "\n",
              "  averageAcceptanceTimeSec moneyAvgHourly moneyMed moneyTop10 moneyMax3  \\\n",
              "0                                     0.0      0.0       0.09      1.19   \n",
              "1                                     0.0      0.0       0.29      1.69   \n",
              "2                                     0.0      0.0       0.09      1.19   \n",
              "3                                     2.4     0.04       0.14             \n",
              "4                                    0.75     0.04       0.04      1.74   \n",
              "\n",
              "  reward                                        Description  \\\n",
              "0    0.0  Bu, \"Ekran görüntüsünde yetişkin içerik var mı...   \n",
              "1    0.0  Değerlendirilen görsele en uygun kategoriyi se...   \n",
              "2    0.0  Değerlendirilen görsele en uygun kategoriyi se...   \n",
              "3    0.0      Разметка сообщений по эмоциональной окраске.    \n",
              "4    0.0  Вам предлагается оценить, идеально ли предложе...   \n",
              "\n",
              "                                                word language  \n",
              "0  Ekran görüntüsünde yetişkin içerik var mı?Bu, ...       tr  \n",
              "1  Ekran görüntüsünde yetişkin içerik var mı?Değe...       tr  \n",
              "2  Ekran görüntüsünde yetişkin içerik var mı?Değe...       tr  \n",
              "3  Тональность сообщений из социальных сетей Разм...       ru  \n",
              "4  Яндекс Маркет. Редиректы. Категория. ТочностьВ...       ru  \n",
              "\n",
              "[5 rows x 21 columns]"
            ],
            "text/html": [
              "\n",
              "  <div id=\"df-b6108d44-db58-4080-886a-7637a6fed722\">\n",
              "    <div class=\"colab-df-container\">\n",
              "      <div>\n",
              "<style scoped>\n",
              "    .dataframe tbody tr th:only-of-type {\n",
              "        vertical-align: middle;\n",
              "    }\n",
              "\n",
              "    .dataframe tbody tr th {\n",
              "        vertical-align: top;\n",
              "    }\n",
              "\n",
              "    .dataframe thead th {\n",
              "        text-align: right;\n",
              "    }\n",
              "</style>\n",
              "<table border=\"1\" class=\"dataframe\">\n",
              "  <thead>\n",
              "    <tr style=\"text-align: right;\">\n",
              "      <th></th>\n",
              "      <th>Unnamed: 0</th>\n",
              "      <th>project_id</th>\n",
              "      <th>pool_id</th>\n",
              "      <th>title</th>\n",
              "      <th>description</th>\n",
              "      <th>pool_startedAt</th>\n",
              "      <th>hasInstructions</th>\n",
              "      <th>mayContainAdultContent</th>\n",
              "      <th>requesterID</th>\n",
              "      <th>requesterTrusted</th>\n",
              "      <th>...</th>\n",
              "      <th>grade</th>\n",
              "      <th>averageAcceptanceTimeSec</th>\n",
              "      <th>moneyAvgHourly</th>\n",
              "      <th>moneyMed</th>\n",
              "      <th>moneyTop10</th>\n",
              "      <th>moneyMax3</th>\n",
              "      <th>reward</th>\n",
              "      <th>Description</th>\n",
              "      <th>word</th>\n",
              "      <th>language</th>\n",
              "    </tr>\n",
              "  </thead>\n",
              "  <tbody>\n",
              "    <tr>\n",
              "      <th>0</th>\n",
              "      <td>1</td>\n",
              "      <td>2338</td>\n",
              "      <td>36616149</td>\n",
              "      <td>Ekran görüntüsünde yetişkin içerik var mı?</td>\n",
              "      <td>Bu, \"Ekran görüntüsünde yetişkin içerik var mı...</td>\n",
              "      <td>2022-11-29T12:19:54.000Z</td>\n",
              "      <td>1</td>\n",
              "      <td>1</td>\n",
              "      <td>fa517ea3113e489138d249ff9844f572</td>\n",
              "      <td>1</td>\n",
              "      <td>...</td>\n",
              "      <td>4.52</td>\n",
              "      <td></td>\n",
              "      <td>0.0</td>\n",
              "      <td>0.0</td>\n",
              "      <td>0.09</td>\n",
              "      <td>1.19</td>\n",
              "      <td>0.0</td>\n",
              "      <td>Bu, \"Ekran görüntüsünde yetişkin içerik var mı...</td>\n",
              "      <td>Ekran görüntüsünde yetişkin içerik var mı?Bu, ...</td>\n",
              "      <td>tr</td>\n",
              "    </tr>\n",
              "    <tr>\n",
              "      <th>1</th>\n",
              "      <td>2</td>\n",
              "      <td>2338</td>\n",
              "      <td>36760808</td>\n",
              "      <td>Ekran görüntüsünde yetişkin içerik var mı?</td>\n",
              "      <td>Değerlendirilen görsele en uygun kategoriyi se...</td>\n",
              "      <td>2022-12-08T22:27:28.000Z</td>\n",
              "      <td>1</td>\n",
              "      <td>1</td>\n",
              "      <td>fa517ea3113e489138d249ff9844f572</td>\n",
              "      <td>1</td>\n",
              "      <td>...</td>\n",
              "      <td>4.54</td>\n",
              "      <td></td>\n",
              "      <td>0.0</td>\n",
              "      <td>0.0</td>\n",
              "      <td>0.29</td>\n",
              "      <td>1.69</td>\n",
              "      <td>0.0</td>\n",
              "      <td>Değerlendirilen görsele en uygun kategoriyi se...</td>\n",
              "      <td>Ekran görüntüsünde yetişkin içerik var mı?Değe...</td>\n",
              "      <td>tr</td>\n",
              "    </tr>\n",
              "    <tr>\n",
              "      <th>2</th>\n",
              "      <td>3</td>\n",
              "      <td>2338</td>\n",
              "      <td>36774752</td>\n",
              "      <td>Ekran görüntüsünde yetişkin içerik var mı?</td>\n",
              "      <td>Değerlendirilen görsele en uygun kategoriyi se...</td>\n",
              "      <td>2022-12-09T21:50:47.000Z</td>\n",
              "      <td>1</td>\n",
              "      <td>1</td>\n",
              "      <td>fa517ea3113e489138d249ff9844f572</td>\n",
              "      <td>1</td>\n",
              "      <td>...</td>\n",
              "      <td>4.51</td>\n",
              "      <td></td>\n",
              "      <td>0.0</td>\n",
              "      <td>0.0</td>\n",
              "      <td>0.09</td>\n",
              "      <td>1.19</td>\n",
              "      <td>0.0</td>\n",
              "      <td>Değerlendirilen görsele en uygun kategoriyi se...</td>\n",
              "      <td>Ekran görüntüsünde yetişkin içerik var mı?Değe...</td>\n",
              "      <td>tr</td>\n",
              "    </tr>\n",
              "    <tr>\n",
              "      <th>3</th>\n",
              "      <td>4</td>\n",
              "      <td>6795</td>\n",
              "      <td>21626385</td>\n",
              "      <td>Тональность сообщений из социальных сетей</td>\n",
              "      <td>Разметка сообщений по эмоциональной окраске.</td>\n",
              "      <td>2022-10-23T22:24:44.000Z</td>\n",
              "      <td>1</td>\n",
              "      <td>1</td>\n",
              "      <td>81029b6e4b04badacad20d15ff3998e0</td>\n",
              "      <td>1</td>\n",
              "      <td>...</td>\n",
              "      <td>4.89</td>\n",
              "      <td></td>\n",
              "      <td>2.4</td>\n",
              "      <td>0.04</td>\n",
              "      <td>0.14</td>\n",
              "      <td></td>\n",
              "      <td>0.0</td>\n",
              "      <td>Разметка сообщений по эмоциональной окраске.</td>\n",
              "      <td>Тональность сообщений из социальных сетей Разм...</td>\n",
              "      <td>ru</td>\n",
              "    </tr>\n",
              "    <tr>\n",
              "      <th>4</th>\n",
              "      <td>5</td>\n",
              "      <td>7053</td>\n",
              "      <td>32956274</td>\n",
              "      <td>Яндекс Маркет. Редиректы. Категория. Точность</td>\n",
              "      <td>Вам предлагается оценить, идеально ли предложе...</td>\n",
              "      <td>2022-04-15T05:59:48.000Z</td>\n",
              "      <td>1</td>\n",
              "      <td>1</td>\n",
              "      <td>7d935a4f05dc1f1f5ec7452feba85b5c</td>\n",
              "      <td>1</td>\n",
              "      <td>...</td>\n",
              "      <td>4.92</td>\n",
              "      <td></td>\n",
              "      <td>0.75</td>\n",
              "      <td>0.04</td>\n",
              "      <td>0.04</td>\n",
              "      <td>1.74</td>\n",
              "      <td>0.0</td>\n",
              "      <td>Вам предлагается оценить, идеально ли предложе...</td>\n",
              "      <td>Яндекс Маркет. Редиректы. Категория. ТочностьВ...</td>\n",
              "      <td>ru</td>\n",
              "    </tr>\n",
              "  </tbody>\n",
              "</table>\n",
              "<p>5 rows × 21 columns</p>\n",
              "</div>\n",
              "      <button class=\"colab-df-convert\" onclick=\"convertToInteractive('df-b6108d44-db58-4080-886a-7637a6fed722')\"\n",
              "              title=\"Convert this dataframe to an interactive table.\"\n",
              "              style=\"display:none;\">\n",
              "        \n",
              "  <svg xmlns=\"http://www.w3.org/2000/svg\" height=\"24px\"viewBox=\"0 0 24 24\"\n",
              "       width=\"24px\">\n",
              "    <path d=\"M0 0h24v24H0V0z\" fill=\"none\"/>\n",
              "    <path d=\"M18.56 5.44l.94 2.06.94-2.06 2.06-.94-2.06-.94-.94-2.06-.94 2.06-2.06.94zm-11 1L8.5 8.5l.94-2.06 2.06-.94-2.06-.94L8.5 2.5l-.94 2.06-2.06.94zm10 10l.94 2.06.94-2.06 2.06-.94-2.06-.94-.94-2.06-.94 2.06-2.06.94z\"/><path d=\"M17.41 7.96l-1.37-1.37c-.4-.4-.92-.59-1.43-.59-.52 0-1.04.2-1.43.59L10.3 9.45l-7.72 7.72c-.78.78-.78 2.05 0 2.83L4 21.41c.39.39.9.59 1.41.59.51 0 1.02-.2 1.41-.59l7.78-7.78 2.81-2.81c.8-.78.8-2.07 0-2.86zM5.41 20L4 18.59l7.72-7.72 1.47 1.35L5.41 20z\"/>\n",
              "  </svg>\n",
              "      </button>\n",
              "      \n",
              "  <style>\n",
              "    .colab-df-container {\n",
              "      display:flex;\n",
              "      flex-wrap:wrap;\n",
              "      gap: 12px;\n",
              "    }\n",
              "\n",
              "    .colab-df-convert {\n",
              "      background-color: #E8F0FE;\n",
              "      border: none;\n",
              "      border-radius: 50%;\n",
              "      cursor: pointer;\n",
              "      display: none;\n",
              "      fill: #1967D2;\n",
              "      height: 32px;\n",
              "      padding: 0 0 0 0;\n",
              "      width: 32px;\n",
              "    }\n",
              "\n",
              "    .colab-df-convert:hover {\n",
              "      background-color: #E2EBFA;\n",
              "      box-shadow: 0px 1px 2px rgba(60, 64, 67, 0.3), 0px 1px 3px 1px rgba(60, 64, 67, 0.15);\n",
              "      fill: #174EA6;\n",
              "    }\n",
              "\n",
              "    [theme=dark] .colab-df-convert {\n",
              "      background-color: #3B4455;\n",
              "      fill: #D2E3FC;\n",
              "    }\n",
              "\n",
              "    [theme=dark] .colab-df-convert:hover {\n",
              "      background-color: #434B5C;\n",
              "      box-shadow: 0px 1px 3px 1px rgba(0, 0, 0, 0.15);\n",
              "      filter: drop-shadow(0px 1px 2px rgba(0, 0, 0, 0.3));\n",
              "      fill: #FFFFFF;\n",
              "    }\n",
              "  </style>\n",
              "\n",
              "      <script>\n",
              "        const buttonEl =\n",
              "          document.querySelector('#df-b6108d44-db58-4080-886a-7637a6fed722 button.colab-df-convert');\n",
              "        buttonEl.style.display =\n",
              "          google.colab.kernel.accessAllowed ? 'block' : 'none';\n",
              "\n",
              "        async function convertToInteractive(key) {\n",
              "          const element = document.querySelector('#df-b6108d44-db58-4080-886a-7637a6fed722');\n",
              "          const dataTable =\n",
              "            await google.colab.kernel.invokeFunction('convertToInteractive',\n",
              "                                                     [key], {});\n",
              "          if (!dataTable) return;\n",
              "\n",
              "          const docLinkHtml = 'Like what you see? Visit the ' +\n",
              "            '<a target=\"_blank\" href=https://colab.research.google.com/notebooks/data_table.ipynb>data table notebook</a>'\n",
              "            + ' to learn more about interactive tables.';\n",
              "          element.innerHTML = '';\n",
              "          dataTable['output_type'] = 'display_data';\n",
              "          await google.colab.output.renderOutput(dataTable, element);\n",
              "          const docLink = document.createElement('div');\n",
              "          docLink.innerHTML = docLinkHtml;\n",
              "          element.appendChild(docLink);\n",
              "        }\n",
              "      </script>\n",
              "    </div>\n",
              "  </div>\n",
              "  "
            ]
          },
          "metadata": {},
          "execution_count": 110
        }
      ]
    },
    {
      "cell_type": "code",
      "source": [
        "dataset.columns"
      ],
      "metadata": {
        "colab": {
          "base_uri": "https://localhost:8080/"
        },
        "id": "hTrlK1M7cuPA",
        "outputId": "d956bc2f-33a0-4100-ff3e-308bc1496f4f"
      },
      "execution_count": null,
      "outputs": [
        {
          "output_type": "execute_result",
          "data": {
            "text/plain": [
              "Index(['UserID', 'JobID', 'label'], dtype='object')"
            ]
          },
          "metadata": {},
          "execution_count": 111
        }
      ]
    },
    {
      "cell_type": "code",
      "source": [
        "user_set.columns"
      ],
      "metadata": {
        "colab": {
          "base_uri": "https://localhost:8080/"
        },
        "id": "7kMn_h9Wcx1H",
        "outputId": "7844fdbe-4d0d-4512-fa70-727ae9bb1601"
      },
      "execution_count": null,
      "outputs": [
        {
          "output_type": "execute_result",
          "data": {
            "text/plain": [
              "Index(['Unnamed: 0', 'uid', 'language', 'birthdate', 'joined', 'age',\n",
              "       'Years_of_exp', 'lang'],\n",
              "      dtype='object')"
            ]
          },
          "metadata": {},
          "execution_count": 112
        }
      ]
    },
    {
      "cell_type": "code",
      "source": [
        "user_set['uid']"
      ],
      "metadata": {
        "colab": {
          "base_uri": "https://localhost:8080/"
        },
        "id": "IoAYYsLtgQNd",
        "outputId": "d6b4e0a5-6cc5-4c3e-c2cf-bee7eef18958"
      },
      "execution_count": null,
      "outputs": [
        {
          "output_type": "execute_result",
          "data": {
            "text/plain": [
              "0     1316040758\n",
              "1     1429235843\n",
              "2     1430094402\n",
              "3     1458049517\n",
              "4     1490584733\n",
              "5     1648608319\n",
              "6     1674749132\n",
              "7     1675921760\n",
              "8     1684019585\n",
              "9     1703905621\n",
              "10    1706440161\n",
              "11    1709755371\n",
              "12    1710096477\n",
              "13    1713698815\n",
              "14    1714073899\n",
              "15    1716528528\n",
              "16    1718146027\n",
              "17    1718416044\n",
              "18    1725201772\n",
              "Name: uid, dtype: int64"
            ]
          },
          "metadata": {},
          "execution_count": 113
        }
      ]
    },
    {
      "cell_type": "code",
      "source": [
        "job_set.columns"
      ],
      "metadata": {
        "colab": {
          "base_uri": "https://localhost:8080/"
        },
        "id": "d7lAWPmLc0xc",
        "outputId": "68df207b-923b-4e88-c5b8-5fffbe2ced98"
      },
      "execution_count": null,
      "outputs": [
        {
          "output_type": "execute_result",
          "data": {
            "text/plain": [
              "Index(['Unnamed: 0', 'project_id', 'pool_id', 'title', 'description',\n",
              "       'pool_startedAt', 'hasInstructions', 'mayContainAdultContent',\n",
              "       'requesterID', 'requesterTrusted', 'lang', 'grade',\n",
              "       'averageAcceptanceTimeSec', 'moneyAvgHourly', 'moneyMed', 'moneyTop10',\n",
              "       'moneyMax3', 'reward', 'Description', 'word', 'language'],\n",
              "      dtype='object')"
            ]
          },
          "metadata": {},
          "execution_count": 114
        }
      ]
    },
    {
      "cell_type": "code",
      "source": [
        "x = user_set[user_set.uid==1316040758][\"lang\"]\n",
        "print(type(x))\n",
        "x = x.tolist()\n",
        "print(type(x))"
      ],
      "metadata": {
        "colab": {
          "base_uri": "https://localhost:8080/"
        },
        "id": "SPNaAaEMgKyL",
        "outputId": "dbf55b8a-8197-4722-e27c-490eb53673f5"
      },
      "execution_count": null,
      "outputs": [
        {
          "output_type": "stream",
          "name": "stdout",
          "text": [
            "<class 'pandas.core.series.Series'>\n",
            "<class 'list'>\n"
          ]
        }
      ]
    },
    {
      "cell_type": "code",
      "source": [
        "# temp = sorted(dict(dataset.UserID.value_counts()).items(), key=lambda x: x[1], reverse=True)\n",
        "# exclude_user_id = [i[0] for i in temp if i [1]>=10]\n",
        "# len(exclude_user_id)"
      ],
      "metadata": {
        "id": "at0e-7c9kzcl"
      },
      "execution_count": null,
      "outputs": []
    },
    {
      "cell_type": "code",
      "source": [
        "# dataset = dataset[~dataset.UserID.isin(exclude_user_id)]"
      ],
      "metadata": {
        "id": "Pnmgxuark0_M"
      },
      "execution_count": null,
      "outputs": []
    },
    {
      "cell_type": "code",
      "source": [
        "language = []\n",
        "groups = dataset.groupby(\"UserID\")\n",
        "for idx, group in tqdm(groups):\n",
        "    user_language = user_set[user_set.uid==idx][\"lang\"]\n",
        "    user_language = user_language.tolist()\n",
        "    job_id_list = group.JobID.values\n",
        "    job_language = job_set[job_set.project_id.isin(job_id_list)][\"language\"].values\n",
        "    # print(job_language)\n",
        "    language.extend([0 if i!=user_language else 1 for i in job_language])\n",
        "    # print(len(language))\n",
        "# print(len(dataset))\n",
        "dataset[\"Language\"] = language[:2106]"
      ],
      "metadata": {
        "colab": {
          "base_uri": "https://localhost:8080/"
        },
        "id": "YOYaxMrFalK_",
        "outputId": "3e7dada0-838c-417f-ae40-d2618f5588ad"
      },
      "execution_count": null,
      "outputs": [
        {
          "output_type": "stream",
          "name": "stderr",
          "text": [
            "100%|██████████| 19/19 [00:00<00:00, 746.65it/s]\n"
          ]
        }
      ]
    },
    {
      "cell_type": "code",
      "source": [
        "print(dataset.shape)\n",
        "print(job_set.shape)\n",
        "print(user_set.shape)"
      ],
      "metadata": {
        "colab": {
          "base_uri": "https://localhost:8080/"
        },
        "id": "xpXNvncvd0kV",
        "outputId": "e8d8dd0c-add3-41e6-a4b9-5d82f08ef356"
      },
      "execution_count": null,
      "outputs": [
        {
          "output_type": "stream",
          "name": "stdout",
          "text": [
            "(2106, 4)\n",
            "(561, 21)\n",
            "(19, 8)\n"
          ]
        }
      ]
    },
    {
      "cell_type": "code",
      "source": [
        "user_set.to_csv(\"user_set_cleaned.csv\", index=False)\n",
        "dataset.to_csv(\"dataset_cleaned.csv\", index=False)"
      ],
      "metadata": {
        "id": "DoYvtc3_hpkl"
      },
      "execution_count": null,
      "outputs": []
    },
    {
      "cell_type": "markdown",
      "source": [
        "## Building the training and testing set"
      ],
      "metadata": {
        "id": "DJ2ZM32NlsTP"
      }
    },
    {
      "cell_type": "code",
      "source": [
        "from sklearn.model_selection import train_test_split\n",
        "train_user, test_user = train_test_split(user_set, test_size=0.200, random_state=42)\n",
        "# train_data, test_data = train_test_split(dataset, test_size=0.200, random_state=42)"
      ],
      "metadata": {
        "id": "7UgUVu91l-0q"
      },
      "execution_count": null,
      "outputs": []
    },
    {
      "cell_type": "code",
      "source": [
        "train_user = train_user.uid.values\n",
        "test_user = test_user.uid.values\n",
        "train_data = dataset[dataset.UserID.isin(train_user)]\n",
        "test_data = dataset[dataset.UserID.isin(test_user)]"
      ],
      "metadata": {
        "id": "4LKOVHO9mpFH"
      },
      "execution_count": null,
      "outputs": []
    },
    {
      "cell_type": "code",
      "source": [
        "# train_user = user_set[user_set.Split==\"Train\"].UserID.values\n",
        "# test_user = user_set[user_set.Split==\"Test\"].UserID.values\n",
        "# train_data = dataset[dataset.UserID.isin(train_user)]\n",
        "# test_data = dataset[dataset.UserID.isin(test_user)]"
      ],
      "metadata": {
        "id": "s6_UzFwKlvIu"
      },
      "execution_count": null,
      "outputs": []
    },
    {
      "cell_type": "code",
      "source": [
        "user_set.columns"
      ],
      "metadata": {
        "colab": {
          "base_uri": "https://localhost:8080/"
        },
        "id": "3rm2WWRJoHbG",
        "outputId": "b2ec135b-470b-4767-e11b-8a699cddceb4"
      },
      "execution_count": null,
      "outputs": [
        {
          "output_type": "execute_result",
          "data": {
            "text/plain": [
              "Index(['Unnamed: 0', 'uid', 'language', 'birthdate', 'joined', 'age',\n",
              "       'Years_of_exp', 'lang'],\n",
              "      dtype='object')"
            ]
          },
          "metadata": {},
          "execution_count": 76
        }
      ]
    },
    {
      "cell_type": "code",
      "source": [
        "dataset.head()"
      ],
      "metadata": {
        "colab": {
          "base_uri": "https://localhost:8080/",
          "height": 206
        },
        "id": "4TUK7BA_wGHQ",
        "outputId": "1a21ffd8-e95f-4c01-d891-368057d3cfc3"
      },
      "execution_count": null,
      "outputs": [
        {
          "output_type": "execute_result",
          "data": {
            "text/plain": [
              "       UserID  JobID  label  Language\n",
              "0  1316040758  49390      1         0\n",
              "1  1316040758  54170      1         0\n",
              "2  1316040758  73686      1         0\n",
              "3  1316040758  80759      1         0\n",
              "4  1316040758  81112      1         0"
            ],
            "text/html": [
              "\n",
              "  <div id=\"df-a5ca462e-ab6f-4e25-8896-801fb90c520b\">\n",
              "    <div class=\"colab-df-container\">\n",
              "      <div>\n",
              "<style scoped>\n",
              "    .dataframe tbody tr th:only-of-type {\n",
              "        vertical-align: middle;\n",
              "    }\n",
              "\n",
              "    .dataframe tbody tr th {\n",
              "        vertical-align: top;\n",
              "    }\n",
              "\n",
              "    .dataframe thead th {\n",
              "        text-align: right;\n",
              "    }\n",
              "</style>\n",
              "<table border=\"1\" class=\"dataframe\">\n",
              "  <thead>\n",
              "    <tr style=\"text-align: right;\">\n",
              "      <th></th>\n",
              "      <th>UserID</th>\n",
              "      <th>JobID</th>\n",
              "      <th>label</th>\n",
              "      <th>Language</th>\n",
              "    </tr>\n",
              "  </thead>\n",
              "  <tbody>\n",
              "    <tr>\n",
              "      <th>0</th>\n",
              "      <td>1316040758</td>\n",
              "      <td>49390</td>\n",
              "      <td>1</td>\n",
              "      <td>0</td>\n",
              "    </tr>\n",
              "    <tr>\n",
              "      <th>1</th>\n",
              "      <td>1316040758</td>\n",
              "      <td>54170</td>\n",
              "      <td>1</td>\n",
              "      <td>0</td>\n",
              "    </tr>\n",
              "    <tr>\n",
              "      <th>2</th>\n",
              "      <td>1316040758</td>\n",
              "      <td>73686</td>\n",
              "      <td>1</td>\n",
              "      <td>0</td>\n",
              "    </tr>\n",
              "    <tr>\n",
              "      <th>3</th>\n",
              "      <td>1316040758</td>\n",
              "      <td>80759</td>\n",
              "      <td>1</td>\n",
              "      <td>0</td>\n",
              "    </tr>\n",
              "    <tr>\n",
              "      <th>4</th>\n",
              "      <td>1316040758</td>\n",
              "      <td>81112</td>\n",
              "      <td>1</td>\n",
              "      <td>0</td>\n",
              "    </tr>\n",
              "  </tbody>\n",
              "</table>\n",
              "</div>\n",
              "      <button class=\"colab-df-convert\" onclick=\"convertToInteractive('df-a5ca462e-ab6f-4e25-8896-801fb90c520b')\"\n",
              "              title=\"Convert this dataframe to an interactive table.\"\n",
              "              style=\"display:none;\">\n",
              "        \n",
              "  <svg xmlns=\"http://www.w3.org/2000/svg\" height=\"24px\"viewBox=\"0 0 24 24\"\n",
              "       width=\"24px\">\n",
              "    <path d=\"M0 0h24v24H0V0z\" fill=\"none\"/>\n",
              "    <path d=\"M18.56 5.44l.94 2.06.94-2.06 2.06-.94-2.06-.94-.94-2.06-.94 2.06-2.06.94zm-11 1L8.5 8.5l.94-2.06 2.06-.94-2.06-.94L8.5 2.5l-.94 2.06-2.06.94zm10 10l.94 2.06.94-2.06 2.06-.94-2.06-.94-.94-2.06-.94 2.06-2.06.94z\"/><path d=\"M17.41 7.96l-1.37-1.37c-.4-.4-.92-.59-1.43-.59-.52 0-1.04.2-1.43.59L10.3 9.45l-7.72 7.72c-.78.78-.78 2.05 0 2.83L4 21.41c.39.39.9.59 1.41.59.51 0 1.02-.2 1.41-.59l7.78-7.78 2.81-2.81c.8-.78.8-2.07 0-2.86zM5.41 20L4 18.59l7.72-7.72 1.47 1.35L5.41 20z\"/>\n",
              "  </svg>\n",
              "      </button>\n",
              "      \n",
              "  <style>\n",
              "    .colab-df-container {\n",
              "      display:flex;\n",
              "      flex-wrap:wrap;\n",
              "      gap: 12px;\n",
              "    }\n",
              "\n",
              "    .colab-df-convert {\n",
              "      background-color: #E8F0FE;\n",
              "      border: none;\n",
              "      border-radius: 50%;\n",
              "      cursor: pointer;\n",
              "      display: none;\n",
              "      fill: #1967D2;\n",
              "      height: 32px;\n",
              "      padding: 0 0 0 0;\n",
              "      width: 32px;\n",
              "    }\n",
              "\n",
              "    .colab-df-convert:hover {\n",
              "      background-color: #E2EBFA;\n",
              "      box-shadow: 0px 1px 2px rgba(60, 64, 67, 0.3), 0px 1px 3px 1px rgba(60, 64, 67, 0.15);\n",
              "      fill: #174EA6;\n",
              "    }\n",
              "\n",
              "    [theme=dark] .colab-df-convert {\n",
              "      background-color: #3B4455;\n",
              "      fill: #D2E3FC;\n",
              "    }\n",
              "\n",
              "    [theme=dark] .colab-df-convert:hover {\n",
              "      background-color: #434B5C;\n",
              "      box-shadow: 0px 1px 3px 1px rgba(0, 0, 0, 0.15);\n",
              "      filter: drop-shadow(0px 1px 2px rgba(0, 0, 0, 0.3));\n",
              "      fill: #FFFFFF;\n",
              "    }\n",
              "  </style>\n",
              "\n",
              "      <script>\n",
              "        const buttonEl =\n",
              "          document.querySelector('#df-a5ca462e-ab6f-4e25-8896-801fb90c520b button.colab-df-convert');\n",
              "        buttonEl.style.display =\n",
              "          google.colab.kernel.accessAllowed ? 'block' : 'none';\n",
              "\n",
              "        async function convertToInteractive(key) {\n",
              "          const element = document.querySelector('#df-a5ca462e-ab6f-4e25-8896-801fb90c520b');\n",
              "          const dataTable =\n",
              "            await google.colab.kernel.invokeFunction('convertToInteractive',\n",
              "                                                     [key], {});\n",
              "          if (!dataTable) return;\n",
              "\n",
              "          const docLinkHtml = 'Like what you see? Visit the ' +\n",
              "            '<a target=\"_blank\" href=https://colab.research.google.com/notebooks/data_table.ipynb>data table notebook</a>'\n",
              "            + ' to learn more about interactive tables.';\n",
              "          element.innerHTML = '';\n",
              "          dataTable['output_type'] = 'display_data';\n",
              "          await google.colab.output.renderOutput(dataTable, element);\n",
              "          const docLink = document.createElement('div');\n",
              "          docLink.innerHTML = docLinkHtml;\n",
              "          element.appendChild(docLink);\n",
              "        }\n",
              "      </script>\n",
              "    </div>\n",
              "  </div>\n",
              "  "
            ]
          },
          "metadata": {},
          "execution_count": 125
        }
      ]
    },
    {
      "cell_type": "code",
      "source": [
        "user = new[new.uid==1458049517  ]\n",
        "u_idx = user.index.values[0]\n",
        "print(\"USER:\", user)\n",
        "print(\"U_IDX\", u_idx)\n",
        "print(\"USER_VALUES\", user.values)\n",
        "print(\"WORK_HISTORY\", word_history_tf_matrix[u_idx,:])\n",
        "print(\"LEN_WORK_HIST\", word_history_tf_matrix[u_idx,:].shape)"
      ],
      "metadata": {
        "colab": {
          "base_uri": "https://localhost:8080/"
        },
        "id": "jGQ-9EA0yybx",
        "outputId": "adf54d88-064d-48f7-b6fa-ccef5e1db840"
      },
      "execution_count": null,
      "outputs": [
        {
          "output_type": "stream",
          "name": "stdout",
          "text": [
            "USER:    Unnamed: 0         uid         language  birthdate     joined  age  \\\n",
            "3           3  1458049517  DE,EN,FR,RU,TR, 1996-12-16 2021-07-27   26   \n",
            "\n",
            "   Years_of_exp                  lang  \n",
            "3             1  [de, en, fr, ru, tr]  \n",
            "U_IDX 3\n",
            "USER_VALUES [[3 1458049517 'DE,EN,FR,RU,TR,' Timestamp('1996-12-16 00:00:00')\n",
            "  Timestamp('2021-07-27 00:00:00') 26 1\n",
            "  list(['de', 'en', 'fr', 'ru', 'tr'])]]\n",
            "WORK_HISTORY   (0, 32)\t0.22369638945257625\n",
            "  (0, 42)\t0.22369638945257625\n",
            "  (0, 14)\t0.09210318139293894\n",
            "  (0, 31)\t0.22369638945257625\n",
            "  (0, 41)\t0.37282731575429373\n",
            "  (0, 34)\t0.12192430409454671\n",
            "  (0, 28)\t0.12192430409454671\n",
            "  (0, 39)\t0.12192430409454671\n",
            "  (0, 9)\t0.12192430409454671\n",
            "  (0, 12)\t0.06096215204727336\n",
            "  (0, 8)\t0.12192430409454671\n",
            "  (0, 13)\t0.12192430409454671\n",
            "  (0, 2)\t0.18288645614182006\n",
            "  (0, 20)\t0.18288645614182006\n",
            "  (0, 24)\t0.12192430409454671\n",
            "  (0, 18)\t0.18288645614182006\n",
            "  (0, 30)\t0.06096215204727336\n",
            "  (0, 40)\t0.12192430409454671\n",
            "  (0, 37)\t0.24384860818909343\n",
            "  (0, 33)\t0.12192430409454671\n",
            "  (0, 27)\t0.12192430409454671\n",
            "  (0, 38)\t0.12192430409454671\n",
            "  (0, 7)\t0.24384860818909343\n",
            "  (0, 0)\t0.12192430409454671\n",
            "  (0, 4)\t0.12192430409454671\n",
            "  (0, 43)\t0.12192430409454671\n",
            "  (0, 21)\t0.18288645614182006\n",
            "  (0, 29)\t0.12192430409454671\n",
            "  (0, 46)\t0.06096215204727336\n",
            "  (0, 11)\t0.18288645614182006\n",
            "  (0, 3)\t0.18288645614182006\n",
            "  (0, 1)\t0.18288645614182006\n",
            "  (0, 19)\t0.18288645614182006\n",
            "  (0, 23)\t0.12192430409454671\n",
            "  (0, 44)\t0.18288645614182006\n",
            "  (0, 17)\t0.18288645614182006\n",
            "LEN_WORK_HIST (1, 50)\n"
          ]
        }
      ]
    },
    {
      "cell_type": "code",
      "source": [
        "new = user_set"
      ],
      "metadata": {
        "id": "nibuT2CG1_3g"
      },
      "execution_count": null,
      "outputs": []
    },
    {
      "cell_type": "code",
      "source": [
        "new.head()"
      ],
      "metadata": {
        "colab": {
          "base_uri": "https://localhost:8080/",
          "height": 206
        },
        "id": "U3RGD1Pi2DIe",
        "outputId": "76ded02d-2530-47eb-b39b-2c93c0202433"
      },
      "execution_count": null,
      "outputs": [
        {
          "output_type": "execute_result",
          "data": {
            "text/plain": [
              "   Unnamed: 0         uid            language  birthdate     joined  age  \\\n",
              "0           0  1316040758              AR,EN, 1984-03-11 2021-01-13   39   \n",
              "1           1  1429235843           EN,KI,SW, 1993-03-01 2021-05-27   30   \n",
              "2           2  1430094402  DE,EN,ES,ID,PT,RU, 1989-09-24 2021-05-29   33   \n",
              "3           3  1458049517     DE,EN,FR,RU,TR, 1996-12-16 2021-07-27   26   \n",
              "5           5  1648608319  DE,EN,FR,IT,NL,RU, 1993-06-03 2022-06-17   29   \n",
              "\n",
              "   Years_of_exp                      lang  \n",
              "0             2                  [ar, en]  \n",
              "1             1              [en, ki, sw]  \n",
              "2             1  [de, en, es, id, pt, ru]  \n",
              "3             1      [de, en, fr, ru, tr]  \n",
              "5             0  [de, en, fr, it, nl, ru]  "
            ],
            "text/html": [
              "\n",
              "  <div id=\"df-175e79ef-a714-4bdd-b5a9-6356cdeb63ec\">\n",
              "    <div class=\"colab-df-container\">\n",
              "      <div>\n",
              "<style scoped>\n",
              "    .dataframe tbody tr th:only-of-type {\n",
              "        vertical-align: middle;\n",
              "    }\n",
              "\n",
              "    .dataframe tbody tr th {\n",
              "        vertical-align: top;\n",
              "    }\n",
              "\n",
              "    .dataframe thead th {\n",
              "        text-align: right;\n",
              "    }\n",
              "</style>\n",
              "<table border=\"1\" class=\"dataframe\">\n",
              "  <thead>\n",
              "    <tr style=\"text-align: right;\">\n",
              "      <th></th>\n",
              "      <th>Unnamed: 0</th>\n",
              "      <th>uid</th>\n",
              "      <th>language</th>\n",
              "      <th>birthdate</th>\n",
              "      <th>joined</th>\n",
              "      <th>age</th>\n",
              "      <th>Years_of_exp</th>\n",
              "      <th>lang</th>\n",
              "    </tr>\n",
              "  </thead>\n",
              "  <tbody>\n",
              "    <tr>\n",
              "      <th>0</th>\n",
              "      <td>0</td>\n",
              "      <td>1316040758</td>\n",
              "      <td>AR,EN,</td>\n",
              "      <td>1984-03-11</td>\n",
              "      <td>2021-01-13</td>\n",
              "      <td>39</td>\n",
              "      <td>2</td>\n",
              "      <td>[ar, en]</td>\n",
              "    </tr>\n",
              "    <tr>\n",
              "      <th>1</th>\n",
              "      <td>1</td>\n",
              "      <td>1429235843</td>\n",
              "      <td>EN,KI,SW,</td>\n",
              "      <td>1993-03-01</td>\n",
              "      <td>2021-05-27</td>\n",
              "      <td>30</td>\n",
              "      <td>1</td>\n",
              "      <td>[en, ki, sw]</td>\n",
              "    </tr>\n",
              "    <tr>\n",
              "      <th>2</th>\n",
              "      <td>2</td>\n",
              "      <td>1430094402</td>\n",
              "      <td>DE,EN,ES,ID,PT,RU,</td>\n",
              "      <td>1989-09-24</td>\n",
              "      <td>2021-05-29</td>\n",
              "      <td>33</td>\n",
              "      <td>1</td>\n",
              "      <td>[de, en, es, id, pt, ru]</td>\n",
              "    </tr>\n",
              "    <tr>\n",
              "      <th>3</th>\n",
              "      <td>3</td>\n",
              "      <td>1458049517</td>\n",
              "      <td>DE,EN,FR,RU,TR,</td>\n",
              "      <td>1996-12-16</td>\n",
              "      <td>2021-07-27</td>\n",
              "      <td>26</td>\n",
              "      <td>1</td>\n",
              "      <td>[de, en, fr, ru, tr]</td>\n",
              "    </tr>\n",
              "    <tr>\n",
              "      <th>5</th>\n",
              "      <td>5</td>\n",
              "      <td>1648608319</td>\n",
              "      <td>DE,EN,FR,IT,NL,RU,</td>\n",
              "      <td>1993-06-03</td>\n",
              "      <td>2022-06-17</td>\n",
              "      <td>29</td>\n",
              "      <td>0</td>\n",
              "      <td>[de, en, fr, it, nl, ru]</td>\n",
              "    </tr>\n",
              "  </tbody>\n",
              "</table>\n",
              "</div>\n",
              "      <button class=\"colab-df-convert\" onclick=\"convertToInteractive('df-175e79ef-a714-4bdd-b5a9-6356cdeb63ec')\"\n",
              "              title=\"Convert this dataframe to an interactive table.\"\n",
              "              style=\"display:none;\">\n",
              "        \n",
              "  <svg xmlns=\"http://www.w3.org/2000/svg\" height=\"24px\"viewBox=\"0 0 24 24\"\n",
              "       width=\"24px\">\n",
              "    <path d=\"M0 0h24v24H0V0z\" fill=\"none\"/>\n",
              "    <path d=\"M18.56 5.44l.94 2.06.94-2.06 2.06-.94-2.06-.94-.94-2.06-.94 2.06-2.06.94zm-11 1L8.5 8.5l.94-2.06 2.06-.94-2.06-.94L8.5 2.5l-.94 2.06-2.06.94zm10 10l.94 2.06.94-2.06 2.06-.94-2.06-.94-.94-2.06-.94 2.06-2.06.94z\"/><path d=\"M17.41 7.96l-1.37-1.37c-.4-.4-.92-.59-1.43-.59-.52 0-1.04.2-1.43.59L10.3 9.45l-7.72 7.72c-.78.78-.78 2.05 0 2.83L4 21.41c.39.39.9.59 1.41.59.51 0 1.02-.2 1.41-.59l7.78-7.78 2.81-2.81c.8-.78.8-2.07 0-2.86zM5.41 20L4 18.59l7.72-7.72 1.47 1.35L5.41 20z\"/>\n",
              "  </svg>\n",
              "      </button>\n",
              "      \n",
              "  <style>\n",
              "    .colab-df-container {\n",
              "      display:flex;\n",
              "      flex-wrap:wrap;\n",
              "      gap: 12px;\n",
              "    }\n",
              "\n",
              "    .colab-df-convert {\n",
              "      background-color: #E8F0FE;\n",
              "      border: none;\n",
              "      border-radius: 50%;\n",
              "      cursor: pointer;\n",
              "      display: none;\n",
              "      fill: #1967D2;\n",
              "      height: 32px;\n",
              "      padding: 0 0 0 0;\n",
              "      width: 32px;\n",
              "    }\n",
              "\n",
              "    .colab-df-convert:hover {\n",
              "      background-color: #E2EBFA;\n",
              "      box-shadow: 0px 1px 2px rgba(60, 64, 67, 0.3), 0px 1px 3px 1px rgba(60, 64, 67, 0.15);\n",
              "      fill: #174EA6;\n",
              "    }\n",
              "\n",
              "    [theme=dark] .colab-df-convert {\n",
              "      background-color: #3B4455;\n",
              "      fill: #D2E3FC;\n",
              "    }\n",
              "\n",
              "    [theme=dark] .colab-df-convert:hover {\n",
              "      background-color: #434B5C;\n",
              "      box-shadow: 0px 1px 3px 1px rgba(0, 0, 0, 0.15);\n",
              "      filter: drop-shadow(0px 1px 2px rgba(0, 0, 0, 0.3));\n",
              "      fill: #FFFFFF;\n",
              "    }\n",
              "  </style>\n",
              "\n",
              "      <script>\n",
              "        const buttonEl =\n",
              "          document.querySelector('#df-175e79ef-a714-4bdd-b5a9-6356cdeb63ec button.colab-df-convert');\n",
              "        buttonEl.style.display =\n",
              "          google.colab.kernel.accessAllowed ? 'block' : 'none';\n",
              "\n",
              "        async function convertToInteractive(key) {\n",
              "          const element = document.querySelector('#df-175e79ef-a714-4bdd-b5a9-6356cdeb63ec');\n",
              "          const dataTable =\n",
              "            await google.colab.kernel.invokeFunction('convertToInteractive',\n",
              "                                                     [key], {});\n",
              "          if (!dataTable) return;\n",
              "\n",
              "          const docLinkHtml = 'Like what you see? Visit the ' +\n",
              "            '<a target=\"_blank\" href=https://colab.research.google.com/notebooks/data_table.ipynb>data table notebook</a>'\n",
              "            + ' to learn more about interactive tables.';\n",
              "          element.innerHTML = '';\n",
              "          dataTable['output_type'] = 'display_data';\n",
              "          await google.colab.output.renderOutput(dataTable, element);\n",
              "          const docLink = document.createElement('div');\n",
              "          docLink.innerHTML = docLinkHtml;\n",
              "          element.appendChild(docLink);\n",
              "        }\n",
              "      </script>\n",
              "    </div>\n",
              "  </div>\n",
              "  "
            ]
          },
          "metadata": {},
          "execution_count": 147
        }
      ]
    },
    {
      "cell_type": "code",
      "source": [
        "new.drop(new[new['uid'] == 1490584733 ].index, inplace = True)"
      ],
      "metadata": {
        "id": "GzSnJf9F1jAS"
      },
      "execution_count": null,
      "outputs": []
    },
    {
      "cell_type": "code",
      "source": [
        "groups = train_data.groupby(\"UserID\")\n",
        "X_train = np.zeros((1,158))\n",
        "Y_train = []\n",
        "for u_id, group in tqdm(groups):\n",
        "    print(u_id, group)\n",
        "    user = user_set[user_set.uid==u_id]\n",
        "    u_idx = user.index.values[0]"
      ],
      "metadata": {
        "id": "zpAV7Sth0w4K"
      },
      "execution_count": null,
      "outputs": []
    },
    {
      "cell_type": "code",
      "source": [
        "word_history_tf_matrix[u_idx,:]"
      ],
      "metadata": {
        "colab": {
          "base_uri": "https://localhost:8080/"
        },
        "id": "zDroww0k0ad7",
        "outputId": "4aed5b9a-35d3-4999-9b09-9cb5f1ad1287"
      },
      "execution_count": null,
      "outputs": [
        {
          "output_type": "execute_result",
          "data": {
            "text/plain": [
              "<4x50 sparse matrix of type '<class 'numpy.float64'>'\n",
              "\twith 163 stored elements in Compressed Sparse Row format>"
            ]
          },
          "metadata": {},
          "execution_count": 141
        }
      ]
    },
    {
      "cell_type": "code",
      "source": [
        "train_data1 = train_data"
      ],
      "metadata": {
        "id": "NZsfE8Ip2mS_"
      },
      "execution_count": null,
      "outputs": []
    },
    {
      "cell_type": "code",
      "source": [
        "train_data1.drop(train_data1 [train_data1 ['UserID'] == 1490584733 ].index, inplace = True)"
      ],
      "metadata": {
        "id": "0txv3fC-25h8"
      },
      "execution_count": null,
      "outputs": []
    },
    {
      "cell_type": "code",
      "source": [
        "train_data1.drop(train_data1 [train_data1 ['UserID'] == 1674749132 ].index, inplace = True)"
      ],
      "metadata": {
        "id": "npXnAxT33Hrb"
      },
      "execution_count": null,
      "outputs": []
    },
    {
      "cell_type": "code",
      "source": [
        "train_data1.drop(train_data1 [train_data1 ['UserID'] == 1675921760 ].index, inplace = True)"
      ],
      "metadata": {
        "id": "9GHNidG93bq5"
      },
      "execution_count": null,
      "outputs": []
    },
    {
      "cell_type": "code",
      "source": [
        "train_data1.drop(train_data1 [train_data1 ['UserID'] == 1684019585 ].index, inplace = True)"
      ],
      "metadata": {
        "id": "owfZI9AD4tFy"
      },
      "execution_count": null,
      "outputs": []
    },
    {
      "cell_type": "code",
      "source": [
        "train_data1.drop(train_data1 [train_data1 ['UserID'] == 1703905621 ].index, inplace = True)"
      ],
      "metadata": {
        "id": "gX3Oh2fr4zie"
      },
      "execution_count": null,
      "outputs": []
    },
    {
      "cell_type": "code",
      "source": [
        "train_data1.drop(train_data1 [train_data1 ['UserID'] == 1706440161 ].index, inplace = True)"
      ],
      "metadata": {
        "id": "ZEpFu2pw435c"
      },
      "execution_count": null,
      "outputs": []
    },
    {
      "cell_type": "code",
      "source": [
        "train_data1.drop(train_data1 [train_data1 ['UserID'] == 1710096477 ].index, inplace = True)"
      ],
      "metadata": {
        "id": "0xcaRlzc4_V7"
      },
      "execution_count": null,
      "outputs": []
    },
    {
      "cell_type": "code",
      "source": [
        "train_data1.drop(train_data1 [train_data1 ['UserID'] ==1713698815  ].index, inplace = True)"
      ],
      "metadata": {
        "id": "Z08O_47N5GGX"
      },
      "execution_count": null,
      "outputs": []
    },
    {
      "cell_type": "code",
      "source": [
        "train_data1.drop(train_data1 [train_data1 ['UserID'] == 1714073899   ].index, inplace = True)"
      ],
      "metadata": {
        "id": "MshlyQom5Qeg"
      },
      "execution_count": null,
      "outputs": []
    },
    {
      "cell_type": "code",
      "source": [
        "train_data1.drop(train_data1 [train_data1 ['UserID'] == 1725201772            ].index, inplace = True)"
      ],
      "metadata": {
        "id": "0c0Z2Iti5Xi4"
      },
      "execution_count": null,
      "outputs": []
    },
    {
      "cell_type": "code",
      "source": [
        "groups = train_data1.groupby(\"UserID\")\n",
        "print(len(groups))\n",
        "X_train = np.zeros((1,158))\n",
        "Y_train = []\n",
        "for u_id, group in tqdm(groups):\n",
        "    print(u_id, group)\n",
        "    user = user_set[user_set.uid==u_id]\n",
        "    u_idx = user.index.values[0]\n",
        "    user_feature = np.concatenate((user.values, word_history_tf_matrix[u_idx,:].toarray()),axis=1)\n",
        "    # user_feature = np.concatenate((user.values))\n",
        "    job_id_list = group.JobID.values\n",
        "    jobs = job_set[job_set.project_id.isin(job_id_list)]\n",
        "    j_idx = jobs.index.values\n",
        "    f = []\n",
        "    for i in j_idx:\n",
        "        feature = np.concatenate((user_feature, tfidf_matrix[i,:].toarray()), axis=1).reshape(158,).tolist()\n",
        "        f.append(feature)\n",
        "    # feature = np.concatenate((group[[\"language\", \"language\"]].values, np.array(f)),axis=1)\n",
        "    X_train = np.concatenate((X_train, f), axis=0)\n",
        "    Y_train.extend(group.label.values.tolist())\n"
      ],
      "metadata": {
        "id": "Eq5Bm37LnOuj"
      },
      "execution_count": null,
      "outputs": []
    },
    {
      "cell_type": "code",
      "source": [
        "X_train.shape, len(Y_train)"
      ],
      "metadata": {
        "colab": {
          "base_uri": "https://localhost:8080/"
        },
        "id": "1YVRGboNrBKQ",
        "outputId": "97358abd-35cf-4e5e-c3f3-09431c51c56f"
      },
      "execution_count": null,
      "outputs": [
        {
          "output_type": "execute_result",
          "data": {
            "text/plain": [
              "((217, 158), 148)"
            ]
          },
          "metadata": {},
          "execution_count": 185
        }
      ]
    },
    {
      "cell_type": "code",
      "source": [
        "test_data1 = test_data"
      ],
      "metadata": {
        "id": "NiGVMx6E6XrN"
      },
      "execution_count": null,
      "outputs": []
    },
    {
      "cell_type": "code",
      "source": [
        "test_data1.drop(test_data1 [test_data1 ['UserID'] == 1648608319 ].index, inplace = True)"
      ],
      "metadata": {
        "id": "YymKRO-r6W8v"
      },
      "execution_count": null,
      "outputs": []
    },
    {
      "cell_type": "code",
      "source": [
        "test_data1.drop(test_data1 [test_data1 ['UserID'] == 1709755371].index, inplace = True)"
      ],
      "metadata": {
        "id": "le9xxQFD6niC"
      },
      "execution_count": null,
      "outputs": []
    },
    {
      "cell_type": "code",
      "source": [
        "test_data1.drop(test_data1 [test_data1 ['UserID'] == 1648608319 ].index, inplace = True)"
      ],
      "metadata": {
        "id": "4J_nZK-L6nku"
      },
      "execution_count": null,
      "outputs": []
    },
    {
      "cell_type": "code",
      "source": [
        "test_data1.drop(test_data1 [test_data1 ['UserID'] == 1648608319 ].index, inplace = True)"
      ],
      "metadata": {
        "id": "yDoGfNE66nnl"
      },
      "execution_count": null,
      "outputs": []
    },
    {
      "cell_type": "code",
      "source": [
        "test_data1.drop(test_data1 [test_data1 ['UserID'] == 1648608319 ].index, inplace = True)"
      ],
      "metadata": {
        "id": "SHcS2gtx6nqA"
      },
      "execution_count": null,
      "outputs": []
    },
    {
      "cell_type": "code",
      "source": [
        "groups = test_data1.groupby(\"UserID\")\n",
        "X_test = np.zeros((1,158))\n",
        "Y_test = []\n",
        "for u_id, group in tqdm(groups):\n",
        "    print(u_id)\n",
        "    user = user_set[user_set.uid==u_id]\n",
        "    u_idx = user.index.values[0]\n",
        "    user_feature = np.concatenate((user.values, word_history_tf_matrix[u_idx,:].toarray()),axis=1)\n",
        "    job_id_list = group.JobID.values\n",
        "    jobs = job_set[job_set.project_id.isin(job_id_list)]\n",
        "    j_idx = jobs.index.values\n",
        "    f = []\n",
        "    for i in j_idx:\n",
        "        feature = np.concatenate((user_feature, tfidf_matrix[i,:].toarray()), axis=1).reshape(158,).tolist()\n",
        "        f.append(feature)\n",
        "    # feature = np.concatenate((group[[\"City\",\"State\"]].values, np.array(f)),axis=1)\n",
        "    X_test = np.concatenate((X_test, f), axis=0)\n",
        "    Y_test.extend(group.label.values.tolist())"
      ],
      "metadata": {
        "colab": {
          "base_uri": "https://localhost:8080/"
        },
        "id": "X4oMXN6G53_P",
        "outputId": "6dc3b3b5-403f-40fe-aba7-af0abbf937d6"
      },
      "execution_count": null,
      "outputs": [
        {
          "output_type": "stream",
          "name": "stderr",
          "text": [
            "100%|██████████| 2/2 [00:00<00:00, 12.96it/s]"
          ]
        },
        {
          "output_type": "stream",
          "name": "stdout",
          "text": [
            "1316040758\n",
            "1429235843\n"
          ]
        },
        {
          "output_type": "stream",
          "name": "stderr",
          "text": [
            "\n"
          ]
        }
      ]
    },
    {
      "cell_type": "code",
      "source": [
        "X_test.shape, len(Y_test)"
      ],
      "metadata": {
        "colab": {
          "base_uri": "https://localhost:8080/"
        },
        "id": "Y1rAuWRG6J1Z",
        "outputId": "12b85248-0a61-4196-9e0a-91804fb019e0"
      },
      "execution_count": null,
      "outputs": [
        {
          "output_type": "execute_result",
          "data": {
            "text/plain": [
              "((158, 158), 76)"
            ]
          },
          "metadata": {},
          "execution_count": 197
        }
      ]
    },
    {
      "cell_type": "code",
      "source": [
        "np.save(\"X_train.npy\",X_train[1:,])\n",
        "np.save(\"Y_train.npy\",np.array(Y_train))\n",
        "np.save(\"X_test.npy\",X_test[1:,])\n",
        "np.save(\"Y_test.npy\",np.array(Y_test))\n"
      ],
      "metadata": {
        "id": "VtYKFHAN7C2U"
      },
      "execution_count": null,
      "outputs": []
    },
    {
      "cell_type": "markdown",
      "source": [
        "## Construct Models"
      ],
      "metadata": {
        "id": "WpYphLZ17Hgs"
      }
    },
    {
      "cell_type": "code",
      "source": [
        "from sklearn.linear_model import LogisticRegression, LinearRegression\n",
        "from sklearn.metrics import accuracy_score, roc_auc_score, recall_score, precision_score, f1_score, classification_report\n",
        "from sklearn.tree import DecisionTreeClassifier\n",
        "from sklearn.ensemble import RandomForestClassifier\n",
        "from sklearn.naive_bayes import GaussianNB"
      ],
      "metadata": {
        "id": "HxIwC28G7JDH"
      },
      "execution_count": null,
      "outputs": []
    },
    {
      "cell_type": "code",
      "source": [
        "def show_result(y_true, y_prediction):\n",
        "    report = classification_report(y_true,y_prediction,digits=4)\n",
        "    report = report.splitlines()\n",
        "    columns = ['class'] + report[0].split()\n",
        "    col_1, col_2, col_3, col_4, col_5 = [], [], [], [], []\n",
        "    for row in report[1:]:\n",
        "        if len(row.split()) != 0:\n",
        "            row = row.split()\n",
        "            if len(row) < 5:\n",
        "                col_1.append(row[0])\n",
        "                col_2.append('')\n",
        "                col_3.append('')\n",
        "                col_4.append(row[1])\n",
        "                col_5.append(row[2])\n",
        "            elif len(row) > 5:\n",
        "                col_1.append(row[0] + ' ' + row[1])\n",
        "                col_2.append(row[2])\n",
        "                col_3.append(row[3])\n",
        "                col_4.append(row[4])\n",
        "                col_5.append(row[5])\n",
        "            else:\n",
        "                col_1.append(row[0])\n",
        "                col_2.append(row[1])\n",
        "                col_3.append(row[2])\n",
        "                col_4.append(row[3])\n",
        "                col_5.append(row[4])\n",
        "    col_1.append(\"overall\")\n",
        "    col_2.append(precision_score(y_true, y_prediction))\n",
        "    col_3.append(recall_score(y_true, y_prediction))\n",
        "    col_4.append(f1_score(y_true, y_prediction))\n",
        "    col_5.append(roc_auc_score(y_true, y_prediction))\n",
        "    result = pd.DataFrame()\n",
        "    result[columns[0]] = col_1\n",
        "    result[columns[1]] = col_2\n",
        "    result[columns[2]] = col_3\n",
        "    result[columns[3]] = col_4\n",
        "    result[columns[4]] = col_5\n",
        "    print(\"——————Test——————\")\n",
        "    print(result)"
      ],
      "metadata": {
        "id": "L8lCtYZz7LMn"
      },
      "execution_count": null,
      "outputs": []
    },
    {
      "cell_type": "code",
      "source": [
        "!pip install numpy==1.16.1\n",
        "import numpy as np"
      ],
      "metadata": {
        "colab": {
          "base_uri": "https://localhost:8080/"
        },
        "id": "rwff0Kce7lTm",
        "outputId": "01866585-c31e-463b-a5e0-1b7bdcbd5d03"
      },
      "execution_count": null,
      "outputs": [
        {
          "output_type": "stream",
          "name": "stdout",
          "text": [
            "Looking in indexes: https://pypi.org/simple, https://us-python.pkg.dev/colab-wheels/public/simple/\n",
            "Collecting numpy==1.16.1\n",
            "  Downloading numpy-1.16.1.zip (5.1 MB)\n",
            "\u001b[2K     \u001b[90m━━━━━━━━━━━━━━━━━━━━━━━━━━━━━━━━━━━━━━━━\u001b[0m \u001b[32m5.1/5.1 MB\u001b[0m \u001b[31m38.3 MB/s\u001b[0m eta \u001b[36m0:00:00\u001b[0m\n",
            "\u001b[?25h  Preparing metadata (setup.py) ... \u001b[?25l\u001b[?25hdone\n",
            "Building wheels for collected packages: numpy\n",
            "  Building wheel for numpy (setup.py) ... \u001b[?25l\u001b[?25hcanceled\u001b[31mERROR: Operation cancelled by user\u001b[0m\u001b[31m\n",
            "\u001b[0m"
          ]
        }
      ]
    },
    {
      "cell_type": "code",
      "source": [
        "X_train = np.load(\"X_train.npy\")\n",
        "X_test = np.load(\"X_test.npy\")\n",
        "Y_train = np.load(\"Y_train.npy\")\n",
        "Y_texs = np.load(\"Y_test.npy\")"
      ],
      "metadata": {
        "colab": {
          "base_uri": "https://localhost:8080/",
          "height": 388
        },
        "id": "a_M6_trB7Nfv",
        "outputId": "242304c7-3c07-4083-8fd1-affef6430cea"
      },
      "execution_count": null,
      "outputs": [
        {
          "output_type": "error",
          "ename": "ValueError",
          "evalue": "ignored",
          "traceback": [
            "\u001b[0;31m---------------------------------------------------------------------------\u001b[0m",
            "\u001b[0;31mValueError\u001b[0m                                Traceback (most recent call last)",
            "\u001b[0;32m<ipython-input-201-e710cd36e4b8>\u001b[0m in \u001b[0;36m<cell line: 1>\u001b[0;34m()\u001b[0m\n\u001b[0;32m----> 1\u001b[0;31m \u001b[0mX_train\u001b[0m \u001b[0;34m=\u001b[0m \u001b[0mnp\u001b[0m\u001b[0;34m.\u001b[0m\u001b[0mload\u001b[0m\u001b[0;34m(\u001b[0m\u001b[0;34m\"X_train.npy\"\u001b[0m\u001b[0;34m)\u001b[0m\u001b[0;34m\u001b[0m\u001b[0;34m\u001b[0m\u001b[0m\n\u001b[0m\u001b[1;32m      2\u001b[0m \u001b[0mX_test\u001b[0m \u001b[0;34m=\u001b[0m \u001b[0mnp\u001b[0m\u001b[0;34m.\u001b[0m\u001b[0mload\u001b[0m\u001b[0;34m(\u001b[0m\u001b[0;34m\"X_test.npy\"\u001b[0m\u001b[0;34m)\u001b[0m\u001b[0;34m\u001b[0m\u001b[0;34m\u001b[0m\u001b[0m\n\u001b[1;32m      3\u001b[0m \u001b[0mY_train\u001b[0m \u001b[0;34m=\u001b[0m \u001b[0mnp\u001b[0m\u001b[0;34m.\u001b[0m\u001b[0mload\u001b[0m\u001b[0;34m(\u001b[0m\u001b[0;34m\"Y_train.npy\"\u001b[0m\u001b[0;34m)\u001b[0m\u001b[0;34m\u001b[0m\u001b[0;34m\u001b[0m\u001b[0m\n\u001b[1;32m      4\u001b[0m \u001b[0mY_texs\u001b[0m \u001b[0;34m=\u001b[0m \u001b[0mnp\u001b[0m\u001b[0;34m.\u001b[0m\u001b[0mload\u001b[0m\u001b[0;34m(\u001b[0m\u001b[0;34m\"Y_test.npy\"\u001b[0m\u001b[0;34m)\u001b[0m\u001b[0;34m\u001b[0m\u001b[0;34m\u001b[0m\u001b[0m\n",
            "\u001b[0;32m/usr/local/lib/python3.9/dist-packages/numpy/lib/npyio.py\u001b[0m in \u001b[0;36mload\u001b[0;34m(file, mmap_mode, allow_pickle, fix_imports, encoding)\u001b[0m\n\u001b[1;32m    428\u001b[0m                 \u001b[0;32mreturn\u001b[0m \u001b[0mformat\u001b[0m\u001b[0;34m.\u001b[0m\u001b[0mopen_memmap\u001b[0m\u001b[0;34m(\u001b[0m\u001b[0mfile\u001b[0m\u001b[0;34m,\u001b[0m \u001b[0mmode\u001b[0m\u001b[0;34m=\u001b[0m\u001b[0mmmap_mode\u001b[0m\u001b[0;34m)\u001b[0m\u001b[0;34m\u001b[0m\u001b[0;34m\u001b[0m\u001b[0m\n\u001b[1;32m    429\u001b[0m             \u001b[0;32melse\u001b[0m\u001b[0;34m:\u001b[0m\u001b[0;34m\u001b[0m\u001b[0;34m\u001b[0m\u001b[0m\n\u001b[0;32m--> 430\u001b[0;31m                 return format.read_array(fid, allow_pickle=allow_pickle,\n\u001b[0m\u001b[1;32m    431\u001b[0m                                          pickle_kwargs=pickle_kwargs)\n\u001b[1;32m    432\u001b[0m         \u001b[0;32melse\u001b[0m\u001b[0;34m:\u001b[0m\u001b[0;34m\u001b[0m\u001b[0;34m\u001b[0m\u001b[0m\n",
            "\u001b[0;32m/usr/local/lib/python3.9/dist-packages/numpy/lib/format.py\u001b[0m in \u001b[0;36mread_array\u001b[0;34m(fp, allow_pickle, pickle_kwargs)\u001b[0m\n\u001b[1;32m    740\u001b[0m         \u001b[0;31m# The array contained Python objects. We need to unpickle the data.\u001b[0m\u001b[0;34m\u001b[0m\u001b[0;34m\u001b[0m\u001b[0m\n\u001b[1;32m    741\u001b[0m         \u001b[0;32mif\u001b[0m \u001b[0;32mnot\u001b[0m \u001b[0mallow_pickle\u001b[0m\u001b[0;34m:\u001b[0m\u001b[0;34m\u001b[0m\u001b[0;34m\u001b[0m\u001b[0m\n\u001b[0;32m--> 742\u001b[0;31m             raise ValueError(\"Object arrays cannot be loaded when \"\n\u001b[0m\u001b[1;32m    743\u001b[0m                              \"allow_pickle=False\")\n\u001b[1;32m    744\u001b[0m         \u001b[0;32mif\u001b[0m \u001b[0mpickle_kwargs\u001b[0m \u001b[0;32mis\u001b[0m \u001b[0;32mNone\u001b[0m\u001b[0;34m:\u001b[0m\u001b[0;34m\u001b[0m\u001b[0;34m\u001b[0m\u001b[0m\n",
            "\u001b[0;31mValueError\u001b[0m: Object arrays cannot be loaded when allow_pickle=False"
          ]
        }
      ]
    },
    {
      "cell_type": "code",
      "source": [
        "X_train.shape"
      ],
      "metadata": {
        "colab": {
          "base_uri": "https://localhost:8080/"
        },
        "id": "COzQ_WtBB3_Y",
        "outputId": "0e152595-8ee4-4fa9-cd52-3cc9df1b7bdf"
      },
      "execution_count": null,
      "outputs": [
        {
          "output_type": "execute_result",
          "data": {
            "text/plain": [
              "(217, 158)"
            ]
          },
          "metadata": {},
          "execution_count": 301
        }
      ]
    },
    {
      "cell_type": "code",
      "source": [
        "Xtrainnew = X_train[:148]"
      ],
      "metadata": {
        "id": "uDOM9OyVCgRy"
      },
      "execution_count": null,
      "outputs": []
    },
    {
      "cell_type": "code",
      "source": [
        "Xtrainnew.shape"
      ],
      "metadata": {
        "colab": {
          "base_uri": "https://localhost:8080/"
        },
        "id": "Tk5ycUYbCnts",
        "outputId": "196a1c33-3d1c-4690-cb41-72e4c97960bf"
      },
      "execution_count": null,
      "outputs": [
        {
          "output_type": "execute_result",
          "data": {
            "text/plain": [
              "(148, 154)"
            ]
          },
          "metadata": {},
          "execution_count": 330
        }
      ]
    },
    {
      "cell_type": "code",
      "source": [
        "len(Y_train)"
      ],
      "metadata": {
        "colab": {
          "base_uri": "https://localhost:8080/"
        },
        "id": "qWu0GjOaB_PX",
        "outputId": "ea5e6966-93e1-40ee-83df-e819d5fa954d"
      },
      "execution_count": null,
      "outputs": [
        {
          "output_type": "execute_result",
          "data": {
            "text/plain": [
              "148"
            ]
          },
          "metadata": {},
          "execution_count": 331
        }
      ]
    },
    {
      "cell_type": "code",
      "source": [
        "X_train_T = X_train.transpose()"
      ],
      "metadata": {
        "id": "1lMel90RCHz2"
      },
      "execution_count": null,
      "outputs": []
    },
    {
      "cell_type": "code",
      "source": [
        "X_train_T"
      ],
      "metadata": {
        "colab": {
          "base_uri": "https://localhost:8080/"
        },
        "id": "0lY6G5WpCQd6",
        "outputId": "65a4eaa3-6adf-43b7-899c-9cbe5d7fbe0a"
      },
      "execution_count": null,
      "outputs": [
        {
          "output_type": "execute_result",
          "data": {
            "text/plain": [
              "array([[0.0, 2, 2, ..., 3, 3, 3],\n",
              "       [0.0, 1430094402, 1430094402, ..., 1458049517, 1458049517,\n",
              "        1458049517],\n",
              "       [0.0, 'DE,EN,ES,ID,PT,RU,', 'DE,EN,ES,ID,PT,RU,', ...,\n",
              "        'DE,EN,FR,RU,TR,', 'DE,EN,FR,RU,TR,', 'DE,EN,FR,RU,TR,'],\n",
              "       ...,\n",
              "       [0.0, 0.0, 0.0, ..., 0.0, 0.0, 0.0],\n",
              "       [0.0, 0.0, 0.0, ..., 0.0, 0.0, 0.0],\n",
              "       [0.0, 0.0, 0.0, ..., 0.0, 0.0, 0.0]], dtype=object)"
            ]
          },
          "metadata": {},
          "execution_count": 305
        }
      ]
    },
    {
      "cell_type": "code",
      "source": [
        "X_test.shape"
      ],
      "metadata": {
        "colab": {
          "base_uri": "https://localhost:8080/"
        },
        "id": "IjzHcy_mCFxi",
        "outputId": "313fd710-5635-41fc-82fa-9c347e10bcad"
      },
      "execution_count": null,
      "outputs": [
        {
          "output_type": "execute_result",
          "data": {
            "text/plain": [
              "(158, 158)"
            ]
          },
          "metadata": {},
          "execution_count": 332
        }
      ]
    },
    {
      "cell_type": "code",
      "source": [
        "len(Y_test)"
      ],
      "metadata": {
        "colab": {
          "base_uri": "https://localhost:8080/"
        },
        "id": "FhWIxCADCuhO",
        "outputId": "0754760c-9cc9-475d-c8b2-434a9b3a6090"
      },
      "execution_count": null,
      "outputs": [
        {
          "output_type": "execute_result",
          "data": {
            "text/plain": [
              "76"
            ]
          },
          "metadata": {},
          "execution_count": 334
        }
      ]
    },
    {
      "cell_type": "code",
      "source": [
        "X_test_new = X_test[:76]"
      ],
      "metadata": {
        "id": "uwYYAY1XC0x2"
      },
      "execution_count": null,
      "outputs": []
    },
    {
      "cell_type": "code",
      "source": [
        "X_test_new.shape"
      ],
      "metadata": {
        "colab": {
          "base_uri": "https://localhost:8080/"
        },
        "id": "zQTtGidgC7gt",
        "outputId": "c07da0e5-a0e6-45df-ae6b-98d2f1c9c1ec"
      },
      "execution_count": null,
      "outputs": [
        {
          "output_type": "execute_result",
          "data": {
            "text/plain": [
              "(76, 154)"
            ]
          },
          "metadata": {},
          "execution_count": 333
        }
      ]
    },
    {
      "cell_type": "code",
      "source": [
        "Xtrainnew[1]"
      ],
      "metadata": {
        "colab": {
          "base_uri": "https://localhost:8080/"
        },
        "id": "3V58i8LRDKz4",
        "outputId": "f63ccb44-aeac-4c8e-d2ac-01125958eb1c"
      },
      "execution_count": null,
      "outputs": [
        {
          "output_type": "execute_result",
          "data": {
            "text/plain": [
              "array([2, 1430094402, 33, 1, 0.16920418185882333, 0.16920418185882333,\n",
              "       0.16920418185882333, 0.22560557581176444, 0.16920418185882333, 0.0,\n",
              "       0.0, 0.22560557581176444, 0.11280278790588222, 0.11280278790588222,\n",
              "       0.0, 0.2820069697647055, 0.11280278790588222, 0.11280278790588222,\n",
              "       0.0, 0.2759480051946887, 0.0, 0.16920418185882333,\n",
              "       0.16920418185882333, 0.2820069697647055, 0.16920418185882333,\n",
              "       0.11280278790588222, 0.0, 0.11280278790588222, 0.11280278790588222,\n",
              "       0.0, 0.0, 0.11280278790588222, 0.11280278790588222,\n",
              "       0.16920418185882333, 0.16920418185882333, 0.13797400259734435,\n",
              "       0.13797400259734435, 0.11280278790588222, 0.11280278790588222, 0.0,\n",
              "       0.0, 0.22560557581176444, 0.11280278790588222, 0.11280278790588222,\n",
              "       0.16920418185882333, 0.20696100389601654, 0.13797400259734435,\n",
              "       0.16920418185882333, 0.16920418185882333, 0.0, 0.05640139395294111,\n",
              "       0.0, 0.0, 0.0, 0.0, 0.0, 0.0, 0.0, 0.0, 0.0, 0.0, 0.0, 0.0, 0.0,\n",
              "       0.0, 0.0, 0.0, 0.0, 0.0, 0.0, 0.0, 0.0, 0.0, 0.0, 0.0, 0.0, 0.0,\n",
              "       0.0, 0.0, 0.0, 0.0, 0.0, 0.0, 0.0, 0.0, 0.0, 0.0, 0.0, 0.0, 0.0,\n",
              "       0.0, 0.0, 0.0, 0.0, 0.0, 0.0, 0.0, 0.0, 0.0, 0.0, 0.0, 0.0, 0.0,\n",
              "       0.0, 0.0, 0.0, 0.0, 0.0, 0.0, 0.0, 0.0, 0.0, 0.0, 0.0, 0.0, 0.0,\n",
              "       0.0, 0.0, 0.0, 0.0, 0.0, 0.0, 0.0, 0.0, 0.0, 0.0, 0.0, 0.0, 0.0,\n",
              "       0.0, 0.0, 0.0, 0.0, 0.0, 0.0, 0.0, 0.0, 0.0, 0.0, 0.0, 0.0, 0.0,\n",
              "       0.0, 0.0, 0.0, 0.0, 0.0, 0.0, 0.0, 0.0, 0.0, 0.0, 0.0, 0.0],\n",
              "      dtype=object)"
            ]
          },
          "metadata": {},
          "execution_count": 327
        }
      ]
    },
    {
      "cell_type": "code",
      "source": [
        "Xtrainnew = np.delete(Xtrainnew, 4, axis=1)"
      ],
      "metadata": {
        "id": "BHYWX4iEC_0v"
      },
      "execution_count": null,
      "outputs": []
    },
    {
      "cell_type": "code",
      "source": [
        "X_test_new[1]"
      ],
      "metadata": {
        "colab": {
          "base_uri": "https://localhost:8080/"
        },
        "id": "Npg_-vkSDlVk",
        "outputId": "235e5d83-89e5-461c-b970-e046141f3511"
      },
      "execution_count": null,
      "outputs": [
        {
          "output_type": "execute_result",
          "data": {
            "text/plain": [
              "array([0, 1316040758, 39, 2, 0.041723918229578924, 0.12517175468873676,\n",
              "       0.12517175468873676, 0.12517175468873676, 0.041723918229578924,\n",
              "       0.12607512957032954, 0.12607512957032954, 0.2086195911478946,\n",
              "       0.12517175468873676, 0.08344783645915785, 0.12607512957032954,\n",
              "       0.2086195911478946, 0.08344783645915785, 0.08344783645915785, 0.0,\n",
              "       0.15310302455421257, 0.12607512957032954, 0.1668956729183157,\n",
              "       0.12517175468873676, 0.1668956729183157, 0.12517175468873676,\n",
              "       0.37551526406621033, 0.2521502591406591, 0.08344783645915785,\n",
              "       0.08344783645915785, 0.12607512957032954, 0.12607512957032954,\n",
              "       0.29206742760705245, 0.08344783645915785, 0.12517175468873676,\n",
              "       0.1668956729183157, 0.0, 0.0, 0.1668956729183157,\n",
              "       0.08344783645915785, 0.12607512957032954, 0.2521502591406591,\n",
              "       0.1668956729183157, 0.29206742760705245, 0.08344783645915785,\n",
              "       0.08344783645915785, 0.0, 0.0, 0.08344783645915785,\n",
              "       0.12517175468873676, 0.0, 0.041723918229578924, 0.0, 0.0, 0.0, 0.0,\n",
              "       0.0, 0.0, 0.0, 0.0, 0.0, 0.0, 0.0, 0.0, 0.0, 0.0, 0.0, 0.0, 0.0,\n",
              "       0.0, 0.0, 0.0, 0.0, 0.0, 0.0, 0.0, 0.0, 0.0, 0.0, 0.0, 0.0, 0.0,\n",
              "       0.0, 0.0, 0.0, 0.0, 0.0, 0.0, 0.0, 0.0, 0.0, 0.0, 0.0, 0.0, 0.0,\n",
              "       0.0, 0.0, 0.0, 0.0, 0.0, 0.0, 0.0, 0.0, 0.0, 0.0, 0.0, 0.0, 0.0,\n",
              "       0.0, 0.0, 0.0, 0.0, 0.0, 0.0, 0.0, 0.0, 0.0, 0.0, 0.0, 0.0, 0.0,\n",
              "       0.0, 0.0, 0.0, 0.0, 0.0, 0.0, 0.0, 0.0, 0.0, 0.0, 0.0, 0.0, 0.0,\n",
              "       0.0, 0.0, 0.0, 0.0, 0.0, 0.0, 0.0, 0.0, 0.0, 0.0, 0.0, 0.0, 0.0,\n",
              "       0.0, 1.0, 0.0, 0.0, 0.0, 0.0, 0.0, 0.0], dtype=object)"
            ]
          },
          "metadata": {},
          "execution_count": 329
        }
      ]
    },
    {
      "cell_type": "code",
      "source": [
        "X_test_new = np.delete(X_test_new, 4, axis=1)"
      ],
      "metadata": {
        "id": "-ZQNFomlDEwy"
      },
      "execution_count": null,
      "outputs": []
    },
    {
      "cell_type": "code",
      "source": [
        "new_xt.shape"
      ],
      "metadata": {
        "colab": {
          "base_uri": "https://localhost:8080/"
        },
        "id": "RdmE789rBpKW",
        "outputId": "871e2452-abb6-4b11-c0b5-9e3b1d5fcdc8"
      },
      "execution_count": null,
      "outputs": [
        {
          "output_type": "execute_result",
          "data": {
            "text/plain": [
              "(76, 144)"
            ]
          },
          "metadata": {},
          "execution_count": 299
        }
      ]
    },
    {
      "cell_type": "code",
      "source": [
        "len(Y_test)"
      ],
      "metadata": {
        "colab": {
          "base_uri": "https://localhost:8080/"
        },
        "id": "ag30Il-ZAOxN",
        "outputId": "f46d6ea2-ea07-4032-a0f5-cc6e8ae4f419"
      },
      "execution_count": null,
      "outputs": [
        {
          "output_type": "execute_result",
          "data": {
            "text/plain": [
              "76"
            ]
          },
          "metadata": {},
          "execution_count": 286
        }
      ]
    },
    {
      "cell_type": "code",
      "source": [
        "X_test"
      ],
      "metadata": {
        "colab": {
          "base_uri": "https://localhost:8080/"
        },
        "id": "71pQRTdL_sVG",
        "outputId": "447220ff-4c9d-4c41-c1cd-981e963416d7"
      },
      "execution_count": null,
      "outputs": [
        {
          "output_type": "execute_result",
          "data": {
            "text/plain": [
              "array([[0.0, 0.0, 0.0, ..., 0.0, 0.0, 0.0],\n",
              "       [0, 1316040758, 'AR,EN,', ..., 0.0, 0.0, 0.0],\n",
              "       [0, 1316040758, 'AR,EN,', ..., 0.0, 0.6835954182319113, 0.0],\n",
              "       ...,\n",
              "       [1, 1429235843, 'EN,KI,SW,', ..., 0.0, 0.0, 0.0],\n",
              "       [1, 1429235843, 'EN,KI,SW,', ..., 0.0, 0.0, 0.0],\n",
              "       [1, 1429235843, 'EN,KI,SW,', ..., 0.0, 0.0, 0.0]], dtype=object)"
            ]
          },
          "metadata": {},
          "execution_count": 269
        }
      ]
    },
    {
      "cell_type": "code",
      "source": [
        "xt.shape"
      ],
      "metadata": {
        "colab": {
          "base_uri": "https://localhost:8080/"
        },
        "id": "4T-vk225AFUg",
        "outputId": "c47d0653-616e-4925-aa1b-4e3c1e14e97f"
      },
      "execution_count": null,
      "outputs": [
        {
          "output_type": "execute_result",
          "data": {
            "text/plain": [
              "(158, 144)"
            ]
          },
          "metadata": {},
          "execution_count": 297
        }
      ]
    },
    {
      "cell_type": "code",
      "source": [
        "X_test.shape"
      ],
      "metadata": {
        "colab": {
          "base_uri": "https://localhost:8080/"
        },
        "id": "Bg62nlKt_1lZ",
        "outputId": "0bcfe677-7759-4c20-a1f5-b315c6f787a7"
      },
      "execution_count": null,
      "outputs": [
        {
          "output_type": "execute_result",
          "data": {
            "text/plain": [
              "(158, 158)"
            ]
          },
          "metadata": {},
          "execution_count": 270
        }
      ]
    },
    {
      "cell_type": "code",
      "source": [
        "xt = X_test"
      ],
      "metadata": {
        "id": "V-2FER7M_xOL"
      },
      "execution_count": null,
      "outputs": []
    },
    {
      "cell_type": "code",
      "source": [
        "xt = np.delete(xt, 4, axis=1)"
      ],
      "metadata": {
        "id": "PfRXoZZl_8z2"
      },
      "execution_count": null,
      "outputs": []
    },
    {
      "cell_type": "code",
      "source": [
        "new_xt = xt[:76]"
      ],
      "metadata": {
        "id": "8Bp4PAi6BUvp"
      },
      "execution_count": null,
      "outputs": []
    },
    {
      "cell_type": "code",
      "source": [
        "array1 = np.array([[1, 2], [3, 4], [5, 6], [7, 8], [9, 10]])\n",
        "array1[:3]"
      ],
      "metadata": {
        "colab": {
          "base_uri": "https://localhost:8080/"
        },
        "id": "IitD7r-IAyc7",
        "outputId": "b8da3116-ab3c-4c21-f885-8d7f74f13585"
      },
      "execution_count": null,
      "outputs": [
        {
          "output_type": "execute_result",
          "data": {
            "text/plain": [
              "array([[1, 2],\n",
              "       [3, 4],\n",
              "       [5, 6]])"
            ]
          },
          "metadata": {},
          "execution_count": 296
        }
      ]
    },
    {
      "cell_type": "code",
      "source": [
        "xt[1]"
      ],
      "metadata": {
        "colab": {
          "base_uri": "https://localhost:8080/"
        },
        "id": "h3JLurgSAiR6",
        "outputId": "7ddb321a-5831-4b05-a0b4-ca777e8ff8c0"
      },
      "execution_count": null,
      "outputs": [
        {
          "output_type": "execute_result",
          "data": {
            "text/plain": [
              "array([0, 1316040758, 39, 2, 0.041723918229578924, 0.12517175468873676,\n",
              "       0.12517175468873676, 0.12517175468873676, 0.041723918229578924,\n",
              "       0.12607512957032954, 0.12607512957032954, 0.2086195911478946,\n",
              "       0.12517175468873676, 0.08344783645915785, 0.12607512957032954,\n",
              "       0.2086195911478946, 0.08344783645915785, 0.08344783645915785, 0.0,\n",
              "       0.15310302455421257, 0.12607512957032954, 0.1668956729183157,\n",
              "       0.12517175468873676, 0.1668956729183157, 0.12517175468873676,\n",
              "       0.37551526406621033, 0.2521502591406591, 0.08344783645915785,\n",
              "       0.08344783645915785, 0.12607512957032954, 0.12607512957032954,\n",
              "       0.29206742760705245, 0.08344783645915785, 0.12517175468873676,\n",
              "       0.1668956729183157, 0.0, 0.0, 0.1668956729183157,\n",
              "       0.08344783645915785, 0.12607512957032954, 0.2521502591406591,\n",
              "       0.1668956729183157, 0.29206742760705245, 0.08344783645915785,\n",
              "       0.08344783645915785, 0.0, 0.0, 0.08344783645915785,\n",
              "       0.12517175468873676, 0.0, 0.041723918229578924, 0.0, 0.0, 0.0, 0.0,\n",
              "       0.0, 0.0, 0.0, 0.0, 0.0, 0.0, 0.0, 0.0, 0.0, 0.0, 0.0, 0.0, 0.0,\n",
              "       0.0, 0.0, 0.0, 0.0, 0.0, 0.0, 0.0, 0.0, 0.0, 0.0, 0.0, 0.0, 0.0,\n",
              "       0.0, 0.0, 0.0, 0.0, 0.0, 0.0, 0.0, 0.0, 0.0, 0.0, 0.0, 0.0, 0.0,\n",
              "       0.0, 0.0, 0.0, 0.0, 0.0, 0.0, 0.0, 0.0, 0.0, 0.0, 0.0, 0.0, 0.0,\n",
              "       0.0, 0.0, 0.0, 0.0, 0.0, 0.0, 0.0, 0.0, 0.0, 0.0, 0.0, 0.0, 0.0,\n",
              "       0.0, 0.0, 0.0, 0.0, 0.0, 0.0, 0.0, 0.0, 0.0, 0.0, 0.0, 0.0, 0.0,\n",
              "       0.0, 0.0, 0.0, 0.0, 0.0, 0.0, 0.0, 0.0, 0.0, 0.0, 0.0],\n",
              "      dtype=object)"
            ]
          },
          "metadata": {},
          "execution_count": 295
        }
      ]
    },
    {
      "cell_type": "code",
      "source": [
        "Y.shape"
      ],
      "metadata": {
        "colab": {
          "base_uri": "https://localhost:8080/"
        },
        "id": "i16Q-2VR99Jb",
        "outputId": "c40dd2aa-32c7-4ffc-ee0e-8b2b1d7bd6cf"
      },
      "execution_count": null,
      "outputs": [
        {
          "output_type": "execute_result",
          "data": {
            "text/plain": [
              "(217, 148)"
            ]
          },
          "metadata": {},
          "execution_count": 263
        }
      ]
    },
    {
      "cell_type": "code",
      "source": [
        "X = Y.transpose()"
      ],
      "metadata": {
        "id": "oTWMUB4d_iql"
      },
      "execution_count": null,
      "outputs": []
    },
    {
      "cell_type": "code",
      "source": [
        "X.shape"
      ],
      "metadata": {
        "colab": {
          "base_uri": "https://localhost:8080/"
        },
        "id": "WQJ7oftb_l4V",
        "outputId": "ad7213e3-df39-4820-e074-9d08942d0232"
      },
      "execution_count": null,
      "outputs": [
        {
          "output_type": "execute_result",
          "data": {
            "text/plain": [
              "(148, 217)"
            ]
          },
          "metadata": {},
          "execution_count": 267
        }
      ]
    },
    {
      "cell_type": "code",
      "source": [
        "len(Y_train)"
      ],
      "metadata": {
        "colab": {
          "base_uri": "https://localhost:8080/"
        },
        "id": "DqGIUfwf-Cov",
        "outputId": "9043c227-0276-4601-a767-bb4b399d6acb"
      },
      "execution_count": null,
      "outputs": [
        {
          "output_type": "execute_result",
          "data": {
            "text/plain": [
              "148"
            ]
          },
          "metadata": {},
          "execution_count": 264
        }
      ]
    },
    {
      "cell_type": "code",
      "source": [
        "X_train"
      ],
      "metadata": {
        "colab": {
          "base_uri": "https://localhost:8080/"
        },
        "id": "E1N55KjB8NAu",
        "outputId": "7454b87b-42da-4086-b392-c24ef03855da"
      },
      "execution_count": null,
      "outputs": [
        {
          "output_type": "execute_result",
          "data": {
            "text/plain": [
              "array([[0.0, 0.0, 0.0, ..., 0.0, 0.0, 0.0],\n",
              "       [2, 1430094402, 'DE,EN,ES,ID,PT,RU,', ..., 0.0, 0.0, 0.0],\n",
              "       [2, 1430094402, 'DE,EN,ES,ID,PT,RU,', ..., 0.0, 0.0, 0.0],\n",
              "       ...,\n",
              "       [3, 1458049517, 'DE,EN,FR,RU,TR,', ..., 0.0, 0.0, 0.0],\n",
              "       [3, 1458049517, 'DE,EN,FR,RU,TR,', ..., 0.0, 0.0, 0.0],\n",
              "       [3, 1458049517, 'DE,EN,FR,RU,TR,', ..., 0.0, 0.0, 0.0]],\n",
              "      dtype=object)"
            ]
          },
          "metadata": {},
          "execution_count": 207
        }
      ]
    },
    {
      "cell_type": "code",
      "source": [
        "sp = X_train"
      ],
      "metadata": {
        "id": "A62nF7Ku8SOk"
      },
      "execution_count": null,
      "outputs": []
    },
    {
      "cell_type": "code",
      "source": [
        "sp"
      ],
      "metadata": {
        "colab": {
          "base_uri": "https://localhost:8080/"
        },
        "id": "xQujNNti8xpq",
        "outputId": "3f93be54-7485-421a-c66f-b6ddf726872e"
      },
      "execution_count": null,
      "outputs": [
        {
          "output_type": "execute_result",
          "data": {
            "text/plain": [
              "array([[0.0, 0.0, 0.0, ..., 0.0, 0.0, 0.0],\n",
              "       [2, 1430094402, 'DE,EN,ES,ID,PT,RU,', ..., 0.0, 0.0, 0.0],\n",
              "       [2, 1430094402, 'DE,EN,ES,ID,PT,RU,', ..., 0.0, 0.0, 0.0],\n",
              "       ...,\n",
              "       [3, 1458049517, 'DE,EN,FR,RU,TR,', ..., 0.0, 0.0, 0.0],\n",
              "       [3, 1458049517, 'DE,EN,FR,RU,TR,', ..., 0.0, 0.0, 0.0],\n",
              "       [3, 1458049517, 'DE,EN,FR,RU,TR,', ..., 0.0, 0.0, 0.0]],\n",
              "      dtype=object)"
            ]
          },
          "metadata": {},
          "execution_count": 229
        }
      ]
    },
    {
      "cell_type": "code",
      "source": [
        "sp.shape"
      ],
      "metadata": {
        "colab": {
          "base_uri": "https://localhost:8080/"
        },
        "id": "k_2qpVXA8yVi",
        "outputId": "e703b156-95f9-4e45-94b4-e4a709ff726d"
      },
      "execution_count": null,
      "outputs": [
        {
          "output_type": "execute_result",
          "data": {
            "text/plain": [
              "(217, 158)"
            ]
          },
          "metadata": {},
          "execution_count": 230
        }
      ]
    },
    {
      "cell_type": "code",
      "source": [
        "Y = np.delete(sp, 2, axis=1)"
      ],
      "metadata": {
        "id": "xFiDI5pc8zTP"
      },
      "execution_count": null,
      "outputs": []
    },
    {
      "cell_type": "code",
      "source": [
        "Y = np.delete(Y, 2, axis=1)"
      ],
      "metadata": {
        "id": "A6j34WCS9C_q"
      },
      "execution_count": null,
      "outputs": []
    },
    {
      "cell_type": "code",
      "source": [
        "Y = np.delete(Y, 148, axis=1)"
      ],
      "metadata": {
        "id": "FGNALs_n9ZYk"
      },
      "execution_count": null,
      "outputs": []
    },
    {
      "cell_type": "code",
      "source": [
        "Y[1]"
      ],
      "metadata": {
        "colab": {
          "base_uri": "https://localhost:8080/"
        },
        "id": "ly65dYTC9Dke",
        "outputId": "b91f3042-4768-48b9-fc79-13677d91d18b"
      },
      "execution_count": null,
      "outputs": [
        {
          "output_type": "execute_result",
          "data": {
            "text/plain": [
              "array([2, 1430094402, 33, 1, 0.16920418185882333, 0.16920418185882333,\n",
              "       0.16920418185882333, 0.22560557581176444, 0.16920418185882333, 0.0,\n",
              "       0.0, 0.22560557581176444, 0.11280278790588222, 0.11280278790588222,\n",
              "       0.0, 0.2820069697647055, 0.11280278790588222, 0.11280278790588222,\n",
              "       0.0, 0.2759480051946887, 0.0, 0.16920418185882333,\n",
              "       0.16920418185882333, 0.2820069697647055, 0.16920418185882333,\n",
              "       0.11280278790588222, 0.0, 0.11280278790588222, 0.11280278790588222,\n",
              "       0.0, 0.0, 0.11280278790588222, 0.11280278790588222,\n",
              "       0.16920418185882333, 0.16920418185882333, 0.13797400259734435,\n",
              "       0.13797400259734435, 0.11280278790588222, 0.11280278790588222, 0.0,\n",
              "       0.0, 0.22560557581176444, 0.11280278790588222, 0.11280278790588222,\n",
              "       0.16920418185882333, 0.20696100389601654, 0.13797400259734435,\n",
              "       0.16920418185882333, 0.16920418185882333, 0.0, 0.05640139395294111,\n",
              "       0.0, 0.0, 0.0, 0.0, 0.0, 0.0, 0.0, 0.0, 0.0, 0.0, 0.0, 0.0, 0.0,\n",
              "       0.0, 0.0, 0.0, 0.0, 0.0, 0.0, 0.0, 0.0, 0.0, 0.0, 0.0, 0.0, 0.0,\n",
              "       0.0, 0.0, 0.0, 0.0, 0.0, 0.0, 0.0, 0.0, 0.0, 0.0, 0.0, 0.0, 0.0,\n",
              "       0.0, 0.0, 0.0, 0.0, 0.0, 0.0, 0.0, 0.0, 0.0, 0.0, 0.0, 0.0, 0.0,\n",
              "       0.0, 0.0, 0.0, 0.0, 0.0, 0.0, 0.0, 0.0, 0.0, 0.0, 0.0, 0.0, 0.0,\n",
              "       0.0, 0.0, 0.0, 0.0, 0.0, 0.0, 0.0, 0.0, 0.0, 0.0, 0.0, 0.0, 0.0,\n",
              "       0.0, 0.0, 0.0, 0.0, 0.0, 0.0, 0.0, 0.0, 0.0, 0.0, 0.0, 0.0, 0.0,\n",
              "       0.0, 0.0, 0.0, 0.0, 0.0, 0.0], dtype=object)"
            ]
          },
          "metadata": {},
          "execution_count": 262
        }
      ]
    },
    {
      "cell_type": "code",
      "source": [],
      "metadata": {
        "id": "VDq2-yiz9KL2"
      },
      "execution_count": null,
      "outputs": []
    },
    {
      "cell_type": "code",
      "source": [
        "lr = LinearRegression()\n",
        "lr.fit(Xtrainnew, Y_train)\n",
        "y_pred = lr.predict(X_test_new)\n",
        "y_pred = [0 if i<0.5 else 1 for i in y_pred]\n",
        "show_result(Y_test, y_pred)"
      ],
      "metadata": {
        "colab": {
          "base_uri": "https://localhost:8080/"
        },
        "id": "IAWJuKab7QxP",
        "outputId": "9ff13095-f053-4960-981e-c867ed5fadf9"
      },
      "execution_count": null,
      "outputs": [
        {
          "output_type": "stream",
          "name": "stdout",
          "text": [
            "——————Test——————\n",
            "          class precision    recall  f1-score   support\n",
            "0             0    0.5067    1.0000    0.6726        38\n",
            "1             1    1.0000    0.0263    0.0513        38\n",
            "2      accuracy                        0.5132        76\n",
            "3     macro avg    0.7533    0.5132    0.3619        76\n",
            "4  weighted avg    0.7533    0.5132    0.3619        76\n",
            "5       overall       1.0  0.026316  0.051282  0.513158\n"
          ]
        }
      ]
    },
    {
      "cell_type": "code",
      "source": [
        "lr = LogisticRegression(max_iter=1000)\n",
        "lr.fit(Xtrainnew, Y_train)\n",
        "y_pred = lr.predict(X_test_new)\n",
        "show_result(Y_test, y_pred)"
      ],
      "metadata": {
        "colab": {
          "base_uri": "https://localhost:8080/"
        },
        "id": "GT8WGluiEVbx",
        "outputId": "a9b223d3-810b-4fde-e35c-d38e4c886c6f"
      },
      "execution_count": null,
      "outputs": [
        {
          "output_type": "stream",
          "name": "stdout",
          "text": [
            "——————Test——————\n",
            "          class precision    recall  f1-score   support\n",
            "0             0    0.5067    1.0000    0.6726        38\n",
            "1             1    1.0000    0.0263    0.0513        38\n",
            "2      accuracy                        0.5132        76\n",
            "3     macro avg    0.7533    0.5132    0.3619        76\n",
            "4  weighted avg    0.7533    0.5132    0.3619        76\n",
            "5       overall       1.0  0.026316  0.051282  0.513158\n"
          ]
        }
      ]
    },
    {
      "cell_type": "code",
      "source": [
        "nb = GaussianNB()\n",
        "nb.fit(Xtrainnew, Y_train)\n",
        "y_pred = nb.predict(X_test_new)\n",
        "show_result(Y_test, y_pred)"
      ],
      "metadata": {
        "colab": {
          "base_uri": "https://localhost:8080/"
        },
        "id": "miRopIYiEnA5",
        "outputId": "4a9445e5-fe96-4236-b78c-65180e548a4e"
      },
      "execution_count": null,
      "outputs": [
        {
          "output_type": "stream",
          "name": "stdout",
          "text": [
            "——————Test——————\n",
            "          class precision    recall  f1-score   support\n",
            "0             0    0.6744    0.7632    0.7160        38\n",
            "1             1    0.7273    0.6316    0.6761        38\n",
            "2      accuracy                        0.6974        76\n",
            "3     macro avg    0.7008    0.6974    0.6961        76\n",
            "4  weighted avg    0.7008    0.6974    0.6961        76\n",
            "5       overall  0.727273  0.631579  0.676056  0.697368\n"
          ]
        }
      ]
    },
    {
      "cell_type": "code",
      "source": [
        "dt = DecisionTreeClassifier()\n",
        "dt.fit(Xtrainnew, Y_train)\n",
        "y_pred = dt.predict(X_test_new)\n",
        "show_result(Y_test, y_pred)"
      ],
      "metadata": {
        "colab": {
          "base_uri": "https://localhost:8080/"
        },
        "id": "oH2_8KBpE8Jg",
        "outputId": "eab7fd5a-94ba-41e7-a852-3c2c5149077f"
      },
      "execution_count": null,
      "outputs": [
        {
          "output_type": "stream",
          "name": "stdout",
          "text": [
            "——————Test——————\n",
            "          class precision    recall f1-score   support\n",
            "0             0    0.5882    0.5263   0.5556        38\n",
            "1             1    0.5714    0.6316   0.6000        38\n",
            "2      accuracy                       0.5789        76\n",
            "3     macro avg    0.5798    0.5789   0.5778        76\n",
            "4  weighted avg    0.5798    0.5789   0.5778        76\n",
            "5       overall  0.571429  0.631579      0.6  0.578947\n"
          ]
        }
      ]
    },
    {
      "cell_type": "code",
      "source": [
        "rf = RandomForestClassifier()\n",
        "rf.fit(Xtrainnew, Y_train)\n",
        "y_pred = rf.predict(X_test_new)\n",
        "show_result(Y_test, y_pred)"
      ],
      "metadata": {
        "colab": {
          "base_uri": "https://localhost:8080/"
        },
        "id": "LQC4TqMFFHpB",
        "outputId": "d4605c2c-c3fb-4306-a607-52b1c96fbee1"
      },
      "execution_count": null,
      "outputs": [
        {
          "output_type": "stream",
          "name": "stdout",
          "text": [
            "——————Test——————\n",
            "          class precision    recall  f1-score   support\n",
            "0             0    0.4167    0.2632    0.3226        38\n",
            "1             1    0.4615    0.6316    0.5333        38\n",
            "2      accuracy                        0.4474        76\n",
            "3     macro avg    0.4391    0.4474    0.4280        76\n",
            "4  weighted avg    0.4391    0.4474    0.4280        76\n",
            "5       overall  0.461538  0.631579  0.533333  0.447368\n"
          ]
        }
      ]
    },
    {
      "cell_type": "code",
      "source": [
        "Xtrainnew = np.load(\"X_train.npy\")\n",
        "Y_train = np.load(\"Y_train.npy\")\n",
        "X_test_new= np.load(\"X_test.npy\")\n",
        "Y_test = np.load(\"Y_test.npy\")"
      ],
      "metadata": {
        "colab": {
          "base_uri": "https://localhost:8080/",
          "height": 388
        },
        "id": "ElhMg5jvFRZk",
        "outputId": "1cf5c600-f079-4295-c552-ae7cb1e60447"
      },
      "execution_count": null,
      "outputs": [
        {
          "output_type": "error",
          "ename": "TypeError",
          "evalue": "ignored",
          "traceback": [
            "\u001b[0;31m---------------------------------------------------------------------------\u001b[0m",
            "\u001b[0;31mTypeError\u001b[0m                                 Traceback (most recent call last)",
            "\u001b[0;32m<ipython-input-340-aea23c15387c>\u001b[0m in \u001b[0;36m<cell line: 1>\u001b[0;34m()\u001b[0m\n\u001b[0;32m----> 1\u001b[0;31m \u001b[0mXtrainnew\u001b[0m \u001b[0;34m=\u001b[0m \u001b[0mnp\u001b[0m\u001b[0;34m.\u001b[0m\u001b[0mload\u001b[0m\u001b[0;34m(\u001b[0m\u001b[0;34m\"X_train.npy\"\u001b[0m\u001b[0;34m)\u001b[0m\u001b[0;34m\u001b[0m\u001b[0;34m\u001b[0m\u001b[0m\n\u001b[0m\u001b[1;32m      2\u001b[0m \u001b[0mY_train\u001b[0m \u001b[0;34m=\u001b[0m \u001b[0mnp\u001b[0m\u001b[0;34m.\u001b[0m\u001b[0mload\u001b[0m\u001b[0;34m(\u001b[0m\u001b[0;34m\"Y_train.npy\"\u001b[0m\u001b[0;34m)\u001b[0m\u001b[0;34m\u001b[0m\u001b[0;34m\u001b[0m\u001b[0m\n\u001b[1;32m      3\u001b[0m \u001b[0mX_test_new\u001b[0m\u001b[0;34m=\u001b[0m \u001b[0mnp\u001b[0m\u001b[0;34m.\u001b[0m\u001b[0mload\u001b[0m\u001b[0;34m(\u001b[0m\u001b[0;34m\"X_test.npy\"\u001b[0m\u001b[0;34m)\u001b[0m\u001b[0;34m\u001b[0m\u001b[0;34m\u001b[0m\u001b[0m\n\u001b[1;32m      4\u001b[0m \u001b[0mY_test\u001b[0m \u001b[0;34m=\u001b[0m \u001b[0mnp\u001b[0m\u001b[0;34m.\u001b[0m\u001b[0mload\u001b[0m\u001b[0;34m(\u001b[0m\u001b[0;34m\"Y_test.npy\"\u001b[0m\u001b[0;34m)\u001b[0m\u001b[0;34m\u001b[0m\u001b[0;34m\u001b[0m\u001b[0m\n",
            "\u001b[0;32m<ipython-input-203-213126667daf>\u001b[0m in \u001b[0;36m<lambda>\u001b[0;34m(*a, **k)\u001b[0m\n\u001b[1;32m      4\u001b[0m \u001b[0;34m\u001b[0m\u001b[0m\n\u001b[1;32m      5\u001b[0m \u001b[0;31m# modify the default parameters of np.load\u001b[0m\u001b[0;34m\u001b[0m\u001b[0;34m\u001b[0m\u001b[0m\n\u001b[0;32m----> 6\u001b[0;31m \u001b[0mnp\u001b[0m\u001b[0;34m.\u001b[0m\u001b[0mload\u001b[0m \u001b[0;34m=\u001b[0m \u001b[0;32mlambda\u001b[0m \u001b[0;34m*\u001b[0m\u001b[0ma\u001b[0m\u001b[0;34m,\u001b[0m\u001b[0;34m**\u001b[0m\u001b[0mk\u001b[0m\u001b[0;34m:\u001b[0m \u001b[0mnp_load_old\u001b[0m\u001b[0;34m(\u001b[0m\u001b[0;34m*\u001b[0m\u001b[0ma\u001b[0m\u001b[0;34m,\u001b[0m \u001b[0mallow_pickle\u001b[0m\u001b[0;34m=\u001b[0m\u001b[0;32mTrue\u001b[0m\u001b[0;34m,\u001b[0m \u001b[0;34m**\u001b[0m\u001b[0mk\u001b[0m\u001b[0;34m)\u001b[0m\u001b[0;34m\u001b[0m\u001b[0;34m\u001b[0m\u001b[0m\n\u001b[0m\u001b[1;32m      7\u001b[0m \u001b[0;34m\u001b[0m\u001b[0m\n\u001b[1;32m      8\u001b[0m \u001b[0;31m# call load_data with allow_pickle implicitly set to true\u001b[0m\u001b[0;34m\u001b[0m\u001b[0;34m\u001b[0m\u001b[0m\n",
            "\u001b[0;32m<ipython-input-202-798dcb78b670>\u001b[0m in \u001b[0;36m<lambda>\u001b[0;34m(*a, **k)\u001b[0m\n\u001b[1;32m      4\u001b[0m \u001b[0;34m\u001b[0m\u001b[0m\n\u001b[1;32m      5\u001b[0m \u001b[0;31m# modify the default parameters of np.load\u001b[0m\u001b[0;34m\u001b[0m\u001b[0;34m\u001b[0m\u001b[0m\n\u001b[0;32m----> 6\u001b[0;31m \u001b[0mnp\u001b[0m\u001b[0;34m.\u001b[0m\u001b[0mload\u001b[0m \u001b[0;34m=\u001b[0m \u001b[0;32mlambda\u001b[0m \u001b[0;34m*\u001b[0m\u001b[0ma\u001b[0m\u001b[0;34m,\u001b[0m\u001b[0;34m**\u001b[0m\u001b[0mk\u001b[0m\u001b[0;34m:\u001b[0m \u001b[0mnp_load_old\u001b[0m\u001b[0;34m(\u001b[0m\u001b[0;34m*\u001b[0m\u001b[0ma\u001b[0m\u001b[0;34m,\u001b[0m \u001b[0mallow_pickle\u001b[0m\u001b[0;34m=\u001b[0m\u001b[0;32mTrue\u001b[0m\u001b[0;34m,\u001b[0m \u001b[0;34m**\u001b[0m\u001b[0mk\u001b[0m\u001b[0;34m)\u001b[0m\u001b[0;34m\u001b[0m\u001b[0;34m\u001b[0m\u001b[0m\n\u001b[0m\u001b[1;32m      7\u001b[0m \u001b[0;34m\u001b[0m\u001b[0m\n\u001b[1;32m      8\u001b[0m \u001b[0;31m# call load_data with allow_pickle implicitly set to true\u001b[0m\u001b[0;34m\u001b[0m\u001b[0;34m\u001b[0m\u001b[0m\n",
            "\u001b[0;31mTypeError\u001b[0m: __main__.<lambda>() got multiple values for keyword argument 'allow_pickle'"
          ]
        }
      ]
    },
    {
      "cell_type": "code",
      "source": [
        "np.save(\"X_train.npy\",Xtrainnew[1:,])\n",
        "np.save(\"Y_train.npy\",np.array(Y_train))\n",
        "np.save(\"X_test.npy\",X_test_new[1:,])\n",
        "np.save(\"Y_test.npy\",np.array(Y_test))\n"
      ],
      "metadata": {
        "id": "EPAPkOkRFlG2"
      },
      "execution_count": null,
      "outputs": []
    },
    {
      "cell_type": "code",
      "source": [
        "pd.DataFrame(Xtrainnew).to_csv(\"X_train.csv\")\n",
        "pd.DataFrame(Y_train).to_csv(\"Y_train.csv\")\n",
        "pd.DataFrame(X_test_new).to_csv(\"X_test.csv\")\n",
        "pd.DataFrame(Y_test).to_csv(\"Y_test.csv\")"
      ],
      "metadata": {
        "id": "10ZF678-F4-w"
      },
      "execution_count": null,
      "outputs": []
    },
    {
      "cell_type": "code",
      "source": [],
      "metadata": {
        "id": "XRYyFVr_Gunb"
      },
      "execution_count": null,
      "outputs": []
    }
  ]
}
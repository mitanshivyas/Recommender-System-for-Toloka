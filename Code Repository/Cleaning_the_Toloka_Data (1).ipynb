{
  "nbformat": 4,
  "nbformat_minor": 0,
  "metadata": {
    "colab": {
      "provenance": []
    },
    "kernelspec": {
      "name": "python3",
      "display_name": "Python 3"
    },
    "language_info": {
      "name": "python"
    }
  },
  "cells": [
    {
      "cell_type": "markdown",
      "source": [
        "# Loading and Cleaning the Toloka Data"
      ],
      "metadata": {
        "id": "NemFDHUMxdyH"
      }
    },
    {
      "cell_type": "code",
      "execution_count": null,
      "metadata": {
        "id": "SfcThDM4NVqJ"
      },
      "outputs": [],
      "source": [
        "import pandas as pd\n",
        "import io"
      ]
    },
    {
      "cell_type": "code",
      "source": [
        "from google.colab import files\n",
        "uploaded = files.upload()"
      ],
      "metadata": {
        "colab": {
          "base_uri": "https://localhost:8080/",
          "height": 73
        },
        "id": "r3hLb22QPfD8",
        "outputId": "34e59f8d-2d35-4ae3-b93b-90c61b1eebe5"
      },
      "execution_count": null,
      "outputs": [
        {
          "output_type": "display_data",
          "data": {
            "text/plain": [
              "<IPython.core.display.HTML object>"
            ],
            "text/html": [
              "\n",
              "     <input type=\"file\" id=\"files-a0b2c76b-5b24-43a7-b4d3-c0cd08c4b2d0\" name=\"files[]\" multiple disabled\n",
              "        style=\"border:none\" />\n",
              "     <output id=\"result-a0b2c76b-5b24-43a7-b4d3-c0cd08c4b2d0\">\n",
              "      Upload widget is only available when the cell has been executed in the\n",
              "      current browser session. Please rerun this cell to enable.\n",
              "      </output>\n",
              "      <script>// Copyright 2017 Google LLC\n",
              "//\n",
              "// Licensed under the Apache License, Version 2.0 (the \"License\");\n",
              "// you may not use this file except in compliance with the License.\n",
              "// You may obtain a copy of the License at\n",
              "//\n",
              "//      http://www.apache.org/licenses/LICENSE-2.0\n",
              "//\n",
              "// Unless required by applicable law or agreed to in writing, software\n",
              "// distributed under the License is distributed on an \"AS IS\" BASIS,\n",
              "// WITHOUT WARRANTIES OR CONDITIONS OF ANY KIND, either express or implied.\n",
              "// See the License for the specific language governing permissions and\n",
              "// limitations under the License.\n",
              "\n",
              "/**\n",
              " * @fileoverview Helpers for google.colab Python module.\n",
              " */\n",
              "(function(scope) {\n",
              "function span(text, styleAttributes = {}) {\n",
              "  const element = document.createElement('span');\n",
              "  element.textContent = text;\n",
              "  for (const key of Object.keys(styleAttributes)) {\n",
              "    element.style[key] = styleAttributes[key];\n",
              "  }\n",
              "  return element;\n",
              "}\n",
              "\n",
              "// Max number of bytes which will be uploaded at a time.\n",
              "const MAX_PAYLOAD_SIZE = 100 * 1024;\n",
              "\n",
              "function _uploadFiles(inputId, outputId) {\n",
              "  const steps = uploadFilesStep(inputId, outputId);\n",
              "  const outputElement = document.getElementById(outputId);\n",
              "  // Cache steps on the outputElement to make it available for the next call\n",
              "  // to uploadFilesContinue from Python.\n",
              "  outputElement.steps = steps;\n",
              "\n",
              "  return _uploadFilesContinue(outputId);\n",
              "}\n",
              "\n",
              "// This is roughly an async generator (not supported in the browser yet),\n",
              "// where there are multiple asynchronous steps and the Python side is going\n",
              "// to poll for completion of each step.\n",
              "// This uses a Promise to block the python side on completion of each step,\n",
              "// then passes the result of the previous step as the input to the next step.\n",
              "function _uploadFilesContinue(outputId) {\n",
              "  const outputElement = document.getElementById(outputId);\n",
              "  const steps = outputElement.steps;\n",
              "\n",
              "  const next = steps.next(outputElement.lastPromiseValue);\n",
              "  return Promise.resolve(next.value.promise).then((value) => {\n",
              "    // Cache the last promise value to make it available to the next\n",
              "    // step of the generator.\n",
              "    outputElement.lastPromiseValue = value;\n",
              "    return next.value.response;\n",
              "  });\n",
              "}\n",
              "\n",
              "/**\n",
              " * Generator function which is called between each async step of the upload\n",
              " * process.\n",
              " * @param {string} inputId Element ID of the input file picker element.\n",
              " * @param {string} outputId Element ID of the output display.\n",
              " * @return {!Iterable<!Object>} Iterable of next steps.\n",
              " */\n",
              "function* uploadFilesStep(inputId, outputId) {\n",
              "  const inputElement = document.getElementById(inputId);\n",
              "  inputElement.disabled = false;\n",
              "\n",
              "  const outputElement = document.getElementById(outputId);\n",
              "  outputElement.innerHTML = '';\n",
              "\n",
              "  const pickedPromise = new Promise((resolve) => {\n",
              "    inputElement.addEventListener('change', (e) => {\n",
              "      resolve(e.target.files);\n",
              "    });\n",
              "  });\n",
              "\n",
              "  const cancel = document.createElement('button');\n",
              "  inputElement.parentElement.appendChild(cancel);\n",
              "  cancel.textContent = 'Cancel upload';\n",
              "  const cancelPromise = new Promise((resolve) => {\n",
              "    cancel.onclick = () => {\n",
              "      resolve(null);\n",
              "    };\n",
              "  });\n",
              "\n",
              "  // Wait for the user to pick the files.\n",
              "  const files = yield {\n",
              "    promise: Promise.race([pickedPromise, cancelPromise]),\n",
              "    response: {\n",
              "      action: 'starting',\n",
              "    }\n",
              "  };\n",
              "\n",
              "  cancel.remove();\n",
              "\n",
              "  // Disable the input element since further picks are not allowed.\n",
              "  inputElement.disabled = true;\n",
              "\n",
              "  if (!files) {\n",
              "    return {\n",
              "      response: {\n",
              "        action: 'complete',\n",
              "      }\n",
              "    };\n",
              "  }\n",
              "\n",
              "  for (const file of files) {\n",
              "    const li = document.createElement('li');\n",
              "    li.append(span(file.name, {fontWeight: 'bold'}));\n",
              "    li.append(span(\n",
              "        `(${file.type || 'n/a'}) - ${file.size} bytes, ` +\n",
              "        `last modified: ${\n",
              "            file.lastModifiedDate ? file.lastModifiedDate.toLocaleDateString() :\n",
              "                                    'n/a'} - `));\n",
              "    const percent = span('0% done');\n",
              "    li.appendChild(percent);\n",
              "\n",
              "    outputElement.appendChild(li);\n",
              "\n",
              "    const fileDataPromise = new Promise((resolve) => {\n",
              "      const reader = new FileReader();\n",
              "      reader.onload = (e) => {\n",
              "        resolve(e.target.result);\n",
              "      };\n",
              "      reader.readAsArrayBuffer(file);\n",
              "    });\n",
              "    // Wait for the data to be ready.\n",
              "    let fileData = yield {\n",
              "      promise: fileDataPromise,\n",
              "      response: {\n",
              "        action: 'continue',\n",
              "      }\n",
              "    };\n",
              "\n",
              "    // Use a chunked sending to avoid message size limits. See b/62115660.\n",
              "    let position = 0;\n",
              "    do {\n",
              "      const length = Math.min(fileData.byteLength - position, MAX_PAYLOAD_SIZE);\n",
              "      const chunk = new Uint8Array(fileData, position, length);\n",
              "      position += length;\n",
              "\n",
              "      const base64 = btoa(String.fromCharCode.apply(null, chunk));\n",
              "      yield {\n",
              "        response: {\n",
              "          action: 'append',\n",
              "          file: file.name,\n",
              "          data: base64,\n",
              "        },\n",
              "      };\n",
              "\n",
              "      let percentDone = fileData.byteLength === 0 ?\n",
              "          100 :\n",
              "          Math.round((position / fileData.byteLength) * 100);\n",
              "      percent.textContent = `${percentDone}% done`;\n",
              "\n",
              "    } while (position < fileData.byteLength);\n",
              "  }\n",
              "\n",
              "  // All done.\n",
              "  yield {\n",
              "    response: {\n",
              "      action: 'complete',\n",
              "    }\n",
              "  };\n",
              "}\n",
              "\n",
              "scope.google = scope.google || {};\n",
              "scope.google.colab = scope.google.colab || {};\n",
              "scope.google.colab._files = {\n",
              "  _uploadFiles,\n",
              "  _uploadFilesContinue,\n",
              "};\n",
              "})(self);\n",
              "</script> "
            ]
          },
          "metadata": {}
        },
        {
          "output_type": "stream",
          "name": "stdout",
          "text": [
            "Saving new_df2.csv to new_df2.csv\n"
          ]
        }
      ]
    },
    {
      "cell_type": "code",
      "source": [
        "df = pd.read_csv(io.BytesIO(uploaded['new_df2.csv']))"
      ],
      "metadata": {
        "id": "AwLnKk97OXQd"
      },
      "execution_count": null,
      "outputs": []
    },
    {
      "cell_type": "code",
      "source": [
        "df.head()"
      ],
      "metadata": {
        "colab": {
          "base_uri": "https://localhost:8080/",
          "height": 595
        },
        "id": "SIk8G1IwP6Ow",
        "outputId": "0cb075dd-f5c7-41cf-a2b5-6de80ae3edd0"
      },
      "execution_count": null,
      "outputs": [
        {
          "output_type": "execute_result",
          "data": {
            "text/plain": [
              "   Unnamed: 0                                           title  project_id  \\\n",
              "0           0                   [Toloka] English Grammar Test      105273   \n",
              "1           1                   [Toloka] English Grammar Test      105273   \n",
              "2           2       [Toloka] Prueba de comprensión de español       62518   \n",
              "3           3                    Page relevance (new version)       81714   \n",
              "4           4  Is the image a good picture of the zoo animal?       84339   \n",
              "\n",
              "   adult_content lang                                        description  \\\n",
              "0            0.0   EN  Take the test and get more paid tasks.\\nAfter ...   \n",
              "1            0.0   EN  Take the test and get more paid tasks.\\nAfter ...   \n",
              "2            0.0   EN  Haz la prueba y recibe más tareas pagadas.\\nSi...   \n",
              "3            0.0  NaN  Passing the exam with a good quality opens the...   \n",
              "4            1.0   EN  Please judge if the image is showing a correct...   \n",
              "\n",
              "   instructions_flag                      requester_id  \\\n",
              "0                1.0  71daea4cffae4488067aebfb6583914a   \n",
              "1                1.0  71daea4cffae4488067aebfb6583914a   \n",
              "2                0.0  71daea4cffae4488067aebfb6583914a   \n",
              "3                1.0  0f3f3a1c8053bf6128f7a3b730e9162c   \n",
              "4                1.0  e134d662550bd2d2176b4f3e515f6e23   \n",
              "\n",
              "   requester_trusted_flag  project_stat  ...  moneyMax3     pool_id  \\\n",
              "0                     0.0          4.75  ...        NaN  36185755.0   \n",
              "1                     0.0          4.75  ...        NaN  36185755.0   \n",
              "2                     0.0          4.50  ...        NaN  35994576.0   \n",
              "3                     1.0          4.39  ...       0.31  33608621.0   \n",
              "4                     0.0          4.57  ...        NaN  32387125.0   \n",
              "\n",
              "            pool_started_at  acceptance_period       user_id  \\\n",
              "0   2022-11-03T19:07:12.911                NaN  1.699066e+09   \n",
              "1  2022-11-03T19:07:13.000Z                NaN  1.699066e+09   \n",
              "2  2022-10-22T06:38:00.000Z                NaN  1.699066e+09   \n",
              "3  2022-05-27T08:40:05.000Z                NaN  1.699066e+09   \n",
              "4  2022-03-15T21:21:42.000Z                NaN  1.699066e+09   \n",
              "\n",
              "  task_attempted_flag  country  user_language                 birth_day  \\\n",
              "0                True       US             EN  2000-07-07T00:00:00.000Z   \n",
              "1                True       US             EN  2000-07-07T00:00:00.000Z   \n",
              "2                True       US             EN  2000-07-07T00:00:00.000Z   \n",
              "3                True       US             EN  2000-07-07T00:00:00.000Z   \n",
              "4                True       US             EN  2000-07-07T00:00:00.000Z   \n",
              "\n",
              "                     joined  \n",
              "0  2022-10-11T00:00:00.000Z  \n",
              "1  2022-10-11T00:00:00.000Z  \n",
              "2  2022-10-11T00:00:00.000Z  \n",
              "3  2022-10-11T00:00:00.000Z  \n",
              "4  2022-10-11T00:00:00.000Z  \n",
              "\n",
              "[5 rows x 23 columns]"
            ],
            "text/html": [
              "\n",
              "  <div id=\"df-9e166847-46b1-4183-baa6-45a7ff0620ef\">\n",
              "    <div class=\"colab-df-container\">\n",
              "      <div>\n",
              "<style scoped>\n",
              "    .dataframe tbody tr th:only-of-type {\n",
              "        vertical-align: middle;\n",
              "    }\n",
              "\n",
              "    .dataframe tbody tr th {\n",
              "        vertical-align: top;\n",
              "    }\n",
              "\n",
              "    .dataframe thead th {\n",
              "        text-align: right;\n",
              "    }\n",
              "</style>\n",
              "<table border=\"1\" class=\"dataframe\">\n",
              "  <thead>\n",
              "    <tr style=\"text-align: right;\">\n",
              "      <th></th>\n",
              "      <th>Unnamed: 0</th>\n",
              "      <th>title</th>\n",
              "      <th>project_id</th>\n",
              "      <th>adult_content</th>\n",
              "      <th>lang</th>\n",
              "      <th>description</th>\n",
              "      <th>instructions_flag</th>\n",
              "      <th>requester_id</th>\n",
              "      <th>requester_trusted_flag</th>\n",
              "      <th>project_stat</th>\n",
              "      <th>...</th>\n",
              "      <th>moneyMax3</th>\n",
              "      <th>pool_id</th>\n",
              "      <th>pool_started_at</th>\n",
              "      <th>acceptance_period</th>\n",
              "      <th>user_id</th>\n",
              "      <th>task_attempted_flag</th>\n",
              "      <th>country</th>\n",
              "      <th>user_language</th>\n",
              "      <th>birth_day</th>\n",
              "      <th>joined</th>\n",
              "    </tr>\n",
              "  </thead>\n",
              "  <tbody>\n",
              "    <tr>\n",
              "      <th>0</th>\n",
              "      <td>0</td>\n",
              "      <td>[Toloka] English Grammar Test</td>\n",
              "      <td>105273</td>\n",
              "      <td>0.0</td>\n",
              "      <td>EN</td>\n",
              "      <td>Take the test and get more paid tasks.\\nAfter ...</td>\n",
              "      <td>1.0</td>\n",
              "      <td>71daea4cffae4488067aebfb6583914a</td>\n",
              "      <td>0.0</td>\n",
              "      <td>4.75</td>\n",
              "      <td>...</td>\n",
              "      <td>NaN</td>\n",
              "      <td>36185755.0</td>\n",
              "      <td>2022-11-03T19:07:12.911</td>\n",
              "      <td>NaN</td>\n",
              "      <td>1.699066e+09</td>\n",
              "      <td>True</td>\n",
              "      <td>US</td>\n",
              "      <td>EN</td>\n",
              "      <td>2000-07-07T00:00:00.000Z</td>\n",
              "      <td>2022-10-11T00:00:00.000Z</td>\n",
              "    </tr>\n",
              "    <tr>\n",
              "      <th>1</th>\n",
              "      <td>1</td>\n",
              "      <td>[Toloka] English Grammar Test</td>\n",
              "      <td>105273</td>\n",
              "      <td>0.0</td>\n",
              "      <td>EN</td>\n",
              "      <td>Take the test and get more paid tasks.\\nAfter ...</td>\n",
              "      <td>1.0</td>\n",
              "      <td>71daea4cffae4488067aebfb6583914a</td>\n",
              "      <td>0.0</td>\n",
              "      <td>4.75</td>\n",
              "      <td>...</td>\n",
              "      <td>NaN</td>\n",
              "      <td>36185755.0</td>\n",
              "      <td>2022-11-03T19:07:13.000Z</td>\n",
              "      <td>NaN</td>\n",
              "      <td>1.699066e+09</td>\n",
              "      <td>True</td>\n",
              "      <td>US</td>\n",
              "      <td>EN</td>\n",
              "      <td>2000-07-07T00:00:00.000Z</td>\n",
              "      <td>2022-10-11T00:00:00.000Z</td>\n",
              "    </tr>\n",
              "    <tr>\n",
              "      <th>2</th>\n",
              "      <td>2</td>\n",
              "      <td>[Toloka] Prueba de comprensión de español</td>\n",
              "      <td>62518</td>\n",
              "      <td>0.0</td>\n",
              "      <td>EN</td>\n",
              "      <td>Haz la prueba y recibe más tareas pagadas.\\nSi...</td>\n",
              "      <td>0.0</td>\n",
              "      <td>71daea4cffae4488067aebfb6583914a</td>\n",
              "      <td>0.0</td>\n",
              "      <td>4.50</td>\n",
              "      <td>...</td>\n",
              "      <td>NaN</td>\n",
              "      <td>35994576.0</td>\n",
              "      <td>2022-10-22T06:38:00.000Z</td>\n",
              "      <td>NaN</td>\n",
              "      <td>1.699066e+09</td>\n",
              "      <td>True</td>\n",
              "      <td>US</td>\n",
              "      <td>EN</td>\n",
              "      <td>2000-07-07T00:00:00.000Z</td>\n",
              "      <td>2022-10-11T00:00:00.000Z</td>\n",
              "    </tr>\n",
              "    <tr>\n",
              "      <th>3</th>\n",
              "      <td>3</td>\n",
              "      <td>Page relevance (new version)</td>\n",
              "      <td>81714</td>\n",
              "      <td>0.0</td>\n",
              "      <td>NaN</td>\n",
              "      <td>Passing the exam with a good quality opens the...</td>\n",
              "      <td>1.0</td>\n",
              "      <td>0f3f3a1c8053bf6128f7a3b730e9162c</td>\n",
              "      <td>1.0</td>\n",
              "      <td>4.39</td>\n",
              "      <td>...</td>\n",
              "      <td>0.31</td>\n",
              "      <td>33608621.0</td>\n",
              "      <td>2022-05-27T08:40:05.000Z</td>\n",
              "      <td>NaN</td>\n",
              "      <td>1.699066e+09</td>\n",
              "      <td>True</td>\n",
              "      <td>US</td>\n",
              "      <td>EN</td>\n",
              "      <td>2000-07-07T00:00:00.000Z</td>\n",
              "      <td>2022-10-11T00:00:00.000Z</td>\n",
              "    </tr>\n",
              "    <tr>\n",
              "      <th>4</th>\n",
              "      <td>4</td>\n",
              "      <td>Is the image a good picture of the zoo animal?</td>\n",
              "      <td>84339</td>\n",
              "      <td>1.0</td>\n",
              "      <td>EN</td>\n",
              "      <td>Please judge if the image is showing a correct...</td>\n",
              "      <td>1.0</td>\n",
              "      <td>e134d662550bd2d2176b4f3e515f6e23</td>\n",
              "      <td>0.0</td>\n",
              "      <td>4.57</td>\n",
              "      <td>...</td>\n",
              "      <td>NaN</td>\n",
              "      <td>32387125.0</td>\n",
              "      <td>2022-03-15T21:21:42.000Z</td>\n",
              "      <td>NaN</td>\n",
              "      <td>1.699066e+09</td>\n",
              "      <td>True</td>\n",
              "      <td>US</td>\n",
              "      <td>EN</td>\n",
              "      <td>2000-07-07T00:00:00.000Z</td>\n",
              "      <td>2022-10-11T00:00:00.000Z</td>\n",
              "    </tr>\n",
              "  </tbody>\n",
              "</table>\n",
              "<p>5 rows × 23 columns</p>\n",
              "</div>\n",
              "      <button class=\"colab-df-convert\" onclick=\"convertToInteractive('df-9e166847-46b1-4183-baa6-45a7ff0620ef')\"\n",
              "              title=\"Convert this dataframe to an interactive table.\"\n",
              "              style=\"display:none;\">\n",
              "        \n",
              "  <svg xmlns=\"http://www.w3.org/2000/svg\" height=\"24px\"viewBox=\"0 0 24 24\"\n",
              "       width=\"24px\">\n",
              "    <path d=\"M0 0h24v24H0V0z\" fill=\"none\"/>\n",
              "    <path d=\"M18.56 5.44l.94 2.06.94-2.06 2.06-.94-2.06-.94-.94-2.06-.94 2.06-2.06.94zm-11 1L8.5 8.5l.94-2.06 2.06-.94-2.06-.94L8.5 2.5l-.94 2.06-2.06.94zm10 10l.94 2.06.94-2.06 2.06-.94-2.06-.94-.94-2.06-.94 2.06-2.06.94z\"/><path d=\"M17.41 7.96l-1.37-1.37c-.4-.4-.92-.59-1.43-.59-.52 0-1.04.2-1.43.59L10.3 9.45l-7.72 7.72c-.78.78-.78 2.05 0 2.83L4 21.41c.39.39.9.59 1.41.59.51 0 1.02-.2 1.41-.59l7.78-7.78 2.81-2.81c.8-.78.8-2.07 0-2.86zM5.41 20L4 18.59l7.72-7.72 1.47 1.35L5.41 20z\"/>\n",
              "  </svg>\n",
              "      </button>\n",
              "      \n",
              "  <style>\n",
              "    .colab-df-container {\n",
              "      display:flex;\n",
              "      flex-wrap:wrap;\n",
              "      gap: 12px;\n",
              "    }\n",
              "\n",
              "    .colab-df-convert {\n",
              "      background-color: #E8F0FE;\n",
              "      border: none;\n",
              "      border-radius: 50%;\n",
              "      cursor: pointer;\n",
              "      display: none;\n",
              "      fill: #1967D2;\n",
              "      height: 32px;\n",
              "      padding: 0 0 0 0;\n",
              "      width: 32px;\n",
              "    }\n",
              "\n",
              "    .colab-df-convert:hover {\n",
              "      background-color: #E2EBFA;\n",
              "      box-shadow: 0px 1px 2px rgba(60, 64, 67, 0.3), 0px 1px 3px 1px rgba(60, 64, 67, 0.15);\n",
              "      fill: #174EA6;\n",
              "    }\n",
              "\n",
              "    [theme=dark] .colab-df-convert {\n",
              "      background-color: #3B4455;\n",
              "      fill: #D2E3FC;\n",
              "    }\n",
              "\n",
              "    [theme=dark] .colab-df-convert:hover {\n",
              "      background-color: #434B5C;\n",
              "      box-shadow: 0px 1px 3px 1px rgba(0, 0, 0, 0.15);\n",
              "      filter: drop-shadow(0px 1px 2px rgba(0, 0, 0, 0.3));\n",
              "      fill: #FFFFFF;\n",
              "    }\n",
              "  </style>\n",
              "\n",
              "      <script>\n",
              "        const buttonEl =\n",
              "          document.querySelector('#df-9e166847-46b1-4183-baa6-45a7ff0620ef button.colab-df-convert');\n",
              "        buttonEl.style.display =\n",
              "          google.colab.kernel.accessAllowed ? 'block' : 'none';\n",
              "\n",
              "        async function convertToInteractive(key) {\n",
              "          const element = document.querySelector('#df-9e166847-46b1-4183-baa6-45a7ff0620ef');\n",
              "          const dataTable =\n",
              "            await google.colab.kernel.invokeFunction('convertToInteractive',\n",
              "                                                     [key], {});\n",
              "          if (!dataTable) return;\n",
              "\n",
              "          const docLinkHtml = 'Like what you see? Visit the ' +\n",
              "            '<a target=\"_blank\" href=https://colab.research.google.com/notebooks/data_table.ipynb>data table notebook</a>'\n",
              "            + ' to learn more about interactive tables.';\n",
              "          element.innerHTML = '';\n",
              "          dataTable['output_type'] = 'display_data';\n",
              "          await google.colab.output.renderOutput(dataTable, element);\n",
              "          const docLink = document.createElement('div');\n",
              "          docLink.innerHTML = docLinkHtml;\n",
              "          element.appendChild(docLink);\n",
              "        }\n",
              "      </script>\n",
              "    </div>\n",
              "  </div>\n",
              "  "
            ]
          },
          "metadata": {},
          "execution_count": 4
        }
      ]
    },
    {
      "cell_type": "code",
      "source": [
        "log_data = pd.read_csv(io.BytesIO(uploaded['log_data.csv']))"
      ],
      "metadata": {
        "id": "xDtAuntYP_0i"
      },
      "execution_count": null,
      "outputs": []
    },
    {
      "cell_type": "code",
      "source": [
        "log_data.head()"
      ],
      "metadata": {
        "colab": {
          "base_uri": "https://localhost:8080/",
          "height": 285
        },
        "id": "Jir0OOVsRGE3",
        "outputId": "eb574273-3f4e-43e3-e47a-83281e0f1790"
      },
      "execution_count": null,
      "outputs": [
        {
          "output_type": "execute_result",
          "data": {
            "text/plain": [
              "   Unnamed: 0  id     user_id       event      timestamp  \\\n",
              "0           0   1           0   TABCLOSED  1668120340446   \n",
              "1           1   2           0  TABUPDATED  1667956551791   \n",
              "2           2   3           0  TABUPDATED  1667956551791   \n",
              "3           3   4  1709755371  TABUPDATED  1668628323406   \n",
              "4           4   5  1709755371  TABUPDATED  1668628325893   \n",
              "\n",
              "                                                 url     tab_id  scroll_count  \\\n",
              "0                                                NaN  837345710           0.0   \n",
              "1  https://www.sammeechward.com/deploy-node-app-o...  837344770           NaN   \n",
              "2                                         NON-TOLOKA  837344770           NaN   \n",
              "3                                         NON-TOLOKA  837345509           NaN   \n",
              "4                                         NON-TOLOKA  837347829           NaN   \n",
              "\n",
              "   blur_count  focus_count  click_count  keypress_count  \n",
              "0         0.0          0.0          0.0             0.0  \n",
              "1         NaN          NaN          NaN             NaN  \n",
              "2         NaN          NaN          NaN             NaN  \n",
              "3         NaN          NaN          NaN             NaN  \n",
              "4         NaN          NaN          NaN             NaN  "
            ],
            "text/html": [
              "\n",
              "  <div id=\"df-d9d6e989-a070-4598-a903-b7e8f645e3d4\">\n",
              "    <div class=\"colab-df-container\">\n",
              "      <div>\n",
              "<style scoped>\n",
              "    .dataframe tbody tr th:only-of-type {\n",
              "        vertical-align: middle;\n",
              "    }\n",
              "\n",
              "    .dataframe tbody tr th {\n",
              "        vertical-align: top;\n",
              "    }\n",
              "\n",
              "    .dataframe thead th {\n",
              "        text-align: right;\n",
              "    }\n",
              "</style>\n",
              "<table border=\"1\" class=\"dataframe\">\n",
              "  <thead>\n",
              "    <tr style=\"text-align: right;\">\n",
              "      <th></th>\n",
              "      <th>Unnamed: 0</th>\n",
              "      <th>id</th>\n",
              "      <th>user_id</th>\n",
              "      <th>event</th>\n",
              "      <th>timestamp</th>\n",
              "      <th>url</th>\n",
              "      <th>tab_id</th>\n",
              "      <th>scroll_count</th>\n",
              "      <th>blur_count</th>\n",
              "      <th>focus_count</th>\n",
              "      <th>click_count</th>\n",
              "      <th>keypress_count</th>\n",
              "    </tr>\n",
              "  </thead>\n",
              "  <tbody>\n",
              "    <tr>\n",
              "      <th>0</th>\n",
              "      <td>0</td>\n",
              "      <td>1</td>\n",
              "      <td>0</td>\n",
              "      <td>TABCLOSED</td>\n",
              "      <td>1668120340446</td>\n",
              "      <td>NaN</td>\n",
              "      <td>837345710</td>\n",
              "      <td>0.0</td>\n",
              "      <td>0.0</td>\n",
              "      <td>0.0</td>\n",
              "      <td>0.0</td>\n",
              "      <td>0.0</td>\n",
              "    </tr>\n",
              "    <tr>\n",
              "      <th>1</th>\n",
              "      <td>1</td>\n",
              "      <td>2</td>\n",
              "      <td>0</td>\n",
              "      <td>TABUPDATED</td>\n",
              "      <td>1667956551791</td>\n",
              "      <td>https://www.sammeechward.com/deploy-node-app-o...</td>\n",
              "      <td>837344770</td>\n",
              "      <td>NaN</td>\n",
              "      <td>NaN</td>\n",
              "      <td>NaN</td>\n",
              "      <td>NaN</td>\n",
              "      <td>NaN</td>\n",
              "    </tr>\n",
              "    <tr>\n",
              "      <th>2</th>\n",
              "      <td>2</td>\n",
              "      <td>3</td>\n",
              "      <td>0</td>\n",
              "      <td>TABUPDATED</td>\n",
              "      <td>1667956551791</td>\n",
              "      <td>NON-TOLOKA</td>\n",
              "      <td>837344770</td>\n",
              "      <td>NaN</td>\n",
              "      <td>NaN</td>\n",
              "      <td>NaN</td>\n",
              "      <td>NaN</td>\n",
              "      <td>NaN</td>\n",
              "    </tr>\n",
              "    <tr>\n",
              "      <th>3</th>\n",
              "      <td>3</td>\n",
              "      <td>4</td>\n",
              "      <td>1709755371</td>\n",
              "      <td>TABUPDATED</td>\n",
              "      <td>1668628323406</td>\n",
              "      <td>NON-TOLOKA</td>\n",
              "      <td>837345509</td>\n",
              "      <td>NaN</td>\n",
              "      <td>NaN</td>\n",
              "      <td>NaN</td>\n",
              "      <td>NaN</td>\n",
              "      <td>NaN</td>\n",
              "    </tr>\n",
              "    <tr>\n",
              "      <th>4</th>\n",
              "      <td>4</td>\n",
              "      <td>5</td>\n",
              "      <td>1709755371</td>\n",
              "      <td>TABUPDATED</td>\n",
              "      <td>1668628325893</td>\n",
              "      <td>NON-TOLOKA</td>\n",
              "      <td>837347829</td>\n",
              "      <td>NaN</td>\n",
              "      <td>NaN</td>\n",
              "      <td>NaN</td>\n",
              "      <td>NaN</td>\n",
              "      <td>NaN</td>\n",
              "    </tr>\n",
              "  </tbody>\n",
              "</table>\n",
              "</div>\n",
              "      <button class=\"colab-df-convert\" onclick=\"convertToInteractive('df-d9d6e989-a070-4598-a903-b7e8f645e3d4')\"\n",
              "              title=\"Convert this dataframe to an interactive table.\"\n",
              "              style=\"display:none;\">\n",
              "        \n",
              "  <svg xmlns=\"http://www.w3.org/2000/svg\" height=\"24px\"viewBox=\"0 0 24 24\"\n",
              "       width=\"24px\">\n",
              "    <path d=\"M0 0h24v24H0V0z\" fill=\"none\"/>\n",
              "    <path d=\"M18.56 5.44l.94 2.06.94-2.06 2.06-.94-2.06-.94-.94-2.06-.94 2.06-2.06.94zm-11 1L8.5 8.5l.94-2.06 2.06-.94-2.06-.94L8.5 2.5l-.94 2.06-2.06.94zm10 10l.94 2.06.94-2.06 2.06-.94-2.06-.94-.94-2.06-.94 2.06-2.06.94z\"/><path d=\"M17.41 7.96l-1.37-1.37c-.4-.4-.92-.59-1.43-.59-.52 0-1.04.2-1.43.59L10.3 9.45l-7.72 7.72c-.78.78-.78 2.05 0 2.83L4 21.41c.39.39.9.59 1.41.59.51 0 1.02-.2 1.41-.59l7.78-7.78 2.81-2.81c.8-.78.8-2.07 0-2.86zM5.41 20L4 18.59l7.72-7.72 1.47 1.35L5.41 20z\"/>\n",
              "  </svg>\n",
              "      </button>\n",
              "      \n",
              "  <style>\n",
              "    .colab-df-container {\n",
              "      display:flex;\n",
              "      flex-wrap:wrap;\n",
              "      gap: 12px;\n",
              "    }\n",
              "\n",
              "    .colab-df-convert {\n",
              "      background-color: #E8F0FE;\n",
              "      border: none;\n",
              "      border-radius: 50%;\n",
              "      cursor: pointer;\n",
              "      display: none;\n",
              "      fill: #1967D2;\n",
              "      height: 32px;\n",
              "      padding: 0 0 0 0;\n",
              "      width: 32px;\n",
              "    }\n",
              "\n",
              "    .colab-df-convert:hover {\n",
              "      background-color: #E2EBFA;\n",
              "      box-shadow: 0px 1px 2px rgba(60, 64, 67, 0.3), 0px 1px 3px 1px rgba(60, 64, 67, 0.15);\n",
              "      fill: #174EA6;\n",
              "    }\n",
              "\n",
              "    [theme=dark] .colab-df-convert {\n",
              "      background-color: #3B4455;\n",
              "      fill: #D2E3FC;\n",
              "    }\n",
              "\n",
              "    [theme=dark] .colab-df-convert:hover {\n",
              "      background-color: #434B5C;\n",
              "      box-shadow: 0px 1px 3px 1px rgba(0, 0, 0, 0.15);\n",
              "      filter: drop-shadow(0px 1px 2px rgba(0, 0, 0, 0.3));\n",
              "      fill: #FFFFFF;\n",
              "    }\n",
              "  </style>\n",
              "\n",
              "      <script>\n",
              "        const buttonEl =\n",
              "          document.querySelector('#df-d9d6e989-a070-4598-a903-b7e8f645e3d4 button.colab-df-convert');\n",
              "        buttonEl.style.display =\n",
              "          google.colab.kernel.accessAllowed ? 'block' : 'none';\n",
              "\n",
              "        async function convertToInteractive(key) {\n",
              "          const element = document.querySelector('#df-d9d6e989-a070-4598-a903-b7e8f645e3d4');\n",
              "          const dataTable =\n",
              "            await google.colab.kernel.invokeFunction('convertToInteractive',\n",
              "                                                     [key], {});\n",
              "          if (!dataTable) return;\n",
              "\n",
              "          const docLinkHtml = 'Like what you see? Visit the ' +\n",
              "            '<a target=\"_blank\" href=https://colab.research.google.com/notebooks/data_table.ipynb>data table notebook</a>'\n",
              "            + ' to learn more about interactive tables.';\n",
              "          element.innerHTML = '';\n",
              "          dataTable['output_type'] = 'display_data';\n",
              "          await google.colab.output.renderOutput(dataTable, element);\n",
              "          const docLink = document.createElement('div');\n",
              "          docLink.innerHTML = docLinkHtml;\n",
              "          element.appendChild(docLink);\n",
              "        }\n",
              "      </script>\n",
              "    </div>\n",
              "  </div>\n",
              "  "
            ]
          },
          "metadata": {},
          "execution_count": 9
        }
      ]
    },
    {
      "cell_type": "markdown",
      "source": [
        "# Cleaning the data without the tables combined on Assignment Data"
      ],
      "metadata": {
        "id": "JECFd7JnFrMY"
      }
    },
    {
      "cell_type": "markdown",
      "source": [
        "## Finding NaN values"
      ],
      "metadata": {
        "id": "ShfKELhRRmwO"
      }
    },
    {
      "cell_type": "code",
      "source": [
        "df.shape"
      ],
      "metadata": {
        "colab": {
          "base_uri": "https://localhost:8080/"
        },
        "id": "D8DkOdElSaTV",
        "outputId": "537bbc57-7334-4688-d48e-923c709643a7"
      },
      "execution_count": null,
      "outputs": [
        {
          "output_type": "execute_result",
          "data": {
            "text/plain": [
              "(85, 23)"
            ]
          },
          "metadata": {},
          "execution_count": 10
        }
      ]
    },
    {
      "cell_type": "code",
      "source": [
        "df.isnull().sum()"
      ],
      "metadata": {
        "colab": {
          "base_uri": "https://localhost:8080/"
        },
        "id": "wkTwICT7RpG5",
        "outputId": "bfddfbad-f1b4-4902-8739-e0d1d8e0a55f"
      },
      "execution_count": null,
      "outputs": [
        {
          "output_type": "execute_result",
          "data": {
            "text/plain": [
              "Unnamed: 0                 0\n",
              "title                     12\n",
              "project_id                 0\n",
              "adult_content             12\n",
              "lang                      58\n",
              "description               15\n",
              "instructions_flag         12\n",
              "requester_id              12\n",
              "requester_trusted_flag    12\n",
              "project_stat              24\n",
              "avg_money_hourly          19\n",
              "moneyMed                  36\n",
              "moneyTop10                36\n",
              "moneyMax3                 58\n",
              "pool_id                   12\n",
              "pool_started_at           12\n",
              "acceptance_period         72\n",
              "user_id                   58\n",
              "task_attempted_flag        0\n",
              "country                   58\n",
              "user_language             58\n",
              "birth_day                 58\n",
              "joined                    58\n",
              "dtype: int64"
            ]
          },
          "metadata": {},
          "execution_count": 11
        }
      ]
    },
    {
      "cell_type": "markdown",
      "source": [
        "## Imputing the missing values"
      ],
      "metadata": {
        "id": "VgyQ33mDfPzG"
      }
    },
    {
      "cell_type": "markdown",
      "source": [
        "* user_id: too many NaN values.\n",
        "* Occuring from task_data since task_data doesn't have user_id column and to get that we are merging it with task_receipt \n",
        "* However; not all projects are present in the receipt so it is creating a lot of NaN values."
      ],
      "metadata": {
        "id": "xjKLBtZMfUeN"
      }
    },
    {
      "cell_type": "markdown",
      "source": [
        "Imputing all the user data with mode"
      ],
      "metadata": {
        "id": "cMryvEzDf2ha"
      }
    },
    {
      "cell_type": "code",
      "source": [
        "df['user_id'] = df['user_id'].fillna(df['user_id'].mode()[0])"
      ],
      "metadata": {
        "id": "lGv5576dgCxF"
      },
      "execution_count": null,
      "outputs": []
    },
    {
      "cell_type": "code",
      "source": [
        "df['country'] = df['country'].fillna(df['country'].mode()[0])"
      ],
      "metadata": {
        "id": "_hCRgbXCglGL"
      },
      "execution_count": null,
      "outputs": []
    },
    {
      "cell_type": "code",
      "source": [
        "df['user_language'] = df['user_language'].fillna(df['user_language'].mode()[0])"
      ],
      "metadata": {
        "id": "XHYl1BlVg29p"
      },
      "execution_count": null,
      "outputs": []
    },
    {
      "cell_type": "code",
      "source": [
        "df['birth_day'] = df['birth_day'].fillna(df['birth_day'].mode()[0])"
      ],
      "metadata": {
        "id": "4LiJ81_XhBh1"
      },
      "execution_count": null,
      "outputs": []
    },
    {
      "cell_type": "code",
      "source": [
        "df['joined'] = df['joined'].fillna(df['joined'].mode()[0])"
      ],
      "metadata": {
        "id": "q8YIcgffhLmZ"
      },
      "execution_count": null,
      "outputs": []
    },
    {
      "cell_type": "code",
      "source": [
        "df['lang'] = df['lang'].fillna(df['lang'].mode()[0])"
      ],
      "metadata": {
        "id": "nwpGtjCb1e8a"
      },
      "execution_count": null,
      "outputs": []
    },
    {
      "cell_type": "markdown",
      "source": [
        "**title, adult_content, instructions_flag, requester_id, requester_trusted_flag, pool_id, pool_started_at** : \n",
        "* Nan values in these columns are all the tasks that have their receipts generated but they're not present on the 'Tasks' tab anymore, therefore we couldn't fetch the above information for these tasks"
      ],
      "metadata": {
        "id": "ch50T38jnk7W"
      }
    },
    {
      "cell_type": "markdown",
      "source": [
        "For now. it's better to remove these 12 rows until we find a way to fetch task data for the tasks that are present in the task receipts but aren't present in task tab anymore."
      ],
      "metadata": {
        "id": "zqXKqGbd0c78"
      }
    },
    {
      "cell_type": "code",
      "source": [
        "df = df[df['title'].notna()]"
      ],
      "metadata": {
        "id": "xs4-Zaae01l_"
      },
      "execution_count": null,
      "outputs": []
    },
    {
      "cell_type": "markdown",
      "source": [
        "**avg_money_hourly, moneyMed, moneyTop10, moneyMax3**:\n",
        "* Nan and other forms of missing values in these columns simply means that the requester hasn't provided any payment options. So we will replace them with 0. "
      ],
      "metadata": {
        "id": "BmBpiNxqpgON"
      }
    },
    {
      "cell_type": "code",
      "source": [
        "df.avg_money_hourly.unique()"
      ],
      "metadata": {
        "colab": {
          "base_uri": "https://localhost:8080/"
        },
        "id": "HRwsEWUPpQzA",
        "outputId": "fb29ec0b-1c4e-4ac7-86b2-6829969a48a7"
      },
      "execution_count": null,
      "outputs": [
        {
          "output_type": "execute_result",
          "data": {
            "text/plain": [
              "array([0.       , 0.371134 , 0.62531  , 0.108108 , 0.185567 ,       nan,\n",
              "       0.28125  , 0.54     , 1.08897  , 0.8      , 0.791209 , 0.529412 ,\n",
              "       2.0339   , 0.821918 , 0.657534 , 0.268657 , 0.576923 , 2.08092  ,\n",
              "       0.514286 , 0.972973 , 0.633803 , 0.810811 , 0.475248 , 0.39779  ,\n",
              "       0.743363 , 0.382979 , 0.444444 , 1.8      , 0.235294 , 0.0957445,\n",
              "       0.452424 , 0.382166 , 0.96     , 0.507042 , 1.13089  ])"
            ]
          },
          "metadata": {},
          "execution_count": 19
        }
      ]
    },
    {
      "cell_type": "code",
      "source": [
        "df.moneyMed.unique()"
      ],
      "metadata": {
        "colab": {
          "base_uri": "https://localhost:8080/"
        },
        "id": "1ymI1FyXtZ_p",
        "outputId": "81392e65-02be-4bc1-fba6-e8ebd614d57c"
      },
      "execution_count": null,
      "outputs": [
        {
          "output_type": "execute_result",
          "data": {
            "text/plain": [
              "array([ nan, 0.01, 0.  , 0.04, 0.02, 0.08, 0.1 , 0.03, 0.07, 0.35, 0.05,\n",
              "       0.06, 0.18])"
            ]
          },
          "metadata": {},
          "execution_count": 20
        }
      ]
    },
    {
      "cell_type": "code",
      "source": [
        "df.moneyTop10.unique()"
      ],
      "metadata": {
        "colab": {
          "base_uri": "https://localhost:8080/"
        },
        "id": "eEMviLjPtd_Q",
        "outputId": "72613369-6e08-4108-aa90-66ac974726ef"
      },
      "execution_count": null,
      "outputs": [
        {
          "output_type": "execute_result",
          "data": {
            "text/plain": [
              "array([ nan, 0.04, 0.18, 0.69, 0.73, 0.01, 0.03, 0.36, 0.16, 0.3 , 0.  ,\n",
              "       0.08, 0.1 , 0.21, 0.07, 0.5 , 0.12, 0.38, 0.96, 0.05, 0.09, 0.83,\n",
              "       5.06, 0.06, 0.2 ])"
            ]
          },
          "metadata": {},
          "execution_count": 21
        }
      ]
    },
    {
      "cell_type": "code",
      "source": [
        "df.moneyMax3.unique()"
      ],
      "metadata": {
        "colab": {
          "base_uri": "https://localhost:8080/"
        },
        "id": "D7Kn160Otn1Y",
        "outputId": "b79e985c-b6ae-4d99-c83b-2c03790f5a05"
      },
      "execution_count": null,
      "outputs": [
        {
          "output_type": "execute_result",
          "data": {
            "text/plain": [
              "array([      nan, 3.100e-01, 2.910e+00, 2.003e+01, 1.004e+01, 1.000e-02,\n",
              "       1.300e-01, 2.100e+00, 1.260e+00, 1.900e+00, 1.070e+00, 1.100e+00,\n",
              "       8.600e-01, 2.820e+00, 3.170e+00, 3.700e-01, 1.800e+00, 1.228e+01,\n",
              "       4.800e-01])"
            ]
          },
          "metadata": {},
          "execution_count": 22
        }
      ]
    },
    {
      "cell_type": "code",
      "source": [
        "df['avg_money_hourly'] = df['avg_money_hourly'].fillna(0)\n",
        "df['moneyMed'] = df['moneyMed'].fillna(0)\n",
        "df['moneyMax3'] = df['moneyMax3'].fillna(0)\n",
        "df['moneyTop10'] = df['moneyTop10'].fillna(0)"
      ],
      "metadata": {
        "id": "7CwoSHyXtti_"
      },
      "execution_count": null,
      "outputs": []
    },
    {
      "cell_type": "markdown",
      "source": [
        "**acceptance_period**: \n",
        "* too many missing values(72), it makes more sense to drop the entire column than trying to impute these values"
      ],
      "metadata": {
        "id": "Uc9Y4UONxJu2"
      }
    },
    {
      "cell_type": "code",
      "source": [
        "df = df.drop('acceptance_period', axis = 1)"
      ],
      "metadata": {
        "id": "u0IKKdmYxWsu"
      },
      "execution_count": null,
      "outputs": []
    },
    {
      "cell_type": "markdown",
      "source": [
        "**project_stat**"
      ],
      "metadata": {
        "id": "kOPxY39Jy7y8"
      }
    },
    {
      "cell_type": "code",
      "source": [
        "df.project_stat.unique()"
      ],
      "metadata": {
        "colab": {
          "base_uri": "https://localhost:8080/"
        },
        "id": "mbx0m2KPy903",
        "outputId": "2922fea0-85ec-4052-8f80-db60849a9fe3"
      },
      "execution_count": null,
      "outputs": [
        {
          "output_type": "execute_result",
          "data": {
            "text/plain": [
              "array([4.75, 4.5 , 4.39, 4.57, 4.83, 4.33, 4.21, 4.67, 1.6 , 4.68, 4.  ,\n",
              "       4.3 , 4.77,  nan, 4.72, 4.81, 4.45, 4.47, 4.69, 4.91, 4.82, 4.03,\n",
              "       4.65, 4.66, 4.6 , 4.64, 4.48, 4.71, 4.93, 4.97, 4.26, 4.58, 4.95,\n",
              "       3.11, 4.7 , 4.86, 4.61, 1.45])"
            ]
          },
          "metadata": {},
          "execution_count": 25
        }
      ]
    },
    {
      "cell_type": "markdown",
      "source": [
        "project_stat is basically the grade assigned to that project. I am not sure what exactly is the criteria for that grade assignment. However, for now it makes sense to just replace unassigned grades with 0."
      ],
      "metadata": {
        "id": "Es7CC_HTzcal"
      }
    },
    {
      "cell_type": "code",
      "source": [
        "df['project_stat'] = df['project_stat'].fillna(0)"
      ],
      "metadata": {
        "id": "vu3ApbIrz3-I"
      },
      "execution_count": null,
      "outputs": []
    },
    {
      "cell_type": "code",
      "source": [
        "df.head()"
      ],
      "metadata": {
        "colab": {
          "base_uri": "https://localhost:8080/",
          "height": 595
        },
        "id": "uzfmDtp90EtW",
        "outputId": "e638a3c0-9f2d-451a-da97-5e632a2eb1ab"
      },
      "execution_count": null,
      "outputs": [
        {
          "output_type": "execute_result",
          "data": {
            "text/plain": [
              "   Unnamed: 0                                           title  project_id  \\\n",
              "0           0                   [Toloka] English Grammar Test      105273   \n",
              "1           1                   [Toloka] English Grammar Test      105273   \n",
              "2           2       [Toloka] Prueba de comprensión de español       62518   \n",
              "3           3                    Page relevance (new version)       81714   \n",
              "4           4  Is the image a good picture of the zoo animal?       84339   \n",
              "\n",
              "   adult_content lang                                        description  \\\n",
              "0            0.0   EN  Take the test and get more paid tasks.\\nAfter ...   \n",
              "1            0.0   EN  Take the test and get more paid tasks.\\nAfter ...   \n",
              "2            0.0   EN  Haz la prueba y recibe más tareas pagadas.\\nSi...   \n",
              "3            0.0   EN  Passing the exam with a good quality opens the...   \n",
              "4            1.0   EN  Please judge if the image is showing a correct...   \n",
              "\n",
              "   instructions_flag                      requester_id  \\\n",
              "0                1.0  71daea4cffae4488067aebfb6583914a   \n",
              "1                1.0  71daea4cffae4488067aebfb6583914a   \n",
              "2                0.0  71daea4cffae4488067aebfb6583914a   \n",
              "3                1.0  0f3f3a1c8053bf6128f7a3b730e9162c   \n",
              "4                1.0  e134d662550bd2d2176b4f3e515f6e23   \n",
              "\n",
              "   requester_trusted_flag  project_stat  ...  moneyTop10  moneyMax3  \\\n",
              "0                     0.0          4.75  ...        0.00       0.00   \n",
              "1                     0.0          4.75  ...        0.00       0.00   \n",
              "2                     0.0          4.50  ...        0.00       0.00   \n",
              "3                     1.0          4.39  ...        0.04       0.31   \n",
              "4                     0.0          4.57  ...        0.00       0.00   \n",
              "\n",
              "      pool_id           pool_started_at       user_id task_attempted_flag  \\\n",
              "0  36185755.0   2022-11-03T19:07:12.911  1.699066e+09                True   \n",
              "1  36185755.0  2022-11-03T19:07:13.000Z  1.699066e+09                True   \n",
              "2  35994576.0  2022-10-22T06:38:00.000Z  1.699066e+09                True   \n",
              "3  33608621.0  2022-05-27T08:40:05.000Z  1.699066e+09                True   \n",
              "4  32387125.0  2022-03-15T21:21:42.000Z  1.699066e+09                True   \n",
              "\n",
              "   country  user_language                 birth_day                    joined  \n",
              "0       US             EN  2000-07-07T00:00:00.000Z  2022-10-11T00:00:00.000Z  \n",
              "1       US             EN  2000-07-07T00:00:00.000Z  2022-10-11T00:00:00.000Z  \n",
              "2       US             EN  2000-07-07T00:00:00.000Z  2022-10-11T00:00:00.000Z  \n",
              "3       US             EN  2000-07-07T00:00:00.000Z  2022-10-11T00:00:00.000Z  \n",
              "4       US             EN  2000-07-07T00:00:00.000Z  2022-10-11T00:00:00.000Z  \n",
              "\n",
              "[5 rows x 22 columns]"
            ],
            "text/html": [
              "\n",
              "  <div id=\"df-e10116d0-a364-4d45-98f1-443808726dd8\">\n",
              "    <div class=\"colab-df-container\">\n",
              "      <div>\n",
              "<style scoped>\n",
              "    .dataframe tbody tr th:only-of-type {\n",
              "        vertical-align: middle;\n",
              "    }\n",
              "\n",
              "    .dataframe tbody tr th {\n",
              "        vertical-align: top;\n",
              "    }\n",
              "\n",
              "    .dataframe thead th {\n",
              "        text-align: right;\n",
              "    }\n",
              "</style>\n",
              "<table border=\"1\" class=\"dataframe\">\n",
              "  <thead>\n",
              "    <tr style=\"text-align: right;\">\n",
              "      <th></th>\n",
              "      <th>Unnamed: 0</th>\n",
              "      <th>title</th>\n",
              "      <th>project_id</th>\n",
              "      <th>adult_content</th>\n",
              "      <th>lang</th>\n",
              "      <th>description</th>\n",
              "      <th>instructions_flag</th>\n",
              "      <th>requester_id</th>\n",
              "      <th>requester_trusted_flag</th>\n",
              "      <th>project_stat</th>\n",
              "      <th>...</th>\n",
              "      <th>moneyTop10</th>\n",
              "      <th>moneyMax3</th>\n",
              "      <th>pool_id</th>\n",
              "      <th>pool_started_at</th>\n",
              "      <th>user_id</th>\n",
              "      <th>task_attempted_flag</th>\n",
              "      <th>country</th>\n",
              "      <th>user_language</th>\n",
              "      <th>birth_day</th>\n",
              "      <th>joined</th>\n",
              "    </tr>\n",
              "  </thead>\n",
              "  <tbody>\n",
              "    <tr>\n",
              "      <th>0</th>\n",
              "      <td>0</td>\n",
              "      <td>[Toloka] English Grammar Test</td>\n",
              "      <td>105273</td>\n",
              "      <td>0.0</td>\n",
              "      <td>EN</td>\n",
              "      <td>Take the test and get more paid tasks.\\nAfter ...</td>\n",
              "      <td>1.0</td>\n",
              "      <td>71daea4cffae4488067aebfb6583914a</td>\n",
              "      <td>0.0</td>\n",
              "      <td>4.75</td>\n",
              "      <td>...</td>\n",
              "      <td>0.00</td>\n",
              "      <td>0.00</td>\n",
              "      <td>36185755.0</td>\n",
              "      <td>2022-11-03T19:07:12.911</td>\n",
              "      <td>1.699066e+09</td>\n",
              "      <td>True</td>\n",
              "      <td>US</td>\n",
              "      <td>EN</td>\n",
              "      <td>2000-07-07T00:00:00.000Z</td>\n",
              "      <td>2022-10-11T00:00:00.000Z</td>\n",
              "    </tr>\n",
              "    <tr>\n",
              "      <th>1</th>\n",
              "      <td>1</td>\n",
              "      <td>[Toloka] English Grammar Test</td>\n",
              "      <td>105273</td>\n",
              "      <td>0.0</td>\n",
              "      <td>EN</td>\n",
              "      <td>Take the test and get more paid tasks.\\nAfter ...</td>\n",
              "      <td>1.0</td>\n",
              "      <td>71daea4cffae4488067aebfb6583914a</td>\n",
              "      <td>0.0</td>\n",
              "      <td>4.75</td>\n",
              "      <td>...</td>\n",
              "      <td>0.00</td>\n",
              "      <td>0.00</td>\n",
              "      <td>36185755.0</td>\n",
              "      <td>2022-11-03T19:07:13.000Z</td>\n",
              "      <td>1.699066e+09</td>\n",
              "      <td>True</td>\n",
              "      <td>US</td>\n",
              "      <td>EN</td>\n",
              "      <td>2000-07-07T00:00:00.000Z</td>\n",
              "      <td>2022-10-11T00:00:00.000Z</td>\n",
              "    </tr>\n",
              "    <tr>\n",
              "      <th>2</th>\n",
              "      <td>2</td>\n",
              "      <td>[Toloka] Prueba de comprensión de español</td>\n",
              "      <td>62518</td>\n",
              "      <td>0.0</td>\n",
              "      <td>EN</td>\n",
              "      <td>Haz la prueba y recibe más tareas pagadas.\\nSi...</td>\n",
              "      <td>0.0</td>\n",
              "      <td>71daea4cffae4488067aebfb6583914a</td>\n",
              "      <td>0.0</td>\n",
              "      <td>4.50</td>\n",
              "      <td>...</td>\n",
              "      <td>0.00</td>\n",
              "      <td>0.00</td>\n",
              "      <td>35994576.0</td>\n",
              "      <td>2022-10-22T06:38:00.000Z</td>\n",
              "      <td>1.699066e+09</td>\n",
              "      <td>True</td>\n",
              "      <td>US</td>\n",
              "      <td>EN</td>\n",
              "      <td>2000-07-07T00:00:00.000Z</td>\n",
              "      <td>2022-10-11T00:00:00.000Z</td>\n",
              "    </tr>\n",
              "    <tr>\n",
              "      <th>3</th>\n",
              "      <td>3</td>\n",
              "      <td>Page relevance (new version)</td>\n",
              "      <td>81714</td>\n",
              "      <td>0.0</td>\n",
              "      <td>EN</td>\n",
              "      <td>Passing the exam with a good quality opens the...</td>\n",
              "      <td>1.0</td>\n",
              "      <td>0f3f3a1c8053bf6128f7a3b730e9162c</td>\n",
              "      <td>1.0</td>\n",
              "      <td>4.39</td>\n",
              "      <td>...</td>\n",
              "      <td>0.04</td>\n",
              "      <td>0.31</td>\n",
              "      <td>33608621.0</td>\n",
              "      <td>2022-05-27T08:40:05.000Z</td>\n",
              "      <td>1.699066e+09</td>\n",
              "      <td>True</td>\n",
              "      <td>US</td>\n",
              "      <td>EN</td>\n",
              "      <td>2000-07-07T00:00:00.000Z</td>\n",
              "      <td>2022-10-11T00:00:00.000Z</td>\n",
              "    </tr>\n",
              "    <tr>\n",
              "      <th>4</th>\n",
              "      <td>4</td>\n",
              "      <td>Is the image a good picture of the zoo animal?</td>\n",
              "      <td>84339</td>\n",
              "      <td>1.0</td>\n",
              "      <td>EN</td>\n",
              "      <td>Please judge if the image is showing a correct...</td>\n",
              "      <td>1.0</td>\n",
              "      <td>e134d662550bd2d2176b4f3e515f6e23</td>\n",
              "      <td>0.0</td>\n",
              "      <td>4.57</td>\n",
              "      <td>...</td>\n",
              "      <td>0.00</td>\n",
              "      <td>0.00</td>\n",
              "      <td>32387125.0</td>\n",
              "      <td>2022-03-15T21:21:42.000Z</td>\n",
              "      <td>1.699066e+09</td>\n",
              "      <td>True</td>\n",
              "      <td>US</td>\n",
              "      <td>EN</td>\n",
              "      <td>2000-07-07T00:00:00.000Z</td>\n",
              "      <td>2022-10-11T00:00:00.000Z</td>\n",
              "    </tr>\n",
              "  </tbody>\n",
              "</table>\n",
              "<p>5 rows × 22 columns</p>\n",
              "</div>\n",
              "      <button class=\"colab-df-convert\" onclick=\"convertToInteractive('df-e10116d0-a364-4d45-98f1-443808726dd8')\"\n",
              "              title=\"Convert this dataframe to an interactive table.\"\n",
              "              style=\"display:none;\">\n",
              "        \n",
              "  <svg xmlns=\"http://www.w3.org/2000/svg\" height=\"24px\"viewBox=\"0 0 24 24\"\n",
              "       width=\"24px\">\n",
              "    <path d=\"M0 0h24v24H0V0z\" fill=\"none\"/>\n",
              "    <path d=\"M18.56 5.44l.94 2.06.94-2.06 2.06-.94-2.06-.94-.94-2.06-.94 2.06-2.06.94zm-11 1L8.5 8.5l.94-2.06 2.06-.94-2.06-.94L8.5 2.5l-.94 2.06-2.06.94zm10 10l.94 2.06.94-2.06 2.06-.94-2.06-.94-.94-2.06-.94 2.06-2.06.94z\"/><path d=\"M17.41 7.96l-1.37-1.37c-.4-.4-.92-.59-1.43-.59-.52 0-1.04.2-1.43.59L10.3 9.45l-7.72 7.72c-.78.78-.78 2.05 0 2.83L4 21.41c.39.39.9.59 1.41.59.51 0 1.02-.2 1.41-.59l7.78-7.78 2.81-2.81c.8-.78.8-2.07 0-2.86zM5.41 20L4 18.59l7.72-7.72 1.47 1.35L5.41 20z\"/>\n",
              "  </svg>\n",
              "      </button>\n",
              "      \n",
              "  <style>\n",
              "    .colab-df-container {\n",
              "      display:flex;\n",
              "      flex-wrap:wrap;\n",
              "      gap: 12px;\n",
              "    }\n",
              "\n",
              "    .colab-df-convert {\n",
              "      background-color: #E8F0FE;\n",
              "      border: none;\n",
              "      border-radius: 50%;\n",
              "      cursor: pointer;\n",
              "      display: none;\n",
              "      fill: #1967D2;\n",
              "      height: 32px;\n",
              "      padding: 0 0 0 0;\n",
              "      width: 32px;\n",
              "    }\n",
              "\n",
              "    .colab-df-convert:hover {\n",
              "      background-color: #E2EBFA;\n",
              "      box-shadow: 0px 1px 2px rgba(60, 64, 67, 0.3), 0px 1px 3px 1px rgba(60, 64, 67, 0.15);\n",
              "      fill: #174EA6;\n",
              "    }\n",
              "\n",
              "    [theme=dark] .colab-df-convert {\n",
              "      background-color: #3B4455;\n",
              "      fill: #D2E3FC;\n",
              "    }\n",
              "\n",
              "    [theme=dark] .colab-df-convert:hover {\n",
              "      background-color: #434B5C;\n",
              "      box-shadow: 0px 1px 3px 1px rgba(0, 0, 0, 0.15);\n",
              "      filter: drop-shadow(0px 1px 2px rgba(0, 0, 0, 0.3));\n",
              "      fill: #FFFFFF;\n",
              "    }\n",
              "  </style>\n",
              "\n",
              "      <script>\n",
              "        const buttonEl =\n",
              "          document.querySelector('#df-e10116d0-a364-4d45-98f1-443808726dd8 button.colab-df-convert');\n",
              "        buttonEl.style.display =\n",
              "          google.colab.kernel.accessAllowed ? 'block' : 'none';\n",
              "\n",
              "        async function convertToInteractive(key) {\n",
              "          const element = document.querySelector('#df-e10116d0-a364-4d45-98f1-443808726dd8');\n",
              "          const dataTable =\n",
              "            await google.colab.kernel.invokeFunction('convertToInteractive',\n",
              "                                                     [key], {});\n",
              "          if (!dataTable) return;\n",
              "\n",
              "          const docLinkHtml = 'Like what you see? Visit the ' +\n",
              "            '<a target=\"_blank\" href=https://colab.research.google.com/notebooks/data_table.ipynb>data table notebook</a>'\n",
              "            + ' to learn more about interactive tables.';\n",
              "          element.innerHTML = '';\n",
              "          dataTable['output_type'] = 'display_data';\n",
              "          await google.colab.output.renderOutput(dataTable, element);\n",
              "          const docLink = document.createElement('div');\n",
              "          docLink.innerHTML = docLinkHtml;\n",
              "          element.appendChild(docLink);\n",
              "        }\n",
              "      </script>\n",
              "    </div>\n",
              "  </div>\n",
              "  "
            ]
          },
          "metadata": {},
          "execution_count": 27
        }
      ]
    },
    {
      "cell_type": "code",
      "source": [
        "df.isnull().sum()"
      ],
      "metadata": {
        "colab": {
          "base_uri": "https://localhost:8080/"
        },
        "id": "Mo3UQgMs1Q4B",
        "outputId": "fea8eeef-decb-449b-c217-ebbba1a00786"
      },
      "execution_count": null,
      "outputs": [
        {
          "output_type": "execute_result",
          "data": {
            "text/plain": [
              "Unnamed: 0                0\n",
              "title                     0\n",
              "project_id                0\n",
              "adult_content             0\n",
              "lang                      0\n",
              "description               3\n",
              "instructions_flag         0\n",
              "requester_id              0\n",
              "requester_trusted_flag    0\n",
              "project_stat              0\n",
              "avg_money_hourly          0\n",
              "moneyMed                  0\n",
              "moneyTop10                0\n",
              "moneyMax3                 0\n",
              "pool_id                   0\n",
              "pool_started_at           0\n",
              "user_id                   0\n",
              "task_attempted_flag       0\n",
              "country                   0\n",
              "user_language             0\n",
              "birth_day                 0\n",
              "joined                    0\n",
              "dtype: int64"
            ]
          },
          "metadata": {},
          "execution_count": 28
        }
      ]
    },
    {
      "cell_type": "markdown",
      "source": [
        "Now we are just left with 3 NaN values in 'description' column. We would not be needing description column at all unless we are planning to incorporate NLP. However, for now I will just be dropping these three rows so we still will be having the 'description' column in case we decide to implement NLP. Also we can later on probably impute these values using NLP as well."
      ],
      "metadata": {
        "id": "0B_AMtvf1ySk"
      }
    },
    {
      "cell_type": "code",
      "source": [
        "df = df[df['description'].notna()]"
      ],
      "metadata": {
        "id": "Z4VgaGGV2rXi"
      },
      "execution_count": null,
      "outputs": []
    },
    {
      "cell_type": "code",
      "source": [
        "df.isnull().sum()"
      ],
      "metadata": {
        "colab": {
          "base_uri": "https://localhost:8080/"
        },
        "id": "vKC7BJum20u0",
        "outputId": "9ef41483-0a4e-4da7-8bc7-9b676055ea22"
      },
      "execution_count": null,
      "outputs": [
        {
          "output_type": "execute_result",
          "data": {
            "text/plain": [
              "Unnamed: 0                0\n",
              "title                     0\n",
              "project_id                0\n",
              "adult_content             0\n",
              "lang                      0\n",
              "description               0\n",
              "instructions_flag         0\n",
              "requester_id              0\n",
              "requester_trusted_flag    0\n",
              "project_stat              0\n",
              "avg_money_hourly          0\n",
              "moneyMed                  0\n",
              "moneyTop10                0\n",
              "moneyMax3                 0\n",
              "pool_id                   0\n",
              "pool_started_at           0\n",
              "user_id                   0\n",
              "task_attempted_flag       0\n",
              "country                   0\n",
              "user_language             0\n",
              "birth_day                 0\n",
              "joined                    0\n",
              "dtype: int64"
            ]
          },
          "metadata": {},
          "execution_count": 30
        }
      ]
    },
    {
      "cell_type": "code",
      "source": [
        "df.shape"
      ],
      "metadata": {
        "colab": {
          "base_uri": "https://localhost:8080/"
        },
        "id": "d-vi9ldt2zna",
        "outputId": "3fb2f739-68de-4ded-fa35-c19e39331701"
      },
      "execution_count": null,
      "outputs": [
        {
          "output_type": "execute_result",
          "data": {
            "text/plain": [
              "(70, 22)"
            ]
          },
          "metadata": {},
          "execution_count": 32
        }
      ]
    },
    {
      "cell_type": "code",
      "source": [
        "df_new = df"
      ],
      "metadata": {
        "id": "zRMvJz3eE813"
      },
      "execution_count": null,
      "outputs": []
    },
    {
      "cell_type": "markdown",
      "source": [
        "Now the cleaned data contains 70 rows and 22 columns as compared to the raw data with 85 rows and 23 columns."
      ],
      "metadata": {
        "id": "QTpqi19929KG"
      }
    },
    {
      "cell_type": "markdown",
      "source": [
        "# Cleaning again with the tables combined on Assignment Data"
      ],
      "metadata": {
        "id": "DjB5ehJYcrSG"
      }
    },
    {
      "cell_type": "code",
      "source": [
        "from google.colab import files\n",
        "uploaded = files.upload()"
      ],
      "metadata": {
        "colab": {
          "base_uri": "https://localhost:8080/",
          "height": 73
        },
        "id": "ZW45TTngcyD2",
        "outputId": "e3fc1c7a-4735-4fc4-8e28-b2ca3485db93"
      },
      "execution_count": null,
      "outputs": [
        {
          "output_type": "display_data",
          "data": {
            "text/plain": [
              "<IPython.core.display.HTML object>"
            ],
            "text/html": [
              "\n",
              "     <input type=\"file\" id=\"files-b32aaecc-a9c9-45ca-8f74-5fe606b67f3f\" name=\"files[]\" multiple disabled\n",
              "        style=\"border:none\" />\n",
              "     <output id=\"result-b32aaecc-a9c9-45ca-8f74-5fe606b67f3f\">\n",
              "      Upload widget is only available when the cell has been executed in the\n",
              "      current browser session. Please rerun this cell to enable.\n",
              "      </output>\n",
              "      <script>// Copyright 2017 Google LLC\n",
              "//\n",
              "// Licensed under the Apache License, Version 2.0 (the \"License\");\n",
              "// you may not use this file except in compliance with the License.\n",
              "// You may obtain a copy of the License at\n",
              "//\n",
              "//      http://www.apache.org/licenses/LICENSE-2.0\n",
              "//\n",
              "// Unless required by applicable law or agreed to in writing, software\n",
              "// distributed under the License is distributed on an \"AS IS\" BASIS,\n",
              "// WITHOUT WARRANTIES OR CONDITIONS OF ANY KIND, either express or implied.\n",
              "// See the License for the specific language governing permissions and\n",
              "// limitations under the License.\n",
              "\n",
              "/**\n",
              " * @fileoverview Helpers for google.colab Python module.\n",
              " */\n",
              "(function(scope) {\n",
              "function span(text, styleAttributes = {}) {\n",
              "  const element = document.createElement('span');\n",
              "  element.textContent = text;\n",
              "  for (const key of Object.keys(styleAttributes)) {\n",
              "    element.style[key] = styleAttributes[key];\n",
              "  }\n",
              "  return element;\n",
              "}\n",
              "\n",
              "// Max number of bytes which will be uploaded at a time.\n",
              "const MAX_PAYLOAD_SIZE = 100 * 1024;\n",
              "\n",
              "function _uploadFiles(inputId, outputId) {\n",
              "  const steps = uploadFilesStep(inputId, outputId);\n",
              "  const outputElement = document.getElementById(outputId);\n",
              "  // Cache steps on the outputElement to make it available for the next call\n",
              "  // to uploadFilesContinue from Python.\n",
              "  outputElement.steps = steps;\n",
              "\n",
              "  return _uploadFilesContinue(outputId);\n",
              "}\n",
              "\n",
              "// This is roughly an async generator (not supported in the browser yet),\n",
              "// where there are multiple asynchronous steps and the Python side is going\n",
              "// to poll for completion of each step.\n",
              "// This uses a Promise to block the python side on completion of each step,\n",
              "// then passes the result of the previous step as the input to the next step.\n",
              "function _uploadFilesContinue(outputId) {\n",
              "  const outputElement = document.getElementById(outputId);\n",
              "  const steps = outputElement.steps;\n",
              "\n",
              "  const next = steps.next(outputElement.lastPromiseValue);\n",
              "  return Promise.resolve(next.value.promise).then((value) => {\n",
              "    // Cache the last promise value to make it available to the next\n",
              "    // step of the generator.\n",
              "    outputElement.lastPromiseValue = value;\n",
              "    return next.value.response;\n",
              "  });\n",
              "}\n",
              "\n",
              "/**\n",
              " * Generator function which is called between each async step of the upload\n",
              " * process.\n",
              " * @param {string} inputId Element ID of the input file picker element.\n",
              " * @param {string} outputId Element ID of the output display.\n",
              " * @return {!Iterable<!Object>} Iterable of next steps.\n",
              " */\n",
              "function* uploadFilesStep(inputId, outputId) {\n",
              "  const inputElement = document.getElementById(inputId);\n",
              "  inputElement.disabled = false;\n",
              "\n",
              "  const outputElement = document.getElementById(outputId);\n",
              "  outputElement.innerHTML = '';\n",
              "\n",
              "  const pickedPromise = new Promise((resolve) => {\n",
              "    inputElement.addEventListener('change', (e) => {\n",
              "      resolve(e.target.files);\n",
              "    });\n",
              "  });\n",
              "\n",
              "  const cancel = document.createElement('button');\n",
              "  inputElement.parentElement.appendChild(cancel);\n",
              "  cancel.textContent = 'Cancel upload';\n",
              "  const cancelPromise = new Promise((resolve) => {\n",
              "    cancel.onclick = () => {\n",
              "      resolve(null);\n",
              "    };\n",
              "  });\n",
              "\n",
              "  // Wait for the user to pick the files.\n",
              "  const files = yield {\n",
              "    promise: Promise.race([pickedPromise, cancelPromise]),\n",
              "    response: {\n",
              "      action: 'starting',\n",
              "    }\n",
              "  };\n",
              "\n",
              "  cancel.remove();\n",
              "\n",
              "  // Disable the input element since further picks are not allowed.\n",
              "  inputElement.disabled = true;\n",
              "\n",
              "  if (!files) {\n",
              "    return {\n",
              "      response: {\n",
              "        action: 'complete',\n",
              "      }\n",
              "    };\n",
              "  }\n",
              "\n",
              "  for (const file of files) {\n",
              "    const li = document.createElement('li');\n",
              "    li.append(span(file.name, {fontWeight: 'bold'}));\n",
              "    li.append(span(\n",
              "        `(${file.type || 'n/a'}) - ${file.size} bytes, ` +\n",
              "        `last modified: ${\n",
              "            file.lastModifiedDate ? file.lastModifiedDate.toLocaleDateString() :\n",
              "                                    'n/a'} - `));\n",
              "    const percent = span('0% done');\n",
              "    li.appendChild(percent);\n",
              "\n",
              "    outputElement.appendChild(li);\n",
              "\n",
              "    const fileDataPromise = new Promise((resolve) => {\n",
              "      const reader = new FileReader();\n",
              "      reader.onload = (e) => {\n",
              "        resolve(e.target.result);\n",
              "      };\n",
              "      reader.readAsArrayBuffer(file);\n",
              "    });\n",
              "    // Wait for the data to be ready.\n",
              "    let fileData = yield {\n",
              "      promise: fileDataPromise,\n",
              "      response: {\n",
              "        action: 'continue',\n",
              "      }\n",
              "    };\n",
              "\n",
              "    // Use a chunked sending to avoid message size limits. See b/62115660.\n",
              "    let position = 0;\n",
              "    do {\n",
              "      const length = Math.min(fileData.byteLength - position, MAX_PAYLOAD_SIZE);\n",
              "      const chunk = new Uint8Array(fileData, position, length);\n",
              "      position += length;\n",
              "\n",
              "      const base64 = btoa(String.fromCharCode.apply(null, chunk));\n",
              "      yield {\n",
              "        response: {\n",
              "          action: 'append',\n",
              "          file: file.name,\n",
              "          data: base64,\n",
              "        },\n",
              "      };\n",
              "\n",
              "      let percentDone = fileData.byteLength === 0 ?\n",
              "          100 :\n",
              "          Math.round((position / fileData.byteLength) * 100);\n",
              "      percent.textContent = `${percentDone}% done`;\n",
              "\n",
              "    } while (position < fileData.byteLength);\n",
              "  }\n",
              "\n",
              "  // All done.\n",
              "  yield {\n",
              "    response: {\n",
              "      action: 'complete',\n",
              "    }\n",
              "  };\n",
              "}\n",
              "\n",
              "scope.google = scope.google || {};\n",
              "scope.google.colab = scope.google.colab || {};\n",
              "scope.google.colab._files = {\n",
              "  _uploadFiles,\n",
              "  _uploadFilesContinue,\n",
              "};\n",
              "})(self);\n",
              "</script> "
            ]
          },
          "metadata": {}
        },
        {
          "output_type": "stream",
          "name": "stdout",
          "text": [
            "Saving uncleaned_data (2).csv to uncleaned_data (2).csv\n"
          ]
        }
      ]
    },
    {
      "cell_type": "code",
      "source": [
        "df2 = pd.read_csv(io.BytesIO(uploaded['uncleaned_data (2).csv']))"
      ],
      "metadata": {
        "id": "rrmMtUp5eBe6"
      },
      "execution_count": null,
      "outputs": []
    },
    {
      "cell_type": "code",
      "source": [
        "df2.columns"
      ],
      "metadata": {
        "colab": {
          "base_uri": "https://localhost:8080/"
        },
        "id": "nqJ01C__qvzi",
        "outputId": "1cfd2f80-e19e-44a7-c104-ef08c1b178f8"
      },
      "execution_count": null,
      "outputs": [
        {
          "output_type": "execute_result",
          "data": {
            "text/plain": [
              "Index(['Unnamed: 0', 'user_id', 'project_id', 'title', 'adult_content', 'lang',\n",
              "       'description', 'instructions_flag', 'requester_id',\n",
              "       'requester_trusted_flag', 'project_stat', 'avg_money_hourly',\n",
              "       'moneyMed', 'moneyTop10', 'moneyMax3', 'pool_id', 'pool_started_at',\n",
              "       'acceptance_period', 'task_attempted_flag', 'country', 'user_language',\n",
              "       'birth_day', 'joined'],\n",
              "      dtype='object')"
            ]
          },
          "metadata": {},
          "execution_count": 5
        }
      ]
    },
    {
      "cell_type": "code",
      "source": [
        "df2.isnull().sum()"
      ],
      "metadata": {
        "colab": {
          "base_uri": "https://localhost:8080/"
        },
        "id": "LtXYoO3NeDVd",
        "outputId": "b1ff1803-80f6-4344-ed4a-cb9ee5702cfa"
      },
      "execution_count": null,
      "outputs": [
        {
          "output_type": "execute_result",
          "data": {
            "text/plain": [
              "Unnamed: 0                   0\n",
              "user_id                    444\n",
              "project_id                   2\n",
              "title                      394\n",
              "adult_content              394\n",
              "lang                      5497\n",
              "description                593\n",
              "instructions_flag          394\n",
              "requester_id               394\n",
              "requester_trusted_flag     394\n",
              "project_stat              1653\n",
              "avg_money_hourly           576\n",
              "moneyMed                  1939\n",
              "moneyTop10                1939\n",
              "moneyMax3                 4564\n",
              "pool_id                    394\n",
              "pool_started_at            394\n",
              "acceptance_period         8852\n",
              "task_attempted_flag        508\n",
              "country                    444\n",
              "user_language              444\n",
              "birth_day                  444\n",
              "joined                     444\n",
              "dtype: int64"
            ]
          },
          "metadata": {},
          "execution_count": 6
        }
      ]
    },
    {
      "cell_type": "markdown",
      "source": [
        "## Imputing the missing values"
      ],
      "metadata": {
        "id": "oWOsMIIcearH"
      }
    },
    {
      "cell_type": "markdown",
      "source": [
        "**user_id, user_language, birth_day, joined, country**\n",
        "* there are 39 missing values form the user data, not sure where they are occuring from we can impute these values again using mode."
      ],
      "metadata": {
        "id": "d--2kM0Ke1Xr"
      }
    },
    {
      "cell_type": "code",
      "source": [
        "df2['user_id'] = df2['user_id'].fillna(df2['user_id'].mode()[0])"
      ],
      "metadata": {
        "id": "rd4b4Z3bgDGa"
      },
      "execution_count": null,
      "outputs": []
    },
    {
      "cell_type": "code",
      "source": [
        "df2['country'] = df2['country'].fillna(df2['country'].mode()[0])"
      ],
      "metadata": {
        "id": "XlMZlUdegDGa"
      },
      "execution_count": null,
      "outputs": []
    },
    {
      "cell_type": "code",
      "source": [
        "df2['user_language'] = df2['user_language'].fillna(df2['user_language'].mode()[0])"
      ],
      "metadata": {
        "id": "RKiK_h12gDGb"
      },
      "execution_count": null,
      "outputs": []
    },
    {
      "cell_type": "code",
      "source": [
        "df2['birth_day'] = df2['birth_day'].fillna(df2['birth_day'].mode()[0])"
      ],
      "metadata": {
        "id": "b8RCWuk6gDGb"
      },
      "execution_count": null,
      "outputs": []
    },
    {
      "cell_type": "code",
      "source": [
        "df2['joined'] = df2['joined'].fillna(df2['joined'].mode()[0])"
      ],
      "metadata": {
        "id": "lF-o5gdmgDGb"
      },
      "execution_count": null,
      "outputs": []
    },
    {
      "cell_type": "markdown",
      "source": [
        "**lang, acceptance_period**\n",
        "* these two columns have many missing values and we can simply drop these columns as they aren't as important as well"
      ],
      "metadata": {
        "id": "a3-1S5ShgbNv"
      }
    },
    {
      "cell_type": "code",
      "source": [
        "df2 = df2.drop('lang', axis = 1)"
      ],
      "metadata": {
        "id": "iqcBEpM5g826"
      },
      "execution_count": null,
      "outputs": []
    },
    {
      "cell_type": "code",
      "source": [
        "df2 = df2.drop('acceptance_period', axis = 1)"
      ],
      "metadata": {
        "id": "jVhva5Rvgw_f"
      },
      "execution_count": null,
      "outputs": []
    },
    {
      "cell_type": "markdown",
      "source": [
        "**title, adult_content, instructions_flag, requester_id, requester_trusted_flag, pool_id, pool_started_at** : \n",
        "* Nan values in these columns are all the tasks that have their receipts generated but they're not present on the 'Tasks' tab anymore, therefore we couldn't fetch the above information for these tasks"
      ],
      "metadata": {
        "id": "d8iST9qzhYZC"
      }
    },
    {
      "cell_type": "markdown",
      "source": [
        "For now. it's better to remove these 3 rows until we find a way to fetch task data for the tasks that are present in the task receipts but aren't present in task tab anymore."
      ],
      "metadata": {
        "id": "KOgmvgc1hYZC"
      }
    },
    {
      "cell_type": "code",
      "source": [
        "df2 = df2[df2['title'].notna()]"
      ],
      "metadata": {
        "id": "KpR-LVJchYZD"
      },
      "execution_count": null,
      "outputs": []
    },
    {
      "cell_type": "markdown",
      "source": [
        "**avg_money_hourly, moneyMed, moneyTop10, moneyMax3**:\n",
        "* Nan and other forms of missing values in these columns simply means that the requester hasn't provided any payment options. So we will replace them with 0. "
      ],
      "metadata": {
        "id": "1Vt1W6Nxhxch"
      }
    },
    {
      "cell_type": "code",
      "source": [
        "df2['avg_money_hourly'] = df2['avg_money_hourly'].fillna(0)\n",
        "df2['moneyMed'] = df2['moneyMed'].fillna(0)\n",
        "df2['moneyMax3'] = df2['moneyMax3'].fillna(0)\n",
        "df2['moneyTop10'] = df2['moneyTop10'].fillna(0)"
      ],
      "metadata": {
        "id": "SV86NbnKhxcj"
      },
      "execution_count": null,
      "outputs": []
    },
    {
      "cell_type": "markdown",
      "source": [
        "Now we are just left with 3 NaN values in 'description' column. We would not be needing description column at all unless we are planning to incorporate NLP. However, for now I will just be dropping these three rows so we still will be having the 'description' column in case we decide to implement NLP. Also we can later on probably impute these values using NLP as well."
      ],
      "metadata": {
        "id": "HP4nLqQliFRI"
      }
    },
    {
      "cell_type": "code",
      "source": [
        "df2 = df2[df2['description'].notna()]"
      ],
      "metadata": {
        "id": "y-P3dizZiFRJ"
      },
      "execution_count": null,
      "outputs": []
    },
    {
      "cell_type": "markdown",
      "source": [
        "**project_stat**"
      ],
      "metadata": {
        "id": "6pzdXFnMiTM8"
      }
    },
    {
      "cell_type": "code",
      "source": [
        "df2.project_stat.unique()"
      ],
      "metadata": {
        "colab": {
          "base_uri": "https://localhost:8080/"
        },
        "outputId": "c57ea720-23f4-4bcc-cc1d-c1a7a7cb410b",
        "id": "VjjzdQj2iTM9"
      },
      "execution_count": null,
      "outputs": [
        {
          "output_type": "execute_result",
          "data": {
            "text/plain": [
              "array([4.92, 4.54, 4.76, 4.67, 4.64, 4.24, 4.23, 4.09, 4.08, 4.03, 4.2 ,\n",
              "       4.26, 4.21,  nan, 3.15, 4.77, 4.73, 4.72, 4.85, 4.59, 4.68, 4.93,\n",
              "       4.95, 4.05, 4.39, 4.46, 4.71, 4.74, 4.75, 4.49, 4.65, 4.51, 4.94,\n",
              "       4.9 , 4.66, 4.63, 4.31, 4.56, 2.52, 2.06, 4.89, 4.79, 4.78, 4.86,\n",
              "       4.61, 4.6 , 4.33, 3.75, 4.82, 4.8 , 4.83, 4.81, 4.96, 4.87, 4.84,\n",
              "       4.7 , 4.62, 5.  , 4.91, 4.88, 4.99, 4.97, 1.26, 4.14, 4.98, 1.92,\n",
              "       4.35, 4.69, 4.38, 3.11, 3.88, 1.39, 2.26, 2.42, 2.79, 4.53, 4.52,\n",
              "       4.18, 4.48, 4.58, 3.32, 4.5 , 4.47, 4.36, 4.57, 4.34, 4.41, 4.02])"
            ]
          },
          "metadata": {},
          "execution_count": 17
        }
      ]
    },
    {
      "cell_type": "markdown",
      "source": [
        "project_stat is basically the grade assigned to that project. I am not sure what exactly is the criteria for that grade assignment. However, for now it makes sense to just replace unassigned grades with 0."
      ],
      "metadata": {
        "id": "-icKsiehiTM9"
      }
    },
    {
      "cell_type": "code",
      "source": [
        "df2['project_stat'] = df2['project_stat'].fillna(0)"
      ],
      "metadata": {
        "id": "3Z1jg9aPiTM-"
      },
      "execution_count": null,
      "outputs": []
    },
    {
      "cell_type": "code",
      "source": [
        "df2.isnull().sum()"
      ],
      "metadata": {
        "colab": {
          "base_uri": "https://localhost:8080/"
        },
        "id": "umk9Q_mwiY5S",
        "outputId": "2093afd2-ccb2-4678-d793-6e8fb62f022b"
      },
      "execution_count": null,
      "outputs": [
        {
          "output_type": "execute_result",
          "data": {
            "text/plain": [
              "Unnamed: 0                  0\n",
              "user_id                     0\n",
              "project_id                  0\n",
              "title                       0\n",
              "adult_content               0\n",
              "description                 0\n",
              "instructions_flag           0\n",
              "requester_id                0\n",
              "requester_trusted_flag      0\n",
              "project_stat                0\n",
              "avg_money_hourly            0\n",
              "moneyMed                    0\n",
              "moneyTop10                  0\n",
              "moneyMax3                   0\n",
              "pool_id                     0\n",
              "pool_started_at             0\n",
              "task_attempted_flag       472\n",
              "country                     0\n",
              "user_language               0\n",
              "birth_day                   0\n",
              "joined                      0\n",
              "dtype: int64"
            ]
          },
          "metadata": {},
          "execution_count": 19
        }
      ]
    },
    {
      "cell_type": "code",
      "source": [
        "df2 = df2.reset_index(drop=True)\n"
      ],
      "metadata": {
        "id": "ldHFnS5Lj73_"
      },
      "execution_count": null,
      "outputs": []
    },
    {
      "cell_type": "code",
      "source": [
        "df3=df2"
      ],
      "metadata": {
        "id": "iaK316Iyi_Y9"
      },
      "execution_count": null,
      "outputs": []
    },
    {
      "cell_type": "markdown",
      "source": [
        "# Feature Engineering"
      ],
      "metadata": {
        "id": "tGHrvPxZ3jiu"
      }
    },
    {
      "cell_type": "markdown",
      "source": [
        "* Creating 'age' column from 'birth_day' column"
      ],
      "metadata": {
        "id": "-0wWiaGd3sza"
      }
    },
    {
      "cell_type": "code",
      "source": [
        "from datetime import date"
      ],
      "metadata": {
        "id": "QvOBSxC_38Vb"
      },
      "execution_count": null,
      "outputs": []
    },
    {
      "cell_type": "code",
      "source": [
        "def age(birthdate):\n",
        "  today = date.today()\n",
        "  age = today.year - birthdate.year - ((today.month, today.day) < (birthdate.month, birthdate.day))\n",
        "  return age"
      ],
      "metadata": {
        "id": "aMcjhNiX4Muh"
      },
      "execution_count": null,
      "outputs": []
    },
    {
      "cell_type": "code",
      "source": [
        "df2['birth_day'][10]"
      ],
      "metadata": {
        "colab": {
          "base_uri": "https://localhost:8080/",
          "height": 35
        },
        "id": "a1_7zyAOkLCl",
        "outputId": "940eefd4-726a-4159-c559-e915864da769"
      },
      "execution_count": null,
      "outputs": [
        {
          "output_type": "execute_result",
          "data": {
            "text/plain": [
              "'1984-03-11T00:00:00.000Z'"
            ],
            "application/vnd.google.colaboratory.intrinsic+json": {
              "type": "string"
            }
          },
          "metadata": {},
          "execution_count": 24
        }
      ]
    },
    {
      "cell_type": "code",
      "source": [
        "df2['birth_day'] = df2['birth_day'].astype(str).str[:10]"
      ],
      "metadata": {
        "id": "OhDuU1wO_W5i"
      },
      "execution_count": null,
      "outputs": []
    },
    {
      "cell_type": "code",
      "source": [
        "df2['birth_day'] = pd.to_datetime(df2['birth_day'], errors='coerce')"
      ],
      "metadata": {
        "id": "37qfa2_SAJJ_"
      },
      "execution_count": null,
      "outputs": []
    },
    {
      "cell_type": "code",
      "source": [
        "age_list = []\n",
        "for i in range(len(df2['birth_day'])):\n",
        "  ages = age(df2['birth_day'][i])\n",
        "  age_list.append(ages)"
      ],
      "metadata": {
        "id": "Z1VpvIvTASw_"
      },
      "execution_count": null,
      "outputs": []
    },
    {
      "cell_type": "code",
      "source": [
        "df2['age'] = age_list"
      ],
      "metadata": {
        "id": "7EcXCTXGNWx8"
      },
      "execution_count": null,
      "outputs": []
    },
    {
      "cell_type": "code",
      "source": [
        "df2.head()"
      ],
      "metadata": {
        "colab": {
          "base_uri": "https://localhost:8080/",
          "height": 664
        },
        "id": "bg3YSNAcOCJs",
        "outputId": "25fffde1-0b36-477d-af94-bfd6b40ec2a5"
      },
      "execution_count": null,
      "outputs": [
        {
          "output_type": "execute_result",
          "data": {
            "text/plain": [
              "   Unnamed: 0       user_id  project_id                   title adult_content  \\\n",
              "0           0  1.316041e+09     49390.0  Entity image selection             1   \n",
              "1           1  1.316041e+09     49390.0  Entity image selection             1   \n",
              "2           2  1.316041e+09     49390.0  Entity image selection             1   \n",
              "3           3  1.316041e+09     49390.0  Entity image selection             1   \n",
              "4           4  1.316041e+09     49390.0  Entity image selection             1   \n",
              "\n",
              "                                         description instructions_flag  \\\n",
              "0  From the selection of images for the entity(pe...                 1   \n",
              "1  From the selection of images for the entity(pe...                 1   \n",
              "2  From the selection of images for the entity(pe...                 1   \n",
              "3  From the selection of images for the entity(pe...                 1   \n",
              "4  From the selection of images for the entity(pe...                 1   \n",
              "\n",
              "                       requester_id requester_trusted_flag  project_stat  ...  \\\n",
              "0  81ae1299dd10f764a6e59ac1c08a8a18                      0          4.92  ...   \n",
              "1  81ae1299dd10f764a6e59ac1c08a8a18                      0          4.92  ...   \n",
              "2  81ae1299dd10f764a6e59ac1c08a8a18                      0          4.92  ...   \n",
              "3  81ae1299dd10f764a6e59ac1c08a8a18                      0          4.92  ...   \n",
              "4  81ae1299dd10f764a6e59ac1c08a8a18                      0          4.92  ...   \n",
              "\n",
              "   moneyTop10  moneyMax3     pool_id           pool_started_at  \\\n",
              "0        0.06        0.0  36770631.0  2022-12-09T15:07:41.000Z   \n",
              "1        0.06        0.0  36770631.0  2022-12-09T15:07:41.000Z   \n",
              "2        0.06        0.0  36770631.0  2022-12-09T15:07:41.000Z   \n",
              "3        0.06        0.0  36775179.0  2022-12-09T22:25:32.000Z   \n",
              "4        0.06        0.0  36775179.0  2022-12-09T22:25:32.000Z   \n",
              "\n",
              "   task_attempted_flag country user_language  birth_day  \\\n",
              "0                 True      EG        AR,EN, 1984-03-11   \n",
              "1                 True      EG        AR,EN, 1984-03-11   \n",
              "2                 True      EG        AR,EN, 1984-03-11   \n",
              "3                 True      EG        AR,EN, 1984-03-11   \n",
              "4                 True      EG        AR,EN, 1984-03-11   \n",
              "\n",
              "                     joined age  \n",
              "0  2021-01-13T00:00:00.000Z  38  \n",
              "1  2021-01-13T00:00:00.000Z  38  \n",
              "2  2021-01-13T00:00:00.000Z  38  \n",
              "3  2021-01-13T00:00:00.000Z  38  \n",
              "4  2021-01-13T00:00:00.000Z  38  \n",
              "\n",
              "[5 rows x 22 columns]"
            ],
            "text/html": [
              "\n",
              "  <div id=\"df-f5bf7fc3-d79f-4e78-a9a9-6d48ac43c257\">\n",
              "    <div class=\"colab-df-container\">\n",
              "      <div>\n",
              "<style scoped>\n",
              "    .dataframe tbody tr th:only-of-type {\n",
              "        vertical-align: middle;\n",
              "    }\n",
              "\n",
              "    .dataframe tbody tr th {\n",
              "        vertical-align: top;\n",
              "    }\n",
              "\n",
              "    .dataframe thead th {\n",
              "        text-align: right;\n",
              "    }\n",
              "</style>\n",
              "<table border=\"1\" class=\"dataframe\">\n",
              "  <thead>\n",
              "    <tr style=\"text-align: right;\">\n",
              "      <th></th>\n",
              "      <th>Unnamed: 0</th>\n",
              "      <th>user_id</th>\n",
              "      <th>project_id</th>\n",
              "      <th>title</th>\n",
              "      <th>adult_content</th>\n",
              "      <th>description</th>\n",
              "      <th>instructions_flag</th>\n",
              "      <th>requester_id</th>\n",
              "      <th>requester_trusted_flag</th>\n",
              "      <th>project_stat</th>\n",
              "      <th>...</th>\n",
              "      <th>moneyTop10</th>\n",
              "      <th>moneyMax3</th>\n",
              "      <th>pool_id</th>\n",
              "      <th>pool_started_at</th>\n",
              "      <th>task_attempted_flag</th>\n",
              "      <th>country</th>\n",
              "      <th>user_language</th>\n",
              "      <th>birth_day</th>\n",
              "      <th>joined</th>\n",
              "      <th>age</th>\n",
              "    </tr>\n",
              "  </thead>\n",
              "  <tbody>\n",
              "    <tr>\n",
              "      <th>0</th>\n",
              "      <td>0</td>\n",
              "      <td>1.316041e+09</td>\n",
              "      <td>49390.0</td>\n",
              "      <td>Entity image selection</td>\n",
              "      <td>1</td>\n",
              "      <td>From the selection of images for the entity(pe...</td>\n",
              "      <td>1</td>\n",
              "      <td>81ae1299dd10f764a6e59ac1c08a8a18</td>\n",
              "      <td>0</td>\n",
              "      <td>4.92</td>\n",
              "      <td>...</td>\n",
              "      <td>0.06</td>\n",
              "      <td>0.0</td>\n",
              "      <td>36770631.0</td>\n",
              "      <td>2022-12-09T15:07:41.000Z</td>\n",
              "      <td>True</td>\n",
              "      <td>EG</td>\n",
              "      <td>AR,EN,</td>\n",
              "      <td>1984-03-11</td>\n",
              "      <td>2021-01-13T00:00:00.000Z</td>\n",
              "      <td>38</td>\n",
              "    </tr>\n",
              "    <tr>\n",
              "      <th>1</th>\n",
              "      <td>1</td>\n",
              "      <td>1.316041e+09</td>\n",
              "      <td>49390.0</td>\n",
              "      <td>Entity image selection</td>\n",
              "      <td>1</td>\n",
              "      <td>From the selection of images for the entity(pe...</td>\n",
              "      <td>1</td>\n",
              "      <td>81ae1299dd10f764a6e59ac1c08a8a18</td>\n",
              "      <td>0</td>\n",
              "      <td>4.92</td>\n",
              "      <td>...</td>\n",
              "      <td>0.06</td>\n",
              "      <td>0.0</td>\n",
              "      <td>36770631.0</td>\n",
              "      <td>2022-12-09T15:07:41.000Z</td>\n",
              "      <td>True</td>\n",
              "      <td>EG</td>\n",
              "      <td>AR,EN,</td>\n",
              "      <td>1984-03-11</td>\n",
              "      <td>2021-01-13T00:00:00.000Z</td>\n",
              "      <td>38</td>\n",
              "    </tr>\n",
              "    <tr>\n",
              "      <th>2</th>\n",
              "      <td>2</td>\n",
              "      <td>1.316041e+09</td>\n",
              "      <td>49390.0</td>\n",
              "      <td>Entity image selection</td>\n",
              "      <td>1</td>\n",
              "      <td>From the selection of images for the entity(pe...</td>\n",
              "      <td>1</td>\n",
              "      <td>81ae1299dd10f764a6e59ac1c08a8a18</td>\n",
              "      <td>0</td>\n",
              "      <td>4.92</td>\n",
              "      <td>...</td>\n",
              "      <td>0.06</td>\n",
              "      <td>0.0</td>\n",
              "      <td>36770631.0</td>\n",
              "      <td>2022-12-09T15:07:41.000Z</td>\n",
              "      <td>True</td>\n",
              "      <td>EG</td>\n",
              "      <td>AR,EN,</td>\n",
              "      <td>1984-03-11</td>\n",
              "      <td>2021-01-13T00:00:00.000Z</td>\n",
              "      <td>38</td>\n",
              "    </tr>\n",
              "    <tr>\n",
              "      <th>3</th>\n",
              "      <td>3</td>\n",
              "      <td>1.316041e+09</td>\n",
              "      <td>49390.0</td>\n",
              "      <td>Entity image selection</td>\n",
              "      <td>1</td>\n",
              "      <td>From the selection of images for the entity(pe...</td>\n",
              "      <td>1</td>\n",
              "      <td>81ae1299dd10f764a6e59ac1c08a8a18</td>\n",
              "      <td>0</td>\n",
              "      <td>4.92</td>\n",
              "      <td>...</td>\n",
              "      <td>0.06</td>\n",
              "      <td>0.0</td>\n",
              "      <td>36775179.0</td>\n",
              "      <td>2022-12-09T22:25:32.000Z</td>\n",
              "      <td>True</td>\n",
              "      <td>EG</td>\n",
              "      <td>AR,EN,</td>\n",
              "      <td>1984-03-11</td>\n",
              "      <td>2021-01-13T00:00:00.000Z</td>\n",
              "      <td>38</td>\n",
              "    </tr>\n",
              "    <tr>\n",
              "      <th>4</th>\n",
              "      <td>4</td>\n",
              "      <td>1.316041e+09</td>\n",
              "      <td>49390.0</td>\n",
              "      <td>Entity image selection</td>\n",
              "      <td>1</td>\n",
              "      <td>From the selection of images for the entity(pe...</td>\n",
              "      <td>1</td>\n",
              "      <td>81ae1299dd10f764a6e59ac1c08a8a18</td>\n",
              "      <td>0</td>\n",
              "      <td>4.92</td>\n",
              "      <td>...</td>\n",
              "      <td>0.06</td>\n",
              "      <td>0.0</td>\n",
              "      <td>36775179.0</td>\n",
              "      <td>2022-12-09T22:25:32.000Z</td>\n",
              "      <td>True</td>\n",
              "      <td>EG</td>\n",
              "      <td>AR,EN,</td>\n",
              "      <td>1984-03-11</td>\n",
              "      <td>2021-01-13T00:00:00.000Z</td>\n",
              "      <td>38</td>\n",
              "    </tr>\n",
              "  </tbody>\n",
              "</table>\n",
              "<p>5 rows × 22 columns</p>\n",
              "</div>\n",
              "      <button class=\"colab-df-convert\" onclick=\"convertToInteractive('df-f5bf7fc3-d79f-4e78-a9a9-6d48ac43c257')\"\n",
              "              title=\"Convert this dataframe to an interactive table.\"\n",
              "              style=\"display:none;\">\n",
              "        \n",
              "  <svg xmlns=\"http://www.w3.org/2000/svg\" height=\"24px\"viewBox=\"0 0 24 24\"\n",
              "       width=\"24px\">\n",
              "    <path d=\"M0 0h24v24H0V0z\" fill=\"none\"/>\n",
              "    <path d=\"M18.56 5.44l.94 2.06.94-2.06 2.06-.94-2.06-.94-.94-2.06-.94 2.06-2.06.94zm-11 1L8.5 8.5l.94-2.06 2.06-.94-2.06-.94L8.5 2.5l-.94 2.06-2.06.94zm10 10l.94 2.06.94-2.06 2.06-.94-2.06-.94-.94-2.06-.94 2.06-2.06.94z\"/><path d=\"M17.41 7.96l-1.37-1.37c-.4-.4-.92-.59-1.43-.59-.52 0-1.04.2-1.43.59L10.3 9.45l-7.72 7.72c-.78.78-.78 2.05 0 2.83L4 21.41c.39.39.9.59 1.41.59.51 0 1.02-.2 1.41-.59l7.78-7.78 2.81-2.81c.8-.78.8-2.07 0-2.86zM5.41 20L4 18.59l7.72-7.72 1.47 1.35L5.41 20z\"/>\n",
              "  </svg>\n",
              "      </button>\n",
              "      \n",
              "  <style>\n",
              "    .colab-df-container {\n",
              "      display:flex;\n",
              "      flex-wrap:wrap;\n",
              "      gap: 12px;\n",
              "    }\n",
              "\n",
              "    .colab-df-convert {\n",
              "      background-color: #E8F0FE;\n",
              "      border: none;\n",
              "      border-radius: 50%;\n",
              "      cursor: pointer;\n",
              "      display: none;\n",
              "      fill: #1967D2;\n",
              "      height: 32px;\n",
              "      padding: 0 0 0 0;\n",
              "      width: 32px;\n",
              "    }\n",
              "\n",
              "    .colab-df-convert:hover {\n",
              "      background-color: #E2EBFA;\n",
              "      box-shadow: 0px 1px 2px rgba(60, 64, 67, 0.3), 0px 1px 3px 1px rgba(60, 64, 67, 0.15);\n",
              "      fill: #174EA6;\n",
              "    }\n",
              "\n",
              "    [theme=dark] .colab-df-convert {\n",
              "      background-color: #3B4455;\n",
              "      fill: #D2E3FC;\n",
              "    }\n",
              "\n",
              "    [theme=dark] .colab-df-convert:hover {\n",
              "      background-color: #434B5C;\n",
              "      box-shadow: 0px 1px 3px 1px rgba(0, 0, 0, 0.15);\n",
              "      filter: drop-shadow(0px 1px 2px rgba(0, 0, 0, 0.3));\n",
              "      fill: #FFFFFF;\n",
              "    }\n",
              "  </style>\n",
              "\n",
              "      <script>\n",
              "        const buttonEl =\n",
              "          document.querySelector('#df-f5bf7fc3-d79f-4e78-a9a9-6d48ac43c257 button.colab-df-convert');\n",
              "        buttonEl.style.display =\n",
              "          google.colab.kernel.accessAllowed ? 'block' : 'none';\n",
              "\n",
              "        async function convertToInteractive(key) {\n",
              "          const element = document.querySelector('#df-f5bf7fc3-d79f-4e78-a9a9-6d48ac43c257');\n",
              "          const dataTable =\n",
              "            await google.colab.kernel.invokeFunction('convertToInteractive',\n",
              "                                                     [key], {});\n",
              "          if (!dataTable) return;\n",
              "\n",
              "          const docLinkHtml = 'Like what you see? Visit the ' +\n",
              "            '<a target=\"_blank\" href=https://colab.research.google.com/notebooks/data_table.ipynb>data table notebook</a>'\n",
              "            + ' to learn more about interactive tables.';\n",
              "          element.innerHTML = '';\n",
              "          dataTable['output_type'] = 'display_data';\n",
              "          await google.colab.output.renderOutput(dataTable, element);\n",
              "          const docLink = document.createElement('div');\n",
              "          docLink.innerHTML = docLinkHtml;\n",
              "          element.appendChild(docLink);\n",
              "        }\n",
              "      </script>\n",
              "    </div>\n",
              "  </div>\n",
              "  "
            ]
          },
          "metadata": {},
          "execution_count": 29
        }
      ]
    },
    {
      "cell_type": "code",
      "source": [
        "print(df2.columns)"
      ],
      "metadata": {
        "id": "fSPY-ef9DoKQ",
        "colab": {
          "base_uri": "https://localhost:8080/"
        },
        "outputId": "347c58db-7e06-44d6-9b45-3886eed051e3"
      },
      "execution_count": null,
      "outputs": [
        {
          "output_type": "stream",
          "name": "stdout",
          "text": [
            "Index(['Unnamed: 0', 'user_id', 'project_id', 'title', 'adult_content',\n",
            "       'description', 'instructions_flag', 'requester_id',\n",
            "       'requester_trusted_flag', 'project_stat', 'avg_money_hourly',\n",
            "       'moneyMed', 'moneyTop10', 'moneyMax3', 'pool_id', 'pool_started_at',\n",
            "       'task_attempted_flag', 'country', 'user_language', 'birth_day',\n",
            "       'joined', 'age'],\n",
            "      dtype='object')\n"
          ]
        }
      ]
    },
    {
      "cell_type": "code",
      "source": [
        "df2.shape"
      ],
      "metadata": {
        "colab": {
          "base_uri": "https://localhost:8080/"
        },
        "id": "RaYFUfnVDVyQ",
        "outputId": "d7c4c719-7523-45a7-8d7e-16ec6c806eab"
      },
      "execution_count": null,
      "outputs": [
        {
          "output_type": "execute_result",
          "data": {
            "text/plain": [
              "(9770, 22)"
            ]
          },
          "metadata": {},
          "execution_count": 31
        }
      ]
    },
    {
      "cell_type": "code",
      "source": [
        "df2.head()"
      ],
      "metadata": {
        "id": "_pZ0yjnO593P",
        "colab": {
          "base_uri": "https://localhost:8080/",
          "height": 664
        },
        "outputId": "40e8d81a-661e-4174-9f6f-7dd1b31a2dce"
      },
      "execution_count": null,
      "outputs": [
        {
          "output_type": "execute_result",
          "data": {
            "text/plain": [
              "   Unnamed: 0       user_id  project_id                   title adult_content  \\\n",
              "0           0  1.316041e+09     49390.0  Entity image selection             1   \n",
              "1           1  1.316041e+09     49390.0  Entity image selection             1   \n",
              "2           2  1.316041e+09     49390.0  Entity image selection             1   \n",
              "3           3  1.316041e+09     49390.0  Entity image selection             1   \n",
              "4           4  1.316041e+09     49390.0  Entity image selection             1   \n",
              "\n",
              "                                         description instructions_flag  \\\n",
              "0  From the selection of images for the entity(pe...                 1   \n",
              "1  From the selection of images for the entity(pe...                 1   \n",
              "2  From the selection of images for the entity(pe...                 1   \n",
              "3  From the selection of images for the entity(pe...                 1   \n",
              "4  From the selection of images for the entity(pe...                 1   \n",
              "\n",
              "                       requester_id requester_trusted_flag  project_stat  ...  \\\n",
              "0  81ae1299dd10f764a6e59ac1c08a8a18                      0          4.92  ...   \n",
              "1  81ae1299dd10f764a6e59ac1c08a8a18                      0          4.92  ...   \n",
              "2  81ae1299dd10f764a6e59ac1c08a8a18                      0          4.92  ...   \n",
              "3  81ae1299dd10f764a6e59ac1c08a8a18                      0          4.92  ...   \n",
              "4  81ae1299dd10f764a6e59ac1c08a8a18                      0          4.92  ...   \n",
              "\n",
              "   moneyTop10  moneyMax3     pool_id           pool_started_at  \\\n",
              "0        0.06        0.0  36770631.0  2022-12-09T15:07:41.000Z   \n",
              "1        0.06        0.0  36770631.0  2022-12-09T15:07:41.000Z   \n",
              "2        0.06        0.0  36770631.0  2022-12-09T15:07:41.000Z   \n",
              "3        0.06        0.0  36775179.0  2022-12-09T22:25:32.000Z   \n",
              "4        0.06        0.0  36775179.0  2022-12-09T22:25:32.000Z   \n",
              "\n",
              "   task_attempted_flag country user_language  birth_day  \\\n",
              "0                 True      EG        AR,EN, 1984-03-11   \n",
              "1                 True      EG        AR,EN, 1984-03-11   \n",
              "2                 True      EG        AR,EN, 1984-03-11   \n",
              "3                 True      EG        AR,EN, 1984-03-11   \n",
              "4                 True      EG        AR,EN, 1984-03-11   \n",
              "\n",
              "                     joined age  \n",
              "0  2021-01-13T00:00:00.000Z  38  \n",
              "1  2021-01-13T00:00:00.000Z  38  \n",
              "2  2021-01-13T00:00:00.000Z  38  \n",
              "3  2021-01-13T00:00:00.000Z  38  \n",
              "4  2021-01-13T00:00:00.000Z  38  \n",
              "\n",
              "[5 rows x 22 columns]"
            ],
            "text/html": [
              "\n",
              "  <div id=\"df-297dba96-0934-46f0-aab2-8c93311a7a9b\">\n",
              "    <div class=\"colab-df-container\">\n",
              "      <div>\n",
              "<style scoped>\n",
              "    .dataframe tbody tr th:only-of-type {\n",
              "        vertical-align: middle;\n",
              "    }\n",
              "\n",
              "    .dataframe tbody tr th {\n",
              "        vertical-align: top;\n",
              "    }\n",
              "\n",
              "    .dataframe thead th {\n",
              "        text-align: right;\n",
              "    }\n",
              "</style>\n",
              "<table border=\"1\" class=\"dataframe\">\n",
              "  <thead>\n",
              "    <tr style=\"text-align: right;\">\n",
              "      <th></th>\n",
              "      <th>Unnamed: 0</th>\n",
              "      <th>user_id</th>\n",
              "      <th>project_id</th>\n",
              "      <th>title</th>\n",
              "      <th>adult_content</th>\n",
              "      <th>description</th>\n",
              "      <th>instructions_flag</th>\n",
              "      <th>requester_id</th>\n",
              "      <th>requester_trusted_flag</th>\n",
              "      <th>project_stat</th>\n",
              "      <th>...</th>\n",
              "      <th>moneyTop10</th>\n",
              "      <th>moneyMax3</th>\n",
              "      <th>pool_id</th>\n",
              "      <th>pool_started_at</th>\n",
              "      <th>task_attempted_flag</th>\n",
              "      <th>country</th>\n",
              "      <th>user_language</th>\n",
              "      <th>birth_day</th>\n",
              "      <th>joined</th>\n",
              "      <th>age</th>\n",
              "    </tr>\n",
              "  </thead>\n",
              "  <tbody>\n",
              "    <tr>\n",
              "      <th>0</th>\n",
              "      <td>0</td>\n",
              "      <td>1.316041e+09</td>\n",
              "      <td>49390.0</td>\n",
              "      <td>Entity image selection</td>\n",
              "      <td>1</td>\n",
              "      <td>From the selection of images for the entity(pe...</td>\n",
              "      <td>1</td>\n",
              "      <td>81ae1299dd10f764a6e59ac1c08a8a18</td>\n",
              "      <td>0</td>\n",
              "      <td>4.92</td>\n",
              "      <td>...</td>\n",
              "      <td>0.06</td>\n",
              "      <td>0.0</td>\n",
              "      <td>36770631.0</td>\n",
              "      <td>2022-12-09T15:07:41.000Z</td>\n",
              "      <td>True</td>\n",
              "      <td>EG</td>\n",
              "      <td>AR,EN,</td>\n",
              "      <td>1984-03-11</td>\n",
              "      <td>2021-01-13T00:00:00.000Z</td>\n",
              "      <td>38</td>\n",
              "    </tr>\n",
              "    <tr>\n",
              "      <th>1</th>\n",
              "      <td>1</td>\n",
              "      <td>1.316041e+09</td>\n",
              "      <td>49390.0</td>\n",
              "      <td>Entity image selection</td>\n",
              "      <td>1</td>\n",
              "      <td>From the selection of images for the entity(pe...</td>\n",
              "      <td>1</td>\n",
              "      <td>81ae1299dd10f764a6e59ac1c08a8a18</td>\n",
              "      <td>0</td>\n",
              "      <td>4.92</td>\n",
              "      <td>...</td>\n",
              "      <td>0.06</td>\n",
              "      <td>0.0</td>\n",
              "      <td>36770631.0</td>\n",
              "      <td>2022-12-09T15:07:41.000Z</td>\n",
              "      <td>True</td>\n",
              "      <td>EG</td>\n",
              "      <td>AR,EN,</td>\n",
              "      <td>1984-03-11</td>\n",
              "      <td>2021-01-13T00:00:00.000Z</td>\n",
              "      <td>38</td>\n",
              "    </tr>\n",
              "    <tr>\n",
              "      <th>2</th>\n",
              "      <td>2</td>\n",
              "      <td>1.316041e+09</td>\n",
              "      <td>49390.0</td>\n",
              "      <td>Entity image selection</td>\n",
              "      <td>1</td>\n",
              "      <td>From the selection of images for the entity(pe...</td>\n",
              "      <td>1</td>\n",
              "      <td>81ae1299dd10f764a6e59ac1c08a8a18</td>\n",
              "      <td>0</td>\n",
              "      <td>4.92</td>\n",
              "      <td>...</td>\n",
              "      <td>0.06</td>\n",
              "      <td>0.0</td>\n",
              "      <td>36770631.0</td>\n",
              "      <td>2022-12-09T15:07:41.000Z</td>\n",
              "      <td>True</td>\n",
              "      <td>EG</td>\n",
              "      <td>AR,EN,</td>\n",
              "      <td>1984-03-11</td>\n",
              "      <td>2021-01-13T00:00:00.000Z</td>\n",
              "      <td>38</td>\n",
              "    </tr>\n",
              "    <tr>\n",
              "      <th>3</th>\n",
              "      <td>3</td>\n",
              "      <td>1.316041e+09</td>\n",
              "      <td>49390.0</td>\n",
              "      <td>Entity image selection</td>\n",
              "      <td>1</td>\n",
              "      <td>From the selection of images for the entity(pe...</td>\n",
              "      <td>1</td>\n",
              "      <td>81ae1299dd10f764a6e59ac1c08a8a18</td>\n",
              "      <td>0</td>\n",
              "      <td>4.92</td>\n",
              "      <td>...</td>\n",
              "      <td>0.06</td>\n",
              "      <td>0.0</td>\n",
              "      <td>36775179.0</td>\n",
              "      <td>2022-12-09T22:25:32.000Z</td>\n",
              "      <td>True</td>\n",
              "      <td>EG</td>\n",
              "      <td>AR,EN,</td>\n",
              "      <td>1984-03-11</td>\n",
              "      <td>2021-01-13T00:00:00.000Z</td>\n",
              "      <td>38</td>\n",
              "    </tr>\n",
              "    <tr>\n",
              "      <th>4</th>\n",
              "      <td>4</td>\n",
              "      <td>1.316041e+09</td>\n",
              "      <td>49390.0</td>\n",
              "      <td>Entity image selection</td>\n",
              "      <td>1</td>\n",
              "      <td>From the selection of images for the entity(pe...</td>\n",
              "      <td>1</td>\n",
              "      <td>81ae1299dd10f764a6e59ac1c08a8a18</td>\n",
              "      <td>0</td>\n",
              "      <td>4.92</td>\n",
              "      <td>...</td>\n",
              "      <td>0.06</td>\n",
              "      <td>0.0</td>\n",
              "      <td>36775179.0</td>\n",
              "      <td>2022-12-09T22:25:32.000Z</td>\n",
              "      <td>True</td>\n",
              "      <td>EG</td>\n",
              "      <td>AR,EN,</td>\n",
              "      <td>1984-03-11</td>\n",
              "      <td>2021-01-13T00:00:00.000Z</td>\n",
              "      <td>38</td>\n",
              "    </tr>\n",
              "  </tbody>\n",
              "</table>\n",
              "<p>5 rows × 22 columns</p>\n",
              "</div>\n",
              "      <button class=\"colab-df-convert\" onclick=\"convertToInteractive('df-297dba96-0934-46f0-aab2-8c93311a7a9b')\"\n",
              "              title=\"Convert this dataframe to an interactive table.\"\n",
              "              style=\"display:none;\">\n",
              "        \n",
              "  <svg xmlns=\"http://www.w3.org/2000/svg\" height=\"24px\"viewBox=\"0 0 24 24\"\n",
              "       width=\"24px\">\n",
              "    <path d=\"M0 0h24v24H0V0z\" fill=\"none\"/>\n",
              "    <path d=\"M18.56 5.44l.94 2.06.94-2.06 2.06-.94-2.06-.94-.94-2.06-.94 2.06-2.06.94zm-11 1L8.5 8.5l.94-2.06 2.06-.94-2.06-.94L8.5 2.5l-.94 2.06-2.06.94zm10 10l.94 2.06.94-2.06 2.06-.94-2.06-.94-.94-2.06-.94 2.06-2.06.94z\"/><path d=\"M17.41 7.96l-1.37-1.37c-.4-.4-.92-.59-1.43-.59-.52 0-1.04.2-1.43.59L10.3 9.45l-7.72 7.72c-.78.78-.78 2.05 0 2.83L4 21.41c.39.39.9.59 1.41.59.51 0 1.02-.2 1.41-.59l7.78-7.78 2.81-2.81c.8-.78.8-2.07 0-2.86zM5.41 20L4 18.59l7.72-7.72 1.47 1.35L5.41 20z\"/>\n",
              "  </svg>\n",
              "      </button>\n",
              "      \n",
              "  <style>\n",
              "    .colab-df-container {\n",
              "      display:flex;\n",
              "      flex-wrap:wrap;\n",
              "      gap: 12px;\n",
              "    }\n",
              "\n",
              "    .colab-df-convert {\n",
              "      background-color: #E8F0FE;\n",
              "      border: none;\n",
              "      border-radius: 50%;\n",
              "      cursor: pointer;\n",
              "      display: none;\n",
              "      fill: #1967D2;\n",
              "      height: 32px;\n",
              "      padding: 0 0 0 0;\n",
              "      width: 32px;\n",
              "    }\n",
              "\n",
              "    .colab-df-convert:hover {\n",
              "      background-color: #E2EBFA;\n",
              "      box-shadow: 0px 1px 2px rgba(60, 64, 67, 0.3), 0px 1px 3px 1px rgba(60, 64, 67, 0.15);\n",
              "      fill: #174EA6;\n",
              "    }\n",
              "\n",
              "    [theme=dark] .colab-df-convert {\n",
              "      background-color: #3B4455;\n",
              "      fill: #D2E3FC;\n",
              "    }\n",
              "\n",
              "    [theme=dark] .colab-df-convert:hover {\n",
              "      background-color: #434B5C;\n",
              "      box-shadow: 0px 1px 3px 1px rgba(0, 0, 0, 0.15);\n",
              "      filter: drop-shadow(0px 1px 2px rgba(0, 0, 0, 0.3));\n",
              "      fill: #FFFFFF;\n",
              "    }\n",
              "  </style>\n",
              "\n",
              "      <script>\n",
              "        const buttonEl =\n",
              "          document.querySelector('#df-297dba96-0934-46f0-aab2-8c93311a7a9b button.colab-df-convert');\n",
              "        buttonEl.style.display =\n",
              "          google.colab.kernel.accessAllowed ? 'block' : 'none';\n",
              "\n",
              "        async function convertToInteractive(key) {\n",
              "          const element = document.querySelector('#df-297dba96-0934-46f0-aab2-8c93311a7a9b');\n",
              "          const dataTable =\n",
              "            await google.colab.kernel.invokeFunction('convertToInteractive',\n",
              "                                                     [key], {});\n",
              "          if (!dataTable) return;\n",
              "\n",
              "          const docLinkHtml = 'Like what you see? Visit the ' +\n",
              "            '<a target=\"_blank\" href=https://colab.research.google.com/notebooks/data_table.ipynb>data table notebook</a>'\n",
              "            + ' to learn more about interactive tables.';\n",
              "          element.innerHTML = '';\n",
              "          dataTable['output_type'] = 'display_data';\n",
              "          await google.colab.output.renderOutput(dataTable, element);\n",
              "          const docLink = document.createElement('div');\n",
              "          docLink.innerHTML = docLinkHtml;\n",
              "          element.appendChild(docLink);\n",
              "        }\n",
              "      </script>\n",
              "    </div>\n",
              "  </div>\n",
              "  "
            ]
          },
          "metadata": {},
          "execution_count": 34
        }
      ]
    },
    {
      "cell_type": "code",
      "source": [
        "df3 = df2.iloc[: , 1:]"
      ],
      "metadata": {
        "id": "IxYZR5NK2u_N"
      },
      "execution_count": null,
      "outputs": []
    },
    {
      "cell_type": "code",
      "source": [
        "df3.head()"
      ],
      "metadata": {
        "id": "E-huSZ7J3LgT",
        "outputId": "da97c473-9cbb-46f1-a9f6-377494876efd",
        "colab": {
          "base_uri": "https://localhost:8080/",
          "height": 647
        }
      },
      "execution_count": null,
      "outputs": [
        {
          "output_type": "execute_result",
          "data": {
            "text/plain": [
              "        user_id  project_id                   title adult_content  \\\n",
              "0  1.316041e+09     49390.0  Entity image selection             1   \n",
              "1  1.316041e+09     49390.0  Entity image selection             1   \n",
              "2  1.316041e+09     49390.0  Entity image selection             1   \n",
              "3  1.316041e+09     49390.0  Entity image selection             1   \n",
              "4  1.316041e+09     49390.0  Entity image selection             1   \n",
              "\n",
              "                                         description instructions_flag  \\\n",
              "0  From the selection of images for the entity(pe...                 1   \n",
              "1  From the selection of images for the entity(pe...                 1   \n",
              "2  From the selection of images for the entity(pe...                 1   \n",
              "3  From the selection of images for the entity(pe...                 1   \n",
              "4  From the selection of images for the entity(pe...                 1   \n",
              "\n",
              "                       requester_id requester_trusted_flag  project_stat  \\\n",
              "0  81ae1299dd10f764a6e59ac1c08a8a18                      0          4.92   \n",
              "1  81ae1299dd10f764a6e59ac1c08a8a18                      0          4.92   \n",
              "2  81ae1299dd10f764a6e59ac1c08a8a18                      0          4.92   \n",
              "3  81ae1299dd10f764a6e59ac1c08a8a18                      0          4.92   \n",
              "4  81ae1299dd10f764a6e59ac1c08a8a18                      0          4.92   \n",
              "\n",
              "   avg_money_hourly  ...  moneyTop10  moneyMax3     pool_id  \\\n",
              "0           2.14286  ...        0.06        0.0  36770631.0   \n",
              "1           2.14286  ...        0.06        0.0  36770631.0   \n",
              "2           2.14286  ...        0.06        0.0  36770631.0   \n",
              "3           2.16867  ...        0.06        0.0  36775179.0   \n",
              "4           2.16867  ...        0.06        0.0  36775179.0   \n",
              "\n",
              "            pool_started_at task_attempted_flag country user_language  \\\n",
              "0  2022-12-09T15:07:41.000Z                True      EG        AR,EN,   \n",
              "1  2022-12-09T15:07:41.000Z                True      EG        AR,EN,   \n",
              "2  2022-12-09T15:07:41.000Z                True      EG        AR,EN,   \n",
              "3  2022-12-09T22:25:32.000Z                True      EG        AR,EN,   \n",
              "4  2022-12-09T22:25:32.000Z                True      EG        AR,EN,   \n",
              "\n",
              "   birth_day                    joined age  \n",
              "0 1984-03-11  2021-01-13T00:00:00.000Z  38  \n",
              "1 1984-03-11  2021-01-13T00:00:00.000Z  38  \n",
              "2 1984-03-11  2021-01-13T00:00:00.000Z  38  \n",
              "3 1984-03-11  2021-01-13T00:00:00.000Z  38  \n",
              "4 1984-03-11  2021-01-13T00:00:00.000Z  38  \n",
              "\n",
              "[5 rows x 21 columns]"
            ],
            "text/html": [
              "\n",
              "  <div id=\"df-4183a22d-2158-4f64-8f01-ec2e8f37794f\">\n",
              "    <div class=\"colab-df-container\">\n",
              "      <div>\n",
              "<style scoped>\n",
              "    .dataframe tbody tr th:only-of-type {\n",
              "        vertical-align: middle;\n",
              "    }\n",
              "\n",
              "    .dataframe tbody tr th {\n",
              "        vertical-align: top;\n",
              "    }\n",
              "\n",
              "    .dataframe thead th {\n",
              "        text-align: right;\n",
              "    }\n",
              "</style>\n",
              "<table border=\"1\" class=\"dataframe\">\n",
              "  <thead>\n",
              "    <tr style=\"text-align: right;\">\n",
              "      <th></th>\n",
              "      <th>user_id</th>\n",
              "      <th>project_id</th>\n",
              "      <th>title</th>\n",
              "      <th>adult_content</th>\n",
              "      <th>description</th>\n",
              "      <th>instructions_flag</th>\n",
              "      <th>requester_id</th>\n",
              "      <th>requester_trusted_flag</th>\n",
              "      <th>project_stat</th>\n",
              "      <th>avg_money_hourly</th>\n",
              "      <th>...</th>\n",
              "      <th>moneyTop10</th>\n",
              "      <th>moneyMax3</th>\n",
              "      <th>pool_id</th>\n",
              "      <th>pool_started_at</th>\n",
              "      <th>task_attempted_flag</th>\n",
              "      <th>country</th>\n",
              "      <th>user_language</th>\n",
              "      <th>birth_day</th>\n",
              "      <th>joined</th>\n",
              "      <th>age</th>\n",
              "    </tr>\n",
              "  </thead>\n",
              "  <tbody>\n",
              "    <tr>\n",
              "      <th>0</th>\n",
              "      <td>1.316041e+09</td>\n",
              "      <td>49390.0</td>\n",
              "      <td>Entity image selection</td>\n",
              "      <td>1</td>\n",
              "      <td>From the selection of images for the entity(pe...</td>\n",
              "      <td>1</td>\n",
              "      <td>81ae1299dd10f764a6e59ac1c08a8a18</td>\n",
              "      <td>0</td>\n",
              "      <td>4.92</td>\n",
              "      <td>2.14286</td>\n",
              "      <td>...</td>\n",
              "      <td>0.06</td>\n",
              "      <td>0.0</td>\n",
              "      <td>36770631.0</td>\n",
              "      <td>2022-12-09T15:07:41.000Z</td>\n",
              "      <td>True</td>\n",
              "      <td>EG</td>\n",
              "      <td>AR,EN,</td>\n",
              "      <td>1984-03-11</td>\n",
              "      <td>2021-01-13T00:00:00.000Z</td>\n",
              "      <td>38</td>\n",
              "    </tr>\n",
              "    <tr>\n",
              "      <th>1</th>\n",
              "      <td>1.316041e+09</td>\n",
              "      <td>49390.0</td>\n",
              "      <td>Entity image selection</td>\n",
              "      <td>1</td>\n",
              "      <td>From the selection of images for the entity(pe...</td>\n",
              "      <td>1</td>\n",
              "      <td>81ae1299dd10f764a6e59ac1c08a8a18</td>\n",
              "      <td>0</td>\n",
              "      <td>4.92</td>\n",
              "      <td>2.14286</td>\n",
              "      <td>...</td>\n",
              "      <td>0.06</td>\n",
              "      <td>0.0</td>\n",
              "      <td>36770631.0</td>\n",
              "      <td>2022-12-09T15:07:41.000Z</td>\n",
              "      <td>True</td>\n",
              "      <td>EG</td>\n",
              "      <td>AR,EN,</td>\n",
              "      <td>1984-03-11</td>\n",
              "      <td>2021-01-13T00:00:00.000Z</td>\n",
              "      <td>38</td>\n",
              "    </tr>\n",
              "    <tr>\n",
              "      <th>2</th>\n",
              "      <td>1.316041e+09</td>\n",
              "      <td>49390.0</td>\n",
              "      <td>Entity image selection</td>\n",
              "      <td>1</td>\n",
              "      <td>From the selection of images for the entity(pe...</td>\n",
              "      <td>1</td>\n",
              "      <td>81ae1299dd10f764a6e59ac1c08a8a18</td>\n",
              "      <td>0</td>\n",
              "      <td>4.92</td>\n",
              "      <td>2.14286</td>\n",
              "      <td>...</td>\n",
              "      <td>0.06</td>\n",
              "      <td>0.0</td>\n",
              "      <td>36770631.0</td>\n",
              "      <td>2022-12-09T15:07:41.000Z</td>\n",
              "      <td>True</td>\n",
              "      <td>EG</td>\n",
              "      <td>AR,EN,</td>\n",
              "      <td>1984-03-11</td>\n",
              "      <td>2021-01-13T00:00:00.000Z</td>\n",
              "      <td>38</td>\n",
              "    </tr>\n",
              "    <tr>\n",
              "      <th>3</th>\n",
              "      <td>1.316041e+09</td>\n",
              "      <td>49390.0</td>\n",
              "      <td>Entity image selection</td>\n",
              "      <td>1</td>\n",
              "      <td>From the selection of images for the entity(pe...</td>\n",
              "      <td>1</td>\n",
              "      <td>81ae1299dd10f764a6e59ac1c08a8a18</td>\n",
              "      <td>0</td>\n",
              "      <td>4.92</td>\n",
              "      <td>2.16867</td>\n",
              "      <td>...</td>\n",
              "      <td>0.06</td>\n",
              "      <td>0.0</td>\n",
              "      <td>36775179.0</td>\n",
              "      <td>2022-12-09T22:25:32.000Z</td>\n",
              "      <td>True</td>\n",
              "      <td>EG</td>\n",
              "      <td>AR,EN,</td>\n",
              "      <td>1984-03-11</td>\n",
              "      <td>2021-01-13T00:00:00.000Z</td>\n",
              "      <td>38</td>\n",
              "    </tr>\n",
              "    <tr>\n",
              "      <th>4</th>\n",
              "      <td>1.316041e+09</td>\n",
              "      <td>49390.0</td>\n",
              "      <td>Entity image selection</td>\n",
              "      <td>1</td>\n",
              "      <td>From the selection of images for the entity(pe...</td>\n",
              "      <td>1</td>\n",
              "      <td>81ae1299dd10f764a6e59ac1c08a8a18</td>\n",
              "      <td>0</td>\n",
              "      <td>4.92</td>\n",
              "      <td>2.16867</td>\n",
              "      <td>...</td>\n",
              "      <td>0.06</td>\n",
              "      <td>0.0</td>\n",
              "      <td>36775179.0</td>\n",
              "      <td>2022-12-09T22:25:32.000Z</td>\n",
              "      <td>True</td>\n",
              "      <td>EG</td>\n",
              "      <td>AR,EN,</td>\n",
              "      <td>1984-03-11</td>\n",
              "      <td>2021-01-13T00:00:00.000Z</td>\n",
              "      <td>38</td>\n",
              "    </tr>\n",
              "  </tbody>\n",
              "</table>\n",
              "<p>5 rows × 21 columns</p>\n",
              "</div>\n",
              "      <button class=\"colab-df-convert\" onclick=\"convertToInteractive('df-4183a22d-2158-4f64-8f01-ec2e8f37794f')\"\n",
              "              title=\"Convert this dataframe to an interactive table.\"\n",
              "              style=\"display:none;\">\n",
              "        \n",
              "  <svg xmlns=\"http://www.w3.org/2000/svg\" height=\"24px\"viewBox=\"0 0 24 24\"\n",
              "       width=\"24px\">\n",
              "    <path d=\"M0 0h24v24H0V0z\" fill=\"none\"/>\n",
              "    <path d=\"M18.56 5.44l.94 2.06.94-2.06 2.06-.94-2.06-.94-.94-2.06-.94 2.06-2.06.94zm-11 1L8.5 8.5l.94-2.06 2.06-.94-2.06-.94L8.5 2.5l-.94 2.06-2.06.94zm10 10l.94 2.06.94-2.06 2.06-.94-2.06-.94-.94-2.06-.94 2.06-2.06.94z\"/><path d=\"M17.41 7.96l-1.37-1.37c-.4-.4-.92-.59-1.43-.59-.52 0-1.04.2-1.43.59L10.3 9.45l-7.72 7.72c-.78.78-.78 2.05 0 2.83L4 21.41c.39.39.9.59 1.41.59.51 0 1.02-.2 1.41-.59l7.78-7.78 2.81-2.81c.8-.78.8-2.07 0-2.86zM5.41 20L4 18.59l7.72-7.72 1.47 1.35L5.41 20z\"/>\n",
              "  </svg>\n",
              "      </button>\n",
              "      \n",
              "  <style>\n",
              "    .colab-df-container {\n",
              "      display:flex;\n",
              "      flex-wrap:wrap;\n",
              "      gap: 12px;\n",
              "    }\n",
              "\n",
              "    .colab-df-convert {\n",
              "      background-color: #E8F0FE;\n",
              "      border: none;\n",
              "      border-radius: 50%;\n",
              "      cursor: pointer;\n",
              "      display: none;\n",
              "      fill: #1967D2;\n",
              "      height: 32px;\n",
              "      padding: 0 0 0 0;\n",
              "      width: 32px;\n",
              "    }\n",
              "\n",
              "    .colab-df-convert:hover {\n",
              "      background-color: #E2EBFA;\n",
              "      box-shadow: 0px 1px 2px rgba(60, 64, 67, 0.3), 0px 1px 3px 1px rgba(60, 64, 67, 0.15);\n",
              "      fill: #174EA6;\n",
              "    }\n",
              "\n",
              "    [theme=dark] .colab-df-convert {\n",
              "      background-color: #3B4455;\n",
              "      fill: #D2E3FC;\n",
              "    }\n",
              "\n",
              "    [theme=dark] .colab-df-convert:hover {\n",
              "      background-color: #434B5C;\n",
              "      box-shadow: 0px 1px 3px 1px rgba(0, 0, 0, 0.15);\n",
              "      filter: drop-shadow(0px 1px 2px rgba(0, 0, 0, 0.3));\n",
              "      fill: #FFFFFF;\n",
              "    }\n",
              "  </style>\n",
              "\n",
              "      <script>\n",
              "        const buttonEl =\n",
              "          document.querySelector('#df-4183a22d-2158-4f64-8f01-ec2e8f37794f button.colab-df-convert');\n",
              "        buttonEl.style.display =\n",
              "          google.colab.kernel.accessAllowed ? 'block' : 'none';\n",
              "\n",
              "        async function convertToInteractive(key) {\n",
              "          const element = document.querySelector('#df-4183a22d-2158-4f64-8f01-ec2e8f37794f');\n",
              "          const dataTable =\n",
              "            await google.colab.kernel.invokeFunction('convertToInteractive',\n",
              "                                                     [key], {});\n",
              "          if (!dataTable) return;\n",
              "\n",
              "          const docLinkHtml = 'Like what you see? Visit the ' +\n",
              "            '<a target=\"_blank\" href=https://colab.research.google.com/notebooks/data_table.ipynb>data table notebook</a>'\n",
              "            + ' to learn more about interactive tables.';\n",
              "          element.innerHTML = '';\n",
              "          dataTable['output_type'] = 'display_data';\n",
              "          await google.colab.output.renderOutput(dataTable, element);\n",
              "          const docLink = document.createElement('div');\n",
              "          docLink.innerHTML = docLinkHtml;\n",
              "          element.appendChild(docLink);\n",
              "        }\n",
              "      </script>\n",
              "    </div>\n",
              "  </div>\n",
              "  "
            ]
          },
          "metadata": {},
          "execution_count": 36
        }
      ]
    },
    {
      "cell_type": "code",
      "source": [
        "df_csv = df3.to_csv('cleaned_data.csv')"
      ],
      "metadata": {
        "id": "M947nOKlOLjI"
      },
      "execution_count": null,
      "outputs": []
    },
    {
      "cell_type": "code",
      "source": [],
      "metadata": {
        "id": "SlPU4ntNid_u"
      },
      "execution_count": null,
      "outputs": []
    }
  ]
}
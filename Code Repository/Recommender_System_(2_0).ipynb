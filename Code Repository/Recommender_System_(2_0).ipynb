{
  "nbformat": 4,
  "nbformat_minor": 0,
  "metadata": {
    "colab": {
      "provenance": []
    },
    "kernelspec": {
      "name": "python3",
      "display_name": "Python 3"
    },
    "language_info": {
      "name": "python"
    }
  },
  "cells": [
    {
      "cell_type": "code",
      "execution_count": null,
      "metadata": {
        "id": "m7D9HED6Pz3F"
      },
      "outputs": [],
      "source": [
        "%matplotlib inline\n",
        "import matplotlib.pyplot as plt\n",
        "import seaborn as sns\n",
        "import pandas as pd\n",
        "import io\n",
        "from google.colab import files\n",
        "from sklearn.model_selection import train_test_split\n",
        "import warnings; warnings.simplefilter('ignore')\n",
        "from sklearn.metrics.pairwise import cosine_similarity\n",
        "from sklearn.feature_extraction.text import TfidfVectorizer"
      ]
    },
    {
      "cell_type": "code",
      "source": [
        "def import_dataset():\n",
        "  for _ in range(4):\n",
        "    uploaded = files.upload()\n",
        "  income_data = pd.read_csv('income_data.csv')\n",
        "  user_data = pd.read_csv('user_data.csv')\n",
        "  task_data = pd.read_csv('task_data.csv')\n",
        "  assignment_data = pd.read_csv('assignment_data.csv')\n",
        "  return income_data, user_data, task_data, assignment_data"
      ],
      "metadata": {
        "id": "4AB0XnRESVwK"
      },
      "execution_count": null,
      "outputs": []
    },
    {
      "cell_type": "code",
      "source": [
        "income_data, user_data, task_data, assignment_data = import_dataset()"
      ],
      "metadata": {
        "colab": {
          "base_uri": "https://localhost:8080/",
          "height": 242
        },
        "id": "5oEnV_tfSg7-",
        "outputId": "4b971645-2887-48a1-8290-2571e589e949"
      },
      "execution_count": null,
      "outputs": [
        {
          "output_type": "display_data",
          "data": {
            "text/plain": [
              "<IPython.core.display.HTML object>"
            ],
            "text/html": [
              "\n",
              "     <input type=\"file\" id=\"files-c5eb801f-88c7-4e1c-ac1a-f520da06b22f\" name=\"files[]\" multiple disabled\n",
              "        style=\"border:none\" />\n",
              "     <output id=\"result-c5eb801f-88c7-4e1c-ac1a-f520da06b22f\">\n",
              "      Upload widget is only available when the cell has been executed in the\n",
              "      current browser session. Please rerun this cell to enable.\n",
              "      </output>\n",
              "      <script>// Copyright 2017 Google LLC\n",
              "//\n",
              "// Licensed under the Apache License, Version 2.0 (the \"License\");\n",
              "// you may not use this file except in compliance with the License.\n",
              "// You may obtain a copy of the License at\n",
              "//\n",
              "//      http://www.apache.org/licenses/LICENSE-2.0\n",
              "//\n",
              "// Unless required by applicable law or agreed to in writing, software\n",
              "// distributed under the License is distributed on an \"AS IS\" BASIS,\n",
              "// WITHOUT WARRANTIES OR CONDITIONS OF ANY KIND, either express or implied.\n",
              "// See the License for the specific language governing permissions and\n",
              "// limitations under the License.\n",
              "\n",
              "/**\n",
              " * @fileoverview Helpers for google.colab Python module.\n",
              " */\n",
              "(function(scope) {\n",
              "function span(text, styleAttributes = {}) {\n",
              "  const element = document.createElement('span');\n",
              "  element.textContent = text;\n",
              "  for (const key of Object.keys(styleAttributes)) {\n",
              "    element.style[key] = styleAttributes[key];\n",
              "  }\n",
              "  return element;\n",
              "}\n",
              "\n",
              "// Max number of bytes which will be uploaded at a time.\n",
              "const MAX_PAYLOAD_SIZE = 100 * 1024;\n",
              "\n",
              "function _uploadFiles(inputId, outputId) {\n",
              "  const steps = uploadFilesStep(inputId, outputId);\n",
              "  const outputElement = document.getElementById(outputId);\n",
              "  // Cache steps on the outputElement to make it available for the next call\n",
              "  // to uploadFilesContinue from Python.\n",
              "  outputElement.steps = steps;\n",
              "\n",
              "  return _uploadFilesContinue(outputId);\n",
              "}\n",
              "\n",
              "// This is roughly an async generator (not supported in the browser yet),\n",
              "// where there are multiple asynchronous steps and the Python side is going\n",
              "// to poll for completion of each step.\n",
              "// This uses a Promise to block the python side on completion of each step,\n",
              "// then passes the result of the previous step as the input to the next step.\n",
              "function _uploadFilesContinue(outputId) {\n",
              "  const outputElement = document.getElementById(outputId);\n",
              "  const steps = outputElement.steps;\n",
              "\n",
              "  const next = steps.next(outputElement.lastPromiseValue);\n",
              "  return Promise.resolve(next.value.promise).then((value) => {\n",
              "    // Cache the last promise value to make it available to the next\n",
              "    // step of the generator.\n",
              "    outputElement.lastPromiseValue = value;\n",
              "    return next.value.response;\n",
              "  });\n",
              "}\n",
              "\n",
              "/**\n",
              " * Generator function which is called between each async step of the upload\n",
              " * process.\n",
              " * @param {string} inputId Element ID of the input file picker element.\n",
              " * @param {string} outputId Element ID of the output display.\n",
              " * @return {!Iterable<!Object>} Iterable of next steps.\n",
              " */\n",
              "function* uploadFilesStep(inputId, outputId) {\n",
              "  const inputElement = document.getElementById(inputId);\n",
              "  inputElement.disabled = false;\n",
              "\n",
              "  const outputElement = document.getElementById(outputId);\n",
              "  outputElement.innerHTML = '';\n",
              "\n",
              "  const pickedPromise = new Promise((resolve) => {\n",
              "    inputElement.addEventListener('change', (e) => {\n",
              "      resolve(e.target.files);\n",
              "    });\n",
              "  });\n",
              "\n",
              "  const cancel = document.createElement('button');\n",
              "  inputElement.parentElement.appendChild(cancel);\n",
              "  cancel.textContent = 'Cancel upload';\n",
              "  const cancelPromise = new Promise((resolve) => {\n",
              "    cancel.onclick = () => {\n",
              "      resolve(null);\n",
              "    };\n",
              "  });\n",
              "\n",
              "  // Wait for the user to pick the files.\n",
              "  const files = yield {\n",
              "    promise: Promise.race([pickedPromise, cancelPromise]),\n",
              "    response: {\n",
              "      action: 'starting',\n",
              "    }\n",
              "  };\n",
              "\n",
              "  cancel.remove();\n",
              "\n",
              "  // Disable the input element since further picks are not allowed.\n",
              "  inputElement.disabled = true;\n",
              "\n",
              "  if (!files) {\n",
              "    return {\n",
              "      response: {\n",
              "        action: 'complete',\n",
              "      }\n",
              "    };\n",
              "  }\n",
              "\n",
              "  for (const file of files) {\n",
              "    const li = document.createElement('li');\n",
              "    li.append(span(file.name, {fontWeight: 'bold'}));\n",
              "    li.append(span(\n",
              "        `(${file.type || 'n/a'}) - ${file.size} bytes, ` +\n",
              "        `last modified: ${\n",
              "            file.lastModifiedDate ? file.lastModifiedDate.toLocaleDateString() :\n",
              "                                    'n/a'} - `));\n",
              "    const percent = span('0% done');\n",
              "    li.appendChild(percent);\n",
              "\n",
              "    outputElement.appendChild(li);\n",
              "\n",
              "    const fileDataPromise = new Promise((resolve) => {\n",
              "      const reader = new FileReader();\n",
              "      reader.onload = (e) => {\n",
              "        resolve(e.target.result);\n",
              "      };\n",
              "      reader.readAsArrayBuffer(file);\n",
              "    });\n",
              "    // Wait for the data to be ready.\n",
              "    let fileData = yield {\n",
              "      promise: fileDataPromise,\n",
              "      response: {\n",
              "        action: 'continue',\n",
              "      }\n",
              "    };\n",
              "\n",
              "    // Use a chunked sending to avoid message size limits. See b/62115660.\n",
              "    let position = 0;\n",
              "    do {\n",
              "      const length = Math.min(fileData.byteLength - position, MAX_PAYLOAD_SIZE);\n",
              "      const chunk = new Uint8Array(fileData, position, length);\n",
              "      position += length;\n",
              "\n",
              "      const base64 = btoa(String.fromCharCode.apply(null, chunk));\n",
              "      yield {\n",
              "        response: {\n",
              "          action: 'append',\n",
              "          file: file.name,\n",
              "          data: base64,\n",
              "        },\n",
              "      };\n",
              "\n",
              "      let percentDone = fileData.byteLength === 0 ?\n",
              "          100 :\n",
              "          Math.round((position / fileData.byteLength) * 100);\n",
              "      percent.textContent = `${percentDone}% done`;\n",
              "\n",
              "    } while (position < fileData.byteLength);\n",
              "  }\n",
              "\n",
              "  // All done.\n",
              "  yield {\n",
              "    response: {\n",
              "      action: 'complete',\n",
              "    }\n",
              "  };\n",
              "}\n",
              "\n",
              "scope.google = scope.google || {};\n",
              "scope.google.colab = scope.google.colab || {};\n",
              "scope.google.colab._files = {\n",
              "  _uploadFiles,\n",
              "  _uploadFilesContinue,\n",
              "};\n",
              "})(self);\n",
              "</script> "
            ]
          },
          "metadata": {}
        },
        {
          "output_type": "stream",
          "name": "stdout",
          "text": [
            "Saving user_data.csv to user_data (2).csv\n"
          ]
        },
        {
          "output_type": "display_data",
          "data": {
            "text/plain": [
              "<IPython.core.display.HTML object>"
            ],
            "text/html": [
              "\n",
              "     <input type=\"file\" id=\"files-0af5bb4f-80ea-43d5-8883-e4def5234a08\" name=\"files[]\" multiple disabled\n",
              "        style=\"border:none\" />\n",
              "     <output id=\"result-0af5bb4f-80ea-43d5-8883-e4def5234a08\">\n",
              "      Upload widget is only available when the cell has been executed in the\n",
              "      current browser session. Please rerun this cell to enable.\n",
              "      </output>\n",
              "      <script>// Copyright 2017 Google LLC\n",
              "//\n",
              "// Licensed under the Apache License, Version 2.0 (the \"License\");\n",
              "// you may not use this file except in compliance with the License.\n",
              "// You may obtain a copy of the License at\n",
              "//\n",
              "//      http://www.apache.org/licenses/LICENSE-2.0\n",
              "//\n",
              "// Unless required by applicable law or agreed to in writing, software\n",
              "// distributed under the License is distributed on an \"AS IS\" BASIS,\n",
              "// WITHOUT WARRANTIES OR CONDITIONS OF ANY KIND, either express or implied.\n",
              "// See the License for the specific language governing permissions and\n",
              "// limitations under the License.\n",
              "\n",
              "/**\n",
              " * @fileoverview Helpers for google.colab Python module.\n",
              " */\n",
              "(function(scope) {\n",
              "function span(text, styleAttributes = {}) {\n",
              "  const element = document.createElement('span');\n",
              "  element.textContent = text;\n",
              "  for (const key of Object.keys(styleAttributes)) {\n",
              "    element.style[key] = styleAttributes[key];\n",
              "  }\n",
              "  return element;\n",
              "}\n",
              "\n",
              "// Max number of bytes which will be uploaded at a time.\n",
              "const MAX_PAYLOAD_SIZE = 100 * 1024;\n",
              "\n",
              "function _uploadFiles(inputId, outputId) {\n",
              "  const steps = uploadFilesStep(inputId, outputId);\n",
              "  const outputElement = document.getElementById(outputId);\n",
              "  // Cache steps on the outputElement to make it available for the next call\n",
              "  // to uploadFilesContinue from Python.\n",
              "  outputElement.steps = steps;\n",
              "\n",
              "  return _uploadFilesContinue(outputId);\n",
              "}\n",
              "\n",
              "// This is roughly an async generator (not supported in the browser yet),\n",
              "// where there are multiple asynchronous steps and the Python side is going\n",
              "// to poll for completion of each step.\n",
              "// This uses a Promise to block the python side on completion of each step,\n",
              "// then passes the result of the previous step as the input to the next step.\n",
              "function _uploadFilesContinue(outputId) {\n",
              "  const outputElement = document.getElementById(outputId);\n",
              "  const steps = outputElement.steps;\n",
              "\n",
              "  const next = steps.next(outputElement.lastPromiseValue);\n",
              "  return Promise.resolve(next.value.promise).then((value) => {\n",
              "    // Cache the last promise value to make it available to the next\n",
              "    // step of the generator.\n",
              "    outputElement.lastPromiseValue = value;\n",
              "    return next.value.response;\n",
              "  });\n",
              "}\n",
              "\n",
              "/**\n",
              " * Generator function which is called between each async step of the upload\n",
              " * process.\n",
              " * @param {string} inputId Element ID of the input file picker element.\n",
              " * @param {string} outputId Element ID of the output display.\n",
              " * @return {!Iterable<!Object>} Iterable of next steps.\n",
              " */\n",
              "function* uploadFilesStep(inputId, outputId) {\n",
              "  const inputElement = document.getElementById(inputId);\n",
              "  inputElement.disabled = false;\n",
              "\n",
              "  const outputElement = document.getElementById(outputId);\n",
              "  outputElement.innerHTML = '';\n",
              "\n",
              "  const pickedPromise = new Promise((resolve) => {\n",
              "    inputElement.addEventListener('change', (e) => {\n",
              "      resolve(e.target.files);\n",
              "    });\n",
              "  });\n",
              "\n",
              "  const cancel = document.createElement('button');\n",
              "  inputElement.parentElement.appendChild(cancel);\n",
              "  cancel.textContent = 'Cancel upload';\n",
              "  const cancelPromise = new Promise((resolve) => {\n",
              "    cancel.onclick = () => {\n",
              "      resolve(null);\n",
              "    };\n",
              "  });\n",
              "\n",
              "  // Wait for the user to pick the files.\n",
              "  const files = yield {\n",
              "    promise: Promise.race([pickedPromise, cancelPromise]),\n",
              "    response: {\n",
              "      action: 'starting',\n",
              "    }\n",
              "  };\n",
              "\n",
              "  cancel.remove();\n",
              "\n",
              "  // Disable the input element since further picks are not allowed.\n",
              "  inputElement.disabled = true;\n",
              "\n",
              "  if (!files) {\n",
              "    return {\n",
              "      response: {\n",
              "        action: 'complete',\n",
              "      }\n",
              "    };\n",
              "  }\n",
              "\n",
              "  for (const file of files) {\n",
              "    const li = document.createElement('li');\n",
              "    li.append(span(file.name, {fontWeight: 'bold'}));\n",
              "    li.append(span(\n",
              "        `(${file.type || 'n/a'}) - ${file.size} bytes, ` +\n",
              "        `last modified: ${\n",
              "            file.lastModifiedDate ? file.lastModifiedDate.toLocaleDateString() :\n",
              "                                    'n/a'} - `));\n",
              "    const percent = span('0% done');\n",
              "    li.appendChild(percent);\n",
              "\n",
              "    outputElement.appendChild(li);\n",
              "\n",
              "    const fileDataPromise = new Promise((resolve) => {\n",
              "      const reader = new FileReader();\n",
              "      reader.onload = (e) => {\n",
              "        resolve(e.target.result);\n",
              "      };\n",
              "      reader.readAsArrayBuffer(file);\n",
              "    });\n",
              "    // Wait for the data to be ready.\n",
              "    let fileData = yield {\n",
              "      promise: fileDataPromise,\n",
              "      response: {\n",
              "        action: 'continue',\n",
              "      }\n",
              "    };\n",
              "\n",
              "    // Use a chunked sending to avoid message size limits. See b/62115660.\n",
              "    let position = 0;\n",
              "    do {\n",
              "      const length = Math.min(fileData.byteLength - position, MAX_PAYLOAD_SIZE);\n",
              "      const chunk = new Uint8Array(fileData, position, length);\n",
              "      position += length;\n",
              "\n",
              "      const base64 = btoa(String.fromCharCode.apply(null, chunk));\n",
              "      yield {\n",
              "        response: {\n",
              "          action: 'append',\n",
              "          file: file.name,\n",
              "          data: base64,\n",
              "        },\n",
              "      };\n",
              "\n",
              "      let percentDone = fileData.byteLength === 0 ?\n",
              "          100 :\n",
              "          Math.round((position / fileData.byteLength) * 100);\n",
              "      percent.textContent = `${percentDone}% done`;\n",
              "\n",
              "    } while (position < fileData.byteLength);\n",
              "  }\n",
              "\n",
              "  // All done.\n",
              "  yield {\n",
              "    response: {\n",
              "      action: 'complete',\n",
              "    }\n",
              "  };\n",
              "}\n",
              "\n",
              "scope.google = scope.google || {};\n",
              "scope.google.colab = scope.google.colab || {};\n",
              "scope.google.colab._files = {\n",
              "  _uploadFiles,\n",
              "  _uploadFilesContinue,\n",
              "};\n",
              "})(self);\n",
              "</script> "
            ]
          },
          "metadata": {}
        },
        {
          "output_type": "stream",
          "name": "stdout",
          "text": [
            "Saving task_data.csv to task_data (2).csv\n"
          ]
        },
        {
          "output_type": "display_data",
          "data": {
            "text/plain": [
              "<IPython.core.display.HTML object>"
            ],
            "text/html": [
              "\n",
              "     <input type=\"file\" id=\"files-a4e63844-8d9c-4469-bb66-89832c11c11a\" name=\"files[]\" multiple disabled\n",
              "        style=\"border:none\" />\n",
              "     <output id=\"result-a4e63844-8d9c-4469-bb66-89832c11c11a\">\n",
              "      Upload widget is only available when the cell has been executed in the\n",
              "      current browser session. Please rerun this cell to enable.\n",
              "      </output>\n",
              "      <script>// Copyright 2017 Google LLC\n",
              "//\n",
              "// Licensed under the Apache License, Version 2.0 (the \"License\");\n",
              "// you may not use this file except in compliance with the License.\n",
              "// You may obtain a copy of the License at\n",
              "//\n",
              "//      http://www.apache.org/licenses/LICENSE-2.0\n",
              "//\n",
              "// Unless required by applicable law or agreed to in writing, software\n",
              "// distributed under the License is distributed on an \"AS IS\" BASIS,\n",
              "// WITHOUT WARRANTIES OR CONDITIONS OF ANY KIND, either express or implied.\n",
              "// See the License for the specific language governing permissions and\n",
              "// limitations under the License.\n",
              "\n",
              "/**\n",
              " * @fileoverview Helpers for google.colab Python module.\n",
              " */\n",
              "(function(scope) {\n",
              "function span(text, styleAttributes = {}) {\n",
              "  const element = document.createElement('span');\n",
              "  element.textContent = text;\n",
              "  for (const key of Object.keys(styleAttributes)) {\n",
              "    element.style[key] = styleAttributes[key];\n",
              "  }\n",
              "  return element;\n",
              "}\n",
              "\n",
              "// Max number of bytes which will be uploaded at a time.\n",
              "const MAX_PAYLOAD_SIZE = 100 * 1024;\n",
              "\n",
              "function _uploadFiles(inputId, outputId) {\n",
              "  const steps = uploadFilesStep(inputId, outputId);\n",
              "  const outputElement = document.getElementById(outputId);\n",
              "  // Cache steps on the outputElement to make it available for the next call\n",
              "  // to uploadFilesContinue from Python.\n",
              "  outputElement.steps = steps;\n",
              "\n",
              "  return _uploadFilesContinue(outputId);\n",
              "}\n",
              "\n",
              "// This is roughly an async generator (not supported in the browser yet),\n",
              "// where there are multiple asynchronous steps and the Python side is going\n",
              "// to poll for completion of each step.\n",
              "// This uses a Promise to block the python side on completion of each step,\n",
              "// then passes the result of the previous step as the input to the next step.\n",
              "function _uploadFilesContinue(outputId) {\n",
              "  const outputElement = document.getElementById(outputId);\n",
              "  const steps = outputElement.steps;\n",
              "\n",
              "  const next = steps.next(outputElement.lastPromiseValue);\n",
              "  return Promise.resolve(next.value.promise).then((value) => {\n",
              "    // Cache the last promise value to make it available to the next\n",
              "    // step of the generator.\n",
              "    outputElement.lastPromiseValue = value;\n",
              "    return next.value.response;\n",
              "  });\n",
              "}\n",
              "\n",
              "/**\n",
              " * Generator function which is called between each async step of the upload\n",
              " * process.\n",
              " * @param {string} inputId Element ID of the input file picker element.\n",
              " * @param {string} outputId Element ID of the output display.\n",
              " * @return {!Iterable<!Object>} Iterable of next steps.\n",
              " */\n",
              "function* uploadFilesStep(inputId, outputId) {\n",
              "  const inputElement = document.getElementById(inputId);\n",
              "  inputElement.disabled = false;\n",
              "\n",
              "  const outputElement = document.getElementById(outputId);\n",
              "  outputElement.innerHTML = '';\n",
              "\n",
              "  const pickedPromise = new Promise((resolve) => {\n",
              "    inputElement.addEventListener('change', (e) => {\n",
              "      resolve(e.target.files);\n",
              "    });\n",
              "  });\n",
              "\n",
              "  const cancel = document.createElement('button');\n",
              "  inputElement.parentElement.appendChild(cancel);\n",
              "  cancel.textContent = 'Cancel upload';\n",
              "  const cancelPromise = new Promise((resolve) => {\n",
              "    cancel.onclick = () => {\n",
              "      resolve(null);\n",
              "    };\n",
              "  });\n",
              "\n",
              "  // Wait for the user to pick the files.\n",
              "  const files = yield {\n",
              "    promise: Promise.race([pickedPromise, cancelPromise]),\n",
              "    response: {\n",
              "      action: 'starting',\n",
              "    }\n",
              "  };\n",
              "\n",
              "  cancel.remove();\n",
              "\n",
              "  // Disable the input element since further picks are not allowed.\n",
              "  inputElement.disabled = true;\n",
              "\n",
              "  if (!files) {\n",
              "    return {\n",
              "      response: {\n",
              "        action: 'complete',\n",
              "      }\n",
              "    };\n",
              "  }\n",
              "\n",
              "  for (const file of files) {\n",
              "    const li = document.createElement('li');\n",
              "    li.append(span(file.name, {fontWeight: 'bold'}));\n",
              "    li.append(span(\n",
              "        `(${file.type || 'n/a'}) - ${file.size} bytes, ` +\n",
              "        `last modified: ${\n",
              "            file.lastModifiedDate ? file.lastModifiedDate.toLocaleDateString() :\n",
              "                                    'n/a'} - `));\n",
              "    const percent = span('0% done');\n",
              "    li.appendChild(percent);\n",
              "\n",
              "    outputElement.appendChild(li);\n",
              "\n",
              "    const fileDataPromise = new Promise((resolve) => {\n",
              "      const reader = new FileReader();\n",
              "      reader.onload = (e) => {\n",
              "        resolve(e.target.result);\n",
              "      };\n",
              "      reader.readAsArrayBuffer(file);\n",
              "    });\n",
              "    // Wait for the data to be ready.\n",
              "    let fileData = yield {\n",
              "      promise: fileDataPromise,\n",
              "      response: {\n",
              "        action: 'continue',\n",
              "      }\n",
              "    };\n",
              "\n",
              "    // Use a chunked sending to avoid message size limits. See b/62115660.\n",
              "    let position = 0;\n",
              "    do {\n",
              "      const length = Math.min(fileData.byteLength - position, MAX_PAYLOAD_SIZE);\n",
              "      const chunk = new Uint8Array(fileData, position, length);\n",
              "      position += length;\n",
              "\n",
              "      const base64 = btoa(String.fromCharCode.apply(null, chunk));\n",
              "      yield {\n",
              "        response: {\n",
              "          action: 'append',\n",
              "          file: file.name,\n",
              "          data: base64,\n",
              "        },\n",
              "      };\n",
              "\n",
              "      let percentDone = fileData.byteLength === 0 ?\n",
              "          100 :\n",
              "          Math.round((position / fileData.byteLength) * 100);\n",
              "      percent.textContent = `${percentDone}% done`;\n",
              "\n",
              "    } while (position < fileData.byteLength);\n",
              "  }\n",
              "\n",
              "  // All done.\n",
              "  yield {\n",
              "    response: {\n",
              "      action: 'complete',\n",
              "    }\n",
              "  };\n",
              "}\n",
              "\n",
              "scope.google = scope.google || {};\n",
              "scope.google.colab = scope.google.colab || {};\n",
              "scope.google.colab._files = {\n",
              "  _uploadFiles,\n",
              "  _uploadFilesContinue,\n",
              "};\n",
              "})(self);\n",
              "</script> "
            ]
          },
          "metadata": {}
        },
        {
          "output_type": "stream",
          "name": "stdout",
          "text": [
            "Saving income_data.csv to income_data (2).csv\n"
          ]
        },
        {
          "output_type": "display_data",
          "data": {
            "text/plain": [
              "<IPython.core.display.HTML object>"
            ],
            "text/html": [
              "\n",
              "     <input type=\"file\" id=\"files-f41c0390-4620-400c-b686-6b571e03435f\" name=\"files[]\" multiple disabled\n",
              "        style=\"border:none\" />\n",
              "     <output id=\"result-f41c0390-4620-400c-b686-6b571e03435f\">\n",
              "      Upload widget is only available when the cell has been executed in the\n",
              "      current browser session. Please rerun this cell to enable.\n",
              "      </output>\n",
              "      <script>// Copyright 2017 Google LLC\n",
              "//\n",
              "// Licensed under the Apache License, Version 2.0 (the \"License\");\n",
              "// you may not use this file except in compliance with the License.\n",
              "// You may obtain a copy of the License at\n",
              "//\n",
              "//      http://www.apache.org/licenses/LICENSE-2.0\n",
              "//\n",
              "// Unless required by applicable law or agreed to in writing, software\n",
              "// distributed under the License is distributed on an \"AS IS\" BASIS,\n",
              "// WITHOUT WARRANTIES OR CONDITIONS OF ANY KIND, either express or implied.\n",
              "// See the License for the specific language governing permissions and\n",
              "// limitations under the License.\n",
              "\n",
              "/**\n",
              " * @fileoverview Helpers for google.colab Python module.\n",
              " */\n",
              "(function(scope) {\n",
              "function span(text, styleAttributes = {}) {\n",
              "  const element = document.createElement('span');\n",
              "  element.textContent = text;\n",
              "  for (const key of Object.keys(styleAttributes)) {\n",
              "    element.style[key] = styleAttributes[key];\n",
              "  }\n",
              "  return element;\n",
              "}\n",
              "\n",
              "// Max number of bytes which will be uploaded at a time.\n",
              "const MAX_PAYLOAD_SIZE = 100 * 1024;\n",
              "\n",
              "function _uploadFiles(inputId, outputId) {\n",
              "  const steps = uploadFilesStep(inputId, outputId);\n",
              "  const outputElement = document.getElementById(outputId);\n",
              "  // Cache steps on the outputElement to make it available for the next call\n",
              "  // to uploadFilesContinue from Python.\n",
              "  outputElement.steps = steps;\n",
              "\n",
              "  return _uploadFilesContinue(outputId);\n",
              "}\n",
              "\n",
              "// This is roughly an async generator (not supported in the browser yet),\n",
              "// where there are multiple asynchronous steps and the Python side is going\n",
              "// to poll for completion of each step.\n",
              "// This uses a Promise to block the python side on completion of each step,\n",
              "// then passes the result of the previous step as the input to the next step.\n",
              "function _uploadFilesContinue(outputId) {\n",
              "  const outputElement = document.getElementById(outputId);\n",
              "  const steps = outputElement.steps;\n",
              "\n",
              "  const next = steps.next(outputElement.lastPromiseValue);\n",
              "  return Promise.resolve(next.value.promise).then((value) => {\n",
              "    // Cache the last promise value to make it available to the next\n",
              "    // step of the generator.\n",
              "    outputElement.lastPromiseValue = value;\n",
              "    return next.value.response;\n",
              "  });\n",
              "}\n",
              "\n",
              "/**\n",
              " * Generator function which is called between each async step of the upload\n",
              " * process.\n",
              " * @param {string} inputId Element ID of the input file picker element.\n",
              " * @param {string} outputId Element ID of the output display.\n",
              " * @return {!Iterable<!Object>} Iterable of next steps.\n",
              " */\n",
              "function* uploadFilesStep(inputId, outputId) {\n",
              "  const inputElement = document.getElementById(inputId);\n",
              "  inputElement.disabled = false;\n",
              "\n",
              "  const outputElement = document.getElementById(outputId);\n",
              "  outputElement.innerHTML = '';\n",
              "\n",
              "  const pickedPromise = new Promise((resolve) => {\n",
              "    inputElement.addEventListener('change', (e) => {\n",
              "      resolve(e.target.files);\n",
              "    });\n",
              "  });\n",
              "\n",
              "  const cancel = document.createElement('button');\n",
              "  inputElement.parentElement.appendChild(cancel);\n",
              "  cancel.textContent = 'Cancel upload';\n",
              "  const cancelPromise = new Promise((resolve) => {\n",
              "    cancel.onclick = () => {\n",
              "      resolve(null);\n",
              "    };\n",
              "  });\n",
              "\n",
              "  // Wait for the user to pick the files.\n",
              "  const files = yield {\n",
              "    promise: Promise.race([pickedPromise, cancelPromise]),\n",
              "    response: {\n",
              "      action: 'starting',\n",
              "    }\n",
              "  };\n",
              "\n",
              "  cancel.remove();\n",
              "\n",
              "  // Disable the input element since further picks are not allowed.\n",
              "  inputElement.disabled = true;\n",
              "\n",
              "  if (!files) {\n",
              "    return {\n",
              "      response: {\n",
              "        action: 'complete',\n",
              "      }\n",
              "    };\n",
              "  }\n",
              "\n",
              "  for (const file of files) {\n",
              "    const li = document.createElement('li');\n",
              "    li.append(span(file.name, {fontWeight: 'bold'}));\n",
              "    li.append(span(\n",
              "        `(${file.type || 'n/a'}) - ${file.size} bytes, ` +\n",
              "        `last modified: ${\n",
              "            file.lastModifiedDate ? file.lastModifiedDate.toLocaleDateString() :\n",
              "                                    'n/a'} - `));\n",
              "    const percent = span('0% done');\n",
              "    li.appendChild(percent);\n",
              "\n",
              "    outputElement.appendChild(li);\n",
              "\n",
              "    const fileDataPromise = new Promise((resolve) => {\n",
              "      const reader = new FileReader();\n",
              "      reader.onload = (e) => {\n",
              "        resolve(e.target.result);\n",
              "      };\n",
              "      reader.readAsArrayBuffer(file);\n",
              "    });\n",
              "    // Wait for the data to be ready.\n",
              "    let fileData = yield {\n",
              "      promise: fileDataPromise,\n",
              "      response: {\n",
              "        action: 'continue',\n",
              "      }\n",
              "    };\n",
              "\n",
              "    // Use a chunked sending to avoid message size limits. See b/62115660.\n",
              "    let position = 0;\n",
              "    do {\n",
              "      const length = Math.min(fileData.byteLength - position, MAX_PAYLOAD_SIZE);\n",
              "      const chunk = new Uint8Array(fileData, position, length);\n",
              "      position += length;\n",
              "\n",
              "      const base64 = btoa(String.fromCharCode.apply(null, chunk));\n",
              "      yield {\n",
              "        response: {\n",
              "          action: 'append',\n",
              "          file: file.name,\n",
              "          data: base64,\n",
              "        },\n",
              "      };\n",
              "\n",
              "      let percentDone = fileData.byteLength === 0 ?\n",
              "          100 :\n",
              "          Math.round((position / fileData.byteLength) * 100);\n",
              "      percent.textContent = `${percentDone}% done`;\n",
              "\n",
              "    } while (position < fileData.byteLength);\n",
              "  }\n",
              "\n",
              "  // All done.\n",
              "  yield {\n",
              "    response: {\n",
              "      action: 'complete',\n",
              "    }\n",
              "  };\n",
              "}\n",
              "\n",
              "scope.google = scope.google || {};\n",
              "scope.google.colab = scope.google.colab || {};\n",
              "scope.google.colab._files = {\n",
              "  _uploadFiles,\n",
              "  _uploadFilesContinue,\n",
              "};\n",
              "})(self);\n",
              "</script> "
            ]
          },
          "metadata": {}
        },
        {
          "output_type": "stream",
          "name": "stdout",
          "text": [
            "Saving assignment_data.csv to assignment_data (1).csv\n"
          ]
        }
      ]
    },
    {
      "cell_type": "code",
      "source": [
        "task_data.columns"
      ],
      "metadata": {
        "colab": {
          "base_uri": "https://localhost:8080/"
        },
        "id": "Nm2zpHrTSjXr",
        "outputId": "2cc6b876-2142-47c2-c0ba-0bc623f099d6"
      },
      "execution_count": null,
      "outputs": [
        {
          "output_type": "execute_result",
          "data": {
            "text/plain": [
              "Index(['Unnamed: 0', 'project_id', 'pool_id', 'title', 'description',\n",
              "       'pool_startedAt', 'hasInstructions', 'mayContainAdultContent',\n",
              "       'requesterID', 'requesterTrusted', 'lang', 'grade',\n",
              "       'averageAcceptanceTimeSec', 'moneyAvgHourly', 'moneyMed', 'moneyTop10',\n",
              "       'moneyMax3', 'reward'],\n",
              "      dtype='object')"
            ]
          },
          "metadata": {},
          "execution_count": 4
        }
      ]
    },
    {
      "cell_type": "code",
      "source": [
        "task_data.info()"
      ],
      "metadata": {
        "colab": {
          "base_uri": "https://localhost:8080/"
        },
        "id": "34a8Y827S4zK",
        "outputId": "582c079f-f2aa-4d55-9def-0fa0a9130f1d"
      },
      "execution_count": null,
      "outputs": [
        {
          "output_type": "stream",
          "name": "stdout",
          "text": [
            "<class 'pandas.core.frame.DataFrame'>\n",
            "RangeIndex: 628 entries, 0 to 627\n",
            "Data columns (total 18 columns):\n",
            " #   Column                    Non-Null Count  Dtype  \n",
            "---  ------                    --------------  -----  \n",
            " 0   Unnamed: 0                628 non-null    int64  \n",
            " 1   project_id                628 non-null    int64  \n",
            " 2   pool_id                   628 non-null    int64  \n",
            " 3   title                     628 non-null    object \n",
            " 4   description               561 non-null    object \n",
            " 5   pool_startedAt            628 non-null    object \n",
            " 6   hasInstructions           628 non-null    int64  \n",
            " 7   mayContainAdultContent    628 non-null    int64  \n",
            " 8   requesterID               628 non-null    object \n",
            " 9   requesterTrusted          628 non-null    int64  \n",
            " 10  lang                      88 non-null     object \n",
            " 11  grade                     473 non-null    float64\n",
            " 12  averageAcceptanceTimeSec  130 non-null    float64\n",
            " 13  moneyAvgHourly            585 non-null    float64\n",
            " 14  moneyMed                  439 non-null    float64\n",
            " 15  moneyTop10                439 non-null    float64\n",
            " 16  moneyMax3                 237 non-null    float64\n",
            " 17  reward                    628 non-null    float64\n",
            "dtypes: float64(7), int64(6), object(5)\n",
            "memory usage: 88.4+ KB\n"
          ]
        }
      ]
    },
    {
      "cell_type": "code",
      "source": [
        "task_data.shape"
      ],
      "metadata": {
        "colab": {
          "base_uri": "https://localhost:8080/"
        },
        "id": "oAMjVvNKT54Q",
        "outputId": "8a5e0657-2f1c-4379-a912-8d278d6f6694"
      },
      "execution_count": null,
      "outputs": [
        {
          "output_type": "execute_result",
          "data": {
            "text/plain": [
              "(628, 18)"
            ]
          },
          "metadata": {},
          "execution_count": 7
        }
      ]
    },
    {
      "cell_type": "code",
      "source": [
        "user_data.columns"
      ],
      "metadata": {
        "colab": {
          "base_uri": "https://localhost:8080/"
        },
        "id": "W2WQcUP3UOxT",
        "outputId": "2f803521-f52d-410f-d6e9-b6628b42c3ca"
      },
      "execution_count": null,
      "outputs": [
        {
          "output_type": "execute_result",
          "data": {
            "text/plain": [
              "Index(['Unnamed: 0', 'uid', 'country', 'language', 'birthdate', 'joined'], dtype='object')"
            ]
          },
          "metadata": {},
          "execution_count": 8
        }
      ]
    },
    {
      "cell_type": "code",
      "source": [
        "user_data.shape"
      ],
      "metadata": {
        "colab": {
          "base_uri": "https://localhost:8080/"
        },
        "id": "f-LR63X1UU8B",
        "outputId": "b76f5e5e-5ae5-41a8-b4a5-117f3b09eea5"
      },
      "execution_count": null,
      "outputs": [
        {
          "output_type": "execute_result",
          "data": {
            "text/plain": [
              "(21, 6)"
            ]
          },
          "metadata": {},
          "execution_count": 9
        }
      ]
    },
    {
      "cell_type": "code",
      "source": [
        "user_data.info()"
      ],
      "metadata": {
        "colab": {
          "base_uri": "https://localhost:8080/"
        },
        "id": "dYVeyzPrUjAg",
        "outputId": "ccc7af0c-7070-41f5-c6fc-808de678b20e"
      },
      "execution_count": null,
      "outputs": [
        {
          "output_type": "stream",
          "name": "stdout",
          "text": [
            "<class 'pandas.core.frame.DataFrame'>\n",
            "RangeIndex: 21 entries, 0 to 20\n",
            "Data columns (total 6 columns):\n",
            " #   Column      Non-Null Count  Dtype \n",
            "---  ------      --------------  ----- \n",
            " 0   Unnamed: 0  21 non-null     int64 \n",
            " 1   uid         21 non-null     int64 \n",
            " 2   country     21 non-null     object\n",
            " 3   language    21 non-null     object\n",
            " 4   birthdate   21 non-null     object\n",
            " 5   joined      21 non-null     object\n",
            "dtypes: int64(2), object(4)\n",
            "memory usage: 1.1+ KB\n"
          ]
        }
      ]
    },
    {
      "cell_type": "code",
      "source": [
        "income_data.columns"
      ],
      "metadata": {
        "colab": {
          "base_uri": "https://localhost:8080/"
        },
        "id": "dnF1C1kHUm6I",
        "outputId": "e7b80c46-6e27-4e91-f8e0-bcf3796c8680"
      },
      "execution_count": null,
      "outputs": [
        {
          "output_type": "execute_result",
          "data": {
            "text/plain": [
              "Index(['Unnamed: 0', 'project_id', 'uid', 'date', 'income'], dtype='object')"
            ]
          },
          "metadata": {},
          "execution_count": 11
        }
      ]
    },
    {
      "cell_type": "code",
      "source": [
        "income_data.shape"
      ],
      "metadata": {
        "colab": {
          "base_uri": "https://localhost:8080/"
        },
        "id": "9bTYhucgUtQD",
        "outputId": "e7ee1a3d-473f-4c8b-b7ee-a0ee523d8713"
      },
      "execution_count": null,
      "outputs": [
        {
          "output_type": "execute_result",
          "data": {
            "text/plain": [
              "(1335, 5)"
            ]
          },
          "metadata": {},
          "execution_count": 12
        }
      ]
    },
    {
      "cell_type": "code",
      "source": [
        "income_data.info()"
      ],
      "metadata": {
        "colab": {
          "base_uri": "https://localhost:8080/"
        },
        "id": "Z5ubtsv5Uup5",
        "outputId": "7b50b6ce-0c78-4cc1-a993-481a687bf7d2"
      },
      "execution_count": null,
      "outputs": [
        {
          "output_type": "stream",
          "name": "stdout",
          "text": [
            "<class 'pandas.core.frame.DataFrame'>\n",
            "RangeIndex: 1335 entries, 0 to 1334\n",
            "Data columns (total 5 columns):\n",
            " #   Column      Non-Null Count  Dtype  \n",
            "---  ------      --------------  -----  \n",
            " 0   Unnamed: 0  1335 non-null   int64  \n",
            " 1   project_id  1335 non-null   int64  \n",
            " 2   uid         1335 non-null   int64  \n",
            " 3   date        1335 non-null   object \n",
            " 4   income      1335 non-null   float64\n",
            "dtypes: float64(1), int64(3), object(1)\n",
            "memory usage: 52.3+ KB\n"
          ]
        }
      ]
    },
    {
      "cell_type": "code",
      "source": [
        "assignment_data.columns"
      ],
      "metadata": {
        "colab": {
          "base_uri": "https://localhost:8080/"
        },
        "id": "_tcmdua4Uwec",
        "outputId": "783abd77-d7a1-4e85-b887-2a13658aafdf"
      },
      "execution_count": null,
      "outputs": [
        {
          "output_type": "execute_result",
          "data": {
            "text/plain": [
              "Index(['Unnamed: 0', 'uid', 'project_id'], dtype='object')"
            ]
          },
          "metadata": {},
          "execution_count": 14
        }
      ]
    },
    {
      "cell_type": "code",
      "source": [
        "assignment_data.shape"
      ],
      "metadata": {
        "colab": {
          "base_uri": "https://localhost:8080/"
        },
        "id": "0XSrsg5kVLE6",
        "outputId": "3069e0f7-2fec-4e51-f90e-0693498b9f87"
      },
      "execution_count": null,
      "outputs": [
        {
          "output_type": "execute_result",
          "data": {
            "text/plain": [
              "(1053, 3)"
            ]
          },
          "metadata": {},
          "execution_count": 15
        }
      ]
    },
    {
      "cell_type": "code",
      "source": [
        "assignment_data.info()"
      ],
      "metadata": {
        "colab": {
          "base_uri": "https://localhost:8080/"
        },
        "id": "6ryqOZ7jVouY",
        "outputId": "bc51de65-a25f-4085-d7ba-71020d200964"
      },
      "execution_count": null,
      "outputs": [
        {
          "output_type": "stream",
          "name": "stdout",
          "text": [
            "<class 'pandas.core.frame.DataFrame'>\n",
            "RangeIndex: 1053 entries, 0 to 1052\n",
            "Data columns (total 3 columns):\n",
            " #   Column      Non-Null Count  Dtype\n",
            "---  ------      --------------  -----\n",
            " 0   Unnamed: 0  1053 non-null   int64\n",
            " 1   uid         1053 non-null   int64\n",
            " 2   project_id  1053 non-null   int64\n",
            "dtypes: int64(3)\n",
            "memory usage: 24.8 KB\n"
          ]
        }
      ]
    },
    {
      "cell_type": "code",
      "source": [
        "log_data.columns"
      ],
      "metadata": {
        "colab": {
          "base_uri": "https://localhost:8080/"
        },
        "id": "r1F9MjEeVqXZ",
        "outputId": "a376eb7f-7c83-4bbf-e832-4be07acd6247"
      },
      "execution_count": null,
      "outputs": [
        {
          "output_type": "execute_result",
          "data": {
            "text/plain": [
              "Index(['Unnamed: 0', 'id', 'uid', 'event', 'timestamp', 'url', 'tab_id',\n",
              "       'scroll_count', 'blur_count', 'focus_count', 'click_count',\n",
              "       'keypress_count'],\n",
              "      dtype='object')"
            ]
          },
          "metadata": {},
          "execution_count": 17
        }
      ]
    },
    {
      "cell_type": "code",
      "source": [
        "log_data.shape"
      ],
      "metadata": {
        "colab": {
          "base_uri": "https://localhost:8080/"
        },
        "id": "ZoE01RDTVwgk",
        "outputId": "ab3635e7-4e6e-4b38-b980-26190678e78c"
      },
      "execution_count": null,
      "outputs": [
        {
          "output_type": "execute_result",
          "data": {
            "text/plain": [
              "(152945, 12)"
            ]
          },
          "metadata": {},
          "execution_count": 18
        }
      ]
    },
    {
      "cell_type": "code",
      "source": [
        "log_data.info()"
      ],
      "metadata": {
        "colab": {
          "base_uri": "https://localhost:8080/"
        },
        "id": "iFGM8srZVxtg",
        "outputId": "b8a8a65e-c942-4160-de5d-f6547294fe56"
      },
      "execution_count": null,
      "outputs": [
        {
          "output_type": "stream",
          "name": "stdout",
          "text": [
            "<class 'pandas.core.frame.DataFrame'>\n",
            "RangeIndex: 152945 entries, 0 to 152944\n",
            "Data columns (total 12 columns):\n",
            " #   Column          Non-Null Count   Dtype  \n",
            "---  ------          --------------   -----  \n",
            " 0   Unnamed: 0      152945 non-null  int64  \n",
            " 1   id              152945 non-null  int64  \n",
            " 2   uid             152945 non-null  int64  \n",
            " 3   event           152945 non-null  object \n",
            " 4   timestamp       152945 non-null  int64  \n",
            " 5   url             125685 non-null  object \n",
            " 6   tab_id          152945 non-null  int64  \n",
            " 7   scroll_count    60054 non-null   float64\n",
            " 8   blur_count      60054 non-null   float64\n",
            " 9   focus_count     60054 non-null   float64\n",
            " 10  click_count     60054 non-null   float64\n",
            " 11  keypress_count  60054 non-null   float64\n",
            "dtypes: float64(5), int64(5), object(2)\n",
            "memory usage: 14.0+ MB\n"
          ]
        }
      ]
    },
    {
      "cell_type": "code",
      "source": [
        "import pandas as pd\n",
        "import numpy as np\n",
        "from sklearn.feature_extraction.text import TfidfVectorizer\n",
        "from sklearn.metrics.pairwise import cosine_similarity\n",
        "\n",
        "\n",
        "# Clean the text data in task_data\n",
        "task_data['description'] = task_data['description'].fillna('')\n",
        "task_data['title'] = task_data['title'].fillna('')\n",
        "task_data['text'] = task_data['title'] + ' ' + task_data['description']\n",
        "task_data['text'] = task_data['text'].str.lower().str.replace('[^a-z0-9 ]+', '')\n",
        "\n",
        "# Convert categorical features to numeric\n",
        "task_data['requesterID'] = task_data['requesterID'].astype('category').cat.codes\n",
        "\n",
        "# Compute the TF-IDF matrix\n",
        "tfidf = TfidfVectorizer()\n",
        "tfidf_matrix = tfidf.fit_transform(task_data['text'])\n",
        "\n",
        "# Compute the cosine similarity matrix\n",
        "cosine_sim = cosine_similarity(tfidf_matrix, tfidf_matrix)\n",
        "\n",
        "# Create a dictionary to map task IDs to their indices in the task_data DataFrame\n",
        "id_to_index = dict(zip(task_data['project_id'], range(len(task_data))))\n",
        "\n",
        "# Define the function to get top-K recommendations for a user\n",
        "def get_top_k_recommendations(user_id, k=5):\n",
        "    # Get the project IDs completed by the user\n",
        "    completed_projects = set(income_data[income_data['uid'] == user_id]['project_id'])\n",
        "    \n",
        "    # Get the project IDs assigned to the user\n",
        "    assigned_projects = set(assignment_data[assignment_data['uid'] == user_id]['project_id'])\n",
        "    \n",
        "    # Combine the completed and assigned project IDs\n",
        "    selected_projects = completed_projects.union(assigned_projects)\n",
        "    \n",
        "    # Get the indices of the selected projects\n",
        "    selected_indices = [id_to_index[project_id] for project_id in selected_projects if project_id in id_to_index]\n",
        "    \n",
        "    # Compute the similarity scores between the selected projects and all the other projects\n",
        "    scores = cosine_sim[selected_indices].sum(axis=0)\n",
        "    \n",
        "    # Sort the scores and get the top-K recommendations\n",
        "    top_k = np.argsort(-scores)[:k]\n",
        "    \n",
        "    # Get the project IDs corresponding to the top-K indices\n",
        "    top_k_projects = [task_data.iloc[index]['project_id'] for index in top_k]\n",
        "\n",
        "    # Get the titles of the projects\n",
        "    titles_k =  [task_data.iloc[index]['title'] for index in top_k]\n",
        "    \n",
        "    return top_k_projects, titles_k\n",
        "\n",
        "def ndcg_at_k(recommended_items, relevant_items, k):\n",
        "    dcg = 0.0\n",
        "    idcg = 0.0\n",
        "    if len(recommended_items) < k:\n",
        "        k = len(recommended_items)\n",
        "    for i in range(k):\n",
        "        item = recommended_items[i]\n",
        "        if item in relevant_items:\n",
        "            dcg += 1.0 / np.log2(i + 2)\n",
        "    for i in range(min(len(relevant_items), k)):\n",
        "        idcg += 1.0 / np.log2(i + 2)\n",
        "    return dcg / idcg\n",
        "\n",
        "\n",
        "\n",
        "def evaluate_model(k=5):\n",
        "    # Initialize the scores\n",
        "    map_k = 0.0\n",
        "    ndcg_k = 0.0\n",
        "    num_users = 0\n",
        "    \n",
        "    # Loop over all the users\n",
        "    for user_id in user_data['uid']:\n",
        "        # Get the ground truth and the predicted top-K recommendations\n",
        "        project_ids = set(income_data[income_data['uid'] == user_id]['project_id'])\n",
        "        # Filter the task data to include only the tasks for the specified projects\n",
        "        project_tasks = task_data[task_data['project_id'].isin(project_ids)]\n",
        "        # Get a list of the titles for the project tasks\n",
        "        ground_truth = set(list(project_tasks['title']))\n",
        "        p_ids, titles_k = get_top_k_recommendations(user_id, k=k)\n",
        "        predicted = set(titles_k)\n",
        "        # predicted = set(get_top_k_recommendations(user_id, k=k))\n",
        "        \n",
        "        # Compute the MAP@K and NDCG@K for the user\n",
        "        num_hits = len(ground_truth.intersection(predicted))\n",
        "        if num_hits > 0:\n",
        "            precision = float(num_hits) / float(k)\n",
        "            recall = float(num_hits) / float(len(ground_truth))\n",
        "            map_k += precision\n",
        "            ndcg_k += ndcg_at_k(list(predicted), list(ground_truth), k=k)\n",
        "            num_users += 1\n",
        "            \n",
        "    # Normalize the scores by the number of users\n",
        "    map_k /= float(num_users)\n",
        "    ndcg_k /= float(num_users)\n",
        "    \n",
        "    return map_k, ndcg_k"
      ],
      "metadata": {
        "id": "MHdbxZA5mgFB"
      },
      "execution_count": null,
      "outputs": []
    },
    {
      "cell_type": "code",
      "source": [
        "evaluate_model()"
      ],
      "metadata": {
        "colab": {
          "base_uri": "https://localhost:8080/"
        },
        "id": "GAJPoVaJwvlp",
        "outputId": "f47bae7a-1ab5-4e15-9174-55b6e59800c2"
      },
      "execution_count": null,
      "outputs": [
        {
          "output_type": "stream",
          "name": "stdout",
          "text": [
            "{'Get snapshot of all coupons', 'Относится ли изображение к категории?', 'Take 10 photos of your face', \"Does coupon screenshot match the provided coupon's information? (USA)\", 'Does the provided link contain coupons? (South Africa)', 'Is the PRODUCT suitable for the INTEREST?', 'Validation of English Ad Description', 'Does the image belong to the category?', 'Get coupon information from websites (Canada)', 'Product Inventory Validation V1', 'Validation of English Ad Title', 'Is there a short answer in the text?', 'Is the given information match the screenshot 2', 'Generic Scenario Testing Extension (English: United States)', 'MMWatermarkImageDetection', 'Creation of English Ad Description', 'Image Relevance Superfresh V2 SFMMIR - English', 'Product Price Validation V1', 'Compare Search Results - English - V2', 'Should the sentence be translated? [en]', 'Is the ad relevant to the query', 'Оценка правильности категории', 'Extract offer details ', 'Check if two audios has similar style', \"Does coupon screenshot match the provided coupon's information? (South Africa)\", 'Participate in our Web-Plugin Survey!', 'Unstructured Spec Attribute Extraction Validation', 'Confirm if the screenshot is coupon', 'Product Title Validation V1', 'Исследование сайта', 'Send your selfie', 'Is the product relevant to the query?', 'Binary legal documents markup', 'How many coupons ?', 'Video Relevance Labeling (English) - New and improved', 'Is the minifigure for sale in the ad?', 'Is this an Aspect?', 'Product Ads Relevance English', 'Get coupon information from websites (USA)'}\n",
            "{'Get snapshot of all coupons', 'Is the given information match the screenshot (updated)', 'Относится ли изображение к категории?', \"Does coupon screenshot match the provided coupon's information? (USA)\", 'Does the provided link contain coupons?', 'MMRepresentativeImageV2', 'Is the PRODUCT suitable for the INTEREST?', 'Validation of English Ad Description', 'Binary product relevance markup', 'Does the image belong to the category?', 'Product Inventory Validation V1', 'Классификация изображений', 'Types of tasks in Toloka', 'Is there a short answer in the text?', 'Generic Scenario Testing Extension (English: United States)', 'MMWatermarkImageDetection', 'Image Query Result Relevance T2 MMIR English', 'Image Relevance Superfresh V2 SFMMIR - English', 'Earning money with Toloka', 'Product Price Validation V1', 'Quiz Search Relevance Evaluation (English)', 'Is the image a good picture of the zoo animal?', 'Is the ad relevant to the query', 'How are the two products related? (v2)', 'Product Image Validation V1', 'Extract offer details ', \"Does coupon screenshot match the provided coupon's information? (South Africa)\", 'Search Relevance Evaluation (English)', 'Unstructured Spec Attribute Extraction Validation', 'Make photo of receipts', 'Product Title Validation V1', 'Does the user want to buy something?', 'Is the product relevant to the query?', 'Make photo of cards', 'Choosing the right tasks in Toloka', 'Is the minifigure for sale in the ad?', 'Check the similarity between two products', 'Is this an Aspect?', 'Creation of English Ad Description', 'Page relevance (new version)', 'Classification of images'}\n",
            "{'Оцените перевод блока текста на картинке [en->ru]', 'Crowd Spam Labeling - English', 'Относится ли изображение к категории?', 'Validation of English Ad Description', 'Film yourself on front and back cameras', 'Does the image belong to the category?', 'Бесплатный пул для связи с заказчиком Декрукс', 'Проверка авторитетности источников', 'Validation of English Ad Title', 'Экзамен РЖЯ', 'Design Questions', 'Image Relevance Superfresh V2 SFMMIR - English', '🚕 Проверка ремней безопасности автомобиля такси', '¿El vínculo proporcionado contiene cupones? [MX-ES: Does the provided link contain coupons?]', 'Search Satisfaction Fresh MG (5P) [1DCG] (English)', 'Compare Search Results - English - V2', 'Dbrain: проверка и перепечатка текста', 'Проверка актуальности информации в ответе на запрос (v. 1.2)', 'Select the best translation [es->en]', 'Image Relevance Superfresh V2 SFMMIR - Spanish', 'Verify-OrderOnlineUrl', 'Это товар для домашних животных? 🐾', 'Image Relevance Superfresh V2 SFMMIR - Indonesian'}\n",
            "{\"Stimmt der Screenshot des Coupons mit den Informationen des angezeigten Coupons überein? [DE: Does coupon screenshot match the provided coupon's information?] \", 'Creation of English Ad Title', 'Одинаковые ли видео? 18+', 'Get snapshot of all coupons', 'Относится ли изображение к категории?', \"Does coupon screenshot match the provided coupon's information? (USA)\", 'Does the provided link contain coupons? (United Kingdom)', 'Does the provided link contain coupons?', 'Does the provided link contain coupons? (South Africa)', 'Is the PRODUCT suitable for the INTEREST?', 'Does the provided link contain coupons? (Canada)', 'Does the image belong to the category?', 'Is the Ad a Good Match to the Search Term? (English) (TAAC)', 'Does the provided link contain coupons? (India)', \"Does coupon screenshot match the provided coupon's information? (India)\", 'Film your face on the webcam or laptop', 'Get coupon information from websites (India)', 'Types of tasks in Toloka', 'Is there a short answer in the text?', 'Search for businesses by specific category (English)', 'Generic Scenario Testing Extension (English: United States)', 'Earning money with Toloka', 'Image Relevance Superfresh V2 SFMMIR - English', 'Search Satisfaction Fresh MG (5P) [1DCG] (English)', 'Compare Search Results - English - V2', 'Quiz Search Relevance Evaluation (English)', 'Изображение хорошее?', '[Ad] Text Ads for alternative product or additional purchase (English) (TA AC)', 'Selection of performers for Detect Spam Webpages project', 'How are the two products related? (v2)', 'Product Image Validation V1', 'Eğitim: Yetişkin içeriğe sahip dosyaların ekran görüntülerinin belirlenmesi', 'Extract offer details ', \"Does coupon screenshot match the provided coupon's information? (South Africa)\", 'Participate in our Web-Plugin Survey!', 'Кластеризация', 'Entity linking judgement', 'Search Relevance Evaluation (English)', 'Make photo of receipts', 'Web page categories', 'Unstructured Spec Attribute Extraction Validation', 'Confirm if the screenshot is coupon', 'Product Title Validation V1', 'Исследование сайта', 'Send your selfie', 'Распознавание актёра на фото', 'Is the product relevant to the query?', 'AdCopy to image relevance', 'Get coupon information from websites (South Africa)', 'Choosing the right tasks in Toloka', 'Is the minifigure for sale in the ad?', 'Check the similarity between two products', 'Is this an Aspect?', 'Get coupon information from websites (New Zealand)', 'Does the store have this product? (English)', 'Page relevance (new version)', 'Ekran görüntüsünde yetişkin içerik var mı?', 'Is the given information match the screenshot (updated)', 'Does the provided link contain coupons? (New Zealand)'}\n",
            "{'Product Ads Relevance English', 'Apakah tautan yang disediakan berisi kupon? [IN: Does the provided link contain coupons?]', 'Creation of English Ad Title', 'Take a picture of your face', \" Apakah cuplikan layar kupon sesuai dengan informasi kupon yang diberikan? [IN: Does coupon screenshot match the provided coupon's information?]\", \"Does coupon screenshot match the provided coupon's information? (USA)\", \"Does coupon screenshot match the provided coupon's information? (New Zealand)\", 'MMRepresentativeImageV2', 'Validation of English Ad Description', \"Does coupon screenshot match the provided coupon's information? (India)\", 'Get coupon information from websites (Canada)', 'Product Inventory Validation V1', \"Does coupon screenshot match the provided coupon's information? (Australia)\", 'Get coupon information from websites (India)', 'Validation of English Ad Title', 'Dapatkan informasi kupon dari situs web [IN: Get coupon information from websites]', '🌼 Is the product relevant to the query?', 'Survey Collaboration Preferences', 'Generic Scenario Testing Extension (English: United States)', 'MMWatermarkImageDetection', 'Design Questions', 'Image Relevance Superfresh V2 SFMMIR - English', 'Product Price Validation V1', 'Search Satisfaction Fresh MG (5P) [1DCG] (English)', 'Membandingkan Hasil Pencarian - Bahasa Indonesia - V2', \"Does coupon screenshot match the provided coupon's information? (Canada)\", \"Classify advertiser's keyword relevance to search query\", 'Compare Search Results - English - V2', 'Perbandingan dua video dalam sebuah kueri. Indonesian.', 'Quiz Search Relevance Evaluation (English)', 'Search for businesses by specific category (Indonesian language)', 'Should the sentence be translated? [en]', 'Is the ad relevant to the query', 'Оценка правильности категории', 'Entity image selection', 'Product Image Validation V1', 'Extract offer details ', \"Does coupon screenshot match the provided coupon's information? (South Africa)\", 'Participate in our Web-Plugin Survey!', 'Entity linking judgement', 'Search Relevance Evaluation (English)', 'Web page categories', 'Video Superfresh Relevance Labeling (English)', 'Product Title Validation V1', 'Verify-OrderOnlineUrl', 'Is the product relevant to the query?', 'Definitive Image Labeling - EN', 'Binary legal documents markup', 'How many coupons ?', 'AdCopy to image relevance', 'Does document contains brand mention? [English] ', 'Indonesian web ranking (peringkat web Indonesia) ', 'Video Relevance Labeling (English) - New and improved', 'Is the minifigure for sale in the ad?', 'Check the similarity between two products', 'Image Relevance Superfresh V2 SFMMIR - Indonesian', 'Get coupon information from websites (New Zealand)', 'Creation of English Ad Description', 'Is the given information match the screenshot (updated)'}\n",
            "{'Who would you prefer to talk for a long conversation ?', 'Какой текст лучше? ', 'Разметка номеров домов на фотографии', 'Относится ли изображение к категории?', '[Toloka] Test de grammaire française', \"Does coupon screenshot match the provided coupon's information? (USA)\", 'Действительно ли на фото тот самый объект', 'Does the provided link contain coupons? (South Africa)', 'Take 10 photos of your face', 'Is the PRODUCT suitable for the INTEREST?', \"Est-ce que l'utilisateur souhaite acheter quelque chose ?\", 'Естественность ответов в диалоге', 'Validation of English Ad Description', 'Выделите пять точек лица на изображении', 'Does the image belong to the category?', 'Does the provided link contain coupons? (India)', 'Get coupon information from websites (Canada)', \"Does coupon screenshot match the provided coupon's information? (Australia)\", \"Does coupon screenshot match the provided coupon's information? (India)\", 'Хорошая ли рекомендация?', 'DefectRate: Определение проблем в выдаче поиска', 'Разметка светофоров на фотографии', 'Экзамен РЖЯ', 'Выбор лучшего перевода [en->ru]', 'Проверка фотографий ненайденных организаций', 'Design Questions', 'Определение материала сумки', 'Модерация ссылок', 'Классификация новостей с упоминанием Яндекса', 'Расшифровка номеров домов', \"Does coupon screenshot match the provided coupon's information? (Canada)\", \"Classify advertiser's keyword relevance to search query\", '🚕 Проверка уровня повреждений ТС на фото', 'Dbrain: проверка и перепечатка текста', 'Качество определения геопозиции', 'Видимость объекта на фотографии', 'Сверка с целевым номером термосумки', 'Написать номер на упаковке', 'Выбор лучшего перевода [ru->it]', 'Оценка правильности категории', 'Оригинальные или неоригинальный LEGO товары?', 'Качество поиска по услугам и специалистам', 'Extract offer details ', 'Сделайте селфи-фото с компьютера', 'Повторяющиеся товары', 'Check if two audios has similar style', 'Кластеризация', \"Does coupon screenshot match the provided coupon's information? (South Africa)\", 'Проверка политичности', 'Написать серийный номер со штампа', 'Participate in our Web-Plugin Survey!', 'Исследование сайта', 'Selection of performers for bounding box сheck tasks', 'Реклама на картинке', 'Какое видео лучше? (новый)', 'Проверка доступности перевода страницы', 'Identify Valid Coupon Codes (FR)', 'Сравнение переводов русских слов и словосочетаний на немецкий язык', 'Написать номер с карточки', 'Правильная ли категория товара?', 'Кластеризация (гос. организаций)', 'Сравнение двух товаров', 'Размечаем на самолечение и вред здоровью', 'Get coupon information from websites (USA)'}\n",
            "{'Get snapshot of all coupons', 'Относится ли изображение к категории?', \"Does coupon screenshot match the provided coupon's information? (USA)\", 'Отбор на задания по классификации текста', 'Does the provided link contain coupons?', 'Does the provided link contain coupons? (United Kingdom)', 'Validation of English Ad Description', 'Binary product relevance markup', 'Does the image belong to the category?', 'Product Inventory Validation V1', 'Validation of English Ad Title', 'Quiz Search Relevance Evaluation (English)', '[Toloka] English Grammar Test', 'Is the image a good picture of the zoo animal?', 'Оценка правильности категории', 'Product Image Validation V1', \"Does coupon screenshot match the provided coupon's information? (South Africa)\", 'Search Relevance Evaluation (English)', 'Unstructured Spec Attribute Extraction Validation', 'Product Title Validation V1', 'Is the minifigure for sale in the ad?', 'Отбор на задания классификации текста и изображения', 'Check the similarity between two products', 'Is this an Aspect?', 'Page relevance (new version)'}\n",
            "{\"Does coupon screenshot match the provided coupon's information? (USA)\", \"Does coupon screenshot match the provided coupon's information? (New Zealand)\", 'Is the PRODUCT suitable for the INTEREST?', 'Validation of English Ad Description', 'Get coupon information from websites (India)', 'Selection of performers for text and webpage classification tasks', 'Types of tasks in Toloka', 'Is there a short answer in the text?', 'Design Questions', \"Does coupon screenshot match the provided coupon's information? (Canada)\", 'Compare Search Results - English - V2', 'Quiz Search Relevance Evaluation (English)', 'Selection of performers for Detect Spam Webpages project', \"¿La captura de pantalla del cupón coincide con la información proporcionada del cupón? [MX-ES: Does coupon screenshot match the provided coupon's information?]\", \"Does coupon screenshot match the provided coupon's information? (South Africa)\", 'Confirm if the screenshot is coupon', 'Does the user want to buy something?', 'Is the minifigure for sale in the ad?', 'Check the similarity between two products', 'Product Ads Relevance English', 'Search for businesses by specific category (English)', 'Get coupon information from websites (USA)', 'Creation of English Ad Description', 'Is the given information match the screenshot (updated)', 'Who would you prefer to talk for a long conversation ?', 'Creation of English Ad Title', 'Отбор на задания по классификации текста', 'Does the provided link contain coupons?', 'Binary product relevance markup', 'Product photo search', \"Does coupon screenshot match the provided coupon's information? (India)\", 'Get coupon information from websites (Canada)', \"Does coupon screenshot match the provided coupon's information? (Australia)\", '¿Es aplicable el atributo?', 'Crowd Spam Labeling - Spanish', 'Generic Scenario Testing Extension (English: United States)', 'Image Relevance Superfresh V2 SFMMIR - English', '¿El vínculo proporcionado contiene cupones? [MX-ES: Does the provided link contain coupons?]', 'Search Satisfaction Fresh MG (5P) [1DCG] (English)', \"Classify advertiser's keyword relevance to search query\", 'Оценка правильности категории', 'Primary category for a local business (V3)', 'Web page categories', 'Is the product relevant to the query?', 'How many coupons ?', 'Install the Google Chrome Web Plugin ', 'App reviews classification', 'Get snapshot of all coupons', 'Does the provided link contain coupons? (South Africa)', 'Does the provided link contain coupons? (India)', 'Product Inventory Validation V1', ' Search Intent Classification', '🌼 Is the product relevant to the query?', '¿Son correctos los valores de los atributos del producto?', 'MMWatermarkImageDetection', 'Earning money with Toloka', \"Classify advertiser's keyword relevance to search query [Learning]\", 'How are the two products related? (v2)', 'Product Image Validation V1', 'Pegue informações de cupons em páginas web [PT: Get coupon information from websites]', 'Extract offer details ', 'Entity linking judgement', 'Link Search Filters', 'Get coupon information from websites (South Africa)', 'Write geographic area/point name in Spanish', 'Get coupon information from websites (New Zealand)', 'Crowd Spam Labeling - English', 'Object detection: bags', 'Относится ли изображение к категории?', '🌼 Does the user want to buy something?', 'Does the image belong to the category?', 'Is the Ad a Good Match to the Search Term? (English) (TAAC)', 'Validation of English Ad Title', '¿El vínculo proporcionado contiene cupones? [ES: Does the provided link contain coupons?]', 'Is the given information match the screenshot 2', 'Product Price Validation V1', 'Is the image a good picture of the zoo animal?', 'Is the ad relevant to the query', 'Entity image selection', 'Select the best translation [es->en]', 'Search Relevance Evaluation (English)', 'Image Relevance Superfresh V2 SFMMIR - Spanish', 'Product Title Validation V1', 'AdCopy to image relevance', 'Does document contains brand mention? [English] ', 'Obtener información de cupones de sitios web [MX-ES: Get coupon information from websites]', 'Text-Query Relevance Detection', 'Gaming Survey', 'Does the store have this product? (English)', 'Choosing the right tasks in Toloka'}\n",
            "{'Product Ads Relevance English', 'Crowd Spam Labeling - English', \"Does coupon screenshot match the provided coupon's information? (USA)\", 'Отбор на задания по классификации текста', \"Does coupon screenshot match the provided coupon's information? (New Zealand)\", 'MMRepresentativeImageV2', 'Product Search Relevance Evaluation', 'Binary product relevance markup', 'Is the Ad a Good Match to the Search Term? (English) (TAAC)', 'Product Inventory Validation V1', 'Generic Scenario Testing Extension (English: United States)', 'MMWatermarkImageDetection', 'Image Query Result Relevance T2 MMIR English', 'Image Relevance Superfresh V2 SFMMIR - English', \"Classify advertiser's keyword relevance to search query [Learning]\", 'Product Price Validation V1', 'Search Satisfaction Fresh MG (5P) [1DCG] (English)', 'Quiz Search Relevance Evaluation (English)', 'Is the image a good picture of the zoo animal?', 'Is the ad relevant to the query', '[Ad] Text Ads for alternative product or additional purchase (English) (TA AC)', 'Should the sentence be translated? [en]', 'Selection of performers for Detect Spam Webpages project', 'Product Image Validation V1', 'Extract offer details ', \"Does coupon screenshot match the provided coupon's information? (South Africa)\", 'Participate in our Web-Plugin Survey!', 'Entity linking judgement', 'Search Relevance Evaluation (English)', 'Unstructured Spec Attribute Extraction Validation', 'Primary category for a local business (V3)', 'Video Superfresh Relevance Labeling (English)', 'Identify Valid Coupon Codes', 'Product Title Validation V1', 'Is the product relevant to the query?', 'Definitive Image Labeling - EN', 'Are the traffic signs outlined correctly?', 'Does document contains brand mention? [English] ', 'Video Relevance Labeling (English) - New and improved', 'Is the minifigure for sale in the ad?', 'Отбор на задания классификации текста и изображения', 'Check the similarity between two products', 'Is this an Aspect?', 'Search for businesses by specific category (English)', 'Does the store have this product? (English)', 'Page relevance (new version)', 'App reviews classification', 'Is the given information match the screenshot (updated)'}\n",
            "{'[Toloka] English Grammar Test', '[Toloka] Prueba de comprensión de español', 'Is the image a good picture of the zoo animal?', 'Crowd Spam Labeling - English', 'Оценка правильности категории', '[Toloka] Prueba de gramática española', 'Crowd Spam Labeling - Spanish', 'Search for businesses by specific category (English)', 'Page relevance (new version)'}\n",
            "{'Who would you prefer to talk for a long conversation ?', '[Toloka] Prueba de comprensión de español', 'Creation of English Ad Title', '🚕 Проверка уровня загрязненности ТС на фото', 'Crowd Spam Labeling - English', 'Scenario Request Texts', 'Does the provided link contain coupons? (South Africa)', 'MMRepresentativeImageV2', '🚕 Проверка светового короба', 'Ordnen das Schlagwort im Zusammenhang mit der Suchanfrage', 'Product Search Relevance Evaluation', 'Relevanz suchen', 'Is the Ad a Good Match to the Search Term? (English) (TAAC)', 'Does the provided link contain coupons? (India)', 'Select the best translation [en->ja] ', 'Comparar resultados de búsqueda – Español - V2', 'Comparer les résultats de recherche - Français - V2', 'Определение цвета выделенного предмета', 'DefectRate: Определение проблем в выдаче поиска', '¿El vínculo proporcionado contiene cupones? [ES: Does the provided link contain coupons?]', '🚕 Проверка брендинга ТС на фото', 'Экзамен РЖЯ', 'Identify News Search Query Intent RU V2.0', '🚕 Проверка качества фото ТС', '¿Son correctos los valores de los atributos del producto?', 'Search for businesses by specific category (English)', 'MMWatermarkImageDetection', 'Image Query Result Relevance T2 MMIR English', 'Design Questions', 'Crowd Spam Labeling - Russian', '🚕 Проверка ремней безопасности автомобиля такси', \"Classify advertiser's keyword relevance to search query [Learning]\", 'Identify Valid Coupon Codes (ES)', 'Generic Scenario Testing Extension (English: United States)', 'Image Relevance Superfresh V2 SFMMIR - English', 'Сравните Результаты Поиска – Русский язык - V2-', \"Classify advertiser's keyword relevance to search query\", 'Compare Search Results - English - V2', '🚕 Проверка уровня повреждений ТС на фото', 'Dbrain: проверка и перепечатка текста', '[Toloka] Test de compréhension de la langue française', 'Is the image a good picture of the zoo animal?', 'Is the ad relevant to the query', '[Ad] Text Ads for alternative product or additional purchase (English) (TA AC)', 'Le lien fourni contient-il des coupons?  [FR: Does the provided link contain coupons?]', 'Оценка правильности категории', 'Entity image selection', '[Yandex.Eda & DC] [модерация] Качество фотографии', 'How are the two products related? (v2)', 'Повторяющиеся товары', 'Entity linking judgement', 'Web page categories', 'Link Search Filters', '🏎Проверка загрязнений/повреждений интерьера машины', 'Исследование сайта', 'Verify-OrderOnlineUrl', '[Толока] Тест на понимание русского языка', 'Какое видео лучше? (новый)', 'Select chat response', 'AdCopy to image relevance', 'Identify Valid Coupon Codes (FR)', 'Gaming Survey', '🚕 Проверка госномера ТС на фото', 'Check the similarity between two products', 'Write geographic area/point name in Spanish', 'Is the text in the picture important for translation?', '🚕 Проверка модели ТС на фото', 'Creation of English Ad Description'}\n",
            "{\"Does coupon screenshot match the provided coupon's information? (USA)\", 'Is the PRODUCT suitable for the INTEREST?', 'تسليط الضوء على المطلوب ', 'Selection of performers for text and webpage classification tasks', 'Design Questions', 'Compare Search Results - English - V2', 'Selection of performers for Detect Spam Webpages project', \"Does coupon screenshot match the provided coupon's information? (South Africa)\", 'Verify-OrderOnlineUrl', 'Сhoose how good the answer to the music query - Task in arabic', 'Отбор на задания классификации текста и изображения', 'Check the similarity between two products', 'Search for businesses by specific category (English)', 'Creation of English Ad Description', 'Is the given information match the screenshot (updated)', 'Does the provided link contain coupons? (New Zealand)', 'Creation of English Ad Title', 'Does the provided link contain coupons?', \"¿La captura de pantalla del cupón coincide con la información proporcionada del cupón? [ES: Does coupon screenshot match the provided coupon's information?]\", 'Binary product relevance markup', \"Does coupon screenshot match the provided coupon's information? (Australia)\", 'Классификация изображений', 'Image Relevance Superfresh V2 SFMMIR - English', 'Select the best translation [fr->en] ', 'Search Satisfaction Fresh MG (5P) [1DCG] (English)', \"Classify advertiser's keyword relevance to search query\", '[bis zu $0.15 pro Vorgang nach einer Prüfung] Ordnen das Schlagwort im Zusammenhang mit der Suchanfrage', 'Оценка правильности категории', ' La capture d’écran du coupon correspond-elle aux informations du coupon fourni ?', 'Check if two audios has similar style', 'تسليط الضوء على الكلمات في النص', 'Primary category for a local business (V3)', '(new) تقييم الاستجابة لطلب الموسيقى ', 'Is the product relevant to the query?', 'Video Relevance Labeling (English) - New and improved', '(new) طلب التقييم ', \"Stimmt der Screenshot des Coupons mit den Informationen des angezeigten Coupons überein? [DE: Does coupon screenshot match the provided coupon's information?] \", '✍  التفكير في استفسارات صوتية حول المواضيع المُعطاة ✍', 'Одинаковые ли видео? 18+', 'Microsoft Bing App test', 'تسليط الضوء على أجزاء من الجملة', 'Does the provided link contain coupons? (United Kingdom)', 'Does the provided link contain coupons? (South Africa)', 'MMRepresentativeImageV2', 'Product Inventory Validation V1', 'Select the best translation [en->ja] ', 'MMWatermarkImageDetection', 'Image Query Result Relevance T2 MMIR English', 'تحديد (تمييز) الدلالات في الطلبات الموسيقية', \"Classify advertiser's keyword relevance to search query [Learning]\", 'Select the best translation [ar->en]', '🚕 Проверка уровня повреждений ТС на фото', '[Toloka] English Grammar Test', '🔊Check text pronunciation on audio in Arabic🔊', 'Le lien fourni contient-il des coupons?  [FR: Does the provided link contain coupons?]', '📋📣Rate the answer of the voice assistant📣📋', 'How are the two products related? (v2)', 'Product Image Validation V1', 'Повторяющиеся товары', 'Entity linking judgement', 'Unstructured Spec Attribute Extraction Validation', 'Page relevance (new version)', 'Classification of images', 'Crowd Spam Labeling - English', 'Относится ли изображение к категории?', 'Does the provided link contain coupons? (Canada)', 'Does the image belong to the category?', 'Is the Ad a Good Match to the Search Term? (English) (TAAC)', 'Выбор лучшего перевода [en->ru]', 'Product Price Validation V1', 'Изображение хорошее?', 'Is the image a good picture of the zoo animal?', 'Is the ad relevant to the query', '[Ad] Text Ads for alternative product or additional purchase (English) (TA AC)', 'Selection of performers for searching for information on a site tasks', 'Select the best translation [es->en]', 'Identify Valid Coupon Codes', 'Product Title Validation V1', 'Is this an Aspect?', 'Does the store have this product? (English)'}\n",
            "{'Classification of images', 'Классификация изображений', 'Check the similarity between two products', 'Is the ad relevant to the query'}\n",
            "{'تسليط الضوء على أجزاء من الجملة', \"Does coupon screenshot match the provided coupon's information? (USA)\", 'Does the provided link contain coupons? (United Kingdom)', 'Does the provided link contain coupons?', 'Does the provided link contain coupons? (South Africa)', 'تسليط الضوء على المطلوب ', 'Does the provided link contain coupons? (Canada)', \"Does coupon screenshot match the provided coupon's information? (Australia)\", 'تحديد (تمييز) الدلالات في الطلبات الموسيقية', \"Classify advertiser's keyword relevance to search query [Learning]\", 'Select the best translation [ar->en]', 'Quiz Search Relevance Evaluation (English)', '[Toloka] English Grammar Test', 'Is the image a good picture of the zoo animal?', '🔊Check text pronunciation on audio in Arabic🔊', 'Selection of performers for Detect Spam Webpages project', '📋📣Rate the answer of the voice assistant📣📋', 'How are the two products related? (v2)', \"Does coupon screenshot match the provided coupon's information? (South Africa)\", 'تسليط الضوء على الكلمات في النص', '(new) تقييم الاستجابة لطلب الموسيقى ', 'Product Title Validation V1', 'Is the product relevant to the query?', 'Сhoose how good the answer to the music query - Task in arabic', 'Check the similarity between two products', '(new) طلب التقييم ', 'Get coupon information from websites (USA)', 'Does the provided link contain coupons? (New Zealand)'}\n",
            "{'Take a picture of your face', 'Is the image a good picture of the zoo animal?', 'Crowd Spam Labeling - English', 'Quiz Search Relevance Evaluation (English)', \"Does coupon screenshot match the provided coupon's information? (USA)\", 'Does the provided link contain coupons? (South Africa)', 'MMRepresentativeImageV2', 'Generic Scenario Testing Extension (English: United States)', 'Image Query Result Relevance T2 MMIR English', 'Image Relevance Superfresh V2 SFMMIR - English', \"Does coupon screenshot match the provided coupon's information? (South Africa)\", 'Check the similarity between two products', 'Entity linking judgement', 'Does the store have this product? (English)', 'Page relevance (new version)', 'App reviews classification', 'Product Title Validation V1', 'Does the provided link contain coupons? (New Zealand)'}\n",
            "{'Оцените перевод блока текста на картинке [en->ru]', '🚕 Проверка уровня загрязненности ТС на фото', \"Does coupon screenshot match the provided coupon's information? (USA)\", \"Does coupon screenshot match the provided coupon's information? (New Zealand)\", 'Is the PRODUCT suitable for the INTEREST?', '🚕 Проверка светового короба', 'Validation of English Ad Description', 'Create Registry', 'DefectRate: Определение проблем в выдаче поиска', 'Get coupon information from websites (India)', 'Selection of performers for text and webpage classification tasks', 'Dapatkan informasi kupon dari situs web [IN: Get coupon information from websites]', 'Is there a short answer in the text?', 'Экзамен РЖЯ', 'Design Questions', '🚕 Проверка ремней безопасности автомобиля такси', \"Does coupon screenshot match the provided coupon's information? (Canada)\", 'Compare Search Results - English - V2', 'Selection of performers for Detect Spam Webpages project', 'Является ли товар альтернативой другому?', \"Does coupon screenshot match the provided coupon's information? (South Africa)\", 'Confirm if the screenshot is coupon', 'Send your selfie', 'Selection of performers for bounding box сheck tasks', 'Распознавание актёра на фото', 'Is the minifigure for sale in the ad?', '🚕 Проверка госномера ТС на фото', 'Отбор на задания классификации текста и изображения', 'Check the similarity between two products', 'Product Ads Relevance English', 'Get coupon information from websites (USA)', 'Is the given information match the screenshot (updated)', 'Does the provided link contain coupons? (New Zealand)', 'Who would you prefer to talk for a long conversation ?', \" Apakah cuplikan layar kupon sesuai dengan informasi kupon yang diberikan? [IN: Does coupon screenshot match the provided coupon's information?]\", 'Take 10 photos of your face', 'Отбор на задания по классификации текста', 'Does the provided link contain coupons?', \"¿La captura de pantalla del cupón coincide con la información proporcionada del cupón? [ES: Does coupon screenshot match the provided coupon's information?]\", 'Выделите БИК (Обучение)', 'Binary product relevance markup', 'Пошаговая инструкция классификации переводных запросов', 'Get coupon information from websites (Canada)', \"Does coupon screenshot match the provided coupon's information? (Australia)\", 'Классификация изображений', \"Does coupon screenshot match the provided coupon's information? (India)\", 'Яндекс Маркет. Редиректы. Категория. Точность', 'Геопоиск: Разметка запроса на геоинтент (Карты)/ Geointent query markup (Maps)', '👝Проверка фотографий термосумок', \"Classify advertiser's keyword relevance to search query\", '[Toloka] Test de compréhension de la langue française', '🚕 Проверка положения кресла такси', 'Модерация фото водителей', 'Оценка правильности категории', ' La capture d’écran du coupon correspond-elle aux informations du coupon fourni ?', '🚕 Проверка фото кондиционера', 'Check if two audios has similar style', 'Participate in our Web-Plugin Survey!', 'Primary category for a local business (V3)', 'Web page categories', 'Исследование сайта', 'Is the product relevant to the query?', 'How many coupons ?', 'Это товар для домашних животных? 🐾', 'Make photo of cards', \"Stimmt der Screenshot des Coupons mit den Informationen des angezeigten Coupons überein? [DE: Does coupon screenshot match the provided coupon's information?] \", 'Одинаковые ли видео? 18+', 'Разметка номеров домов на фотографии', 'Apakah tautan yang disediakan berisi kupon? [IN: Does the provided link contain coupons?]', 'Get snapshot of all coupons', 'Does the provided link contain coupons? (United Kingdom)', 'Does the provided link contain coupons? (South Africa)', 'Product Search Relevance Evaluation', 'Does the provided link contain coupons? (India)', 'Product Inventory Validation V1', 'Select the best translation [en->ja] ', ' Search Intent Classification', '🚕 Проверка брендинга ТС на фото', '🚕 Проверка качества фото ТС', 'Image Query Result Relevance T2 MMIR English', \"Classify advertiser's keyword relevance to search query [Learning]\", 'Классификация изображений v.2', '🚕 Проверка уровня повреждений ТС на фото', '[Toloka] English Grammar Test', 'Prenez un selfie VIDEO sur votre webcam', 'Le lien fourni contient-il des coupons?  [FR: Does the provided link contain coupons?]', 'Extract offer details 2', '📋📣Rate the answer of the voice assistant📣📋', 'How are the two products related? (v2)', 'Product Image Validation V1', 'Extract offer details ', 'Сделайте селфи-фото с компьютера', 'Повторяющиеся товары', '👔 Проверка заявок на услуги на нарушения', 'Unstructured Spec Attribute Extraction Validation', 'Написать серийный номер со штампа', 'Link Search Filters', '🏎Проверка загрязнений/повреждений интерьера машины', 'Запишите фразы', 'Binary legal documents markup', 'Get coupon information from websites (South Africa)', 'Отбор исполнителей для оценки визуальных изменений', 'Get coupon information from websites (New Zealand)', 'Page relevance (new version)', 'Classification of images', 'На картинке есть instagram или facebook?', 'Относится ли изображение к категории?', 'Does the provided link contain coupons? (Canada)', 'Does the image belong to the category?', 'Select the best translation [ru->es] ', 'Film your face on the webcam or laptop', 'Validation of English Ad Title', 'Релевантность предметов интерьера', 'Is the given information match the screenshot 2', 'Выбор лучшего перевода [en->ru]', 'Product Price Validation V1', 'Make selfie and shoot short video ', 'Dbrain: проверка и перепечатка текста', 'Отличается ли штамп Louis Vuitton сумки от оригинала?', 'Изображение хорошее?', 'Is the image a good picture of the zoo animal?', 'Is the ad relevant to the query', 'Выделить аксессуары на фото', '[Yandex.Eda & DC] [модерация] Качество фотографии', 'Take a selfie', 'Выделите КПП (Обучение)', 'Select the best translation [es->en]', 'Product Title Validation V1', 'Какое видео лучше? (новый)', 'AdCopy to image relevance', 'Does document contains brand mention? [English] ', 'Is this an Aspect?', '🚕 Проверка модели ТС на фото', 'Microsoft Bing App test'}\n",
            "{'Product Search Relevance Evaluation', 'Binary product relevance markup', 'Is the Ad a Good Match to the Search Term? (English) (TAAC)', 'Product Inventory Validation V1', 'Types of tasks in Toloka', 'Is the given information match the screenshot 2', 'Earning money with Toloka', \"Classify advertiser's keyword relevance to search query [Learning]\", \"Classify advertiser's keyword relevance to search query\", 'Quiz Search Relevance Evaluation (English)', '[Toloka] English Grammar Test', '[Ad] Text Ads for alternative product or additional purchase (English) (TA AC)', 'Is the ad relevant to the query', 'Search Relevance Evaluation (English)', 'Web page categories', 'Is the product relevant to the query?', 'Check the similarity between two products', 'Is this an Aspect?', 'Product Ads Relevance English', 'Choosing the right tasks in Toloka'}\n",
            "{'Bug Bounty Hunters Extension (English: United States)', 'Crowd Spam Labeling - English', 'Does the provided link contain coupons? (South Africa)', 'Does the provided link contain coupons?', 'MMRepresentativeImageV2', 'Does the provided link contain coupons? (India)', 'MMWatermarkImageDetection', 'Image Relevance Superfresh V2 SFMMIR - English', 'Search Satisfaction Fresh MG (5P) [1DCG] (English)', 'Compare Search Results - English - V2', 'Install the Google Chrome Web Plugin ', '[Toloka] English Grammar Test', 'Is the image a good picture of the zoo animal?', '[Ad] Text Ads for alternative product or additional purchase (English) (TA AC)', 'How are the two products related? (v2)', 'Product Title Validation V1', 'Check the similarity between two products', 'Search for businesses by specific category (English)', 'Does the store have this product? (English)'}\n",
            "{'✍  التفكير في استفسارات صوتية حول المواضيع المُعطاة ✍', 'Отбор на задания по классификации текста', 'Does the provided link contain coupons?', 'Does the provided link contain coupons? (United Kingdom)', 'Does the provided link contain coupons? (South Africa)', 'Product Inventory Validation V1', 'Types of tasks in Toloka', 'Generic Scenario Testing Extension (English: United States)', 'Earning money with Toloka', 'Image Query Result Relevance T2 MMIR English', 'Product Price Validation V1', 'Compare Search Results - English - V2', '[Toloka] English Grammar Test', 'Is the image a good picture of the zoo animal?', '[Ad] Text Ads for alternative product or additional purchase (English) (TA AC)', '🔊Check text pronunciation on audio in Arabic🔊', 'Selection of performers for Detect Spam Webpages project', '💲🔊قوموا بتدوين النص من التسجيل الصوتي🔊💲', 'How are the two products related? (v2)', 'Product Image Validation V1', '📋📣Rate the answer of the voice assistant📣📋', 'Video Superfresh Relevance Labeling (English)', 'Identify Valid Coupon Codes', 'Product Title Validation V1', 'Selection of performers for bounding box сheck tasks', 'Отбор на задания классификации текста и изображения', 'Check the similarity between two products', 'Install the Google Chrome Web Plugin ', 'Choosing the right tasks in Toloka'}\n",
            "{'[Toloka] Prueba de comprensión de español', 'Take a picture of your face', 'Относится ли изображение к категории?', 'Classification of images', \"¿La captura de pantalla del cupón coincide con la información proporcionada del cupón? [ES: Does coupon screenshot match the provided coupon's information?]\", 'Does the image belong to the category?', 'Классификация изображений'}\n",
            "{'Is the product relevant to the query?', 'Is the ad relevant to the query', 'Is this an Aspect?', 'Is the given information match the screenshot (updated)', 'Classification of images', 'Is the minifigure for sale in the ad?', 'Check the similarity between two products', 'Validation of English Ad Description', \"Classify advertiser's keyword relevance to search query [Learning]\", 'Primary category for a local business (V3)', 'Классификация изображений'}\n"
          ]
        },
        {
          "output_type": "execute_result",
          "data": {
            "text/plain": [
              "(0.47999999999999987, 0.6713193066525202)"
            ]
          },
          "metadata": {},
          "execution_count": 18
        }
      ]
    },
    {
      "cell_type": "code",
      "source": [
        "len(user_data)"
      ],
      "metadata": {
        "colab": {
          "base_uri": "https://localhost:8080/"
        },
        "id": "R1Vmre0s1r_M",
        "outputId": "bd299c93-4db2-42cd-879b-0b6712da6c2c"
      },
      "execution_count": null,
      "outputs": [
        {
          "output_type": "execute_result",
          "data": {
            "text/plain": [
              "21"
            ]
          },
          "metadata": {},
          "execution_count": 15
        }
      ]
    },
    {
      "cell_type": "markdown",
      "source": [
        "The values of map_k and ndcg_k are evaluation metrics that provide an estimate of how well your recommendation model is performing.\n",
        "\n",
        "map_k (mean average precision) is a metric that takes into account both the relevance and order of the recommended items. The value of map_k ranges from 0 to 1, where a value of 1 indicates that all recommended items were relevant and ordered perfectly. In this case, a value of 0.4 indicates that the model achieved a moderate level of precision in the top k recommended items.\n",
        "\n",
        "ndcg_k (normalized discounted cumulative gain) is another metric that evaluates the quality of the recommendations, taking into account the position of the relevant items in the recommendation list. The value of ndcg_k ranges from 0 to 1, where a value of 1 indicates that all the relevant items were at the top of the recommendation list. In this case, a value of 0.58 indicates that the model achieved a moderate level of performance in ranking relevant items at the top of the recommendation list."
      ],
      "metadata": {
        "id": "U3ucOnrH2fBI"
      }
    },
    {
      "cell_type": "code",
      "source": [
        "from tabulate import tabulate\n",
        "\n",
        "def display_recommendations(k):\n",
        "\n",
        "    for i in user_data['uid'].unique():\n",
        "\n",
        "      list1, list2 = get_top_k_recommendations(i, k)\n",
        "      # Zip the two lists to create a list of tuples\n",
        "      zipped_lists = list(zip(list1, list2))\n",
        "\n",
        "      print(\"User ID: \", i)\n",
        "      # Display the zipped lists as a table\n",
        "      print(tabulate(zipped_lists, headers=['Porject ID', 'Title']))\n",
        "\n",
        "      print('--------------------------------')"
      ],
      "metadata": {
        "id": "GlfU7zuH9kzB"
      },
      "execution_count": null,
      "outputs": []
    },
    {
      "cell_type": "code",
      "source": [
        "display_recommendations(5)"
      ],
      "metadata": {
        "id": "I_yXQ2imge5q",
        "outputId": "3ae9cb79-be83-4b50-c136-341de8a3d992",
        "colab": {
          "base_uri": "https://localhost:8080/"
        }
      },
      "execution_count": null,
      "outputs": [
        {
          "output_type": "stream",
          "name": "stdout",
          "text": [
            "User ID:  1316040758\n",
            "  Porject ID  Title\n",
            "------------  ---------------------------------------------\n",
            "       84962  Get coupon information from websites (USA)\n",
            "       84962  Get coupon information from websites (USA)\n",
            "       91289  Get coupon information from websites (Canada)\n",
            "       91298  Get coupon information from websites (India)\n",
            "       91298  Get coupon information from websites (India)\n",
            "--------------------------------\n",
            "User ID:  1429235843\n",
            "  Porject ID  Title\n",
            "------------  -------------------------------------\n",
            "      107309  Is the product relevant to the query?\n",
            "      107309  Is the product relevant to the query?\n",
            "       74976  MMRepresentativeImageV2\n",
            "       54170  Microsoft Bing App test\n",
            "       54170  Microsoft Bing App test\n",
            "--------------------------------\n",
            "User ID:  1430094402\n",
            "  Porject ID  Title\n",
            "------------  -----------------------------------------------\n",
            "      113582  Сравните Результаты Поиска – Русский язык - V2-\n",
            "       89350  Crowd Spam Labeling - Russian\n",
            "      113574  Compare Search Results - English - V2\n",
            "      110607  Image Relevance Superfresh V2 SFMMIR - English\n",
            "      110615  Image Relevance Superfresh V2 SFMMIR - Russian\n",
            "--------------------------------\n",
            "User ID:  1458049517\n",
            "  Porject ID  Title\n",
            "------------  ---------------------------------------------\n",
            "       84962  Get coupon information from websites (USA)\n",
            "       84962  Get coupon information from websites (USA)\n",
            "       91298  Get coupon information from websites (India)\n",
            "       91298  Get coupon information from websites (India)\n",
            "       91289  Get coupon information from websites (Canada)\n",
            "--------------------------------\n",
            "User ID:  1490584733\n",
            "  Porject ID  Title\n",
            "------------  --------------------------------------------------\n",
            "       84962  Get coupon information from websites (USA)\n",
            "       84962  Get coupon information from websites (USA)\n",
            "       91298  Get coupon information from websites (India)\n",
            "       91298  Get coupon information from websites (India)\n",
            "       93218  Get coupon information from websites (New Zealand)\n",
            "--------------------------------\n",
            "User ID:  1648608319\n",
            "  Porject ID  Title\n",
            "------------  ---------------------------------------------\n",
            "       91298  Get coupon information from websites (India)\n",
            "       91298  Get coupon information from websites (India)\n",
            "       84962  Get coupon information from websites (USA)\n",
            "       84962  Get coupon information from websites (USA)\n",
            "       91289  Get coupon information from websites (Canada)\n",
            "--------------------------------\n",
            "User ID:  1674749132\n",
            "  Porject ID  Title\n",
            "------------  -----------------------------------------------------\n",
            "       86740  Does the provided link contain coupons?\n",
            "       86740  Does the provided link contain coupons?\n",
            "       91297  Does the provided link contain coupons? (India)\n",
            "       93167  Does the provided link contain coupons? (New Zealand)\n",
            "       91087  Does the provided link contain coupons? (Canada)\n",
            "--------------------------------\n",
            "User ID:  1675921760\n",
            "  Porject ID  Title\n",
            "------------  ---------------------------------------------\n",
            "       84962  Get coupon information from websites (USA)\n",
            "       84962  Get coupon information from websites (USA)\n",
            "       91298  Get coupon information from websites (India)\n",
            "       91298  Get coupon information from websites (India)\n",
            "       91289  Get coupon information from websites (Canada)\n",
            "--------------------------------\n",
            "User ID:  1684019585\n",
            "  Porject ID  Title\n",
            "------------  -----------------------------------------------------\n",
            "       74976  MMRepresentativeImageV2\n",
            "       84962  Get coupon information from websites (USA)\n",
            "       84962  Get coupon information from websites (USA)\n",
            "       93218  Get coupon information from websites (New Zealand)\n",
            "      107829  Video Relevance Labeling (English) - New and improved\n",
            "--------------------------------\n",
            "User ID:  1699065816\n",
            "  Porject ID  Title\n",
            "------------  ----------------------------------------------------\n",
            "       79091  Crowd Spam Labeling - English\n",
            "      101570  Search for businesses by specific category (English)\n",
            "       89348  Crowd Spam Labeling - Spanish\n",
            "       89350  Crowd Spam Labeling - Russian\n",
            "       62518  [Toloka] Prueba de comprensión de español\n",
            "--------------------------------\n",
            "User ID:  1703905621\n",
            "  Porject ID  Title\n",
            "------------  -----------------------------------------------------\n",
            "       74976  MMRepresentativeImageV2\n",
            "      113582  Сравните Результаты Поиска – Русский язык - V2-\n",
            "      110607  Image Relevance Superfresh V2 SFMMIR - English\n",
            "       72322  MMWatermarkImageDetection\n",
            "      107829  Video Relevance Labeling (English) - New and improved\n",
            "--------------------------------\n",
            "User ID:  1706440161\n",
            "  Porject ID  Title\n",
            "------------  ---------------------------------------------------\n",
            "       74976  MMRepresentativeImageV2\n",
            "       70834  Отбор на задания классификации текста и изображения\n",
            "       93218  Get coupon information from websites (New Zealand)\n",
            "      102966  Check the similarity between two products\n",
            "       78414  Check the similarity between two products\n",
            "--------------------------------\n",
            "User ID:  1709755371\n",
            "  Porject ID  Title\n",
            "------------  -----------------------------------------\n",
            "       78414  Check the similarity between two products\n",
            "       78414  Check the similarity between two products\n",
            "       78414  Check the similarity between two products\n",
            "      102966  Check the similarity between two products\n",
            "      102966  Check the similarity between two products\n",
            "--------------------------------\n",
            "User ID:  1710096477\n",
            "  Porject ID  Title\n",
            "------------  --------------------------------------------------\n",
            "       93218  Get coupon information from websites (New Zealand)\n",
            "       84962  Get coupon information from websites (USA)\n",
            "       84962  Get coupon information from websites (USA)\n",
            "       91289  Get coupon information from websites (Canada)\n",
            "       91298  Get coupon information from websites (India)\n",
            "--------------------------------\n",
            "User ID:  1713698815\n",
            "  Porject ID  Title\n",
            "------------  ----------------------------------------------\n",
            "       74976  MMRepresentativeImageV2\n",
            "       72322  MMWatermarkImageDetection\n",
            "      110607  Image Relevance Superfresh V2 SFMMIR - English\n",
            "      120819  Video Superfresh Relevance Labeling (English)\n",
            "      106175  Does the store have this product? (English)\n",
            "--------------------------------\n",
            "User ID:  1714073899\n",
            "  Porject ID  Title\n",
            "------------  ---------------------------------------------\n",
            "       84962  Get coupon information from websites (USA)\n",
            "       84962  Get coupon information from websites (USA)\n",
            "       91298  Get coupon information from websites (India)\n",
            "       91298  Get coupon information from websites (India)\n",
            "       91289  Get coupon information from websites (Canada)\n",
            "--------------------------------\n",
            "User ID:  1716528528\n",
            "  Porject ID  Title\n",
            "------------  -----------------------------------------------------------------\n",
            "       70834  Отбор на задания классификации текста и изображения\n",
            "       70838  Selection of performers for text and webpage classification tasks\n",
            "       78414  Check the similarity between two products\n",
            "       78414  Check the similarity between two products\n",
            "       78414  Check the similarity between two products\n",
            "--------------------------------\n",
            "User ID:  1718146027\n",
            "  Porject ID  Title\n",
            "------------  ----------------------------------------------\n",
            "       74976  MMRepresentativeImageV2\n",
            "      106175  Does the store have this product? (English)\n",
            "       72322  MMWatermarkImageDetection\n",
            "      110607  Image Relevance Superfresh V2 SFMMIR - English\n",
            "       78414  Check the similarity between two products\n",
            "--------------------------------\n",
            "User ID:  1718416044\n",
            "  Porject ID  Title\n",
            "------------  -----------------------------------------------------------------\n",
            "       70834  Отбор на задания классификации текста и изображения\n",
            "       70838  Selection of performers for text and webpage classification tasks\n",
            "       70800  Отбор на задания по классификации текста\n",
            "       78414  Check the similarity between two products\n",
            "      102966  Check the similarity between two products\n",
            "--------------------------------\n",
            "User ID:  1725201772\n",
            "  Porject ID  Title\n",
            "------------  -----------------------------------------------------------------\n",
            "       86740  Does the provided link contain coupons?\n",
            "       86740  Does the provided link contain coupons?\n",
            "       54170  Microsoft Bing App test\n",
            "       54170  Microsoft Bing App test\n",
            "       70838  Selection of performers for text and webpage classification tasks\n",
            "--------------------------------\n",
            "User ID:  1725259597\n",
            "  Porject ID  Title\n",
            "------------  -----------------------------------------\n",
            "      107309  Is the product relevant to the query?\n",
            "      107309  Is the product relevant to the query?\n",
            "       83739  Is the ad relevant to the query\n",
            "       78414  Check the similarity between two products\n",
            "       78414  Check the similarity between two products\n",
            "--------------------------------\n"
          ]
        }
      ]
    },
    {
      "cell_type": "code",
      "source": [],
      "metadata": {
        "id": "gueyasPRghQx"
      },
      "execution_count": null,
      "outputs": []
    }
  ]
}